{
  "nbformat": 4,
  "nbformat_minor": 0,
  "metadata": {
    "colab": {
      "provenance": []
    },
    "kernelspec": {
      "name": "python3",
      "display_name": "Python 3"
    },
    "language_info": {
      "name": "python"
    },
    "accelerator": "GPU",
    "gpuClass": "standard",
    "widgets": {
      "application/vnd.jupyter.widget-state+json": {
        "11fdb5aaf6064c9098645bf0094f0a95": {
          "model_module": "@jupyter-widgets/controls",
          "model_name": "HBoxModel",
          "model_module_version": "1.5.0",
          "state": {
            "_dom_classes": [],
            "_model_module": "@jupyter-widgets/controls",
            "_model_module_version": "1.5.0",
            "_model_name": "HBoxModel",
            "_view_count": null,
            "_view_module": "@jupyter-widgets/controls",
            "_view_module_version": "1.5.0",
            "_view_name": "HBoxView",
            "box_style": "",
            "children": [
              "IPY_MODEL_649485f02d5443bbb1de312e337b1432",
              "IPY_MODEL_43f5ac90e5e44b80abaf65e5c722097c",
              "IPY_MODEL_68bf4e1c9ad24010b174c2ec93aa125b"
            ],
            "layout": "IPY_MODEL_ba8283cdd2184a139c462a63008558d4"
          }
        },
        "649485f02d5443bbb1de312e337b1432": {
          "model_module": "@jupyter-widgets/controls",
          "model_name": "HTMLModel",
          "model_module_version": "1.5.0",
          "state": {
            "_dom_classes": [],
            "_model_module": "@jupyter-widgets/controls",
            "_model_module_version": "1.5.0",
            "_model_name": "HTMLModel",
            "_view_count": null,
            "_view_module": "@jupyter-widgets/controls",
            "_view_module_version": "1.5.0",
            "_view_name": "HTMLView",
            "description": "",
            "description_tooltip": null,
            "layout": "IPY_MODEL_811c878fbd3f465cbb12b6f212b91200",
            "placeholder": "​",
            "style": "IPY_MODEL_0f2e3b1c4a224704a47965bbd33dc262",
            "value": "Downloading builder script: 100%"
          }
        },
        "43f5ac90e5e44b80abaf65e5c722097c": {
          "model_module": "@jupyter-widgets/controls",
          "model_name": "FloatProgressModel",
          "model_module_version": "1.5.0",
          "state": {
            "_dom_classes": [],
            "_model_module": "@jupyter-widgets/controls",
            "_model_module_version": "1.5.0",
            "_model_name": "FloatProgressModel",
            "_view_count": null,
            "_view_module": "@jupyter-widgets/controls",
            "_view_module_version": "1.5.0",
            "_view_name": "ProgressView",
            "bar_style": "success",
            "description": "",
            "description_tooltip": null,
            "layout": "IPY_MODEL_3be0033cfc894effa0253f34a7f17db6",
            "max": 4063,
            "min": 0,
            "orientation": "horizontal",
            "style": "IPY_MODEL_a6c4dec8b7a9442daf91d7855861cd8c",
            "value": 4063
          }
        },
        "68bf4e1c9ad24010b174c2ec93aa125b": {
          "model_module": "@jupyter-widgets/controls",
          "model_name": "HTMLModel",
          "model_module_version": "1.5.0",
          "state": {
            "_dom_classes": [],
            "_model_module": "@jupyter-widgets/controls",
            "_model_module_version": "1.5.0",
            "_model_name": "HTMLModel",
            "_view_count": null,
            "_view_module": "@jupyter-widgets/controls",
            "_view_module_version": "1.5.0",
            "_view_name": "HTMLView",
            "description": "",
            "description_tooltip": null,
            "layout": "IPY_MODEL_2b4f1e865a3d433eb46882218f7e4374",
            "placeholder": "​",
            "style": "IPY_MODEL_feb0b461def34cbb86cccb62cdae5921",
            "value": " 4.06k/4.06k [00:00&lt;00:00, 128kB/s]"
          }
        },
        "ba8283cdd2184a139c462a63008558d4": {
          "model_module": "@jupyter-widgets/base",
          "model_name": "LayoutModel",
          "model_module_version": "1.2.0",
          "state": {
            "_model_module": "@jupyter-widgets/base",
            "_model_module_version": "1.2.0",
            "_model_name": "LayoutModel",
            "_view_count": null,
            "_view_module": "@jupyter-widgets/base",
            "_view_module_version": "1.2.0",
            "_view_name": "LayoutView",
            "align_content": null,
            "align_items": null,
            "align_self": null,
            "border": null,
            "bottom": null,
            "display": null,
            "flex": null,
            "flex_flow": null,
            "grid_area": null,
            "grid_auto_columns": null,
            "grid_auto_flow": null,
            "grid_auto_rows": null,
            "grid_column": null,
            "grid_gap": null,
            "grid_row": null,
            "grid_template_areas": null,
            "grid_template_columns": null,
            "grid_template_rows": null,
            "height": null,
            "justify_content": null,
            "justify_items": null,
            "left": null,
            "margin": null,
            "max_height": null,
            "max_width": null,
            "min_height": null,
            "min_width": null,
            "object_fit": null,
            "object_position": null,
            "order": null,
            "overflow": null,
            "overflow_x": null,
            "overflow_y": null,
            "padding": null,
            "right": null,
            "top": null,
            "visibility": null,
            "width": null
          }
        },
        "811c878fbd3f465cbb12b6f212b91200": {
          "model_module": "@jupyter-widgets/base",
          "model_name": "LayoutModel",
          "model_module_version": "1.2.0",
          "state": {
            "_model_module": "@jupyter-widgets/base",
            "_model_module_version": "1.2.0",
            "_model_name": "LayoutModel",
            "_view_count": null,
            "_view_module": "@jupyter-widgets/base",
            "_view_module_version": "1.2.0",
            "_view_name": "LayoutView",
            "align_content": null,
            "align_items": null,
            "align_self": null,
            "border": null,
            "bottom": null,
            "display": null,
            "flex": null,
            "flex_flow": null,
            "grid_area": null,
            "grid_auto_columns": null,
            "grid_auto_flow": null,
            "grid_auto_rows": null,
            "grid_column": null,
            "grid_gap": null,
            "grid_row": null,
            "grid_template_areas": null,
            "grid_template_columns": null,
            "grid_template_rows": null,
            "height": null,
            "justify_content": null,
            "justify_items": null,
            "left": null,
            "margin": null,
            "max_height": null,
            "max_width": null,
            "min_height": null,
            "min_width": null,
            "object_fit": null,
            "object_position": null,
            "order": null,
            "overflow": null,
            "overflow_x": null,
            "overflow_y": null,
            "padding": null,
            "right": null,
            "top": null,
            "visibility": null,
            "width": null
          }
        },
        "0f2e3b1c4a224704a47965bbd33dc262": {
          "model_module": "@jupyter-widgets/controls",
          "model_name": "DescriptionStyleModel",
          "model_module_version": "1.5.0",
          "state": {
            "_model_module": "@jupyter-widgets/controls",
            "_model_module_version": "1.5.0",
            "_model_name": "DescriptionStyleModel",
            "_view_count": null,
            "_view_module": "@jupyter-widgets/base",
            "_view_module_version": "1.2.0",
            "_view_name": "StyleView",
            "description_width": ""
          }
        },
        "3be0033cfc894effa0253f34a7f17db6": {
          "model_module": "@jupyter-widgets/base",
          "model_name": "LayoutModel",
          "model_module_version": "1.2.0",
          "state": {
            "_model_module": "@jupyter-widgets/base",
            "_model_module_version": "1.2.0",
            "_model_name": "LayoutModel",
            "_view_count": null,
            "_view_module": "@jupyter-widgets/base",
            "_view_module_version": "1.2.0",
            "_view_name": "LayoutView",
            "align_content": null,
            "align_items": null,
            "align_self": null,
            "border": null,
            "bottom": null,
            "display": null,
            "flex": null,
            "flex_flow": null,
            "grid_area": null,
            "grid_auto_columns": null,
            "grid_auto_flow": null,
            "grid_auto_rows": null,
            "grid_column": null,
            "grid_gap": null,
            "grid_row": null,
            "grid_template_areas": null,
            "grid_template_columns": null,
            "grid_template_rows": null,
            "height": null,
            "justify_content": null,
            "justify_items": null,
            "left": null,
            "margin": null,
            "max_height": null,
            "max_width": null,
            "min_height": null,
            "min_width": null,
            "object_fit": null,
            "object_position": null,
            "order": null,
            "overflow": null,
            "overflow_x": null,
            "overflow_y": null,
            "padding": null,
            "right": null,
            "top": null,
            "visibility": null,
            "width": null
          }
        },
        "a6c4dec8b7a9442daf91d7855861cd8c": {
          "model_module": "@jupyter-widgets/controls",
          "model_name": "ProgressStyleModel",
          "model_module_version": "1.5.0",
          "state": {
            "_model_module": "@jupyter-widgets/controls",
            "_model_module_version": "1.5.0",
            "_model_name": "ProgressStyleModel",
            "_view_count": null,
            "_view_module": "@jupyter-widgets/base",
            "_view_module_version": "1.2.0",
            "_view_name": "StyleView",
            "bar_color": null,
            "description_width": ""
          }
        },
        "2b4f1e865a3d433eb46882218f7e4374": {
          "model_module": "@jupyter-widgets/base",
          "model_name": "LayoutModel",
          "model_module_version": "1.2.0",
          "state": {
            "_model_module": "@jupyter-widgets/base",
            "_model_module_version": "1.2.0",
            "_model_name": "LayoutModel",
            "_view_count": null,
            "_view_module": "@jupyter-widgets/base",
            "_view_module_version": "1.2.0",
            "_view_name": "LayoutView",
            "align_content": null,
            "align_items": null,
            "align_self": null,
            "border": null,
            "bottom": null,
            "display": null,
            "flex": null,
            "flex_flow": null,
            "grid_area": null,
            "grid_auto_columns": null,
            "grid_auto_flow": null,
            "grid_auto_rows": null,
            "grid_column": null,
            "grid_gap": null,
            "grid_row": null,
            "grid_template_areas": null,
            "grid_template_columns": null,
            "grid_template_rows": null,
            "height": null,
            "justify_content": null,
            "justify_items": null,
            "left": null,
            "margin": null,
            "max_height": null,
            "max_width": null,
            "min_height": null,
            "min_width": null,
            "object_fit": null,
            "object_position": null,
            "order": null,
            "overflow": null,
            "overflow_x": null,
            "overflow_y": null,
            "padding": null,
            "right": null,
            "top": null,
            "visibility": null,
            "width": null
          }
        },
        "feb0b461def34cbb86cccb62cdae5921": {
          "model_module": "@jupyter-widgets/controls",
          "model_name": "DescriptionStyleModel",
          "model_module_version": "1.5.0",
          "state": {
            "_model_module": "@jupyter-widgets/controls",
            "_model_module_version": "1.5.0",
            "_model_name": "DescriptionStyleModel",
            "_view_count": null,
            "_view_module": "@jupyter-widgets/base",
            "_view_module_version": "1.2.0",
            "_view_name": "StyleView",
            "description_width": ""
          }
        },
        "76bd49bf6f374888b2da40f11b70751d": {
          "model_module": "@jupyter-widgets/controls",
          "model_name": "HBoxModel",
          "model_module_version": "1.5.0",
          "state": {
            "_dom_classes": [],
            "_model_module": "@jupyter-widgets/controls",
            "_model_module_version": "1.5.0",
            "_model_name": "HBoxModel",
            "_view_count": null,
            "_view_module": "@jupyter-widgets/controls",
            "_view_module_version": "1.5.0",
            "_view_name": "HBoxView",
            "box_style": "",
            "children": [
              "IPY_MODEL_3a07f46732dd43b78ea9a9a7e0a0e014",
              "IPY_MODEL_c91c3e64cdbb4293ab1cfc74fc918481",
              "IPY_MODEL_7847f37516b34b76abbea57e8b1cfa42"
            ],
            "layout": "IPY_MODEL_604df120699c4e22928221821086f748"
          }
        },
        "3a07f46732dd43b78ea9a9a7e0a0e014": {
          "model_module": "@jupyter-widgets/controls",
          "model_name": "HTMLModel",
          "model_module_version": "1.5.0",
          "state": {
            "_dom_classes": [],
            "_model_module": "@jupyter-widgets/controls",
            "_model_module_version": "1.5.0",
            "_model_name": "HTMLModel",
            "_view_count": null,
            "_view_module": "@jupyter-widgets/controls",
            "_view_module_version": "1.5.0",
            "_view_name": "HTMLView",
            "description": "",
            "description_tooltip": null,
            "layout": "IPY_MODEL_d4bf191a5799464ba09e760742bd1c4a",
            "placeholder": "​",
            "style": "IPY_MODEL_e0dd2218a01d4fd4bc4dcb897bcbe87a",
            "value": "Downloading metadata: 100%"
          }
        },
        "c91c3e64cdbb4293ab1cfc74fc918481": {
          "model_module": "@jupyter-widgets/controls",
          "model_name": "FloatProgressModel",
          "model_module_version": "1.5.0",
          "state": {
            "_dom_classes": [],
            "_model_module": "@jupyter-widgets/controls",
            "_model_module_version": "1.5.0",
            "_model_name": "FloatProgressModel",
            "_view_count": null,
            "_view_module": "@jupyter-widgets/controls",
            "_view_module_version": "1.5.0",
            "_view_name": "ProgressView",
            "bar_style": "success",
            "description": "",
            "description_tooltip": null,
            "layout": "IPY_MODEL_996446e8f44c44b7bbbffdc95654a918",
            "max": 2653,
            "min": 0,
            "orientation": "horizontal",
            "style": "IPY_MODEL_20b46670c5984e32937a5c7efba10037",
            "value": 2653
          }
        },
        "7847f37516b34b76abbea57e8b1cfa42": {
          "model_module": "@jupyter-widgets/controls",
          "model_name": "HTMLModel",
          "model_module_version": "1.5.0",
          "state": {
            "_dom_classes": [],
            "_model_module": "@jupyter-widgets/controls",
            "_model_module_version": "1.5.0",
            "_model_name": "HTMLModel",
            "_view_count": null,
            "_view_module": "@jupyter-widgets/controls",
            "_view_module_version": "1.5.0",
            "_view_name": "HTMLView",
            "description": "",
            "description_tooltip": null,
            "layout": "IPY_MODEL_28bf04a1832d4ea297aae96b9c51f7dd",
            "placeholder": "​",
            "style": "IPY_MODEL_b4ab1cca41f942e49cbcc6198891cb26",
            "value": " 2.65k/2.65k [00:00&lt;00:00, 71.8kB/s]"
          }
        },
        "604df120699c4e22928221821086f748": {
          "model_module": "@jupyter-widgets/base",
          "model_name": "LayoutModel",
          "model_module_version": "1.2.0",
          "state": {
            "_model_module": "@jupyter-widgets/base",
            "_model_module_version": "1.2.0",
            "_model_name": "LayoutModel",
            "_view_count": null,
            "_view_module": "@jupyter-widgets/base",
            "_view_module_version": "1.2.0",
            "_view_name": "LayoutView",
            "align_content": null,
            "align_items": null,
            "align_self": null,
            "border": null,
            "bottom": null,
            "display": null,
            "flex": null,
            "flex_flow": null,
            "grid_area": null,
            "grid_auto_columns": null,
            "grid_auto_flow": null,
            "grid_auto_rows": null,
            "grid_column": null,
            "grid_gap": null,
            "grid_row": null,
            "grid_template_areas": null,
            "grid_template_columns": null,
            "grid_template_rows": null,
            "height": null,
            "justify_content": null,
            "justify_items": null,
            "left": null,
            "margin": null,
            "max_height": null,
            "max_width": null,
            "min_height": null,
            "min_width": null,
            "object_fit": null,
            "object_position": null,
            "order": null,
            "overflow": null,
            "overflow_x": null,
            "overflow_y": null,
            "padding": null,
            "right": null,
            "top": null,
            "visibility": null,
            "width": null
          }
        },
        "d4bf191a5799464ba09e760742bd1c4a": {
          "model_module": "@jupyter-widgets/base",
          "model_name": "LayoutModel",
          "model_module_version": "1.2.0",
          "state": {
            "_model_module": "@jupyter-widgets/base",
            "_model_module_version": "1.2.0",
            "_model_name": "LayoutModel",
            "_view_count": null,
            "_view_module": "@jupyter-widgets/base",
            "_view_module_version": "1.2.0",
            "_view_name": "LayoutView",
            "align_content": null,
            "align_items": null,
            "align_self": null,
            "border": null,
            "bottom": null,
            "display": null,
            "flex": null,
            "flex_flow": null,
            "grid_area": null,
            "grid_auto_columns": null,
            "grid_auto_flow": null,
            "grid_auto_rows": null,
            "grid_column": null,
            "grid_gap": null,
            "grid_row": null,
            "grid_template_areas": null,
            "grid_template_columns": null,
            "grid_template_rows": null,
            "height": null,
            "justify_content": null,
            "justify_items": null,
            "left": null,
            "margin": null,
            "max_height": null,
            "max_width": null,
            "min_height": null,
            "min_width": null,
            "object_fit": null,
            "object_position": null,
            "order": null,
            "overflow": null,
            "overflow_x": null,
            "overflow_y": null,
            "padding": null,
            "right": null,
            "top": null,
            "visibility": null,
            "width": null
          }
        },
        "e0dd2218a01d4fd4bc4dcb897bcbe87a": {
          "model_module": "@jupyter-widgets/controls",
          "model_name": "DescriptionStyleModel",
          "model_module_version": "1.5.0",
          "state": {
            "_model_module": "@jupyter-widgets/controls",
            "_model_module_version": "1.5.0",
            "_model_name": "DescriptionStyleModel",
            "_view_count": null,
            "_view_module": "@jupyter-widgets/base",
            "_view_module_version": "1.2.0",
            "_view_name": "StyleView",
            "description_width": ""
          }
        },
        "996446e8f44c44b7bbbffdc95654a918": {
          "model_module": "@jupyter-widgets/base",
          "model_name": "LayoutModel",
          "model_module_version": "1.2.0",
          "state": {
            "_model_module": "@jupyter-widgets/base",
            "_model_module_version": "1.2.0",
            "_model_name": "LayoutModel",
            "_view_count": null,
            "_view_module": "@jupyter-widgets/base",
            "_view_module_version": "1.2.0",
            "_view_name": "LayoutView",
            "align_content": null,
            "align_items": null,
            "align_self": null,
            "border": null,
            "bottom": null,
            "display": null,
            "flex": null,
            "flex_flow": null,
            "grid_area": null,
            "grid_auto_columns": null,
            "grid_auto_flow": null,
            "grid_auto_rows": null,
            "grid_column": null,
            "grid_gap": null,
            "grid_row": null,
            "grid_template_areas": null,
            "grid_template_columns": null,
            "grid_template_rows": null,
            "height": null,
            "justify_content": null,
            "justify_items": null,
            "left": null,
            "margin": null,
            "max_height": null,
            "max_width": null,
            "min_height": null,
            "min_width": null,
            "object_fit": null,
            "object_position": null,
            "order": null,
            "overflow": null,
            "overflow_x": null,
            "overflow_y": null,
            "padding": null,
            "right": null,
            "top": null,
            "visibility": null,
            "width": null
          }
        },
        "20b46670c5984e32937a5c7efba10037": {
          "model_module": "@jupyter-widgets/controls",
          "model_name": "ProgressStyleModel",
          "model_module_version": "1.5.0",
          "state": {
            "_model_module": "@jupyter-widgets/controls",
            "_model_module_version": "1.5.0",
            "_model_name": "ProgressStyleModel",
            "_view_count": null,
            "_view_module": "@jupyter-widgets/base",
            "_view_module_version": "1.2.0",
            "_view_name": "StyleView",
            "bar_color": null,
            "description_width": ""
          }
        },
        "28bf04a1832d4ea297aae96b9c51f7dd": {
          "model_module": "@jupyter-widgets/base",
          "model_name": "LayoutModel",
          "model_module_version": "1.2.0",
          "state": {
            "_model_module": "@jupyter-widgets/base",
            "_model_module_version": "1.2.0",
            "_model_name": "LayoutModel",
            "_view_count": null,
            "_view_module": "@jupyter-widgets/base",
            "_view_module_version": "1.2.0",
            "_view_name": "LayoutView",
            "align_content": null,
            "align_items": null,
            "align_self": null,
            "border": null,
            "bottom": null,
            "display": null,
            "flex": null,
            "flex_flow": null,
            "grid_area": null,
            "grid_auto_columns": null,
            "grid_auto_flow": null,
            "grid_auto_rows": null,
            "grid_column": null,
            "grid_gap": null,
            "grid_row": null,
            "grid_template_areas": null,
            "grid_template_columns": null,
            "grid_template_rows": null,
            "height": null,
            "justify_content": null,
            "justify_items": null,
            "left": null,
            "margin": null,
            "max_height": null,
            "max_width": null,
            "min_height": null,
            "min_width": null,
            "object_fit": null,
            "object_position": null,
            "order": null,
            "overflow": null,
            "overflow_x": null,
            "overflow_y": null,
            "padding": null,
            "right": null,
            "top": null,
            "visibility": null,
            "width": null
          }
        },
        "b4ab1cca41f942e49cbcc6198891cb26": {
          "model_module": "@jupyter-widgets/controls",
          "model_name": "DescriptionStyleModel",
          "model_module_version": "1.5.0",
          "state": {
            "_model_module": "@jupyter-widgets/controls",
            "_model_module_version": "1.5.0",
            "_model_name": "DescriptionStyleModel",
            "_view_count": null,
            "_view_module": "@jupyter-widgets/base",
            "_view_module_version": "1.2.0",
            "_view_name": "StyleView",
            "description_width": ""
          }
        },
        "9b0562c90fde44dfbc14122457088f86": {
          "model_module": "@jupyter-widgets/controls",
          "model_name": "HBoxModel",
          "model_module_version": "1.5.0",
          "state": {
            "_dom_classes": [],
            "_model_module": "@jupyter-widgets/controls",
            "_model_module_version": "1.5.0",
            "_model_name": "HBoxModel",
            "_view_count": null,
            "_view_module": "@jupyter-widgets/controls",
            "_view_module_version": "1.5.0",
            "_view_name": "HBoxView",
            "box_style": "",
            "children": [
              "IPY_MODEL_0056cad83a474c4cb48e31ac054d9c17",
              "IPY_MODEL_f60b4886822c409aab6c94ccc353b418",
              "IPY_MODEL_93757854fc8f4af281e0fd9877456f95"
            ],
            "layout": "IPY_MODEL_d0d5ded42b44435d8b716ce62ecfdf54"
          }
        },
        "0056cad83a474c4cb48e31ac054d9c17": {
          "model_module": "@jupyter-widgets/controls",
          "model_name": "HTMLModel",
          "model_module_version": "1.5.0",
          "state": {
            "_dom_classes": [],
            "_model_module": "@jupyter-widgets/controls",
            "_model_module_version": "1.5.0",
            "_model_name": "HTMLModel",
            "_view_count": null,
            "_view_module": "@jupyter-widgets/controls",
            "_view_module_version": "1.5.0",
            "_view_name": "HTMLView",
            "description": "",
            "description_tooltip": null,
            "layout": "IPY_MODEL_d9e1e70b8f894374a40a1d4fb6b9b216",
            "placeholder": "​",
            "style": "IPY_MODEL_ef5f79b94b3644ef8160e5fe6e7a758f",
            "value": "Downloading readme: 100%"
          }
        },
        "f60b4886822c409aab6c94ccc353b418": {
          "model_module": "@jupyter-widgets/controls",
          "model_name": "FloatProgressModel",
          "model_module_version": "1.5.0",
          "state": {
            "_dom_classes": [],
            "_model_module": "@jupyter-widgets/controls",
            "_model_module_version": "1.5.0",
            "_model_name": "FloatProgressModel",
            "_view_count": null,
            "_view_module": "@jupyter-widgets/controls",
            "_view_module_version": "1.5.0",
            "_view_name": "ProgressView",
            "bar_style": "success",
            "description": "",
            "description_tooltip": null,
            "layout": "IPY_MODEL_7fc28500b3b04a05a8331119c71ceeb8",
            "max": 7938,
            "min": 0,
            "orientation": "horizontal",
            "style": "IPY_MODEL_a45f041ed32b431aa90b6bb19811479e",
            "value": 7938
          }
        },
        "93757854fc8f4af281e0fd9877456f95": {
          "model_module": "@jupyter-widgets/controls",
          "model_name": "HTMLModel",
          "model_module_version": "1.5.0",
          "state": {
            "_dom_classes": [],
            "_model_module": "@jupyter-widgets/controls",
            "_model_module_version": "1.5.0",
            "_model_name": "HTMLModel",
            "_view_count": null,
            "_view_module": "@jupyter-widgets/controls",
            "_view_module_version": "1.5.0",
            "_view_name": "HTMLView",
            "description": "",
            "description_tooltip": null,
            "layout": "IPY_MODEL_a627066ab9da45df8c226d4fd84fff56",
            "placeholder": "​",
            "style": "IPY_MODEL_19b577f1ba0744399927b636bc784948",
            "value": " 7.94k/7.94k [00:00&lt;00:00, 246kB/s]"
          }
        },
        "d0d5ded42b44435d8b716ce62ecfdf54": {
          "model_module": "@jupyter-widgets/base",
          "model_name": "LayoutModel",
          "model_module_version": "1.2.0",
          "state": {
            "_model_module": "@jupyter-widgets/base",
            "_model_module_version": "1.2.0",
            "_model_name": "LayoutModel",
            "_view_count": null,
            "_view_module": "@jupyter-widgets/base",
            "_view_module_version": "1.2.0",
            "_view_name": "LayoutView",
            "align_content": null,
            "align_items": null,
            "align_self": null,
            "border": null,
            "bottom": null,
            "display": null,
            "flex": null,
            "flex_flow": null,
            "grid_area": null,
            "grid_auto_columns": null,
            "grid_auto_flow": null,
            "grid_auto_rows": null,
            "grid_column": null,
            "grid_gap": null,
            "grid_row": null,
            "grid_template_areas": null,
            "grid_template_columns": null,
            "grid_template_rows": null,
            "height": null,
            "justify_content": null,
            "justify_items": null,
            "left": null,
            "margin": null,
            "max_height": null,
            "max_width": null,
            "min_height": null,
            "min_width": null,
            "object_fit": null,
            "object_position": null,
            "order": null,
            "overflow": null,
            "overflow_x": null,
            "overflow_y": null,
            "padding": null,
            "right": null,
            "top": null,
            "visibility": null,
            "width": null
          }
        },
        "d9e1e70b8f894374a40a1d4fb6b9b216": {
          "model_module": "@jupyter-widgets/base",
          "model_name": "LayoutModel",
          "model_module_version": "1.2.0",
          "state": {
            "_model_module": "@jupyter-widgets/base",
            "_model_module_version": "1.2.0",
            "_model_name": "LayoutModel",
            "_view_count": null,
            "_view_module": "@jupyter-widgets/base",
            "_view_module_version": "1.2.0",
            "_view_name": "LayoutView",
            "align_content": null,
            "align_items": null,
            "align_self": null,
            "border": null,
            "bottom": null,
            "display": null,
            "flex": null,
            "flex_flow": null,
            "grid_area": null,
            "grid_auto_columns": null,
            "grid_auto_flow": null,
            "grid_auto_rows": null,
            "grid_column": null,
            "grid_gap": null,
            "grid_row": null,
            "grid_template_areas": null,
            "grid_template_columns": null,
            "grid_template_rows": null,
            "height": null,
            "justify_content": null,
            "justify_items": null,
            "left": null,
            "margin": null,
            "max_height": null,
            "max_width": null,
            "min_height": null,
            "min_width": null,
            "object_fit": null,
            "object_position": null,
            "order": null,
            "overflow": null,
            "overflow_x": null,
            "overflow_y": null,
            "padding": null,
            "right": null,
            "top": null,
            "visibility": null,
            "width": null
          }
        },
        "ef5f79b94b3644ef8160e5fe6e7a758f": {
          "model_module": "@jupyter-widgets/controls",
          "model_name": "DescriptionStyleModel",
          "model_module_version": "1.5.0",
          "state": {
            "_model_module": "@jupyter-widgets/controls",
            "_model_module_version": "1.5.0",
            "_model_name": "DescriptionStyleModel",
            "_view_count": null,
            "_view_module": "@jupyter-widgets/base",
            "_view_module_version": "1.2.0",
            "_view_name": "StyleView",
            "description_width": ""
          }
        },
        "7fc28500b3b04a05a8331119c71ceeb8": {
          "model_module": "@jupyter-widgets/base",
          "model_name": "LayoutModel",
          "model_module_version": "1.2.0",
          "state": {
            "_model_module": "@jupyter-widgets/base",
            "_model_module_version": "1.2.0",
            "_model_name": "LayoutModel",
            "_view_count": null,
            "_view_module": "@jupyter-widgets/base",
            "_view_module_version": "1.2.0",
            "_view_name": "LayoutView",
            "align_content": null,
            "align_items": null,
            "align_self": null,
            "border": null,
            "bottom": null,
            "display": null,
            "flex": null,
            "flex_flow": null,
            "grid_area": null,
            "grid_auto_columns": null,
            "grid_auto_flow": null,
            "grid_auto_rows": null,
            "grid_column": null,
            "grid_gap": null,
            "grid_row": null,
            "grid_template_areas": null,
            "grid_template_columns": null,
            "grid_template_rows": null,
            "height": null,
            "justify_content": null,
            "justify_items": null,
            "left": null,
            "margin": null,
            "max_height": null,
            "max_width": null,
            "min_height": null,
            "min_width": null,
            "object_fit": null,
            "object_position": null,
            "order": null,
            "overflow": null,
            "overflow_x": null,
            "overflow_y": null,
            "padding": null,
            "right": null,
            "top": null,
            "visibility": null,
            "width": null
          }
        },
        "a45f041ed32b431aa90b6bb19811479e": {
          "model_module": "@jupyter-widgets/controls",
          "model_name": "ProgressStyleModel",
          "model_module_version": "1.5.0",
          "state": {
            "_model_module": "@jupyter-widgets/controls",
            "_model_module_version": "1.5.0",
            "_model_name": "ProgressStyleModel",
            "_view_count": null,
            "_view_module": "@jupyter-widgets/base",
            "_view_module_version": "1.2.0",
            "_view_name": "StyleView",
            "bar_color": null,
            "description_width": ""
          }
        },
        "a627066ab9da45df8c226d4fd84fff56": {
          "model_module": "@jupyter-widgets/base",
          "model_name": "LayoutModel",
          "model_module_version": "1.2.0",
          "state": {
            "_model_module": "@jupyter-widgets/base",
            "_model_module_version": "1.2.0",
            "_model_name": "LayoutModel",
            "_view_count": null,
            "_view_module": "@jupyter-widgets/base",
            "_view_module_version": "1.2.0",
            "_view_name": "LayoutView",
            "align_content": null,
            "align_items": null,
            "align_self": null,
            "border": null,
            "bottom": null,
            "display": null,
            "flex": null,
            "flex_flow": null,
            "grid_area": null,
            "grid_auto_columns": null,
            "grid_auto_flow": null,
            "grid_auto_rows": null,
            "grid_column": null,
            "grid_gap": null,
            "grid_row": null,
            "grid_template_areas": null,
            "grid_template_columns": null,
            "grid_template_rows": null,
            "height": null,
            "justify_content": null,
            "justify_items": null,
            "left": null,
            "margin": null,
            "max_height": null,
            "max_width": null,
            "min_height": null,
            "min_width": null,
            "object_fit": null,
            "object_position": null,
            "order": null,
            "overflow": null,
            "overflow_x": null,
            "overflow_y": null,
            "padding": null,
            "right": null,
            "top": null,
            "visibility": null,
            "width": null
          }
        },
        "19b577f1ba0744399927b636bc784948": {
          "model_module": "@jupyter-widgets/controls",
          "model_name": "DescriptionStyleModel",
          "model_module_version": "1.5.0",
          "state": {
            "_model_module": "@jupyter-widgets/controls",
            "_model_module_version": "1.5.0",
            "_model_name": "DescriptionStyleModel",
            "_view_count": null,
            "_view_module": "@jupyter-widgets/base",
            "_view_module_version": "1.2.0",
            "_view_name": "StyleView",
            "description_width": ""
          }
        },
        "cc6d86fe91c445bc82631007bd6e1fb0": {
          "model_module": "@jupyter-widgets/controls",
          "model_name": "HBoxModel",
          "model_module_version": "1.5.0",
          "state": {
            "_dom_classes": [],
            "_model_module": "@jupyter-widgets/controls",
            "_model_module_version": "1.5.0",
            "_model_name": "HBoxModel",
            "_view_count": null,
            "_view_module": "@jupyter-widgets/controls",
            "_view_module_version": "1.5.0",
            "_view_name": "HBoxView",
            "box_style": "",
            "children": [
              "IPY_MODEL_a95537bd49c741a499c03c21ff319e97",
              "IPY_MODEL_32601cd2072f4a5babd83842bbdddc61",
              "IPY_MODEL_b1accdbff03447e4bc2194b1410e2a34"
            ],
            "layout": "IPY_MODEL_f76128797fee44159f7ba4a598008671"
          }
        },
        "a95537bd49c741a499c03c21ff319e97": {
          "model_module": "@jupyter-widgets/controls",
          "model_name": "HTMLModel",
          "model_module_version": "1.5.0",
          "state": {
            "_dom_classes": [],
            "_model_module": "@jupyter-widgets/controls",
            "_model_module_version": "1.5.0",
            "_model_name": "HTMLModel",
            "_view_count": null,
            "_view_module": "@jupyter-widgets/controls",
            "_view_module_version": "1.5.0",
            "_view_name": "HTMLView",
            "description": "",
            "description_tooltip": null,
            "layout": "IPY_MODEL_04ed6b7c9fa04dee8244af5848260bf8",
            "placeholder": "​",
            "style": "IPY_MODEL_42cc092682084c9dbc3e0f3af44ec7fe",
            "value": "Downloading data: "
          }
        },
        "32601cd2072f4a5babd83842bbdddc61": {
          "model_module": "@jupyter-widgets/controls",
          "model_name": "FloatProgressModel",
          "model_module_version": "1.5.0",
          "state": {
            "_dom_classes": [],
            "_model_module": "@jupyter-widgets/controls",
            "_model_module_version": "1.5.0",
            "_model_name": "FloatProgressModel",
            "_view_count": null,
            "_view_module": "@jupyter-widgets/controls",
            "_view_module_version": "1.5.0",
            "_view_name": "ProgressView",
            "bar_style": "success",
            "description": "",
            "description_tooltip": null,
            "layout": "IPY_MODEL_f04e086b546a498c8bbea8bec26fd8a7",
            "max": 11045148,
            "min": 0,
            "orientation": "horizontal",
            "style": "IPY_MODEL_dcec052117b24575ba4b028dfe38c63a",
            "value": 11045148
          }
        },
        "b1accdbff03447e4bc2194b1410e2a34": {
          "model_module": "@jupyter-widgets/controls",
          "model_name": "HTMLModel",
          "model_module_version": "1.5.0",
          "state": {
            "_dom_classes": [],
            "_model_module": "@jupyter-widgets/controls",
            "_model_module_version": "1.5.0",
            "_model_name": "HTMLModel",
            "_view_count": null,
            "_view_module": "@jupyter-widgets/controls",
            "_view_module_version": "1.5.0",
            "_view_name": "HTMLView",
            "description": "",
            "description_tooltip": null,
            "layout": "IPY_MODEL_41fe1b6a8b7e4d3ebb2d80368d236a93",
            "placeholder": "​",
            "style": "IPY_MODEL_a9cf2e5b1b3c4c4f9936773db83aec9a",
            "value": " 29.5M/? [00:00&lt;00:00, 68.7MB/s]"
          }
        },
        "f76128797fee44159f7ba4a598008671": {
          "model_module": "@jupyter-widgets/base",
          "model_name": "LayoutModel",
          "model_module_version": "1.2.0",
          "state": {
            "_model_module": "@jupyter-widgets/base",
            "_model_module_version": "1.2.0",
            "_model_name": "LayoutModel",
            "_view_count": null,
            "_view_module": "@jupyter-widgets/base",
            "_view_module_version": "1.2.0",
            "_view_name": "LayoutView",
            "align_content": null,
            "align_items": null,
            "align_self": null,
            "border": null,
            "bottom": null,
            "display": null,
            "flex": null,
            "flex_flow": null,
            "grid_area": null,
            "grid_auto_columns": null,
            "grid_auto_flow": null,
            "grid_auto_rows": null,
            "grid_column": null,
            "grid_gap": null,
            "grid_row": null,
            "grid_template_areas": null,
            "grid_template_columns": null,
            "grid_template_rows": null,
            "height": null,
            "justify_content": null,
            "justify_items": null,
            "left": null,
            "margin": null,
            "max_height": null,
            "max_width": null,
            "min_height": null,
            "min_width": null,
            "object_fit": null,
            "object_position": null,
            "order": null,
            "overflow": null,
            "overflow_x": null,
            "overflow_y": null,
            "padding": null,
            "right": null,
            "top": null,
            "visibility": null,
            "width": null
          }
        },
        "04ed6b7c9fa04dee8244af5848260bf8": {
          "model_module": "@jupyter-widgets/base",
          "model_name": "LayoutModel",
          "model_module_version": "1.2.0",
          "state": {
            "_model_module": "@jupyter-widgets/base",
            "_model_module_version": "1.2.0",
            "_model_name": "LayoutModel",
            "_view_count": null,
            "_view_module": "@jupyter-widgets/base",
            "_view_module_version": "1.2.0",
            "_view_name": "LayoutView",
            "align_content": null,
            "align_items": null,
            "align_self": null,
            "border": null,
            "bottom": null,
            "display": null,
            "flex": null,
            "flex_flow": null,
            "grid_area": null,
            "grid_auto_columns": null,
            "grid_auto_flow": null,
            "grid_auto_rows": null,
            "grid_column": null,
            "grid_gap": null,
            "grid_row": null,
            "grid_template_areas": null,
            "grid_template_columns": null,
            "grid_template_rows": null,
            "height": null,
            "justify_content": null,
            "justify_items": null,
            "left": null,
            "margin": null,
            "max_height": null,
            "max_width": null,
            "min_height": null,
            "min_width": null,
            "object_fit": null,
            "object_position": null,
            "order": null,
            "overflow": null,
            "overflow_x": null,
            "overflow_y": null,
            "padding": null,
            "right": null,
            "top": null,
            "visibility": null,
            "width": null
          }
        },
        "42cc092682084c9dbc3e0f3af44ec7fe": {
          "model_module": "@jupyter-widgets/controls",
          "model_name": "DescriptionStyleModel",
          "model_module_version": "1.5.0",
          "state": {
            "_model_module": "@jupyter-widgets/controls",
            "_model_module_version": "1.5.0",
            "_model_name": "DescriptionStyleModel",
            "_view_count": null,
            "_view_module": "@jupyter-widgets/base",
            "_view_module_version": "1.2.0",
            "_view_name": "StyleView",
            "description_width": ""
          }
        },
        "f04e086b546a498c8bbea8bec26fd8a7": {
          "model_module": "@jupyter-widgets/base",
          "model_name": "LayoutModel",
          "model_module_version": "1.2.0",
          "state": {
            "_model_module": "@jupyter-widgets/base",
            "_model_module_version": "1.2.0",
            "_model_name": "LayoutModel",
            "_view_count": null,
            "_view_module": "@jupyter-widgets/base",
            "_view_module_version": "1.2.0",
            "_view_name": "LayoutView",
            "align_content": null,
            "align_items": null,
            "align_self": null,
            "border": null,
            "bottom": null,
            "display": null,
            "flex": null,
            "flex_flow": null,
            "grid_area": null,
            "grid_auto_columns": null,
            "grid_auto_flow": null,
            "grid_auto_rows": null,
            "grid_column": null,
            "grid_gap": null,
            "grid_row": null,
            "grid_template_areas": null,
            "grid_template_columns": null,
            "grid_template_rows": null,
            "height": null,
            "justify_content": null,
            "justify_items": null,
            "left": null,
            "margin": null,
            "max_height": null,
            "max_width": null,
            "min_height": null,
            "min_width": null,
            "object_fit": null,
            "object_position": null,
            "order": null,
            "overflow": null,
            "overflow_x": null,
            "overflow_y": null,
            "padding": null,
            "right": null,
            "top": null,
            "visibility": null,
            "width": null
          }
        },
        "dcec052117b24575ba4b028dfe38c63a": {
          "model_module": "@jupyter-widgets/controls",
          "model_name": "ProgressStyleModel",
          "model_module_version": "1.5.0",
          "state": {
            "_model_module": "@jupyter-widgets/controls",
            "_model_module_version": "1.5.0",
            "_model_name": "ProgressStyleModel",
            "_view_count": null,
            "_view_module": "@jupyter-widgets/base",
            "_view_module_version": "1.2.0",
            "_view_name": "StyleView",
            "bar_color": null,
            "description_width": ""
          }
        },
        "41fe1b6a8b7e4d3ebb2d80368d236a93": {
          "model_module": "@jupyter-widgets/base",
          "model_name": "LayoutModel",
          "model_module_version": "1.2.0",
          "state": {
            "_model_module": "@jupyter-widgets/base",
            "_model_module_version": "1.2.0",
            "_model_name": "LayoutModel",
            "_view_count": null,
            "_view_module": "@jupyter-widgets/base",
            "_view_module_version": "1.2.0",
            "_view_name": "LayoutView",
            "align_content": null,
            "align_items": null,
            "align_self": null,
            "border": null,
            "bottom": null,
            "display": null,
            "flex": null,
            "flex_flow": null,
            "grid_area": null,
            "grid_auto_columns": null,
            "grid_auto_flow": null,
            "grid_auto_rows": null,
            "grid_column": null,
            "grid_gap": null,
            "grid_row": null,
            "grid_template_areas": null,
            "grid_template_columns": null,
            "grid_template_rows": null,
            "height": null,
            "justify_content": null,
            "justify_items": null,
            "left": null,
            "margin": null,
            "max_height": null,
            "max_width": null,
            "min_height": null,
            "min_width": null,
            "object_fit": null,
            "object_position": null,
            "order": null,
            "overflow": null,
            "overflow_x": null,
            "overflow_y": null,
            "padding": null,
            "right": null,
            "top": null,
            "visibility": null,
            "width": null
          }
        },
        "a9cf2e5b1b3c4c4f9936773db83aec9a": {
          "model_module": "@jupyter-widgets/controls",
          "model_name": "DescriptionStyleModel",
          "model_module_version": "1.5.0",
          "state": {
            "_model_module": "@jupyter-widgets/controls",
            "_model_module_version": "1.5.0",
            "_model_name": "DescriptionStyleModel",
            "_view_count": null,
            "_view_module": "@jupyter-widgets/base",
            "_view_module_version": "1.2.0",
            "_view_name": "StyleView",
            "description_width": ""
          }
        },
        "d8d90ab384db42d2bca02087843187bf": {
          "model_module": "@jupyter-widgets/controls",
          "model_name": "HBoxModel",
          "model_module_version": "1.5.0",
          "state": {
            "_dom_classes": [],
            "_model_module": "@jupyter-widgets/controls",
            "_model_module_version": "1.5.0",
            "_model_name": "HBoxModel",
            "_view_count": null,
            "_view_module": "@jupyter-widgets/controls",
            "_view_module_version": "1.5.0",
            "_view_name": "HBoxView",
            "box_style": "",
            "children": [
              "IPY_MODEL_d24d7402f9dc48a782086bb60e3c0275",
              "IPY_MODEL_d9c711fe30d940a9ac1589ec710c9e83",
              "IPY_MODEL_744fb1ef8d944e1b967939fafe83b500"
            ],
            "layout": "IPY_MODEL_a9dd31641fa24455b064dfb75848cf60"
          }
        },
        "d24d7402f9dc48a782086bb60e3c0275": {
          "model_module": "@jupyter-widgets/controls",
          "model_name": "HTMLModel",
          "model_module_version": "1.5.0",
          "state": {
            "_dom_classes": [],
            "_model_module": "@jupyter-widgets/controls",
            "_model_module_version": "1.5.0",
            "_model_name": "HTMLModel",
            "_view_count": null,
            "_view_module": "@jupyter-widgets/controls",
            "_view_module_version": "1.5.0",
            "_view_name": "HTMLView",
            "description": "",
            "description_tooltip": null,
            "layout": "IPY_MODEL_21eaa55527774877aa069f83fcd39b58",
            "placeholder": "​",
            "style": "IPY_MODEL_1c52c03d5cd7463c8f7caa1b34213878",
            "value": "Downloading data: "
          }
        },
        "d9c711fe30d940a9ac1589ec710c9e83": {
          "model_module": "@jupyter-widgets/controls",
          "model_name": "FloatProgressModel",
          "model_module_version": "1.5.0",
          "state": {
            "_dom_classes": [],
            "_model_module": "@jupyter-widgets/controls",
            "_model_module_version": "1.5.0",
            "_model_name": "FloatProgressModel",
            "_view_count": null,
            "_view_module": "@jupyter-widgets/controls",
            "_view_module_version": "1.5.0",
            "_view_name": "ProgressView",
            "bar_style": "success",
            "description": "",
            "description_tooltip": null,
            "layout": "IPY_MODEL_79c020b0f8ce4d50bcf3b83584ddc681",
            "max": 751209,
            "min": 0,
            "orientation": "horizontal",
            "style": "IPY_MODEL_c70f8c749ec147f3b8f1083879d3c156",
            "value": 751209
          }
        },
        "744fb1ef8d944e1b967939fafe83b500": {
          "model_module": "@jupyter-widgets/controls",
          "model_name": "HTMLModel",
          "model_module_version": "1.5.0",
          "state": {
            "_dom_classes": [],
            "_model_module": "@jupyter-widgets/controls",
            "_model_module_version": "1.5.0",
            "_model_name": "HTMLModel",
            "_view_count": null,
            "_view_module": "@jupyter-widgets/controls",
            "_view_module_version": "1.5.0",
            "_view_name": "HTMLView",
            "description": "",
            "description_tooltip": null,
            "layout": "IPY_MODEL_f265a654d30545a296cb939573b5d419",
            "placeholder": "​",
            "style": "IPY_MODEL_50e46a06de514cbbb1ac3a7356e4e3fb",
            "value": " 1.86M/? [00:00&lt;00:00, 26.9MB/s]"
          }
        },
        "a9dd31641fa24455b064dfb75848cf60": {
          "model_module": "@jupyter-widgets/base",
          "model_name": "LayoutModel",
          "model_module_version": "1.2.0",
          "state": {
            "_model_module": "@jupyter-widgets/base",
            "_model_module_version": "1.2.0",
            "_model_name": "LayoutModel",
            "_view_count": null,
            "_view_module": "@jupyter-widgets/base",
            "_view_module_version": "1.2.0",
            "_view_name": "LayoutView",
            "align_content": null,
            "align_items": null,
            "align_self": null,
            "border": null,
            "bottom": null,
            "display": null,
            "flex": null,
            "flex_flow": null,
            "grid_area": null,
            "grid_auto_columns": null,
            "grid_auto_flow": null,
            "grid_auto_rows": null,
            "grid_column": null,
            "grid_gap": null,
            "grid_row": null,
            "grid_template_areas": null,
            "grid_template_columns": null,
            "grid_template_rows": null,
            "height": null,
            "justify_content": null,
            "justify_items": null,
            "left": null,
            "margin": null,
            "max_height": null,
            "max_width": null,
            "min_height": null,
            "min_width": null,
            "object_fit": null,
            "object_position": null,
            "order": null,
            "overflow": null,
            "overflow_x": null,
            "overflow_y": null,
            "padding": null,
            "right": null,
            "top": null,
            "visibility": null,
            "width": null
          }
        },
        "21eaa55527774877aa069f83fcd39b58": {
          "model_module": "@jupyter-widgets/base",
          "model_name": "LayoutModel",
          "model_module_version": "1.2.0",
          "state": {
            "_model_module": "@jupyter-widgets/base",
            "_model_module_version": "1.2.0",
            "_model_name": "LayoutModel",
            "_view_count": null,
            "_view_module": "@jupyter-widgets/base",
            "_view_module_version": "1.2.0",
            "_view_name": "LayoutView",
            "align_content": null,
            "align_items": null,
            "align_self": null,
            "border": null,
            "bottom": null,
            "display": null,
            "flex": null,
            "flex_flow": null,
            "grid_area": null,
            "grid_auto_columns": null,
            "grid_auto_flow": null,
            "grid_auto_rows": null,
            "grid_column": null,
            "grid_gap": null,
            "grid_row": null,
            "grid_template_areas": null,
            "grid_template_columns": null,
            "grid_template_rows": null,
            "height": null,
            "justify_content": null,
            "justify_items": null,
            "left": null,
            "margin": null,
            "max_height": null,
            "max_width": null,
            "min_height": null,
            "min_width": null,
            "object_fit": null,
            "object_position": null,
            "order": null,
            "overflow": null,
            "overflow_x": null,
            "overflow_y": null,
            "padding": null,
            "right": null,
            "top": null,
            "visibility": null,
            "width": null
          }
        },
        "1c52c03d5cd7463c8f7caa1b34213878": {
          "model_module": "@jupyter-widgets/controls",
          "model_name": "DescriptionStyleModel",
          "model_module_version": "1.5.0",
          "state": {
            "_model_module": "@jupyter-widgets/controls",
            "_model_module_version": "1.5.0",
            "_model_name": "DescriptionStyleModel",
            "_view_count": null,
            "_view_module": "@jupyter-widgets/base",
            "_view_module_version": "1.2.0",
            "_view_name": "StyleView",
            "description_width": ""
          }
        },
        "79c020b0f8ce4d50bcf3b83584ddc681": {
          "model_module": "@jupyter-widgets/base",
          "model_name": "LayoutModel",
          "model_module_version": "1.2.0",
          "state": {
            "_model_module": "@jupyter-widgets/base",
            "_model_module_version": "1.2.0",
            "_model_name": "LayoutModel",
            "_view_count": null,
            "_view_module": "@jupyter-widgets/base",
            "_view_module_version": "1.2.0",
            "_view_name": "LayoutView",
            "align_content": null,
            "align_items": null,
            "align_self": null,
            "border": null,
            "bottom": null,
            "display": null,
            "flex": null,
            "flex_flow": null,
            "grid_area": null,
            "grid_auto_columns": null,
            "grid_auto_flow": null,
            "grid_auto_rows": null,
            "grid_column": null,
            "grid_gap": null,
            "grid_row": null,
            "grid_template_areas": null,
            "grid_template_columns": null,
            "grid_template_rows": null,
            "height": null,
            "justify_content": null,
            "justify_items": null,
            "left": null,
            "margin": null,
            "max_height": null,
            "max_width": null,
            "min_height": null,
            "min_width": null,
            "object_fit": null,
            "object_position": null,
            "order": null,
            "overflow": null,
            "overflow_x": null,
            "overflow_y": null,
            "padding": null,
            "right": null,
            "top": null,
            "visibility": null,
            "width": null
          }
        },
        "c70f8c749ec147f3b8f1083879d3c156": {
          "model_module": "@jupyter-widgets/controls",
          "model_name": "ProgressStyleModel",
          "model_module_version": "1.5.0",
          "state": {
            "_model_module": "@jupyter-widgets/controls",
            "_model_module_version": "1.5.0",
            "_model_name": "ProgressStyleModel",
            "_view_count": null,
            "_view_module": "@jupyter-widgets/base",
            "_view_module_version": "1.2.0",
            "_view_name": "StyleView",
            "bar_color": null,
            "description_width": ""
          }
        },
        "f265a654d30545a296cb939573b5d419": {
          "model_module": "@jupyter-widgets/base",
          "model_name": "LayoutModel",
          "model_module_version": "1.2.0",
          "state": {
            "_model_module": "@jupyter-widgets/base",
            "_model_module_version": "1.2.0",
            "_model_name": "LayoutModel",
            "_view_count": null,
            "_view_module": "@jupyter-widgets/base",
            "_view_module_version": "1.2.0",
            "_view_name": "LayoutView",
            "align_content": null,
            "align_items": null,
            "align_self": null,
            "border": null,
            "bottom": null,
            "display": null,
            "flex": null,
            "flex_flow": null,
            "grid_area": null,
            "grid_auto_columns": null,
            "grid_auto_flow": null,
            "grid_auto_rows": null,
            "grid_column": null,
            "grid_gap": null,
            "grid_row": null,
            "grid_template_areas": null,
            "grid_template_columns": null,
            "grid_template_rows": null,
            "height": null,
            "justify_content": null,
            "justify_items": null,
            "left": null,
            "margin": null,
            "max_height": null,
            "max_width": null,
            "min_height": null,
            "min_width": null,
            "object_fit": null,
            "object_position": null,
            "order": null,
            "overflow": null,
            "overflow_x": null,
            "overflow_y": null,
            "padding": null,
            "right": null,
            "top": null,
            "visibility": null,
            "width": null
          }
        },
        "50e46a06de514cbbb1ac3a7356e4e3fb": {
          "model_module": "@jupyter-widgets/controls",
          "model_name": "DescriptionStyleModel",
          "model_module_version": "1.5.0",
          "state": {
            "_model_module": "@jupyter-widgets/controls",
            "_model_module_version": "1.5.0",
            "_model_name": "DescriptionStyleModel",
            "_view_count": null,
            "_view_module": "@jupyter-widgets/base",
            "_view_module_version": "1.2.0",
            "_view_name": "StyleView",
            "description_width": ""
          }
        },
        "285075c3c76c4c0ebf3cc54e822192a6": {
          "model_module": "@jupyter-widgets/controls",
          "model_name": "HBoxModel",
          "model_module_version": "1.5.0",
          "state": {
            "_dom_classes": [],
            "_model_module": "@jupyter-widgets/controls",
            "_model_module_version": "1.5.0",
            "_model_name": "HBoxModel",
            "_view_count": null,
            "_view_module": "@jupyter-widgets/controls",
            "_view_module_version": "1.5.0",
            "_view_name": "HBoxView",
            "box_style": "",
            "children": [
              "IPY_MODEL_29fd144ef0b243168aa6343871786ac9",
              "IPY_MODEL_aef753894df94b6db85dac9f467717d8",
              "IPY_MODEL_04f850bfc298462a8059423e9d8e957d"
            ],
            "layout": "IPY_MODEL_8173f20925eb478bb50f9688f32ff5be"
          }
        },
        "29fd144ef0b243168aa6343871786ac9": {
          "model_module": "@jupyter-widgets/controls",
          "model_name": "HTMLModel",
          "model_module_version": "1.5.0",
          "state": {
            "_dom_classes": [],
            "_model_module": "@jupyter-widgets/controls",
            "_model_module_version": "1.5.0",
            "_model_name": "HTMLModel",
            "_view_count": null,
            "_view_module": "@jupyter-widgets/controls",
            "_view_module_version": "1.5.0",
            "_view_name": "HTMLView",
            "description": "",
            "description_tooltip": null,
            "layout": "IPY_MODEL_85c319e5f5aa413194617a36a3869a80",
            "placeholder": "​",
            "style": "IPY_MODEL_53092620f51d4f1284124dfc6dbf33a3",
            "value": "Generating train split: 100%"
          }
        },
        "aef753894df94b6db85dac9f467717d8": {
          "model_module": "@jupyter-widgets/controls",
          "model_name": "FloatProgressModel",
          "model_module_version": "1.5.0",
          "state": {
            "_dom_classes": [],
            "_model_module": "@jupyter-widgets/controls",
            "_model_module_version": "1.5.0",
            "_model_name": "FloatProgressModel",
            "_view_count": null,
            "_view_module": "@jupyter-widgets/controls",
            "_view_module_version": "1.5.0",
            "_view_name": "ProgressView",
            "bar_style": "",
            "description": "",
            "description_tooltip": null,
            "layout": "IPY_MODEL_af9c53463cec4c2dadb8f73d4f9fcc81",
            "max": 120000,
            "min": 0,
            "orientation": "horizontal",
            "style": "IPY_MODEL_c68ae7231a8e46cc8fd25b9b9a389629",
            "value": 120000
          }
        },
        "04f850bfc298462a8059423e9d8e957d": {
          "model_module": "@jupyter-widgets/controls",
          "model_name": "HTMLModel",
          "model_module_version": "1.5.0",
          "state": {
            "_dom_classes": [],
            "_model_module": "@jupyter-widgets/controls",
            "_model_module_version": "1.5.0",
            "_model_name": "HTMLModel",
            "_view_count": null,
            "_view_module": "@jupyter-widgets/controls",
            "_view_module_version": "1.5.0",
            "_view_name": "HTMLView",
            "description": "",
            "description_tooltip": null,
            "layout": "IPY_MODEL_dbc4bd523baf492fbee9e7fc50c6238e",
            "placeholder": "​",
            "style": "IPY_MODEL_638254ad9ea341d9b8764eb40833e978",
            "value": " 120000/120000 [00:03&lt;00:00, 40824.12 examples/s]"
          }
        },
        "8173f20925eb478bb50f9688f32ff5be": {
          "model_module": "@jupyter-widgets/base",
          "model_name": "LayoutModel",
          "model_module_version": "1.2.0",
          "state": {
            "_model_module": "@jupyter-widgets/base",
            "_model_module_version": "1.2.0",
            "_model_name": "LayoutModel",
            "_view_count": null,
            "_view_module": "@jupyter-widgets/base",
            "_view_module_version": "1.2.0",
            "_view_name": "LayoutView",
            "align_content": null,
            "align_items": null,
            "align_self": null,
            "border": null,
            "bottom": null,
            "display": null,
            "flex": null,
            "flex_flow": null,
            "grid_area": null,
            "grid_auto_columns": null,
            "grid_auto_flow": null,
            "grid_auto_rows": null,
            "grid_column": null,
            "grid_gap": null,
            "grid_row": null,
            "grid_template_areas": null,
            "grid_template_columns": null,
            "grid_template_rows": null,
            "height": null,
            "justify_content": null,
            "justify_items": null,
            "left": null,
            "margin": null,
            "max_height": null,
            "max_width": null,
            "min_height": null,
            "min_width": null,
            "object_fit": null,
            "object_position": null,
            "order": null,
            "overflow": null,
            "overflow_x": null,
            "overflow_y": null,
            "padding": null,
            "right": null,
            "top": null,
            "visibility": "hidden",
            "width": null
          }
        },
        "85c319e5f5aa413194617a36a3869a80": {
          "model_module": "@jupyter-widgets/base",
          "model_name": "LayoutModel",
          "model_module_version": "1.2.0",
          "state": {
            "_model_module": "@jupyter-widgets/base",
            "_model_module_version": "1.2.0",
            "_model_name": "LayoutModel",
            "_view_count": null,
            "_view_module": "@jupyter-widgets/base",
            "_view_module_version": "1.2.0",
            "_view_name": "LayoutView",
            "align_content": null,
            "align_items": null,
            "align_self": null,
            "border": null,
            "bottom": null,
            "display": null,
            "flex": null,
            "flex_flow": null,
            "grid_area": null,
            "grid_auto_columns": null,
            "grid_auto_flow": null,
            "grid_auto_rows": null,
            "grid_column": null,
            "grid_gap": null,
            "grid_row": null,
            "grid_template_areas": null,
            "grid_template_columns": null,
            "grid_template_rows": null,
            "height": null,
            "justify_content": null,
            "justify_items": null,
            "left": null,
            "margin": null,
            "max_height": null,
            "max_width": null,
            "min_height": null,
            "min_width": null,
            "object_fit": null,
            "object_position": null,
            "order": null,
            "overflow": null,
            "overflow_x": null,
            "overflow_y": null,
            "padding": null,
            "right": null,
            "top": null,
            "visibility": null,
            "width": null
          }
        },
        "53092620f51d4f1284124dfc6dbf33a3": {
          "model_module": "@jupyter-widgets/controls",
          "model_name": "DescriptionStyleModel",
          "model_module_version": "1.5.0",
          "state": {
            "_model_module": "@jupyter-widgets/controls",
            "_model_module_version": "1.5.0",
            "_model_name": "DescriptionStyleModel",
            "_view_count": null,
            "_view_module": "@jupyter-widgets/base",
            "_view_module_version": "1.2.0",
            "_view_name": "StyleView",
            "description_width": ""
          }
        },
        "af9c53463cec4c2dadb8f73d4f9fcc81": {
          "model_module": "@jupyter-widgets/base",
          "model_name": "LayoutModel",
          "model_module_version": "1.2.0",
          "state": {
            "_model_module": "@jupyter-widgets/base",
            "_model_module_version": "1.2.0",
            "_model_name": "LayoutModel",
            "_view_count": null,
            "_view_module": "@jupyter-widgets/base",
            "_view_module_version": "1.2.0",
            "_view_name": "LayoutView",
            "align_content": null,
            "align_items": null,
            "align_self": null,
            "border": null,
            "bottom": null,
            "display": null,
            "flex": null,
            "flex_flow": null,
            "grid_area": null,
            "grid_auto_columns": null,
            "grid_auto_flow": null,
            "grid_auto_rows": null,
            "grid_column": null,
            "grid_gap": null,
            "grid_row": null,
            "grid_template_areas": null,
            "grid_template_columns": null,
            "grid_template_rows": null,
            "height": null,
            "justify_content": null,
            "justify_items": null,
            "left": null,
            "margin": null,
            "max_height": null,
            "max_width": null,
            "min_height": null,
            "min_width": null,
            "object_fit": null,
            "object_position": null,
            "order": null,
            "overflow": null,
            "overflow_x": null,
            "overflow_y": null,
            "padding": null,
            "right": null,
            "top": null,
            "visibility": null,
            "width": null
          }
        },
        "c68ae7231a8e46cc8fd25b9b9a389629": {
          "model_module": "@jupyter-widgets/controls",
          "model_name": "ProgressStyleModel",
          "model_module_version": "1.5.0",
          "state": {
            "_model_module": "@jupyter-widgets/controls",
            "_model_module_version": "1.5.0",
            "_model_name": "ProgressStyleModel",
            "_view_count": null,
            "_view_module": "@jupyter-widgets/base",
            "_view_module_version": "1.2.0",
            "_view_name": "StyleView",
            "bar_color": null,
            "description_width": ""
          }
        },
        "dbc4bd523baf492fbee9e7fc50c6238e": {
          "model_module": "@jupyter-widgets/base",
          "model_name": "LayoutModel",
          "model_module_version": "1.2.0",
          "state": {
            "_model_module": "@jupyter-widgets/base",
            "_model_module_version": "1.2.0",
            "_model_name": "LayoutModel",
            "_view_count": null,
            "_view_module": "@jupyter-widgets/base",
            "_view_module_version": "1.2.0",
            "_view_name": "LayoutView",
            "align_content": null,
            "align_items": null,
            "align_self": null,
            "border": null,
            "bottom": null,
            "display": null,
            "flex": null,
            "flex_flow": null,
            "grid_area": null,
            "grid_auto_columns": null,
            "grid_auto_flow": null,
            "grid_auto_rows": null,
            "grid_column": null,
            "grid_gap": null,
            "grid_row": null,
            "grid_template_areas": null,
            "grid_template_columns": null,
            "grid_template_rows": null,
            "height": null,
            "justify_content": null,
            "justify_items": null,
            "left": null,
            "margin": null,
            "max_height": null,
            "max_width": null,
            "min_height": null,
            "min_width": null,
            "object_fit": null,
            "object_position": null,
            "order": null,
            "overflow": null,
            "overflow_x": null,
            "overflow_y": null,
            "padding": null,
            "right": null,
            "top": null,
            "visibility": null,
            "width": null
          }
        },
        "638254ad9ea341d9b8764eb40833e978": {
          "model_module": "@jupyter-widgets/controls",
          "model_name": "DescriptionStyleModel",
          "model_module_version": "1.5.0",
          "state": {
            "_model_module": "@jupyter-widgets/controls",
            "_model_module_version": "1.5.0",
            "_model_name": "DescriptionStyleModel",
            "_view_count": null,
            "_view_module": "@jupyter-widgets/base",
            "_view_module_version": "1.2.0",
            "_view_name": "StyleView",
            "description_width": ""
          }
        },
        "bdc3ae8c6b124d84b9e268a3c2102612": {
          "model_module": "@jupyter-widgets/controls",
          "model_name": "HBoxModel",
          "model_module_version": "1.5.0",
          "state": {
            "_dom_classes": [],
            "_model_module": "@jupyter-widgets/controls",
            "_model_module_version": "1.5.0",
            "_model_name": "HBoxModel",
            "_view_count": null,
            "_view_module": "@jupyter-widgets/controls",
            "_view_module_version": "1.5.0",
            "_view_name": "HBoxView",
            "box_style": "",
            "children": [
              "IPY_MODEL_bbd367f2e264491a9af72c6ae582c786",
              "IPY_MODEL_f99e620f86184c21b9fdfeb2d374413a",
              "IPY_MODEL_03ce91efb7294640b8adc61f58ab3158"
            ],
            "layout": "IPY_MODEL_5c1c7be990064a67abadc4828978bbe9"
          }
        },
        "bbd367f2e264491a9af72c6ae582c786": {
          "model_module": "@jupyter-widgets/controls",
          "model_name": "HTMLModel",
          "model_module_version": "1.5.0",
          "state": {
            "_dom_classes": [],
            "_model_module": "@jupyter-widgets/controls",
            "_model_module_version": "1.5.0",
            "_model_name": "HTMLModel",
            "_view_count": null,
            "_view_module": "@jupyter-widgets/controls",
            "_view_module_version": "1.5.0",
            "_view_name": "HTMLView",
            "description": "",
            "description_tooltip": null,
            "layout": "IPY_MODEL_dbb7f114fe184fefa923d0657f49dbda",
            "placeholder": "​",
            "style": "IPY_MODEL_98ea0bc15e61429293a50a0efdd8fa8c",
            "value": "Generating test split: 100%"
          }
        },
        "f99e620f86184c21b9fdfeb2d374413a": {
          "model_module": "@jupyter-widgets/controls",
          "model_name": "FloatProgressModel",
          "model_module_version": "1.5.0",
          "state": {
            "_dom_classes": [],
            "_model_module": "@jupyter-widgets/controls",
            "_model_module_version": "1.5.0",
            "_model_name": "FloatProgressModel",
            "_view_count": null,
            "_view_module": "@jupyter-widgets/controls",
            "_view_module_version": "1.5.0",
            "_view_name": "ProgressView",
            "bar_style": "",
            "description": "",
            "description_tooltip": null,
            "layout": "IPY_MODEL_bbb7ea0d40ac46fd85dca9d605a5c93a",
            "max": 7600,
            "min": 0,
            "orientation": "horizontal",
            "style": "IPY_MODEL_ace6016cba1046e6b2f3a136aed04849",
            "value": 7600
          }
        },
        "03ce91efb7294640b8adc61f58ab3158": {
          "model_module": "@jupyter-widgets/controls",
          "model_name": "HTMLModel",
          "model_module_version": "1.5.0",
          "state": {
            "_dom_classes": [],
            "_model_module": "@jupyter-widgets/controls",
            "_model_module_version": "1.5.0",
            "_model_name": "HTMLModel",
            "_view_count": null,
            "_view_module": "@jupyter-widgets/controls",
            "_view_module_version": "1.5.0",
            "_view_name": "HTMLView",
            "description": "",
            "description_tooltip": null,
            "layout": "IPY_MODEL_0d7cbbac63b94634a8533693062373a2",
            "placeholder": "​",
            "style": "IPY_MODEL_b7a9fb4403034f62af3fbfdee1839506",
            "value": " 7600/7600 [00:00&lt;00:00, 33818.27 examples/s]"
          }
        },
        "5c1c7be990064a67abadc4828978bbe9": {
          "model_module": "@jupyter-widgets/base",
          "model_name": "LayoutModel",
          "model_module_version": "1.2.0",
          "state": {
            "_model_module": "@jupyter-widgets/base",
            "_model_module_version": "1.2.0",
            "_model_name": "LayoutModel",
            "_view_count": null,
            "_view_module": "@jupyter-widgets/base",
            "_view_module_version": "1.2.0",
            "_view_name": "LayoutView",
            "align_content": null,
            "align_items": null,
            "align_self": null,
            "border": null,
            "bottom": null,
            "display": null,
            "flex": null,
            "flex_flow": null,
            "grid_area": null,
            "grid_auto_columns": null,
            "grid_auto_flow": null,
            "grid_auto_rows": null,
            "grid_column": null,
            "grid_gap": null,
            "grid_row": null,
            "grid_template_areas": null,
            "grid_template_columns": null,
            "grid_template_rows": null,
            "height": null,
            "justify_content": null,
            "justify_items": null,
            "left": null,
            "margin": null,
            "max_height": null,
            "max_width": null,
            "min_height": null,
            "min_width": null,
            "object_fit": null,
            "object_position": null,
            "order": null,
            "overflow": null,
            "overflow_x": null,
            "overflow_y": null,
            "padding": null,
            "right": null,
            "top": null,
            "visibility": "hidden",
            "width": null
          }
        },
        "dbb7f114fe184fefa923d0657f49dbda": {
          "model_module": "@jupyter-widgets/base",
          "model_name": "LayoutModel",
          "model_module_version": "1.2.0",
          "state": {
            "_model_module": "@jupyter-widgets/base",
            "_model_module_version": "1.2.0",
            "_model_name": "LayoutModel",
            "_view_count": null,
            "_view_module": "@jupyter-widgets/base",
            "_view_module_version": "1.2.0",
            "_view_name": "LayoutView",
            "align_content": null,
            "align_items": null,
            "align_self": null,
            "border": null,
            "bottom": null,
            "display": null,
            "flex": null,
            "flex_flow": null,
            "grid_area": null,
            "grid_auto_columns": null,
            "grid_auto_flow": null,
            "grid_auto_rows": null,
            "grid_column": null,
            "grid_gap": null,
            "grid_row": null,
            "grid_template_areas": null,
            "grid_template_columns": null,
            "grid_template_rows": null,
            "height": null,
            "justify_content": null,
            "justify_items": null,
            "left": null,
            "margin": null,
            "max_height": null,
            "max_width": null,
            "min_height": null,
            "min_width": null,
            "object_fit": null,
            "object_position": null,
            "order": null,
            "overflow": null,
            "overflow_x": null,
            "overflow_y": null,
            "padding": null,
            "right": null,
            "top": null,
            "visibility": null,
            "width": null
          }
        },
        "98ea0bc15e61429293a50a0efdd8fa8c": {
          "model_module": "@jupyter-widgets/controls",
          "model_name": "DescriptionStyleModel",
          "model_module_version": "1.5.0",
          "state": {
            "_model_module": "@jupyter-widgets/controls",
            "_model_module_version": "1.5.0",
            "_model_name": "DescriptionStyleModel",
            "_view_count": null,
            "_view_module": "@jupyter-widgets/base",
            "_view_module_version": "1.2.0",
            "_view_name": "StyleView",
            "description_width": ""
          }
        },
        "bbb7ea0d40ac46fd85dca9d605a5c93a": {
          "model_module": "@jupyter-widgets/base",
          "model_name": "LayoutModel",
          "model_module_version": "1.2.0",
          "state": {
            "_model_module": "@jupyter-widgets/base",
            "_model_module_version": "1.2.0",
            "_model_name": "LayoutModel",
            "_view_count": null,
            "_view_module": "@jupyter-widgets/base",
            "_view_module_version": "1.2.0",
            "_view_name": "LayoutView",
            "align_content": null,
            "align_items": null,
            "align_self": null,
            "border": null,
            "bottom": null,
            "display": null,
            "flex": null,
            "flex_flow": null,
            "grid_area": null,
            "grid_auto_columns": null,
            "grid_auto_flow": null,
            "grid_auto_rows": null,
            "grid_column": null,
            "grid_gap": null,
            "grid_row": null,
            "grid_template_areas": null,
            "grid_template_columns": null,
            "grid_template_rows": null,
            "height": null,
            "justify_content": null,
            "justify_items": null,
            "left": null,
            "margin": null,
            "max_height": null,
            "max_width": null,
            "min_height": null,
            "min_width": null,
            "object_fit": null,
            "object_position": null,
            "order": null,
            "overflow": null,
            "overflow_x": null,
            "overflow_y": null,
            "padding": null,
            "right": null,
            "top": null,
            "visibility": null,
            "width": null
          }
        },
        "ace6016cba1046e6b2f3a136aed04849": {
          "model_module": "@jupyter-widgets/controls",
          "model_name": "ProgressStyleModel",
          "model_module_version": "1.5.0",
          "state": {
            "_model_module": "@jupyter-widgets/controls",
            "_model_module_version": "1.5.0",
            "_model_name": "ProgressStyleModel",
            "_view_count": null,
            "_view_module": "@jupyter-widgets/base",
            "_view_module_version": "1.2.0",
            "_view_name": "StyleView",
            "bar_color": null,
            "description_width": ""
          }
        },
        "0d7cbbac63b94634a8533693062373a2": {
          "model_module": "@jupyter-widgets/base",
          "model_name": "LayoutModel",
          "model_module_version": "1.2.0",
          "state": {
            "_model_module": "@jupyter-widgets/base",
            "_model_module_version": "1.2.0",
            "_model_name": "LayoutModel",
            "_view_count": null,
            "_view_module": "@jupyter-widgets/base",
            "_view_module_version": "1.2.0",
            "_view_name": "LayoutView",
            "align_content": null,
            "align_items": null,
            "align_self": null,
            "border": null,
            "bottom": null,
            "display": null,
            "flex": null,
            "flex_flow": null,
            "grid_area": null,
            "grid_auto_columns": null,
            "grid_auto_flow": null,
            "grid_auto_rows": null,
            "grid_column": null,
            "grid_gap": null,
            "grid_row": null,
            "grid_template_areas": null,
            "grid_template_columns": null,
            "grid_template_rows": null,
            "height": null,
            "justify_content": null,
            "justify_items": null,
            "left": null,
            "margin": null,
            "max_height": null,
            "max_width": null,
            "min_height": null,
            "min_width": null,
            "object_fit": null,
            "object_position": null,
            "order": null,
            "overflow": null,
            "overflow_x": null,
            "overflow_y": null,
            "padding": null,
            "right": null,
            "top": null,
            "visibility": null,
            "width": null
          }
        },
        "b7a9fb4403034f62af3fbfdee1839506": {
          "model_module": "@jupyter-widgets/controls",
          "model_name": "DescriptionStyleModel",
          "model_module_version": "1.5.0",
          "state": {
            "_model_module": "@jupyter-widgets/controls",
            "_model_module_version": "1.5.0",
            "_model_name": "DescriptionStyleModel",
            "_view_count": null,
            "_view_module": "@jupyter-widgets/base",
            "_view_module_version": "1.2.0",
            "_view_name": "StyleView",
            "description_width": ""
          }
        },
        "a94c38fa4dd3487988b143dc7dc6a7ae": {
          "model_module": "@jupyter-widgets/controls",
          "model_name": "HBoxModel",
          "model_module_version": "1.5.0",
          "state": {
            "_dom_classes": [],
            "_model_module": "@jupyter-widgets/controls",
            "_model_module_version": "1.5.0",
            "_model_name": "HBoxModel",
            "_view_count": null,
            "_view_module": "@jupyter-widgets/controls",
            "_view_module_version": "1.5.0",
            "_view_name": "HBoxView",
            "box_style": "",
            "children": [
              "IPY_MODEL_5683dedd9ac74b5c8aed56b458b1b4a8",
              "IPY_MODEL_52efd221cd6b4de8853ae2d9e198e471",
              "IPY_MODEL_2688b3895d594428936a39ea241b3713"
            ],
            "layout": "IPY_MODEL_440569ee69fa41478fd1bfcad4b41542"
          }
        },
        "5683dedd9ac74b5c8aed56b458b1b4a8": {
          "model_module": "@jupyter-widgets/controls",
          "model_name": "HTMLModel",
          "model_module_version": "1.5.0",
          "state": {
            "_dom_classes": [],
            "_model_module": "@jupyter-widgets/controls",
            "_model_module_version": "1.5.0",
            "_model_name": "HTMLModel",
            "_view_count": null,
            "_view_module": "@jupyter-widgets/controls",
            "_view_module_version": "1.5.0",
            "_view_name": "HTMLView",
            "description": "",
            "description_tooltip": null,
            "layout": "IPY_MODEL_8ce6f4d0d7f44d1ba6d7854db5d3fdbb",
            "placeholder": "​",
            "style": "IPY_MODEL_9b2457b1848c43acbd72de159ef7c148",
            "value": "100%"
          }
        },
        "52efd221cd6b4de8853ae2d9e198e471": {
          "model_module": "@jupyter-widgets/controls",
          "model_name": "FloatProgressModel",
          "model_module_version": "1.5.0",
          "state": {
            "_dom_classes": [],
            "_model_module": "@jupyter-widgets/controls",
            "_model_module_version": "1.5.0",
            "_model_name": "FloatProgressModel",
            "_view_count": null,
            "_view_module": "@jupyter-widgets/controls",
            "_view_module_version": "1.5.0",
            "_view_name": "ProgressView",
            "bar_style": "success",
            "description": "",
            "description_tooltip": null,
            "layout": "IPY_MODEL_48576578f02240c28e10fa61f6686b20",
            "max": 2,
            "min": 0,
            "orientation": "horizontal",
            "style": "IPY_MODEL_db525d4e07274f1ca3e2d2e9e7ad48b6",
            "value": 2
          }
        },
        "2688b3895d594428936a39ea241b3713": {
          "model_module": "@jupyter-widgets/controls",
          "model_name": "HTMLModel",
          "model_module_version": "1.5.0",
          "state": {
            "_dom_classes": [],
            "_model_module": "@jupyter-widgets/controls",
            "_model_module_version": "1.5.0",
            "_model_name": "HTMLModel",
            "_view_count": null,
            "_view_module": "@jupyter-widgets/controls",
            "_view_module_version": "1.5.0",
            "_view_name": "HTMLView",
            "description": "",
            "description_tooltip": null,
            "layout": "IPY_MODEL_247ca7ecef74499ab4c711f1d80693d1",
            "placeholder": "​",
            "style": "IPY_MODEL_8646cbca43b14cddad9a8fe397ec1744",
            "value": " 2/2 [00:00&lt;00:00, 58.25it/s]"
          }
        },
        "440569ee69fa41478fd1bfcad4b41542": {
          "model_module": "@jupyter-widgets/base",
          "model_name": "LayoutModel",
          "model_module_version": "1.2.0",
          "state": {
            "_model_module": "@jupyter-widgets/base",
            "_model_module_version": "1.2.0",
            "_model_name": "LayoutModel",
            "_view_count": null,
            "_view_module": "@jupyter-widgets/base",
            "_view_module_version": "1.2.0",
            "_view_name": "LayoutView",
            "align_content": null,
            "align_items": null,
            "align_self": null,
            "border": null,
            "bottom": null,
            "display": null,
            "flex": null,
            "flex_flow": null,
            "grid_area": null,
            "grid_auto_columns": null,
            "grid_auto_flow": null,
            "grid_auto_rows": null,
            "grid_column": null,
            "grid_gap": null,
            "grid_row": null,
            "grid_template_areas": null,
            "grid_template_columns": null,
            "grid_template_rows": null,
            "height": null,
            "justify_content": null,
            "justify_items": null,
            "left": null,
            "margin": null,
            "max_height": null,
            "max_width": null,
            "min_height": null,
            "min_width": null,
            "object_fit": null,
            "object_position": null,
            "order": null,
            "overflow": null,
            "overflow_x": null,
            "overflow_y": null,
            "padding": null,
            "right": null,
            "top": null,
            "visibility": null,
            "width": null
          }
        },
        "8ce6f4d0d7f44d1ba6d7854db5d3fdbb": {
          "model_module": "@jupyter-widgets/base",
          "model_name": "LayoutModel",
          "model_module_version": "1.2.0",
          "state": {
            "_model_module": "@jupyter-widgets/base",
            "_model_module_version": "1.2.0",
            "_model_name": "LayoutModel",
            "_view_count": null,
            "_view_module": "@jupyter-widgets/base",
            "_view_module_version": "1.2.0",
            "_view_name": "LayoutView",
            "align_content": null,
            "align_items": null,
            "align_self": null,
            "border": null,
            "bottom": null,
            "display": null,
            "flex": null,
            "flex_flow": null,
            "grid_area": null,
            "grid_auto_columns": null,
            "grid_auto_flow": null,
            "grid_auto_rows": null,
            "grid_column": null,
            "grid_gap": null,
            "grid_row": null,
            "grid_template_areas": null,
            "grid_template_columns": null,
            "grid_template_rows": null,
            "height": null,
            "justify_content": null,
            "justify_items": null,
            "left": null,
            "margin": null,
            "max_height": null,
            "max_width": null,
            "min_height": null,
            "min_width": null,
            "object_fit": null,
            "object_position": null,
            "order": null,
            "overflow": null,
            "overflow_x": null,
            "overflow_y": null,
            "padding": null,
            "right": null,
            "top": null,
            "visibility": null,
            "width": null
          }
        },
        "9b2457b1848c43acbd72de159ef7c148": {
          "model_module": "@jupyter-widgets/controls",
          "model_name": "DescriptionStyleModel",
          "model_module_version": "1.5.0",
          "state": {
            "_model_module": "@jupyter-widgets/controls",
            "_model_module_version": "1.5.0",
            "_model_name": "DescriptionStyleModel",
            "_view_count": null,
            "_view_module": "@jupyter-widgets/base",
            "_view_module_version": "1.2.0",
            "_view_name": "StyleView",
            "description_width": ""
          }
        },
        "48576578f02240c28e10fa61f6686b20": {
          "model_module": "@jupyter-widgets/base",
          "model_name": "LayoutModel",
          "model_module_version": "1.2.0",
          "state": {
            "_model_module": "@jupyter-widgets/base",
            "_model_module_version": "1.2.0",
            "_model_name": "LayoutModel",
            "_view_count": null,
            "_view_module": "@jupyter-widgets/base",
            "_view_module_version": "1.2.0",
            "_view_name": "LayoutView",
            "align_content": null,
            "align_items": null,
            "align_self": null,
            "border": null,
            "bottom": null,
            "display": null,
            "flex": null,
            "flex_flow": null,
            "grid_area": null,
            "grid_auto_columns": null,
            "grid_auto_flow": null,
            "grid_auto_rows": null,
            "grid_column": null,
            "grid_gap": null,
            "grid_row": null,
            "grid_template_areas": null,
            "grid_template_columns": null,
            "grid_template_rows": null,
            "height": null,
            "justify_content": null,
            "justify_items": null,
            "left": null,
            "margin": null,
            "max_height": null,
            "max_width": null,
            "min_height": null,
            "min_width": null,
            "object_fit": null,
            "object_position": null,
            "order": null,
            "overflow": null,
            "overflow_x": null,
            "overflow_y": null,
            "padding": null,
            "right": null,
            "top": null,
            "visibility": null,
            "width": null
          }
        },
        "db525d4e07274f1ca3e2d2e9e7ad48b6": {
          "model_module": "@jupyter-widgets/controls",
          "model_name": "ProgressStyleModel",
          "model_module_version": "1.5.0",
          "state": {
            "_model_module": "@jupyter-widgets/controls",
            "_model_module_version": "1.5.0",
            "_model_name": "ProgressStyleModel",
            "_view_count": null,
            "_view_module": "@jupyter-widgets/base",
            "_view_module_version": "1.2.0",
            "_view_name": "StyleView",
            "bar_color": null,
            "description_width": ""
          }
        },
        "247ca7ecef74499ab4c711f1d80693d1": {
          "model_module": "@jupyter-widgets/base",
          "model_name": "LayoutModel",
          "model_module_version": "1.2.0",
          "state": {
            "_model_module": "@jupyter-widgets/base",
            "_model_module_version": "1.2.0",
            "_model_name": "LayoutModel",
            "_view_count": null,
            "_view_module": "@jupyter-widgets/base",
            "_view_module_version": "1.2.0",
            "_view_name": "LayoutView",
            "align_content": null,
            "align_items": null,
            "align_self": null,
            "border": null,
            "bottom": null,
            "display": null,
            "flex": null,
            "flex_flow": null,
            "grid_area": null,
            "grid_auto_columns": null,
            "grid_auto_flow": null,
            "grid_auto_rows": null,
            "grid_column": null,
            "grid_gap": null,
            "grid_row": null,
            "grid_template_areas": null,
            "grid_template_columns": null,
            "grid_template_rows": null,
            "height": null,
            "justify_content": null,
            "justify_items": null,
            "left": null,
            "margin": null,
            "max_height": null,
            "max_width": null,
            "min_height": null,
            "min_width": null,
            "object_fit": null,
            "object_position": null,
            "order": null,
            "overflow": null,
            "overflow_x": null,
            "overflow_y": null,
            "padding": null,
            "right": null,
            "top": null,
            "visibility": null,
            "width": null
          }
        },
        "8646cbca43b14cddad9a8fe397ec1744": {
          "model_module": "@jupyter-widgets/controls",
          "model_name": "DescriptionStyleModel",
          "model_module_version": "1.5.0",
          "state": {
            "_model_module": "@jupyter-widgets/controls",
            "_model_module_version": "1.5.0",
            "_model_name": "DescriptionStyleModel",
            "_view_count": null,
            "_view_module": "@jupyter-widgets/base",
            "_view_module_version": "1.2.0",
            "_view_name": "StyleView",
            "description_width": ""
          }
        }
      }
    }
  },
  "cells": [
    {
      "cell_type": "code",
      "execution_count": null,
      "metadata": {
        "colab": {
          "base_uri": "https://localhost:8080/"
        },
        "id": "keo7tf0juqDJ",
        "outputId": "34bb7b72-68ea-4851-f67f-7bebd13a5f31"
      },
      "outputs": [
        {
          "output_type": "stream",
          "name": "stdout",
          "text": [
            "Looking in indexes: https://pypi.org/simple, https://us-python.pkg.dev/colab-wheels/public/simple/\n",
            "Requirement already satisfied: tensorflow in /usr/local/lib/python3.8/dist-packages (2.9.2)\n",
            "Collecting tensorflow\n",
            "  Downloading tensorflow-2.11.0-cp38-cp38-manylinux_2_17_x86_64.manylinux2014_x86_64.whl (588.3 MB)\n",
            "\u001b[K     |████████████████████████████████| 588.3 MB 21 kB/s \n",
            "\u001b[?25hCollecting keras<2.12,>=2.11.0\n",
            "  Downloading keras-2.11.0-py2.py3-none-any.whl (1.7 MB)\n",
            "\u001b[K     |████████████████████████████████| 1.7 MB 56.6 MB/s \n",
            "\u001b[?25hRequirement already satisfied: google-pasta>=0.1.1 in /usr/local/lib/python3.8/dist-packages (from tensorflow) (0.2.0)\n",
            "Requirement already satisfied: h5py>=2.9.0 in /usr/local/lib/python3.8/dist-packages (from tensorflow) (3.1.0)\n",
            "Requirement already satisfied: numpy>=1.20 in /usr/local/lib/python3.8/dist-packages (from tensorflow) (1.21.6)\n",
            "Requirement already satisfied: libclang>=13.0.0 in /usr/local/lib/python3.8/dist-packages (from tensorflow) (14.0.6)\n",
            "Requirement already satisfied: wrapt>=1.11.0 in /usr/local/lib/python3.8/dist-packages (from tensorflow) (1.14.1)\n",
            "Requirement already satisfied: termcolor>=1.1.0 in /usr/local/lib/python3.8/dist-packages (from tensorflow) (2.1.1)\n",
            "Requirement already satisfied: tensorflow-io-gcs-filesystem>=0.23.1 in /usr/local/lib/python3.8/dist-packages (from tensorflow) (0.28.0)\n",
            "Collecting tensorflow-estimator<2.12,>=2.11.0\n",
            "  Downloading tensorflow_estimator-2.11.0-py2.py3-none-any.whl (439 kB)\n",
            "\u001b[K     |████████████████████████████████| 439 kB 75.2 MB/s \n",
            "\u001b[?25hRequirement already satisfied: gast<=0.4.0,>=0.2.1 in /usr/local/lib/python3.8/dist-packages (from tensorflow) (0.4.0)\n",
            "Collecting tensorboard<2.12,>=2.11\n",
            "  Downloading tensorboard-2.11.0-py3-none-any.whl (6.0 MB)\n",
            "\u001b[K     |████████████████████████████████| 6.0 MB 63.8 MB/s \n",
            "\u001b[?25hRequirement already satisfied: setuptools in /usr/local/lib/python3.8/dist-packages (from tensorflow) (57.4.0)\n",
            "Requirement already satisfied: protobuf<3.20,>=3.9.2 in /usr/local/lib/python3.8/dist-packages (from tensorflow) (3.19.6)\n",
            "Requirement already satisfied: grpcio<2.0,>=1.24.3 in /usr/local/lib/python3.8/dist-packages (from tensorflow) (1.51.1)\n",
            "Requirement already satisfied: opt-einsum>=2.3.2 in /usr/local/lib/python3.8/dist-packages (from tensorflow) (3.3.0)\n",
            "Requirement already satisfied: astunparse>=1.6.0 in /usr/local/lib/python3.8/dist-packages (from tensorflow) (1.6.3)\n",
            "Requirement already satisfied: packaging in /usr/local/lib/python3.8/dist-packages (from tensorflow) (21.3)\n",
            "Collecting flatbuffers>=2.0\n",
            "  Downloading flatbuffers-22.12.6-py2.py3-none-any.whl (26 kB)\n",
            "Requirement already satisfied: six>=1.12.0 in /usr/local/lib/python3.8/dist-packages (from tensorflow) (1.15.0)\n",
            "Requirement already satisfied: typing-extensions>=3.6.6 in /usr/local/lib/python3.8/dist-packages (from tensorflow) (4.4.0)\n",
            "Requirement already satisfied: absl-py>=1.0.0 in /usr/local/lib/python3.8/dist-packages (from tensorflow) (1.3.0)\n",
            "Requirement already satisfied: wheel<1.0,>=0.23.0 in /usr/local/lib/python3.8/dist-packages (from astunparse>=1.6.0->tensorflow) (0.38.4)\n",
            "Requirement already satisfied: google-auth<3,>=1.6.3 in /usr/local/lib/python3.8/dist-packages (from tensorboard<2.12,>=2.11->tensorflow) (2.15.0)\n",
            "Requirement already satisfied: markdown>=2.6.8 in /usr/local/lib/python3.8/dist-packages (from tensorboard<2.12,>=2.11->tensorflow) (3.4.1)\n",
            "Requirement already satisfied: google-auth-oauthlib<0.5,>=0.4.1 in /usr/local/lib/python3.8/dist-packages (from tensorboard<2.12,>=2.11->tensorflow) (0.4.6)\n",
            "Requirement already satisfied: werkzeug>=1.0.1 in /usr/local/lib/python3.8/dist-packages (from tensorboard<2.12,>=2.11->tensorflow) (1.0.1)\n",
            "Requirement already satisfied: tensorboard-data-server<0.7.0,>=0.6.0 in /usr/local/lib/python3.8/dist-packages (from tensorboard<2.12,>=2.11->tensorflow) (0.6.1)\n",
            "Requirement already satisfied: tensorboard-plugin-wit>=1.6.0 in /usr/local/lib/python3.8/dist-packages (from tensorboard<2.12,>=2.11->tensorflow) (1.8.1)\n",
            "Requirement already satisfied: requests<3,>=2.21.0 in /usr/local/lib/python3.8/dist-packages (from tensorboard<2.12,>=2.11->tensorflow) (2.23.0)\n",
            "Requirement already satisfied: cachetools<6.0,>=2.0.0 in /usr/local/lib/python3.8/dist-packages (from google-auth<3,>=1.6.3->tensorboard<2.12,>=2.11->tensorflow) (5.2.0)\n",
            "Requirement already satisfied: rsa<5,>=3.1.4 in /usr/local/lib/python3.8/dist-packages (from google-auth<3,>=1.6.3->tensorboard<2.12,>=2.11->tensorflow) (4.9)\n",
            "Requirement already satisfied: pyasn1-modules>=0.2.1 in /usr/local/lib/python3.8/dist-packages (from google-auth<3,>=1.6.3->tensorboard<2.12,>=2.11->tensorflow) (0.2.8)\n",
            "Requirement already satisfied: requests-oauthlib>=0.7.0 in /usr/local/lib/python3.8/dist-packages (from google-auth-oauthlib<0.5,>=0.4.1->tensorboard<2.12,>=2.11->tensorflow) (1.3.1)\n",
            "Requirement already satisfied: importlib-metadata>=4.4 in /usr/local/lib/python3.8/dist-packages (from markdown>=2.6.8->tensorboard<2.12,>=2.11->tensorflow) (4.13.0)\n",
            "Requirement already satisfied: zipp>=0.5 in /usr/local/lib/python3.8/dist-packages (from importlib-metadata>=4.4->markdown>=2.6.8->tensorboard<2.12,>=2.11->tensorflow) (3.11.0)\n",
            "Requirement already satisfied: pyasn1<0.5.0,>=0.4.6 in /usr/local/lib/python3.8/dist-packages (from pyasn1-modules>=0.2.1->google-auth<3,>=1.6.3->tensorboard<2.12,>=2.11->tensorflow) (0.4.8)\n",
            "Requirement already satisfied: urllib3!=1.25.0,!=1.25.1,<1.26,>=1.21.1 in /usr/local/lib/python3.8/dist-packages (from requests<3,>=2.21.0->tensorboard<2.12,>=2.11->tensorflow) (1.24.3)\n",
            "Requirement already satisfied: idna<3,>=2.5 in /usr/local/lib/python3.8/dist-packages (from requests<3,>=2.21.0->tensorboard<2.12,>=2.11->tensorflow) (2.10)\n",
            "Requirement already satisfied: chardet<4,>=3.0.2 in /usr/local/lib/python3.8/dist-packages (from requests<3,>=2.21.0->tensorboard<2.12,>=2.11->tensorflow) (3.0.4)\n",
            "Requirement already satisfied: certifi>=2017.4.17 in /usr/local/lib/python3.8/dist-packages (from requests<3,>=2.21.0->tensorboard<2.12,>=2.11->tensorflow) (2022.9.24)\n",
            "Requirement already satisfied: oauthlib>=3.0.0 in /usr/local/lib/python3.8/dist-packages (from requests-oauthlib>=0.7.0->google-auth-oauthlib<0.5,>=0.4.1->tensorboard<2.12,>=2.11->tensorflow) (3.2.2)\n",
            "Requirement already satisfied: pyparsing!=3.0.5,>=2.0.2 in /usr/local/lib/python3.8/dist-packages (from packaging->tensorflow) (3.0.9)\n",
            "Installing collected packages: tensorflow-estimator, tensorboard, keras, flatbuffers, tensorflow\n",
            "  Attempting uninstall: tensorflow-estimator\n",
            "    Found existing installation: tensorflow-estimator 2.9.0\n",
            "    Uninstalling tensorflow-estimator-2.9.0:\n",
            "      Successfully uninstalled tensorflow-estimator-2.9.0\n",
            "  Attempting uninstall: tensorboard\n",
            "    Found existing installation: tensorboard 2.9.1\n",
            "    Uninstalling tensorboard-2.9.1:\n",
            "      Successfully uninstalled tensorboard-2.9.1\n",
            "  Attempting uninstall: keras\n",
            "    Found existing installation: keras 2.9.0\n",
            "    Uninstalling keras-2.9.0:\n",
            "      Successfully uninstalled keras-2.9.0\n",
            "  Attempting uninstall: flatbuffers\n",
            "    Found existing installation: flatbuffers 1.12\n",
            "    Uninstalling flatbuffers-1.12:\n",
            "      Successfully uninstalled flatbuffers-1.12\n",
            "  Attempting uninstall: tensorflow\n",
            "    Found existing installation: tensorflow 2.9.2\n",
            "    Uninstalling tensorflow-2.9.2:\n",
            "      Successfully uninstalled tensorflow-2.9.2\n",
            "Successfully installed flatbuffers-22.12.6 keras-2.11.0 tensorboard-2.11.0 tensorflow-2.11.0 tensorflow-estimator-2.11.0\n"
          ]
        }
      ],
      "source": [
        "!pip install --upgrade tensorflow"
      ]
    },
    {
      "cell_type": "code",
      "source": [
        "!pip3 install datasets"
      ],
      "metadata": {
        "colab": {
          "base_uri": "https://localhost:8080/"
        },
        "id": "mkrUnixj7ndt",
        "outputId": "845449bb-bf83-487c-f02a-99ee3216894d"
      },
      "execution_count": null,
      "outputs": [
        {
          "output_type": "stream",
          "name": "stdout",
          "text": [
            "Looking in indexes: https://pypi.org/simple, https://us-python.pkg.dev/colab-wheels/public/simple/\n",
            "Collecting datasets\n",
            "  Downloading datasets-2.7.1-py3-none-any.whl (451 kB)\n",
            "\u001b[K     |████████████████████████████████| 451 kB 24.1 MB/s \n",
            "\u001b[?25hCollecting huggingface-hub<1.0.0,>=0.2.0\n",
            "  Downloading huggingface_hub-0.11.1-py3-none-any.whl (182 kB)\n",
            "\u001b[K     |████████████████████████████████| 182 kB 77.2 MB/s \n",
            "\u001b[?25hRequirement already satisfied: pandas in /usr/local/lib/python3.8/dist-packages (from datasets) (1.3.5)\n",
            "Requirement already satisfied: pyarrow>=6.0.0 in /usr/local/lib/python3.8/dist-packages (from datasets) (9.0.0)\n",
            "Requirement already satisfied: numpy>=1.17 in /usr/local/lib/python3.8/dist-packages (from datasets) (1.21.6)\n",
            "Requirement already satisfied: tqdm>=4.62.1 in /usr/local/lib/python3.8/dist-packages (from datasets) (4.64.1)\n",
            "Requirement already satisfied: aiohttp in /usr/local/lib/python3.8/dist-packages (from datasets) (3.8.3)\n",
            "Collecting responses<0.19\n",
            "  Downloading responses-0.18.0-py3-none-any.whl (38 kB)\n",
            "Collecting xxhash\n",
            "  Downloading xxhash-3.1.0-cp38-cp38-manylinux_2_17_x86_64.manylinux2014_x86_64.whl (212 kB)\n",
            "\u001b[K     |████████████████████████████████| 212 kB 75.0 MB/s \n",
            "\u001b[?25hRequirement already satisfied: requests>=2.19.0 in /usr/local/lib/python3.8/dist-packages (from datasets) (2.23.0)\n",
            "Requirement already satisfied: fsspec[http]>=2021.11.1 in /usr/local/lib/python3.8/dist-packages (from datasets) (2022.11.0)\n",
            "Requirement already satisfied: pyyaml>=5.1 in /usr/local/lib/python3.8/dist-packages (from datasets) (6.0)\n",
            "Requirement already satisfied: packaging in /usr/local/lib/python3.8/dist-packages (from datasets) (21.3)\n",
            "Collecting multiprocess\n",
            "  Downloading multiprocess-0.70.14-py38-none-any.whl (132 kB)\n",
            "\u001b[K     |████████████████████████████████| 132 kB 76.7 MB/s \n",
            "\u001b[?25hRequirement already satisfied: dill<0.3.7 in /usr/local/lib/python3.8/dist-packages (from datasets) (0.3.6)\n",
            "Requirement already satisfied: frozenlist>=1.1.1 in /usr/local/lib/python3.8/dist-packages (from aiohttp->datasets) (1.3.3)\n",
            "Requirement already satisfied: async-timeout<5.0,>=4.0.0a3 in /usr/local/lib/python3.8/dist-packages (from aiohttp->datasets) (4.0.2)\n",
            "Requirement already satisfied: multidict<7.0,>=4.5 in /usr/local/lib/python3.8/dist-packages (from aiohttp->datasets) (6.0.3)\n",
            "Requirement already satisfied: charset-normalizer<3.0,>=2.0 in /usr/local/lib/python3.8/dist-packages (from aiohttp->datasets) (2.1.1)\n",
            "Requirement already satisfied: aiosignal>=1.1.2 in /usr/local/lib/python3.8/dist-packages (from aiohttp->datasets) (1.3.1)\n",
            "Requirement already satisfied: yarl<2.0,>=1.0 in /usr/local/lib/python3.8/dist-packages (from aiohttp->datasets) (1.8.2)\n",
            "Requirement already satisfied: attrs>=17.3.0 in /usr/local/lib/python3.8/dist-packages (from aiohttp->datasets) (22.1.0)\n",
            "Requirement already satisfied: filelock in /usr/local/lib/python3.8/dist-packages (from huggingface-hub<1.0.0,>=0.2.0->datasets) (3.8.0)\n",
            "Requirement already satisfied: typing-extensions>=3.7.4.3 in /usr/local/lib/python3.8/dist-packages (from huggingface-hub<1.0.0,>=0.2.0->datasets) (4.4.0)\n",
            "Requirement already satisfied: pyparsing!=3.0.5,>=2.0.2 in /usr/local/lib/python3.8/dist-packages (from packaging->datasets) (3.0.9)\n",
            "Requirement already satisfied: urllib3!=1.25.0,!=1.25.1,<1.26,>=1.21.1 in /usr/local/lib/python3.8/dist-packages (from requests>=2.19.0->datasets) (1.24.3)\n",
            "Requirement already satisfied: idna<3,>=2.5 in /usr/local/lib/python3.8/dist-packages (from requests>=2.19.0->datasets) (2.10)\n",
            "Requirement already satisfied: certifi>=2017.4.17 in /usr/local/lib/python3.8/dist-packages (from requests>=2.19.0->datasets) (2022.9.24)\n",
            "Requirement already satisfied: chardet<4,>=3.0.2 in /usr/local/lib/python3.8/dist-packages (from requests>=2.19.0->datasets) (3.0.4)\n",
            "Collecting urllib3!=1.25.0,!=1.25.1,<1.26,>=1.21.1\n",
            "  Downloading urllib3-1.25.11-py2.py3-none-any.whl (127 kB)\n",
            "\u001b[K     |████████████████████████████████| 127 kB 73.3 MB/s \n",
            "\u001b[?25hRequirement already satisfied: pytz>=2017.3 in /usr/local/lib/python3.8/dist-packages (from pandas->datasets) (2022.6)\n",
            "Requirement already satisfied: python-dateutil>=2.7.3 in /usr/local/lib/python3.8/dist-packages (from pandas->datasets) (2.8.2)\n",
            "Requirement already satisfied: six>=1.5 in /usr/local/lib/python3.8/dist-packages (from python-dateutil>=2.7.3->pandas->datasets) (1.15.0)\n",
            "Installing collected packages: urllib3, xxhash, responses, multiprocess, huggingface-hub, datasets\n",
            "  Attempting uninstall: urllib3\n",
            "    Found existing installation: urllib3 1.24.3\n",
            "    Uninstalling urllib3-1.24.3:\n",
            "      Successfully uninstalled urllib3-1.24.3\n",
            "Successfully installed datasets-2.7.1 huggingface-hub-0.11.1 multiprocess-0.70.14 responses-0.18.0 urllib3-1.25.11 xxhash-3.1.0\n"
          ]
        }
      ]
    },
    {
      "cell_type": "code",
      "source": [
        "!pip install \"tensorflow>=2.0.0\"\n",
        "!pip install --upgrade tensorflow-hub"
      ],
      "metadata": {
        "colab": {
          "base_uri": "https://localhost:8080/"
        },
        "id": "WHUVg70U9j2P",
        "outputId": "0913e4bd-d02d-402b-fb31-0edd3e9fd28e"
      },
      "execution_count": null,
      "outputs": [
        {
          "output_type": "stream",
          "name": "stdout",
          "text": [
            "Looking in indexes: https://pypi.org/simple, https://us-python.pkg.dev/colab-wheels/public/simple/\n",
            "Requirement already satisfied: tensorflow>=2.0.0 in /usr/local/lib/python3.8/dist-packages (2.11.0)\n",
            "Requirement already satisfied: google-pasta>=0.1.1 in /usr/local/lib/python3.8/dist-packages (from tensorflow>=2.0.0) (0.2.0)\n",
            "Requirement already satisfied: flatbuffers>=2.0 in /usr/local/lib/python3.8/dist-packages (from tensorflow>=2.0.0) (22.12.6)\n",
            "Requirement already satisfied: astunparse>=1.6.0 in /usr/local/lib/python3.8/dist-packages (from tensorflow>=2.0.0) (1.6.3)\n",
            "Requirement already satisfied: grpcio<2.0,>=1.24.3 in /usr/local/lib/python3.8/dist-packages (from tensorflow>=2.0.0) (1.51.1)\n",
            "Requirement already satisfied: setuptools in /usr/local/lib/python3.8/dist-packages (from tensorflow>=2.0.0) (57.4.0)\n",
            "Requirement already satisfied: wrapt>=1.11.0 in /usr/local/lib/python3.8/dist-packages (from tensorflow>=2.0.0) (1.14.1)\n",
            "Requirement already satisfied: keras<2.12,>=2.11.0 in /usr/local/lib/python3.8/dist-packages (from tensorflow>=2.0.0) (2.11.0)\n",
            "Requirement already satisfied: typing-extensions>=3.6.6 in /usr/local/lib/python3.8/dist-packages (from tensorflow>=2.0.0) (4.4.0)\n",
            "Requirement already satisfied: h5py>=2.9.0 in /usr/local/lib/python3.8/dist-packages (from tensorflow>=2.0.0) (3.1.0)\n",
            "Requirement already satisfied: opt-einsum>=2.3.2 in /usr/local/lib/python3.8/dist-packages (from tensorflow>=2.0.0) (3.3.0)\n",
            "Requirement already satisfied: six>=1.12.0 in /usr/local/lib/python3.8/dist-packages (from tensorflow>=2.0.0) (1.15.0)\n",
            "Requirement already satisfied: tensorflow-estimator<2.12,>=2.11.0 in /usr/local/lib/python3.8/dist-packages (from tensorflow>=2.0.0) (2.11.0)\n",
            "Requirement already satisfied: libclang>=13.0.0 in /usr/local/lib/python3.8/dist-packages (from tensorflow>=2.0.0) (14.0.6)\n",
            "Requirement already satisfied: tensorflow-io-gcs-filesystem>=0.23.1 in /usr/local/lib/python3.8/dist-packages (from tensorflow>=2.0.0) (0.28.0)\n",
            "Requirement already satisfied: protobuf<3.20,>=3.9.2 in /usr/local/lib/python3.8/dist-packages (from tensorflow>=2.0.0) (3.19.6)\n",
            "Requirement already satisfied: absl-py>=1.0.0 in /usr/local/lib/python3.8/dist-packages (from tensorflow>=2.0.0) (1.3.0)\n",
            "Requirement already satisfied: gast<=0.4.0,>=0.2.1 in /usr/local/lib/python3.8/dist-packages (from tensorflow>=2.0.0) (0.4.0)\n",
            "Requirement already satisfied: numpy>=1.20 in /usr/local/lib/python3.8/dist-packages (from tensorflow>=2.0.0) (1.21.6)\n",
            "Requirement already satisfied: packaging in /usr/local/lib/python3.8/dist-packages (from tensorflow>=2.0.0) (21.3)\n",
            "Requirement already satisfied: termcolor>=1.1.0 in /usr/local/lib/python3.8/dist-packages (from tensorflow>=2.0.0) (2.1.1)\n",
            "Requirement already satisfied: tensorboard<2.12,>=2.11 in /usr/local/lib/python3.8/dist-packages (from tensorflow>=2.0.0) (2.11.0)\n",
            "Requirement already satisfied: wheel<1.0,>=0.23.0 in /usr/local/lib/python3.8/dist-packages (from astunparse>=1.6.0->tensorflow>=2.0.0) (0.38.4)\n",
            "Requirement already satisfied: requests<3,>=2.21.0 in /usr/local/lib/python3.8/dist-packages (from tensorboard<2.12,>=2.11->tensorflow>=2.0.0) (2.23.0)\n",
            "Requirement already satisfied: google-auth-oauthlib<0.5,>=0.4.1 in /usr/local/lib/python3.8/dist-packages (from tensorboard<2.12,>=2.11->tensorflow>=2.0.0) (0.4.6)\n",
            "Requirement already satisfied: google-auth<3,>=1.6.3 in /usr/local/lib/python3.8/dist-packages (from tensorboard<2.12,>=2.11->tensorflow>=2.0.0) (2.15.0)\n",
            "Requirement already satisfied: tensorboard-data-server<0.7.0,>=0.6.0 in /usr/local/lib/python3.8/dist-packages (from tensorboard<2.12,>=2.11->tensorflow>=2.0.0) (0.6.1)\n",
            "Requirement already satisfied: werkzeug>=1.0.1 in /usr/local/lib/python3.8/dist-packages (from tensorboard<2.12,>=2.11->tensorflow>=2.0.0) (1.0.1)\n",
            "Requirement already satisfied: tensorboard-plugin-wit>=1.6.0 in /usr/local/lib/python3.8/dist-packages (from tensorboard<2.12,>=2.11->tensorflow>=2.0.0) (1.8.1)\n",
            "Requirement already satisfied: markdown>=2.6.8 in /usr/local/lib/python3.8/dist-packages (from tensorboard<2.12,>=2.11->tensorflow>=2.0.0) (3.4.1)\n",
            "Requirement already satisfied: cachetools<6.0,>=2.0.0 in /usr/local/lib/python3.8/dist-packages (from google-auth<3,>=1.6.3->tensorboard<2.12,>=2.11->tensorflow>=2.0.0) (5.2.0)\n",
            "Requirement already satisfied: pyasn1-modules>=0.2.1 in /usr/local/lib/python3.8/dist-packages (from google-auth<3,>=1.6.3->tensorboard<2.12,>=2.11->tensorflow>=2.0.0) (0.2.8)\n",
            "Requirement already satisfied: rsa<5,>=3.1.4 in /usr/local/lib/python3.8/dist-packages (from google-auth<3,>=1.6.3->tensorboard<2.12,>=2.11->tensorflow>=2.0.0) (4.9)\n",
            "Requirement already satisfied: requests-oauthlib>=0.7.0 in /usr/local/lib/python3.8/dist-packages (from google-auth-oauthlib<0.5,>=0.4.1->tensorboard<2.12,>=2.11->tensorflow>=2.0.0) (1.3.1)\n",
            "Requirement already satisfied: importlib-metadata>=4.4 in /usr/local/lib/python3.8/dist-packages (from markdown>=2.6.8->tensorboard<2.12,>=2.11->tensorflow>=2.0.0) (4.13.0)\n",
            "Requirement already satisfied: zipp>=0.5 in /usr/local/lib/python3.8/dist-packages (from importlib-metadata>=4.4->markdown>=2.6.8->tensorboard<2.12,>=2.11->tensorflow>=2.0.0) (3.11.0)\n",
            "Requirement already satisfied: pyasn1<0.5.0,>=0.4.6 in /usr/local/lib/python3.8/dist-packages (from pyasn1-modules>=0.2.1->google-auth<3,>=1.6.3->tensorboard<2.12,>=2.11->tensorflow>=2.0.0) (0.4.8)\n",
            "Requirement already satisfied: chardet<4,>=3.0.2 in /usr/local/lib/python3.8/dist-packages (from requests<3,>=2.21.0->tensorboard<2.12,>=2.11->tensorflow>=2.0.0) (3.0.4)\n",
            "Requirement already satisfied: idna<3,>=2.5 in /usr/local/lib/python3.8/dist-packages (from requests<3,>=2.21.0->tensorboard<2.12,>=2.11->tensorflow>=2.0.0) (2.10)\n",
            "Requirement already satisfied: urllib3!=1.25.0,!=1.25.1,<1.26,>=1.21.1 in /usr/local/lib/python3.8/dist-packages (from requests<3,>=2.21.0->tensorboard<2.12,>=2.11->tensorflow>=2.0.0) (1.25.11)\n",
            "Requirement already satisfied: certifi>=2017.4.17 in /usr/local/lib/python3.8/dist-packages (from requests<3,>=2.21.0->tensorboard<2.12,>=2.11->tensorflow>=2.0.0) (2022.9.24)\n",
            "Requirement already satisfied: oauthlib>=3.0.0 in /usr/local/lib/python3.8/dist-packages (from requests-oauthlib>=0.7.0->google-auth-oauthlib<0.5,>=0.4.1->tensorboard<2.12,>=2.11->tensorflow>=2.0.0) (3.2.2)\n",
            "Requirement already satisfied: pyparsing!=3.0.5,>=2.0.2 in /usr/local/lib/python3.8/dist-packages (from packaging->tensorflow>=2.0.0) (3.0.9)\n",
            "Looking in indexes: https://pypi.org/simple, https://us-python.pkg.dev/colab-wheels/public/simple/\n",
            "Requirement already satisfied: tensorflow-hub in /usr/local/lib/python3.8/dist-packages (0.12.0)\n",
            "Requirement already satisfied: numpy>=1.12.0 in /usr/local/lib/python3.8/dist-packages (from tensorflow-hub) (1.21.6)\n",
            "Requirement already satisfied: protobuf>=3.8.0 in /usr/local/lib/python3.8/dist-packages (from tensorflow-hub) (3.19.6)\n"
          ]
        }
      ]
    },
    {
      "cell_type": "code",
      "source": [
        "from google.colab import drive\n",
        "drive.mount('/content/gdrive')"
      ],
      "metadata": {
        "colab": {
          "base_uri": "https://localhost:8080/"
        },
        "id": "zBvOQS1Vurcs",
        "outputId": "7a72e0fa-117d-4876-d470-1b850de01914"
      },
      "execution_count": null,
      "outputs": [
        {
          "output_type": "stream",
          "name": "stdout",
          "text": [
            "Mounted at /content/gdrive\n"
          ]
        }
      ]
    },
    {
      "cell_type": "code",
      "source": [
        "!nvidia-smi"
      ],
      "metadata": {
        "id": "X20-horRurfl",
        "colab": {
          "base_uri": "https://localhost:8080/"
        },
        "outputId": "a1ae260f-b2e3-4e6f-ff40-63aa33189b84"
      },
      "execution_count": null,
      "outputs": [
        {
          "output_type": "stream",
          "name": "stdout",
          "text": [
            "Mon Dec 12 18:05:56 2022       \n",
            "+-----------------------------------------------------------------------------+\n",
            "| NVIDIA-SMI 460.32.03    Driver Version: 460.32.03    CUDA Version: 11.2     |\n",
            "|-------------------------------+----------------------+----------------------+\n",
            "| GPU  Name        Persistence-M| Bus-Id        Disp.A | Volatile Uncorr. ECC |\n",
            "| Fan  Temp  Perf  Pwr:Usage/Cap|         Memory-Usage | GPU-Util  Compute M. |\n",
            "|                               |                      |               MIG M. |\n",
            "|===============================+======================+======================|\n",
            "|   0  Tesla T4            Off  | 00000000:00:04.0 Off |                    0 |\n",
            "| N/A   39C    P0    24W /  70W |      0MiB / 15109MiB |      0%      Default |\n",
            "|                               |                      |                  N/A |\n",
            "+-------------------------------+----------------------+----------------------+\n",
            "                                                                               \n",
            "+-----------------------------------------------------------------------------+\n",
            "| Processes:                                                                  |\n",
            "|  GPU   GI   CI        PID   Type   Process name                  GPU Memory |\n",
            "|        ID   ID                                                   Usage      |\n",
            "|=============================================================================|\n",
            "|  No running processes found                                                 |\n",
            "+-----------------------------------------------------------------------------+\n"
          ]
        }
      ]
    },
    {
      "cell_type": "markdown",
      "metadata": {
        "id": "_pQCOmISAQBu"
      },
      "source": [
        "## Enabling and testing the TPU\n",
        "\n",
        "First, you'll need to enable TPUs for the notebook:\n",
        "\n",
        "- Navigate to Edit→Notebook Settings\n",
        "- select TPU from the Hardware Accelerator drop-down\n",
        "\n",
        "Next, we'll check that we can connect to the TPU:"
      ]
    },
    {
      "cell_type": "code",
      "source": [
        "\"\"\"import tensorflow as tf\n",
        "print(\"Tensorflow version \" + tf.__version__)\n",
        "\n",
        "try:\n",
        "  tpu = tf.distribute.cluster_resolver.TPUClusterResolver()  # TPU detection\n",
        "  print('Running on TPU ', tpu.cluster_spec().as_dict()['worker'])\n",
        "except ValueError:\n",
        "  raise BaseException('ERROR: Not connected to a TPU runtime; please see the previous cell in this notebook for instructions!')\n",
        "\n",
        "tf.config.experimental_connect_to_cluster(tpu)\n",
        "tf.tpu.experimental.initialize_tpu_system(tpu)\n",
        "tpu_strategy = tf.distribute.experimental.TPUStrategy(tpu)\n",
        "\"\"\""
      ],
      "metadata": {
        "id": "g3ACqGs8q6QD",
        "colab": {
          "base_uri": "https://localhost:8080/",
          "height": 70
        },
        "outputId": "04c6a4a2-796b-4252-a905-fbb73367b48c"
      },
      "execution_count": null,
      "outputs": [
        {
          "output_type": "execute_result",
          "data": {
            "text/plain": [
              "'import tensorflow as tf\\nprint(\"Tensorflow version \" + tf.__version__)\\n\\ntry:\\n  tpu = tf.distribute.cluster_resolver.TPUClusterResolver()  # TPU detection\\n  print(\\'Running on TPU \\', tpu.cluster_spec().as_dict()[\\'worker\\'])\\nexcept ValueError:\\n  raise BaseException(\\'ERROR: Not connected to a TPU runtime; please see the previous cell in this notebook for instructions!\\')\\n\\ntf.config.experimental_connect_to_cluster(tpu)\\ntf.tpu.experimental.initialize_tpu_system(tpu)\\ntpu_strategy = tf.distribute.experimental.TPUStrategy(tpu)\\n'"
            ],
            "application/vnd.google.colaboratory.intrinsic+json": {
              "type": "string"
            }
          },
          "metadata": {},
          "execution_count": 6
        }
      ]
    },
    {
      "cell_type": "code",
      "source": [
        "\"\"\"!wget https://dl.fbaipublicfiles.com/fasttext/vectors-crawl/cc.en.300.vec.gz\n",
        "!gzip -d cc.en.300.vec.gz\n",
        "\"\"\""
      ],
      "metadata": {
        "id": "8XCMstduuriU",
        "colab": {
          "base_uri": "https://localhost:8080/",
          "height": 36
        },
        "outputId": "ff3df6cb-c068-4c81-aa4b-4f4ad034c28a"
      },
      "execution_count": null,
      "outputs": [
        {
          "output_type": "execute_result",
          "data": {
            "text/plain": [
              "'!wget https://dl.fbaipublicfiles.com/fasttext/vectors-crawl/cc.en.300.vec.gz\\n!gzip -d cc.en.300.vec.gz\\n'"
            ],
            "application/vnd.google.colaboratory.intrinsic+json": {
              "type": "string"
            }
          },
          "metadata": {},
          "execution_count": 7
        }
      ]
    },
    {
      "cell_type": "code",
      "source": [
        "\"\"\"\n",
        "import pickle\n",
        "import numpy as np\n",
        "\n",
        "idx = 0\n",
        "vocab = {}\n",
        "# Save embeddings to numpy array (vocab_size x dimensions)\n",
        "# We manually add 2 special tokens (for padding & unknown words)\n",
        "with open(\"cc.en.300.vec\", 'r', encoding=\"utf-8\", newline='\\n',errors='ignore') as f:\n",
        "    for l in f:\n",
        "        line = l.rstrip().split(' ')\n",
        "        if idx == 0:\n",
        "            vocab_size = int(line[0]) + 2\n",
        "            dim = int(line[1])\n",
        "            vecs = np.zeros(vocab_size*dim).reshape(vocab_size,dim)\n",
        "            vocab[\"__PADDING__\"] = 0\n",
        "            vocab[\"__UNK__\"] = 1\n",
        "            idx = 2\n",
        "        else:\n",
        "            vocab[line[0]] = idx\n",
        "            emb = np.array(line[1:]).astype(np.float)\n",
        "            if (emb.shape[0] == dim):\n",
        "                vecs[idx,:] = emb  # Embeddings are saved in an numpy array vecs\n",
        "                idx+=1\n",
        "            else:\n",
        "                continue\n",
        "\n",
        "    # Serialize vocab & embeddings\n",
        "    pickle.dump(vocab,open(\"/content/gdrive/My Drive/fasttext_voc.pkl\" ,'wb'))\n",
        "    np.save(\"/content/gdrive/My Drive/fasttext.npy\",vecs)\n",
        "    \n",
        "    # Free ram\n",
        "    vecs = None\n",
        "    vocab = None\n",
        "    emb = None\n",
        "    \"\"\""
      ],
      "metadata": {
        "id": "VZN9ddYEurlH",
        "colab": {
          "base_uri": "https://localhost:8080/",
          "height": 123
        },
        "outputId": "151749ab-3f68-4ccf-8a4d-d20366bda374"
      },
      "execution_count": null,
      "outputs": [
        {
          "output_type": "execute_result",
          "data": {
            "text/plain": [
              "'\\nimport pickle\\nimport numpy as np\\n\\nidx = 0\\nvocab = {}\\n# Save embeddings to numpy array (vocab_size x dimensions)\\n# We manually add 2 special tokens (for padding & unknown words)\\nwith open(\"cc.en.300.vec\", \\'r\\', encoding=\"utf-8\", newline=\\'\\n\\',errors=\\'ignore\\') as f:\\n    for l in f:\\n        line = l.rstrip().split(\\' \\')\\n        if idx == 0:\\n            vocab_size = int(line[0]) + 2\\n            dim = int(line[1])\\n            vecs = np.zeros(vocab_size*dim).reshape(vocab_size,dim)\\n            vocab[\"__PADDING__\"] = 0\\n            vocab[\"__UNK__\"] = 1\\n            idx = 2\\n        else:\\n            vocab[line[0]] = idx\\n            emb = np.array(line[1:]).astype(np.float)\\n            if (emb.shape[0] == dim):\\n                vecs[idx,:] = emb  # Embeddings are saved in an numpy array vecs\\n                idx+=1\\n            else:\\n                continue\\n\\n    # Serialize vocab & embeddings\\n    pickle.dump(vocab,open(\"/content/gdrive/My Drive/fasttext_voc.pkl\" ,\\'wb\\'))\\n    np.save(\"/content/gdrive/My Drive/fasttext.npy\",vecs)\\n    \\n    # Free ram\\n    vecs = None\\n    vocab = None\\n    emb = None\\n    '"
            ],
            "application/vnd.google.colaboratory.intrinsic+json": {
              "type": "string"
            }
          },
          "metadata": {},
          "execution_count": 8
        }
      ]
    },
    {
      "cell_type": "code",
      "source": [
        "# --- Edits the results dataframe, and brings it into the desired format. ---\n",
        "\n",
        "def edit_dataframe(df, area, set_):        \n",
        "    # Edit precision field\n",
        "    df['precision']['World'] = \"{:.2f}%\".format(df['precision']['World'] * 100)\n",
        "    df['precision']['Sports'] = \"{:.2f}%\".format(df['precision']['Sports'] * 100)\n",
        "    df['precision']['Business'] = \"{:.2f}%\".format(df['precision']['Business'] * 100)\n",
        "    df['precision']['Sci/Tech'] = \"{:.2f}%\".format(df['precision']['Sci/Tech'] * 100)\n",
        "    df['precision']['accuracy'] = \"-\"\n",
        "    df['precision']['macro avg'] = \"{:.2f}%\".format(df['precision']['macro avg'] * 100)\n",
        "    df['precision']['weighted avg'] = \"{:.2f}%\".format(df['precision']['weighted avg'] * 100)\n",
        "    \n",
        "    # Edit recall field\n",
        "    df['recall']['World'] = \"{:.2f}%\".format(df['recall']['World'] * 100)\n",
        "    df['recall']['Sports'] = \"{:.2f}%\".format(df['recall']['Sports'] * 100)\n",
        "    df['recall']['Business'] = \"{:.2f}%\".format(df['recall']['Business'] * 100)\n",
        "    df['recall']['Sci/Tech'] = \"{:.2f}%\".format(df['recall']['Sci/Tech'] * 100)\n",
        "    df['recall']['accuracy'] = \"-\"\n",
        "    df['recall']['macro avg'] = \"{:.2f}%\".format(df['recall']['macro avg'] * 100)\n",
        "    df['recall']['weighted avg'] = \"{:.2f}%\".format(df['recall']['weighted avg'] * 100)\n",
        "    \n",
        "    # Edit f1-score field\n",
        "    df['f1-score']['World'] = \"{:.2f}%\".format(df['f1-score']['World'] * 100)\n",
        "    df['f1-score']['Sports'] = \"{:.2f}%\".format(df['f1-score']['Sports'] * 100)\n",
        "    df['f1-score']['Business'] = \"{:.2f}%\".format(df['f1-score']['Business'] * 100)\n",
        "    df['f1-score']['Sci/Tech'] = \"{:.2f}%\".format(df['f1-score']['Sci/Tech'] * 100)\n",
        "    df['f1-score']['accuracy'] = \"-\"\n",
        "    df['f1-score']['macro avg'] = \"{:.2f}%\".format(df['f1-score']['macro avg'] * 100)\n",
        "    df['f1-score']['weighted avg'] = \"{:.2f}%\".format(df['f1-score']['weighted avg'] * 100)\n",
        "\n",
        "\n",
        "    df.insert(3, \"P-R-AUC\", [\"{:.2f}%\".format(area['micro-World'] * 100), \"{:.2f}%\".format(area['micro-Sports'] * 100), \"{:.2f}%\".format(area['micro-Business'] * 100), \"{:.2f}%\".format(area['micro-Sci/Tech'] * 100), \"-\", \"-\", \"-\"], True)\n",
        "    \n",
        "    # Edit support field\n",
        "    df['support'] = df['support'].astype(int)\n",
        "    \n",
        "    # Rename the columns\n",
        "    df = df.rename(columns={'support': 'Number of instances'})\n",
        "    df = df.rename(columns={'precision': 'Precision'})\n",
        "    df = df.rename(columns={'recall': 'Recall'})\n",
        "    df = df.rename(columns={'f1-score': 'F1-score'})\n",
        "    \n",
        "    # Rename the indexes (rows)\n",
        "    df = df.rename(index={'accuracy': 'Accuracy'})\n",
        "    df = df.rename(index={'macro avg': 'Macro averaged'})\n",
        "    df = df.rename(index={'weighted avg': 'Weighted averaged'})\n",
        "    \n",
        "    # Finally, add a fancy title to our dataframe\n",
        "    df = df.style.set_caption(\"Results occured across \" + set_ + \" data\")\n",
        "\n",
        "    # Return the new dataframe\n",
        "    return df"
      ],
      "metadata": {
        "id": "lUl_27lZQem7"
      },
      "execution_count": null,
      "outputs": []
    },
    {
      "cell_type": "markdown",
      "source": [
        "Load the embeddings and the mapping dictionary from my Google Drive"
      ],
      "metadata": {
        "id": "GNtXKQ5r6j9x"
      }
    },
    {
      "cell_type": "code",
      "source": [
        "import pickle\n",
        "import numpy as np\n",
        "\n",
        "fasttext_embed = np.load(\"/content/gdrive/My Drive/fasttext.npy\")\n",
        "fasttext_word_to_index = pickle.load(open(\"/content/gdrive/My Drive/fasttext_voc.pkl\", 'rb'))"
      ],
      "metadata": {
        "id": "BhZQGTGuurnj"
      },
      "execution_count": null,
      "outputs": []
    },
    {
      "cell_type": "code",
      "source": [
        "from datasets import load_dataset\n",
        "\n",
        "# Load the dataset from the hugging face. For more information, please visit: https://huggingface.co/datasets/ag_news\n",
        "dataset = load_dataset(\"ag_news\")"
      ],
      "metadata": {
        "id": "mW2DFOxXurqa",
        "colab": {
          "base_uri": "https://localhost:8080/",
          "height": 296,
          "referenced_widgets": [
            "11fdb5aaf6064c9098645bf0094f0a95",
            "649485f02d5443bbb1de312e337b1432",
            "43f5ac90e5e44b80abaf65e5c722097c",
            "68bf4e1c9ad24010b174c2ec93aa125b",
            "ba8283cdd2184a139c462a63008558d4",
            "811c878fbd3f465cbb12b6f212b91200",
            "0f2e3b1c4a224704a47965bbd33dc262",
            "3be0033cfc894effa0253f34a7f17db6",
            "a6c4dec8b7a9442daf91d7855861cd8c",
            "2b4f1e865a3d433eb46882218f7e4374",
            "feb0b461def34cbb86cccb62cdae5921",
            "76bd49bf6f374888b2da40f11b70751d",
            "3a07f46732dd43b78ea9a9a7e0a0e014",
            "c91c3e64cdbb4293ab1cfc74fc918481",
            "7847f37516b34b76abbea57e8b1cfa42",
            "604df120699c4e22928221821086f748",
            "d4bf191a5799464ba09e760742bd1c4a",
            "e0dd2218a01d4fd4bc4dcb897bcbe87a",
            "996446e8f44c44b7bbbffdc95654a918",
            "20b46670c5984e32937a5c7efba10037",
            "28bf04a1832d4ea297aae96b9c51f7dd",
            "b4ab1cca41f942e49cbcc6198891cb26",
            "9b0562c90fde44dfbc14122457088f86",
            "0056cad83a474c4cb48e31ac054d9c17",
            "f60b4886822c409aab6c94ccc353b418",
            "93757854fc8f4af281e0fd9877456f95",
            "d0d5ded42b44435d8b716ce62ecfdf54",
            "d9e1e70b8f894374a40a1d4fb6b9b216",
            "ef5f79b94b3644ef8160e5fe6e7a758f",
            "7fc28500b3b04a05a8331119c71ceeb8",
            "a45f041ed32b431aa90b6bb19811479e",
            "a627066ab9da45df8c226d4fd84fff56",
            "19b577f1ba0744399927b636bc784948",
            "cc6d86fe91c445bc82631007bd6e1fb0",
            "a95537bd49c741a499c03c21ff319e97",
            "32601cd2072f4a5babd83842bbdddc61",
            "b1accdbff03447e4bc2194b1410e2a34",
            "f76128797fee44159f7ba4a598008671",
            "04ed6b7c9fa04dee8244af5848260bf8",
            "42cc092682084c9dbc3e0f3af44ec7fe",
            "f04e086b546a498c8bbea8bec26fd8a7",
            "dcec052117b24575ba4b028dfe38c63a",
            "41fe1b6a8b7e4d3ebb2d80368d236a93",
            "a9cf2e5b1b3c4c4f9936773db83aec9a",
            "d8d90ab384db42d2bca02087843187bf",
            "d24d7402f9dc48a782086bb60e3c0275",
            "d9c711fe30d940a9ac1589ec710c9e83",
            "744fb1ef8d944e1b967939fafe83b500",
            "a9dd31641fa24455b064dfb75848cf60",
            "21eaa55527774877aa069f83fcd39b58",
            "1c52c03d5cd7463c8f7caa1b34213878",
            "79c020b0f8ce4d50bcf3b83584ddc681",
            "c70f8c749ec147f3b8f1083879d3c156",
            "f265a654d30545a296cb939573b5d419",
            "50e46a06de514cbbb1ac3a7356e4e3fb",
            "285075c3c76c4c0ebf3cc54e822192a6",
            "29fd144ef0b243168aa6343871786ac9",
            "aef753894df94b6db85dac9f467717d8",
            "04f850bfc298462a8059423e9d8e957d",
            "8173f20925eb478bb50f9688f32ff5be",
            "85c319e5f5aa413194617a36a3869a80",
            "53092620f51d4f1284124dfc6dbf33a3",
            "af9c53463cec4c2dadb8f73d4f9fcc81",
            "c68ae7231a8e46cc8fd25b9b9a389629",
            "dbc4bd523baf492fbee9e7fc50c6238e",
            "638254ad9ea341d9b8764eb40833e978",
            "bdc3ae8c6b124d84b9e268a3c2102612",
            "bbd367f2e264491a9af72c6ae582c786",
            "f99e620f86184c21b9fdfeb2d374413a",
            "03ce91efb7294640b8adc61f58ab3158",
            "5c1c7be990064a67abadc4828978bbe9",
            "dbb7f114fe184fefa923d0657f49dbda",
            "98ea0bc15e61429293a50a0efdd8fa8c",
            "bbb7ea0d40ac46fd85dca9d605a5c93a",
            "ace6016cba1046e6b2f3a136aed04849",
            "0d7cbbac63b94634a8533693062373a2",
            "b7a9fb4403034f62af3fbfdee1839506",
            "a94c38fa4dd3487988b143dc7dc6a7ae",
            "5683dedd9ac74b5c8aed56b458b1b4a8",
            "52efd221cd6b4de8853ae2d9e198e471",
            "2688b3895d594428936a39ea241b3713",
            "440569ee69fa41478fd1bfcad4b41542",
            "8ce6f4d0d7f44d1ba6d7854db5d3fdbb",
            "9b2457b1848c43acbd72de159ef7c148",
            "48576578f02240c28e10fa61f6686b20",
            "db525d4e07274f1ca3e2d2e9e7ad48b6",
            "247ca7ecef74499ab4c711f1d80693d1",
            "8646cbca43b14cddad9a8fe397ec1744"
          ]
        },
        "outputId": "b60dfb9c-375a-4537-9d65-113396ef69ee"
      },
      "execution_count": null,
      "outputs": [
        {
          "output_type": "display_data",
          "data": {
            "text/plain": [
              "Downloading builder script:   0%|          | 0.00/4.06k [00:00<?, ?B/s]"
            ],
            "application/vnd.jupyter.widget-view+json": {
              "version_major": 2,
              "version_minor": 0,
              "model_id": "11fdb5aaf6064c9098645bf0094f0a95"
            }
          },
          "metadata": {}
        },
        {
          "output_type": "display_data",
          "data": {
            "text/plain": [
              "Downloading metadata:   0%|          | 0.00/2.65k [00:00<?, ?B/s]"
            ],
            "application/vnd.jupyter.widget-view+json": {
              "version_major": 2,
              "version_minor": 0,
              "model_id": "76bd49bf6f374888b2da40f11b70751d"
            }
          },
          "metadata": {}
        },
        {
          "output_type": "display_data",
          "data": {
            "text/plain": [
              "Downloading readme:   0%|          | 0.00/7.94k [00:00<?, ?B/s]"
            ],
            "application/vnd.jupyter.widget-view+json": {
              "version_major": 2,
              "version_minor": 0,
              "model_id": "9b0562c90fde44dfbc14122457088f86"
            }
          },
          "metadata": {}
        },
        {
          "output_type": "stream",
          "name": "stdout",
          "text": [
            "Downloading and preparing dataset ag_news/default to /root/.cache/huggingface/datasets/ag_news/default/0.0.0/bc2bcb40336ace1a0374767fc29bb0296cdaf8a6da7298436239c54d79180548...\n"
          ]
        },
        {
          "output_type": "display_data",
          "data": {
            "text/plain": [
              "Downloading data:   0%|          | 0.00/11.0M [00:00<?, ?B/s]"
            ],
            "application/vnd.jupyter.widget-view+json": {
              "version_major": 2,
              "version_minor": 0,
              "model_id": "cc6d86fe91c445bc82631007bd6e1fb0"
            }
          },
          "metadata": {}
        },
        {
          "output_type": "display_data",
          "data": {
            "text/plain": [
              "Downloading data:   0%|          | 0.00/751k [00:00<?, ?B/s]"
            ],
            "application/vnd.jupyter.widget-view+json": {
              "version_major": 2,
              "version_minor": 0,
              "model_id": "d8d90ab384db42d2bca02087843187bf"
            }
          },
          "metadata": {}
        },
        {
          "output_type": "display_data",
          "data": {
            "text/plain": [
              "Generating train split:   0%|          | 0/120000 [00:00<?, ? examples/s]"
            ],
            "application/vnd.jupyter.widget-view+json": {
              "version_major": 2,
              "version_minor": 0,
              "model_id": "285075c3c76c4c0ebf3cc54e822192a6"
            }
          },
          "metadata": {}
        },
        {
          "output_type": "display_data",
          "data": {
            "text/plain": [
              "Generating test split:   0%|          | 0/7600 [00:00<?, ? examples/s]"
            ],
            "application/vnd.jupyter.widget-view+json": {
              "version_major": 2,
              "version_minor": 0,
              "model_id": "bdc3ae8c6b124d84b9e268a3c2102612"
            }
          },
          "metadata": {}
        },
        {
          "output_type": "stream",
          "name": "stdout",
          "text": [
            "Dataset ag_news downloaded and prepared to /root/.cache/huggingface/datasets/ag_news/default/0.0.0/bc2bcb40336ace1a0374767fc29bb0296cdaf8a6da7298436239c54d79180548. Subsequent calls will reuse this data.\n"
          ]
        },
        {
          "output_type": "display_data",
          "data": {
            "text/plain": [
              "  0%|          | 0/2 [00:00<?, ?it/s]"
            ],
            "application/vnd.jupyter.widget-view+json": {
              "version_major": 2,
              "version_minor": 0,
              "model_id": "a94c38fa4dd3487988b143dc7dc6a7ae"
            }
          },
          "metadata": {}
        }
      ]
    },
    {
      "cell_type": "markdown",
      "metadata": {
        "id": "JwuTj8K4jMoU"
      },
      "source": [
        "# ***Split the dataset into train, dev, test subsets.***"
      ]
    },
    {
      "cell_type": "code",
      "source": [
        "# Instance numbers\n",
        "NUMBER_OF_TRAIN_INSTANCES_TO_KEEP = 12000\n",
        "NUMBER_OF_DEV_INSTANCES_TO_KEEP = 4000\n",
        "NUMBER_OF_TEST_INSTANCES_TO_KEEP = 2500"
      ],
      "metadata": {
        "id": "zKWp3DzHursx"
      },
      "execution_count": null,
      "outputs": []
    },
    {
      "cell_type": "code",
      "source": [
        "# Number of best TF-IDF features to keep\n",
        "NUMBER_OF_FEATURES_TO_KEEP = 500"
      ],
      "metadata": {
        "id": "prwsWzAy9HsA"
      },
      "execution_count": null,
      "outputs": []
    },
    {
      "cell_type": "code",
      "source": [
        "# --- First, move the texts into lists ---\n",
        "\n",
        "train_x = []\n",
        "train_y = []\n",
        "\n",
        "dev_x = []\n",
        "dev_y = []\n",
        "\n",
        "test_x = []\n",
        "test_y = []\n",
        "\n",
        "for x in range(0, NUMBER_OF_TRAIN_INSTANCES_TO_KEEP):\n",
        "    train_x.append(dataset['train'][x]['text'])\n",
        "    train_y.append(dataset['train'][x]['label'])\n",
        "    \n",
        "for x in range(NUMBER_OF_TRAIN_INSTANCES_TO_KEEP, NUMBER_OF_TRAIN_INSTANCES_TO_KEEP + NUMBER_OF_DEV_INSTANCES_TO_KEEP):\n",
        "    dev_x.append(dataset['train'][x]['text'])\n",
        "    dev_y.append(dataset['train'][x]['label'])\n",
        "    \n",
        "for x in range(0, dataset['test'].num_rows):\n",
        "    test_x.append(dataset['test'][x]['text'])\n",
        "    test_y.append(dataset['test'][x]['label'])"
      ],
      "metadata": {
        "id": "yFRYlosP9Kfv"
      },
      "execution_count": null,
      "outputs": []
    },
    {
      "cell_type": "code",
      "source": [
        "import random\n",
        "# Let's showcase some random movie_reviews from the three subsets\n",
        "rand1 = random.randrange(len(train_x))\n",
        "rand2 = random.randrange(len(dev_x))\t\n",
        "rand3 = random.randrange(len(test_x))\t\n",
        "\n",
        "print(\"Random train tweet:\\n{}\".format(train_x[rand1]))\n",
        "print(\"Random train tweet label:\\n{}\".format(train_y[rand1]))\n",
        "print(\"-------------------------------------------------------\")\n",
        "print(\"Random dev tweet:\\n{}\".format(dev_x[rand2]))\n",
        "print(\"Random dev tweet label:\\n{}\".format(dev_y[rand2]))\n",
        "print(\"-------------------------------------------------------\")\n",
        "print(\"Random test tweet:\\n{}\".format(test_x[rand3]))\n",
        "print(\"Random test tweet label:\\n{}\".format(test_y[rand3]))\n",
        "\n",
        "# And let's also take a look on the subsets' length\n",
        "print(\"\\nTrain data length: {}\".format(len(train_x)))\n",
        "print(\"Dev data length: {}\".format(len(dev_x)))\n",
        "print(\"Test data length: {}\".format(len(test_x)))"
      ],
      "metadata": {
        "id": "rAbs4iTz9NeW",
        "colab": {
          "base_uri": "https://localhost:8080/"
        },
        "outputId": "dbe1425c-c8c7-4cab-91fe-5521add32022"
      },
      "execution_count": null,
      "outputs": [
        {
          "output_type": "stream",
          "name": "stdout",
          "text": [
            "Random train tweet:\n",
            "India take seventh place in Olympic hockey (Reuters) Reuters - Former hockey force Pakistan finished the Olympics in fifth place on Friday while Egypt slumped out of the tournament 12th.\n",
            "Random train tweet label:\n",
            "0\n",
            "-------------------------------------------------------\n",
            "Random dev tweet:\n",
            "Irans Saei adds Athens gold to Sydney bronze TEHRAN (MNA) - Sydney bronze medalist Hadi Saei from Iran won the coveted gold of -68kg taekwondo tournament of 2004 Athens Olympic Games Friday.\n",
            "Random dev tweet label:\n",
            "1\n",
            "-------------------------------------------------------\n",
            "Random test tweet:\n",
            "PalmOne Announces Tungsten T5 PalmOne has introduced the new Tungsten T5 PDA. The new Tungsten T5 features 256MB of flash memory, which doesn #39;t lose data when the device loses its charge.\n",
            "Random test tweet label:\n",
            "3\n",
            "\n",
            "Train data length: 12000\n",
            "Dev data length: 4000\n",
            "Test data length: 7600\n"
          ]
        }
      ]
    },
    {
      "cell_type": "markdown",
      "source": [
        "Use spacy for sentence splitting & tokenization"
      ],
      "metadata": {
        "id": "7AEicCbC9Z-K"
      }
    },
    {
      "cell_type": "code",
      "source": [
        "\n",
        "import spacy\n",
        "from spacy.lang.en.stop_words import STOP_WORDS\n",
        "\n",
        "nlp = spacy.load('en_core_web_sm',disable=[\"tagger\", \"parser\",\"ner\"])\n",
        "nlp.add_pipe('sentencizer') \n",
        "\n",
        "def tokenize_samples(samples):\n",
        "  \n",
        "  tokenized_samples = []\n",
        "  for i in range(len(samples)):\n",
        "    doc = nlp(samples[i])  # Tokenize the sample into sentences\n",
        "    tokens = []\n",
        "    for sent in doc.sents:\n",
        "      for tok in sent:  # Iterate through the words of the sentence\n",
        "        if '\\n' in tok.text or \"\\t\" in tok.text or \"--\" in tok.text or \"*\" in tok.text or tok.text.lower() in STOP_WORDS:\n",
        "          continue\n",
        "        if tok.text.strip():  \n",
        "          tokens.append(tok.text.replace('\"',\"'\").strip())\n",
        "    tokenized_samples.append(tokens)\n",
        "\n",
        "  return tokenized_samples\n",
        "\n",
        "X_train_tokenized = tokenize_samples(train_x)\n",
        "X_val_tokenized = tokenize_samples(dev_x)\n",
        "X_test_tokenized = tokenize_samples(test_x)"
      ],
      "metadata": {
        "id": "aPJrguzN9bf-",
        "colab": {
          "base_uri": "https://localhost:8080/",
          "height": 72
        },
        "outputId": "eebe2db8-062e-43da-c18f-8f592f59eb35"
      },
      "execution_count": null,
      "outputs": [
        {
          "output_type": "stream",
          "name": "stderr",
          "text": [
            "/usr/local/lib/python3.8/dist-packages/spacy/pipeline/lemmatizer.py:211: UserWarning: [W108] The rule-based lemmatizer did not find POS annotation for one or more tokens. Check that your pipeline includes components that assign token.pos, typically 'tagger'+'attribute_ruler' or 'morphologizer'.\n",
            "  warnings.warn(Warnings.W108)\n"
          ]
        }
      ]
    },
    {
      "cell_type": "code",
      "source": [
        "import nltk\n",
        "nltk.download('omw-1.4')"
      ],
      "metadata": {
        "id": "wj1Ae8tz_go0",
        "colab": {
          "base_uri": "https://localhost:8080/"
        },
        "outputId": "aa61b41c-8617-4581-ca19-3a5977366ccb"
      },
      "execution_count": null,
      "outputs": [
        {
          "output_type": "stream",
          "name": "stderr",
          "text": [
            "[nltk_data] Downloading package omw-1.4 to /root/nltk_data...\n"
          ]
        },
        {
          "output_type": "execute_result",
          "data": {
            "text/plain": [
              "True"
            ]
          },
          "metadata": {},
          "execution_count": 17
        }
      ]
    },
    {
      "cell_type": "code",
      "source": [
        "# Get mean and std for length on trainning set\n",
        "print('Average length of smples: {:.2f}'.format(np.mean([len(x) for x in X_train_tokenized])))\n",
        "print('Std length of samples: {:.2f}'.format(np.std([len(x) for x in X_train_tokenized])))\n",
        "print('#Samples with length > 70: {} \\n'.format(np.sum([len(x) > 70 for x in X_train_tokenized])))\n",
        "\n",
        "rand_sample = random.randrange(len(train_x))\n",
        "\n",
        "print(\"\\nOriginal review text:\\n{}\".format(train_x[rand_sample]))       # First print the original form of a random review\n",
        "print(\"\\nFiltered review text:\\n{}\".format(X_train_tokenized[rand_sample]))  # Then the filtered version after the text pre-processing loop\n",
        "print(\"\\nLabel:\\n\", train_y[rand_sample])"
      ],
      "metadata": {
        "id": "oO3F0aO79biZ",
        "colab": {
          "base_uri": "https://localhost:8080/"
        },
        "outputId": "714426b8-3ae4-4951-e242-71963c7ebf54"
      },
      "execution_count": null,
      "outputs": [
        {
          "output_type": "stream",
          "name": "stdout",
          "text": [
            "Average length of smples: 31.00\n",
            "Std length of samples: 9.76\n",
            "#Samples with length > 70: 49 \n",
            "\n",
            "\n",
            "Original review text:\n",
            "Lanka claims \\$5m for  #39;cable damages #39; COLOMBO: Sri Lankan authorities tried to seize an Indian ship yesterday and sought \\$5 million in damages, accusing it of breaking the undersea fibre optic cable that connects the tropical island #39;s main Internet links to the rest of the world.\n",
            "\n",
            "Filtered review text:\n",
            "['Lanka', 'claims', '\\\\$5', 'm', '#', '39;cable', 'damages', '#', '39', ';', 'COLOMBO', ':', 'Sri', 'Lankan', 'authorities', 'tried', 'seize', 'Indian', 'ship', 'yesterday', 'sought', '\\\\$5', 'million', 'damages', ',', 'accusing', 'breaking', 'undersea', 'fibre', 'optic', 'cable', 'connects', 'tropical', 'island', '#', '39;s', 'main', 'Internet', 'links', 'rest', 'world', '.']\n",
            "\n",
            "Label:\n",
            " 3\n"
          ]
        }
      ]
    },
    {
      "cell_type": "code",
      "source": [
        "from sklearn.preprocessing import label_binarize\n",
        "\n",
        "y_train_1_hot = label_binarize(train_y, classes=np.arange(4))\n",
        "y_val_1_hot = label_binarize(dev_y, classes=np.arange(4))\n",
        "y_test_1_hot = label_binarize(test_y, classes=np.arange(4))\n",
        "\n",
        "print('y_train_1_hot[0]: {}'.format(y_train_1_hot[0]))\n",
        "print('y_val_1_hot[0]: {}'.format(y_val_1_hot[0]))\n",
        "print('y_test_1_hot[0]: {}'.format(y_test_1_hot[0]))"
      ],
      "metadata": {
        "id": "5cFJWsz39bk4",
        "colab": {
          "base_uri": "https://localhost:8080/"
        },
        "outputId": "6aab10ab-36a1-4574-f87f-92777a445171"
      },
      "execution_count": null,
      "outputs": [
        {
          "output_type": "stream",
          "name": "stdout",
          "text": [
            "y_train_1_hot[0]: [0 0 1 0]\n",
            "y_val_1_hot[0]: [0 0 0 1]\n",
            "y_test_1_hot[0]: [0 0 1 0]\n"
          ]
        }
      ]
    },
    {
      "cell_type": "markdown",
      "source": [
        "**Extracting tf-idf vectors for our baselines**"
      ],
      "metadata": {
        "id": "1DgaCi_VKEle"
      }
    },
    {
      "cell_type": "code",
      "source": [
        "import nltk\n",
        "nltk.download('stopwords')"
      ],
      "metadata": {
        "id": "HWrzfBT2OY6P",
        "colab": {
          "base_uri": "https://localhost:8080/"
        },
        "outputId": "96525460-7dfe-45da-b7a6-7b2352aaf7d1"
      },
      "execution_count": null,
      "outputs": [
        {
          "output_type": "stream",
          "name": "stderr",
          "text": [
            "[nltk_data] Downloading package stopwords to /root/nltk_data...\n",
            "[nltk_data]   Unzipping corpora/stopwords.zip.\n"
          ]
        },
        {
          "output_type": "execute_result",
          "data": {
            "text/plain": [
              "True"
            ]
          },
          "metadata": {},
          "execution_count": 20
        }
      ]
    },
    {
      "cell_type": "code",
      "source": [
        "from sklearn.feature_extraction.text import TfidfVectorizer\n",
        "from nltk.corpus import stopwords\n",
        "\n",
        "# --- Second feature extraction --- \n",
        "# TF-IDF vector, containing the max_features = 8000 best unigrams/bigrams in terms of TF-ID values\n",
        "\n",
        "# Use unigram & bi-gram TF-IDF features\n",
        "tf_idf_vectorizer = TfidfVectorizer(\n",
        "    ngram_range = (1, 2), \n",
        "    max_features = 5000,\n",
        "    # Apply sublinear tf scaling, i.e. replace tf with 1 + log(tf).\n",
        "    sublinear_tf = True, \n",
        "    stop_words = stopwords.words('english'))\n",
        "\n",
        "# Fit Vectorizer on train data\n",
        "# Transform on all data (train - test)\n",
        "x_train_tfidf = tf_idf_vectorizer.fit_transform([\" \".join(x) for x in X_train_tokenized])\n",
        "x_val_tfidf = tf_idf_vectorizer.transform([\" \".join(x) for x in X_val_tokenized])"
      ],
      "metadata": {
        "id": "DaQif-_aKDoo"
      },
      "execution_count": null,
      "outputs": []
    },
    {
      "cell_type": "markdown",
      "source": [
        "#**Baselines**"
      ],
      "metadata": {
        "id": "w8TzBHYFJ1oY"
      }
    },
    {
      "cell_type": "code",
      "source": [
        "from sklearn.dummy import DummyClassifier\n",
        "import time\n",
        "from sklearn.metrics import plot_confusion_matrix\n",
        "# --------------------- (1) Baseline: Dummy Classifier ---------------------\n",
        "\n",
        "# Train the dummy classifier who always predicts the 'most frequent' class\n",
        "baseline = DummyClassifier(strategy='most_frequent')\n",
        "dummy_start_time = time.time()\n",
        "baseline.fit(x_train_tfidf, train_y)\n",
        "dummy_end_time = time.time()\n",
        "\n",
        "\n",
        "# Plot the confussion matrix for the test data\n",
        "print(\"\\nConfusion Matrix for test data:\")\n",
        "plot_confusion_matrix(estimator=baseline, X=x_val_tfidf, y_true = dev_y, values_format = '.0f')"
      ],
      "metadata": {
        "id": "qGmxfpqpJ7pI",
        "colab": {
          "base_uri": "https://localhost:8080/",
          "height": 386
        },
        "outputId": "8b2ef5bd-9d0f-4aa6-a122-730dbcbd988c"
      },
      "execution_count": null,
      "outputs": [
        {
          "output_type": "stream",
          "name": "stdout",
          "text": [
            "\n",
            "Confusion Matrix for test data:\n"
          ]
        },
        {
          "output_type": "stream",
          "name": "stderr",
          "text": [
            "/usr/local/lib/python3.8/dist-packages/sklearn/utils/deprecation.py:87: FutureWarning: Function plot_confusion_matrix is deprecated; Function `plot_confusion_matrix` is deprecated in 1.0 and will be removed in 1.2. Use one of the class methods: ConfusionMatrixDisplay.from_predictions or ConfusionMatrixDisplay.from_estimator.\n",
            "  warnings.warn(msg, category=FutureWarning)\n"
          ]
        },
        {
          "output_type": "execute_result",
          "data": {
            "text/plain": [
              "<sklearn.metrics._plot.confusion_matrix.ConfusionMatrixDisplay at 0x7efd509ee130>"
            ]
          },
          "metadata": {},
          "execution_count": 22
        },
        {
          "output_type": "display_data",
          "data": {
            "text/plain": [
              "<Figure size 432x288 with 2 Axes>"
            ],
            "image/png": "[encoded data removed]"
          },
          "metadata": {
            "needs_background": "light"
          }
        }
      ]
    },
    {
      "cell_type": "code",
      "source": [
        "from sklearn.metrics import precision_recall_curve\n",
        "from sklearn.metrics import average_precision_score\n",
        "from sklearn.metrics import f1_score, recall_score, precision_score, classification_report, precision_recall_curve, auc, roc_auc_score\n",
        "from sklearn.linear_model import LogisticRegression\n",
        "import pandas as pd\n",
        "# --------------------- (2) Logistic Regression ---------------------\n",
        "\n",
        "target_list = [\"World\", \"Sports\", \"Business\", \"Sci/Tech\"]\n",
        "\n",
        "# Train\n",
        "clf = LogisticRegression(solver=\"liblinear\")\n",
        "start_time_lr = time.time()\n",
        "clf.fit(x_train_tfidf, train_y)\n",
        "end_time_lr = time.time()\n",
        "\n",
        "#Evaluate\n",
        "predictions = clf.predict(x_train_tfidf)\n",
        "\n",
        "micro_f1_score_train = f1_score(train_y, predictions, average='micro')\n",
        "macro_f1_score_train = f1_score(train_y, predictions, average='macro')\n",
        "print(\"Train micro f1-score: {:.2f}%\".format(micro_f1_score_train*100))\n",
        "print(\"Train macro f1-score: {:.2f}% \\n\".format(macro_f1_score_train*100))\n",
        "\n",
        "\n",
        "predictions_dev = clf.predict(x_val_tfidf)\n",
        "micro_f1_score_dev = f1_score(dev_y, predictions_dev, average='micro')\n",
        "macro_f1_score_dev = f1_score(dev_y, predictions_dev, average='macro')\n",
        "print(\"Val micro f1-score: {:.2f}%\".format(micro_f1_score_dev*100))\n",
        "print(\"Val macro f1-score: {:.2f}% \\n\".format(macro_f1_score_dev*100))\n",
        "\n",
        "\"\"\"\n",
        "predictions_test = clf.predict(x_test_tfidf)\n",
        "micro_f1_score_test = f1_score(test_y, predictions_test, average='micro')\n",
        "macro_f1_score_test = f1_score(test_y, predictions_test, average='macro')\n",
        "print(\"Test micro f1-score: {:.2f}%\".format(micro_f1_score_test*100))\n",
        "print(\"Test macro f1-score: {:.2f}% \\n\".format(macro_f1_score_test*100))\"\"\"\n",
        "\n",
        "# Plot the confussion matrix for the dev data\n",
        "print(\"\\nConfusion Matrix for dev data:\")\n",
        "plot_confusion_matrix(estimator=clf, X=x_val_tfidf, y_true=dev_y, values_format = '.0f')\n",
        "report_lr_dev = classification_report(dev_y, predictions_dev, target_names=target_list, output_dict=True)\n",
        "\n",
        "pred = clf.predict_proba(x_val_tfidf)\n",
        "# For each class\n",
        "precision = dict()\n",
        "recall = dict()\n",
        "average_precision = dict()\n",
        "area = dict()\n",
        "for i in range(4):\n",
        "    precision[i], recall[i], _ = precision_recall_curve(y_val_1_hot[:, i], pred[:, i])\n",
        "    average_precision[i] = average_precision_score(y_val_1_hot[:, i], pred[:, i])\n",
        "    # A \"micro-average\": quantifying score on each class\n",
        "    category = \"micro-\" + target_list[i]\n",
        "    precision[category], recall[category], _ = precision_recall_curve(\n",
        "    y_val_1_hot[:, i], pred[:, i])\n",
        "    area[category] = auc(recall[category], precision[category])\n",
        "\n",
        "# A \"micro-average\": quantifying score on all classes jointly\n",
        "precision[\"micro\"], recall[\"micro\"], _ = precision_recall_curve(\n",
        "    y_val_1_hot.ravel(), pred.ravel()\n",
        ")\n",
        "area_all = auc(recall['micro'], precision['micro'])\n",
        "# Display the results: Train\n",
        "edit_dataframe(pd.DataFrame(report_lr_dev).transpose(), area, 'dev')"
      ],
      "metadata": {
        "id": "wL9C5wV9Jz81",
        "colab": {
          "base_uri": "https://localhost:8080/",
          "height": 1000
        },
        "outputId": "f15814eb-9819-48a3-d538-2d939669669f"
      },
      "execution_count": null,
      "outputs": [
        {
          "output_type": "stream",
          "name": "stdout",
          "text": [
            "Train micro f1-score: 92.79%\n",
            "Train macro f1-score: 92.82% \n",
            "\n",
            "Val micro f1-score: 88.48%\n",
            "Val macro f1-score: 87.90% \n",
            "\n",
            "\n",
            "Confusion Matrix for dev data:\n"
          ]
        },
        {
          "output_type": "stream",
          "name": "stderr",
          "text": [
            "/usr/local/lib/python3.8/dist-packages/sklearn/utils/deprecation.py:87: FutureWarning: Function plot_confusion_matrix is deprecated; Function `plot_confusion_matrix` is deprecated in 1.0 and will be removed in 1.2. Use one of the class methods: ConfusionMatrixDisplay.from_predictions or ConfusionMatrixDisplay.from_estimator.\n",
            "  warnings.warn(msg, category=FutureWarning)\n",
            "<ipython-input-9-71b51cf9e63b>:14: SettingWithCopyWarning: \n",
            "A value is trying to be set on a copy of a slice from a DataFrame\n",
            "\n",
            "See the caveats in the documentation: https://pandas.pydata.org/pandas-docs/stable/user_guide/indexing.html#returning-a-view-versus-a-copy\n",
            "  df['recall']['World'] = \"{:.2f}%\".format(df['recall']['World'] * 100)\n",
            "/usr/local/lib/python3.8/dist-packages/pandas/core/indexing.py:1732: SettingWithCopyWarning: \n",
            "A value is trying to be set on a copy of a slice from a DataFrame\n",
            "\n",
            "See the caveats in the documentation: https://pandas.pydata.org/pandas-docs/stable/user_guide/indexing.html#returning-a-view-versus-a-copy\n",
            "  self._setitem_single_block(indexer, value, name)\n",
            "<ipython-input-9-71b51cf9e63b>:23: SettingWithCopyWarning: \n",
            "A value is trying to be set on a copy of a slice from a DataFrame\n",
            "\n",
            "See the caveats in the documentation: https://pandas.pydata.org/pandas-docs/stable/user_guide/indexing.html#returning-a-view-versus-a-copy\n",
            "  df['f1-score']['World'] = \"{:.2f}%\".format(df['f1-score']['World'] * 100)\n"
          ]
        },
        {
          "output_type": "execute_result",
          "data": {
            "text/plain": [
              "<pandas.io.formats.style.Styler at 0x7efd4f746190>"
            ],
            "text/html": [
              "<style type=\"text/css\">\n",
              "</style>\n",
              "<table id=\"T_de17d_\" class=\"dataframe\">\n",
              "  <caption>Results occured across dev data</caption>\n",
              "  <thead>\n",
              "    <tr>\n",
              "      <th class=\"blank level0\" >&nbsp;</th>\n",
              "      <th class=\"col_heading level0 col0\" >Precision</th>\n",
              "      <th class=\"col_heading level0 col1\" >Recall</th>\n",
              "      <th class=\"col_heading level0 col2\" >F1-score</th>\n",
              "      <th class=\"col_heading level0 col3\" >P-R-AUC</th>\n",
              "      <th class=\"col_heading level0 col4\" >Number of instances</th>\n",
              "    </tr>\n",
              "  </thead>\n",
              "  <tbody>\n",
              "    <tr>\n",
              "      <th id=\"T_de17d_level0_row0\" class=\"row_heading level0 row0\" >World</th>\n",
              "      <td id=\"T_de17d_row0_col0\" class=\"data row0 col0\" >86.80%</td>\n",
              "      <td id=\"T_de17d_row0_col1\" class=\"data row0 col1\" >87.64%</td>\n",
              "      <td id=\"T_de17d_row0_col2\" class=\"data row0 col2\" >87.22%</td>\n",
              "      <td id=\"T_de17d_row0_col3\" class=\"data row0 col3\" >93.06%</td>\n",
              "      <td id=\"T_de17d_row0_col4\" class=\"data row0 col4\" >1133</td>\n",
              "    </tr>\n",
              "    <tr>\n",
              "      <th id=\"T_de17d_level0_row1\" class=\"row_heading level0 row1\" >Sports</th>\n",
              "      <td id=\"T_de17d_row1_col0\" class=\"data row1 col0\" >94.16%</td>\n",
              "      <td id=\"T_de17d_row1_col1\" class=\"data row1 col1\" >95.74%</td>\n",
              "      <td id=\"T_de17d_row1_col2\" class=\"data row1 col2\" >94.95%</td>\n",
              "      <td id=\"T_de17d_row1_col3\" class=\"data row1 col3\" >96.29%</td>\n",
              "      <td id=\"T_de17d_row1_col4\" class=\"data row1 col4\" >1128</td>\n",
              "    </tr>\n",
              "    <tr>\n",
              "      <th id=\"T_de17d_level0_row2\" class=\"row_heading level0 row2\" >Business</th>\n",
              "      <td id=\"T_de17d_row2_col0\" class=\"data row2 col0\" >86.46%</td>\n",
              "      <td id=\"T_de17d_row2_col1\" class=\"data row2 col1\" >77.76%</td>\n",
              "      <td id=\"T_de17d_row2_col2\" class=\"data row2 col2\" >81.88%</td>\n",
              "      <td id=\"T_de17d_row2_col3\" class=\"data row2 col3\" >86.80%</td>\n",
              "      <td id=\"T_de17d_row2_col4\" class=\"data row2 col4\" >805</td>\n",
              "    </tr>\n",
              "    <tr>\n",
              "      <th id=\"T_de17d_level0_row3\" class=\"row_heading level0 row3\" >Sci/Tech</th>\n",
              "      <td id=\"T_de17d_row3_col0\" class=\"data row3 col0\" >85.28%</td>\n",
              "      <td id=\"T_de17d_row3_col1\" class=\"data row3 col1\" >89.94%</td>\n",
              "      <td id=\"T_de17d_row3_col2\" class=\"data row3 col2\" >87.55%</td>\n",
              "      <td id=\"T_de17d_row3_col3\" class=\"data row3 col3\" >91.62%</td>\n",
              "      <td id=\"T_de17d_row3_col4\" class=\"data row3 col4\" >934</td>\n",
              "    </tr>\n",
              "    <tr>\n",
              "      <th id=\"T_de17d_level0_row4\" class=\"row_heading level0 row4\" >Accuracy</th>\n",
              "      <td id=\"T_de17d_row4_col0\" class=\"data row4 col0\" >-</td>\n",
              "      <td id=\"T_de17d_row4_col1\" class=\"data row4 col1\" >-</td>\n",
              "      <td id=\"T_de17d_row4_col2\" class=\"data row4 col2\" >-</td>\n",
              "      <td id=\"T_de17d_row4_col3\" class=\"data row4 col3\" >-</td>\n",
              "      <td id=\"T_de17d_row4_col4\" class=\"data row4 col4\" >0</td>\n",
              "    </tr>\n",
              "    <tr>\n",
              "      <th id=\"T_de17d_level0_row5\" class=\"row_heading level0 row5\" >Macro averaged</th>\n",
              "      <td id=\"T_de17d_row5_col0\" class=\"data row5 col0\" >88.18%</td>\n",
              "      <td id=\"T_de17d_row5_col1\" class=\"data row5 col1\" >87.77%</td>\n",
              "      <td id=\"T_de17d_row5_col2\" class=\"data row5 col2\" >87.90%</td>\n",
              "      <td id=\"T_de17d_row5_col3\" class=\"data row5 col3\" >-</td>\n",
              "      <td id=\"T_de17d_row5_col4\" class=\"data row5 col4\" >4000</td>\n",
              "    </tr>\n",
              "    <tr>\n",
              "      <th id=\"T_de17d_level0_row6\" class=\"row_heading level0 row6\" >Weighted averaged</th>\n",
              "      <td id=\"T_de17d_row6_col0\" class=\"data row6 col0\" >88.45%</td>\n",
              "      <td id=\"T_de17d_row6_col1\" class=\"data row6 col1\" >88.48%</td>\n",
              "      <td id=\"T_de17d_row6_col2\" class=\"data row6 col2\" >88.40%</td>\n",
              "      <td id=\"T_de17d_row6_col3\" class=\"data row6 col3\" >-</td>\n",
              "      <td id=\"T_de17d_row6_col4\" class=\"data row6 col4\" >4000</td>\n",
              "    </tr>\n",
              "  </tbody>\n",
              "</table>\n"
            ]
          },
          "metadata": {},
          "execution_count": 23
        },
        {
          "output_type": "display_data",
          "data": {
            "text/plain": [
              "<Figure size 432x288 with 2 Axes>"
            ],
            "image/png": "[encoded data removed]"
          },
          "metadata": {
            "needs_background": "light"
          }
        }
      ]
    },
    {
      "cell_type": "markdown",
      "source": [
        "Custom Keras callback for calculating f1, precision, recall at the end of each epoch"
      ],
      "metadata": {
        "id": "EUV5VTBBFW5a"
      }
    },
    {
      "cell_type": "code",
      "source": [
        "import tensorflow as tf\n",
        "from sklearn.metrics import f1_score, recall_score, precision_score\n",
        "import numpy as np\n",
        "import os\n",
        "\n",
        "\n",
        "class Metrics(tf.keras.callbacks.Callback):\n",
        "    def __init__(self, valid_data):\n",
        "        super(Metrics, self).__init__()\n",
        "        self.validation_data = valid_data\n",
        "\n",
        "    def on_epoch_end(self, epoch, logs=None):\n",
        "        logs = logs or {}\n",
        "        val_predict = np.argmax(self.model.predict(self.validation_data[0]), -1)\n",
        "        val_targ = self.validation_data[1]\n",
        "        if len(val_targ.shape) == 2 and val_targ.shape[1] != 1:\n",
        "            val_targ = np.argmax(val_targ, -1)\n",
        "        val_targ = tf.cast(val_targ,dtype=tf.float32)\n",
        "        \n",
        "\n",
        "        _val_f1 = f1_score(val_targ, val_predict,average=\"weighted\")\n",
        "        _val_recall = recall_score(val_targ, val_predict,average=\"weighted\")\n",
        "        _val_precision = precision_score(val_targ, val_predict,average=\"weighted\")\n",
        "\n",
        "        logs['val_f1'] = _val_f1\n",
        "        logs['val_recall'] = _val_recall\n",
        "        logs['val_precision'] = _val_precision\n",
        "        print(\" — val_f1: %f — val_precision: %f — val_recall: %f\" % (_val_f1, _val_precision, _val_recall))\n",
        "        return"
      ],
      "metadata": {
        "id": "VqHeYoba9bp6"
      },
      "execution_count": null,
      "outputs": []
    },
    {
      "cell_type": "markdown",
      "source": [
        "Tokenize, convert text (sequence of words) to sequence of indexes and PAD the sequences"
      ],
      "metadata": {
        "id": "GKg9N4H6GIsm"
      }
    },
    {
      "cell_type": "code",
      "source": [
        "import tensorflow as tf\n",
        "from tensorflow.keras.preprocessing.text import Tokenizer\n",
        "from tensorflow.keras.preprocessing.sequence import pad_sequences\n",
        "\n",
        "MAX_WORDS = 10000\n",
        "MAX_SEQUENCE_LENGTH = 60\n",
        "EMBEDDING_DIM = fasttext_embed.shape[1]\n",
        "\n",
        "# Init tokenizer\n",
        "tokenizer = Tokenizer(num_words=MAX_WORDS, oov_token='__UNK__')\n",
        "# num_words: the maximum number of words to keep, based on word frequency.\n",
        "# oov_token: will be used to replace OOV WORDS\n",
        "\n",
        "# Fit tokenizer (Updates internal vocabulary based on a list of texts.)\n",
        "tokenizer.fit_on_texts([\" \".join(x) for x in X_train_tokenized])\n",
        "\n",
        "# Converts text to sequences of IDs\n",
        "train_seqs = tokenizer.texts_to_sequences([\" \".join(x) for x in X_train_tokenized])\n",
        "val_seqs = tokenizer.texts_to_sequences([\" \".join(x) for x in X_val_tokenized])\n",
        "test_seqs = tokenizer.texts_to_sequences([\" \".join(x) for x in X_test_tokenized])\n",
        "\n",
        "train_data = pad_sequences(train_seqs, maxlen=MAX_SEQUENCE_LENGTH, padding='post')\n",
        "val_data = pad_sequences(val_seqs, maxlen=MAX_SEQUENCE_LENGTH, padding='post')\n",
        "test_data = pad_sequences(test_seqs, maxlen=MAX_SEQUENCE_LENGTH, padding='post')"
      ],
      "metadata": {
        "id": "qGAP3kcMGJbw"
      },
      "execution_count": null,
      "outputs": []
    },
    {
      "cell_type": "code",
      "source": [
        "\"\"\"import tensorflow_hub as hub\n",
        "import tensorflow.compat.v1 as tf\n",
        "\n",
        "# Load pre trained ELMo model\n",
        "elmo = hub.Module(\"https://tfhub.dev/google/elmo/3\", trainable=True)\n",
        "\n",
        "train_elmo_embeddings = elmo(\n",
        "    [train_seqs],\n",
        "    signature=\"default\",\n",
        "    as_dict=True)[\"elmo\"]\n",
        "\n",
        "val_elmo_embeddings = elmo(\n",
        "    [val_seqs],\n",
        "    signature=\"default\",\n",
        "    as_dict=True)[\"elmo\"]\n",
        "\n",
        "\n",
        "test_elmo_embeddings = elmo(\n",
        "    [test_seqs],\n",
        "    signature=\"default\",\n",
        "    as_dict=True)[\"elmo\"] \"\"\""
      ],
      "metadata": {
        "id": "KZYKdM3H97xW",
        "colab": {
          "base_uri": "https://localhost:8080/",
          "height": 70
        },
        "outputId": "1c1ba852-c170-49f9-a4df-8a9c42fccc21"
      },
      "execution_count": null,
      "outputs": [
        {
          "output_type": "execute_result",
          "data": {
            "text/plain": [
              "'import tensorflow_hub as hub\\nimport tensorflow.compat.v1 as tf\\n\\n# Load pre trained ELMo model\\nelmo = hub.Module(\"https://tfhub.dev/google/elmo/3\", trainable=True)\\n\\ntrain_elmo_embeddings = elmo(\\n    [train_seqs],\\n    signature=\"default\",\\n    as_dict=True)[\"elmo\"]\\n\\nval_elmo_embeddings = elmo(\\n    [val_seqs],\\n    signature=\"default\",\\n    as_dict=True)[\"elmo\"]\\n\\n\\ntest_elmo_embeddings = elmo(\\n    [test_seqs],\\n    signature=\"default\",\\n    as_dict=True)[\"elmo\"] '"
            ],
            "application/vnd.google.colaboratory.intrinsic+json": {
              "type": "string"
            }
          },
          "metadata": {},
          "execution_count": 26
        }
      ]
    },
    {
      "cell_type": "code",
      "source": [
        "word_index = tokenizer.word_index\n",
        "print('Found {} unique tokens.\\n'.format(len(word_index)))\n",
        "\n",
        "print(word_index)"
      ],
      "metadata": {
        "id": "p4g3lm58HN3I",
        "colab": {
          "base_uri": "https://localhost:8080/"
        },
        "outputId": "31b9270c-1c40-467c-cc6d-023d1282a0db"
      },
      "execution_count": null,
      "outputs": [
        {
          "output_type": "stream",
          "name": "stdout",
          "text": [
            "Found 23893 unique tokens.\n",
            "\n",
            "{'__UNK__': 1, 's': 2, '39': 3, 'reuters': 4, 'new': 5, 'said': 6, 'ap': 7, \"'\": 8, 'u': 9, 'gt': 10, 'lt': 11, 'oil': 12, 'athens': 13, 'thursday': 14, 'olympic': 15, 'tuesday': 16, 'year': 17, 'quot': 18, 'wednesday': 19, 'inc': 20, 'gold': 21, 'company': 22, 'monday': 23, 'world': 24, 'prices': 25, '1': 26, 'iraq': 27, 'york': 28, 'a': 29, 'stocks': 30, 'google': 31, '2': 32, 'week': 33, 'million': 34, '3': 35, 'com': 36, 'najaf': 37, 'yesterday': 38, 'second': 39, 'n': 40, 'friday': 41, 'united': 42, 'time': 43, 'government': 44, 'afp': 45, 'medal': 46, 'team': 47, 'says': 48, 'day': 49, 'percent': 50, 'people': 51, 'corp': 52, 'microsoft': 53, 'olympics': 54, 'president': 55, 'internet': 56, 'record': 57, 'night': 58, 'group': 59, 'games': 60, 'software': 61, 'sales': 62, 'market': 63, 'win': 64, 'china': 65, 'american': 66, 'sunday': 67, 'high': 68, 'al': 69, 'aug': 70, 'today': 71, 'security': 72, 'b': 73, 'years': 74, '4': 75, 'court': 76, 'profit': 77, 'home': 78, 'end': 79, 'washington': 80, 'final': 81, 'men': 82, 'states': 83, 'bank': 84, 'service': 85, 'business': 86, 'women': 87, 'minister': 88, 'game': 89, 'shares': 90, 'billion': 91, 'city': 92, 't': 93, '6': 94, 'deal': 95, 'report': 96, 'officials': 97, 'greece': 98, '5': 99, '000': 100, 'set': 101, 'plans': 102, 'stock': 103, 'won': 104, 'public': 105, '7': 106, 'iraqi': 107, 'state': 108, 'talks': 109, 'victory': 110, 'news': 111, 'research': 112, 'target': 113, 'country': 114, 'south': 115, 'quarter': 116, 'international': 117, 'saturday': 118, 'national': 119, 'bush': 120, 'price': 121, 'run': 122, 'hit': 123, 'open': 124, 'announced': 125, '10': 126, '2004': 127, 'reported': 128, 'long': 129, 'growth': 130, 'music': 131, 'windows': 132, 'japan': 133, 'higher': 134, 'according': 135, 'federal': 136, 'web': 137, 'australia': 138, 'investor': 139, 'police': 140, 'online': 141, 'plan': 142, 'month': 143, 'british': 144, 'cleric': 145, 'o': 146, 'killed': 147, 'm': 148, 'largest': 149, 'ticker': 150, 'based': 151, 'www': 152, 'mobile': 153, 'investors': 154, 'companies': 155, 'buy': 156, 'help': 157, 'cut': 158, '100': 159, \"'http\": 160, 'way': 161, 'computer': 162, 'href': 163, 'found': 164, 'major': 165, 'prime': 166, 'expected': 167, 'technology': 168, 'ipo': 169, 'offering': 170, 'data': 171, 'old': 172, 'giant': 173, 'face': 174, 'lead': 175, 'phone': 176, 'wins': 177, 'update': 178, 'military': 179, 'search': 180, 'pay': 181, 'august': 182, 'russian': 183, 'chicago': 184, 'network': 185, 'space': 186, 'fullquote': 187, 'aspx': 188, 'quickinfo': 189, \"fullquote'\": 190, 'season': 191, 'apple': 192, 'biggest': 193, 'big': 194, 'london': 195, '18': 196, 'sadr': 197, '8': 198, 'strong': 199, 'industry': 200, 'co': 201, 'san': 202, 'shrine': 203, 'near': 204, 'crude': 205, 'system': 206, 'rise': 207, 'air': 208, 'firm': 209, 'john': 210, 'latest': 211, '20': 212, 'services': 213, 'rose': 214, 'xp': 215, 'peace': 216, 'official': 217, 'maker': 218, 'attack': 219, 'agreed': 220, 'july': 221, 'half': 222, 'pakistan': 223, '0': 224, 'days': 225, 'earnings': 226, 'rebels': 227, '36': 228, 'darfur': 229, 'league': 230, 'reports': 231, 'leader': 232, 'left': 233, 'ibm': 234, 'round': 235, 'early': 236, 'users': 237, 'phelps': 238, 'man': 239, 'demand': 240, 'war': 241, 'capital': 242, '200': 243, 'party': 244, 'economic': 245, 'share': 246, 'press': 247, 'like': 248, 'the': 249, 'released': 250, 'economy': 251, 'canadian': 252, 'case': 253, 'initial': 254, 'north': 255, 'use': 256, 'kerry': 257, 'india': 258, 'wireless': 259, 'past': 260, 'sudan': 261, 'ahead': 262, 'amp': 263, 'fell': 264, 'nearly': 265, 'months': 266, 'west': 267, 'beat': 268, 'net': 269, 'despite': 270, 'bid': 271, 'work': 272, 'financial': 273, 'including': 274, 'champion': 275, 'fighting': 276, 'street': 277, 'uk': 278, 'michael': 279, 'korea': 280, 'scientists': 281, 'attacks': 282, 'start': 283, 'loss': 284, 'shot': 285, 'wall': 286, 'general': 287, 'chief': 288, 'systems': 289, 'forces': 290, 'costs': 291, 'americans': 292, 'anti': 293, 'fall': 294, 'sports': 295, 'ago': 296, 'race': 297, 'basketball': 298, 'consumer': 299, 'release': 300, 'troops': 301, 'took': 302, 'red': 303, 'video': 304, 'greek': 305, 'profile': 306, 'region': 307, 'nation': 308, 'russia': 309, '9': 310, 'quote': 311, 'power': 312, 'tokyo': 313, 'israeli': 314, 'lower': 315, 'israel': 316, 'little': 317, 'dollar': 318, '19': 319, 'e': 320, 'weeks': 321, '50': 322, 'drop': 323, 'cost': 324, 'hurricane': 325, 'competition': 326, 'results': 327, 'drug': 328, 'free': 329, 'australian': 330, 'p': 331, 'test': 332, 'leading': 333, 'offer': 334, 'pc': 335, 'trial': 336, 'global': 337, 'linux': 338, 'militants': 339, 'commission': 340, 'making': 341, 'called': 342, 'return': 343, 'england': 344, 'nasa': 345, 'britain': 346, 'support': 347, 'strike': 348, 'hamm': 349, 'money': 350, 'shiite': 351, 'to': 352, 'union': 353, 'close': 354, 'opposition': 355, 'contract': 356, 'coach': 357, 'canada': 358, '15': 359, 'mark': 360, 'meter': 361, '12': 362, 'trading': 363, 'held': 364, 'bomb': 365, '17': 366, '11': 367, 'america': 368, 'study': 369, 'francisco': 370, 'charley': 371, 'late': 372, 'cup': 373, 'good': 374, 'researchers': 375, 'key': 376, 'department': 377, '30': 378, 'title': 379, 'claims': 380, 'political': 381, 'line': 382, 'violence': 383, 'energy': 384, 'center': 385, 'sox': 386, 'digital': 387, 'life': 388, 'star': 389, 'fourth': 390, 'rally': 391, 'holy': 392, 'airlines': 393, 'real': 394, 'nations': 395, 'japanese': 396, 'chip': 397, 'retailer': 398, 'charges': 399, 'baghdad': 400, 'seven': 401, 'election': 402, 'networks': 403, 'paul': 404, 'right': 405, 'intel': 406, 'quarterly': 407, 'takes': 408, 'earlier': 409, 'killing': 410, 'trade': 411, 'european': 412, 'source': 413, 'exchange': 414, 'army': 415, 'barrel': 416, 'winning': 417, 'forecast': 418, 'foreign': 419, 'sell': 420, 'away': 421, 'customers': 422, 'low': 423, 'sp2': 424, 'africa': 425, 'rules': 426, 'accused': 427, 'field': 428, 'management': 429, 'play': 430, 'amid': 431, 'un': 432, 'fresh': 433, 'judge': 434, 'homes': 435, 'germany': 436, 'likely': 437, 'small': 438, 'campaign': 439, 'series': 440, 'head': 441, 'gets': 442, 'cuts': 443, 'hp': 444, 'led': 445, 'number': 446, 'version': 447, 'following': 448, 'europe': 449, 'los': 450, 'control': 451, 'meters': 452, 'airways': 453, 'showed': 454, 'rebel': 455, 'taking': 456, 'agency': 457, 'tax': 458, 'health': 459, 'food': 460, 'water': 461, 'file': 462, 'history': 463, 'blue': 464, 'gymnastics': 465, 'militia': 466, 'event': 467, 'angeles': 468, 'fi': 469, 'hits': 470, 'information': 471, 'university': 472, 'terror': 473, 'media': 474, 'far': 475, 'white': 476, 'launch': 477, '25': 478, 'wi': 479, 'player': 480, 'players': 481, 'track': 482, 'running': 483, 'stores': 484, 'executive': 485, 'firms': 486, 'boston': 487, '23': 488, 'lost': 489, 'vote': 490, 'fire': 491, 'hours': 492, '400': 493, 'crisis': 494, 'toronto': 495, 'best': 496, 'product': 497, 'range': 498, 'taiwan': 499, 'site': 500, 'workers': 501, 'soccer': 502, 'store': 503, 'fuel': 504, 'recent': 505, 'server': 506, 'going': 507, 'possible': 508, 'battle': 509, 'charged': 510, 'german': 511, 'place': 512, 'jobs': 513, 'decision': 514, 'debut': 515, 'engine': 516, 'chavez': 517, 'labor': 518, 'southern': 519, 'central': 520, 'legal': 521, 'chips': 522, 'cisco': 523, 'yankees': 524, 'summer': 525, 'cash': 526, 'death': 527, 'font': 528, 'thousands': 529, 'medals': 530, 'wal': 531, 'bronze': 532, 'airline': 533, 'italian': 534, 'reach': 535, 'posted': 536, 'leaders': 537, 'venezuela': 538, 'mart': 539, 'securities': 540, 'seen': 541, 'evidence': 542, 'broadband': 543, 'nepal': 544, 'sharon': 545, 'rival': 546, 'singapore': 547, 'agreement': 548, 'on': 549, 'morning': 550, 'post': 551, 'profits': 552, 'florida': 553, 'times': 554, 'future': 555, 'texas': 556, 'inning': 557, 'radical': 558, 'ended': 559, 'retail': 560, 'size': 561, 'increase': 562, 'arrested': 563, 'markets': 564, 'school': 565, 'saying': 566, 'probe': 567, 'boost': 568, 'tournament': 569, 'silver': 570, 'force': 571, 'grand': 572, '16': 573, 'french': 574, 'tech': 575, 'california': 576, 'leave': 577, 'straight': 578, 'access': 579, 'gains': 580, 'outlook': 581, 'human': 582, 'dead': 583, 'hopes': 584, 'ltd': 585, 'interest': 586, 'car': 587, 'products': 588, 'operating': 589, 'makes': 590, 'mars': 591, 'sharing': 592, 'typhoon': 593, 'baseball': 594, 'double': 595, 'look': 596, 'trying': 597, 'better': 598, 'getting': 599, 'jump': 600, 'investigation': 601, 'marathon': 602, 'authorities': 603, 'western': 604, 'drugs': 605, 'continue': 606, '14': 607, 'ruling': 608, 'action': 609, 'match': 610, 'planet': 611, 'begin': 612, 'terrorism': 613, 'flu': 614, 'find': 615, 'weekend': 616, 'applications': 617, 'williams': 618, 'giants': 619, 'hundreds': 620, 'bangladesh': 621, 'calls': 622, 'sign': 623, 'visit': 624, 'mail': 625, 'sprint': 626, 'football': 627, 'office': 628, 'oracle': 629, 'sun': 630, 'mission': 631, 'northern': 632, 'bird': 633, 'warned': 634, 'unit': 635, 'career': 636, 'gaza': 637, 'nuclear': 638, 'great': 639, '500': 640, 'soldiers': 641, 'sold': 642, 'intelligence': 643, 'presidential': 644, 'african': 645, 'house': 646, '2005': 647, 'cell': 648, '13': 649, 'light': 650, 'fears': 651, 'overtime': 652, 'recall': 653, 'spain': 654, 'ali': 655, 'defense': 656, 'regulators': 657, 'fund': 658, 'offers': 659, 'fight': 660, 'sites': 661, 'job': 662, 'chairman': 663, 'tv': 664, 'chain': 665, 'performance': 666, 'program': 667, 'administration': 668, 'hold': 669, 'heavy': 670, 'television': 671, 'card': 672, 'runs': 673, 'acquire': 674, 'rate': 675, 'bill': 676, 'change': 677, 'concerns': 678, 'analysts': 679, '24': 680, 'finally': 681, 'abu': 682, 'need': 683, 'corporate': 684, 'indian': 685, 'looking': 686, 'went': 687, 'earth': 688, 'stake': 689, 'nortel': 690, 'injured': 691, 'growing': 692, 'democratic': 693, '151': 694, 'pressure': 695, 'began': 696, 'communications': 697, 'gas': 698, 'johnson': 699, 'efforts': 700, 'failed': 701, 'nasdaq': 702, 'minutes': 703, 'got': 704, 'rates': 705, 'hand': 706, 'claim': 707, 'effort': 708, 'championship': 709, 'scandal': 710, 'beijing': 711, 'available': 712, 'auction': 713, 'speed': 714, 'supply': 715, 'tennis': 716, 'conference': 717, 'accounting': 718, 'palestinian': 719, 'sweep': 720, 'helped': 721, 'blockade': 722, 'bankruptcy': 723, 'funds': 724, 'faces': 725, 'gave': 726, 'selling': 727, 'came': 728, 'missing': 729, 'appeal': 730, 'starting': 731, 'equipment': 732, 'piracy': 733, 'doping': 734, 'club': 735, 'pilots': 736, 'manager': 737, 'annual': 738, 'heart': 739, 'pack': 740, 'meet': 741, 'advanced': 742, 'asked': 743, 'told': 744, 'bay': 745, 'devices': 746, 'groups': 747, 'stadium': 748, 'fraud': 749, 'kathmandu': 750, 'realnetworks': 751, 'turn': 752, 'senior': 753, 'chinese': 754, 'sec': 755, 'staff': 756, 'spending': 757, 'planned': 758, 'asia': 759, 'virus': 760, 'revenue': 761, 'jones': 762, 'break': 763, 'sale': 764, 'problems': 765, 'qaeda': 766, 'suspects': 767, 'terrorist': 768, 'calif': 769, 'journalist': 770, 'afghanistan': 771, 'survey': 772, 'hard': 773, 'working': 774, 'development': 775, 'provide': 776, 'filed': 777, 'list': 778, 'launched': 779, 'try': 780, 'law': 781, 'yahoo': 782, 'avoid': 783, 'semiconductor': 784, 'advance': 785, 'flat': 786, 'finals': 787, 'yukos': 788, 'island': 789, 'banks': 790, 'medical': 791, 'ad': 792, 'awaited': 793, 'children': 794, 'reserve': 795, 'suspected': 796, 'wants': 797, 'computers': 798, 'fifth': 799, 'hugo': 800, 'alleged': 801, 'later': 802, 'employees': 803, 'turned': 804, 'lawsuit': 805, 'goes': 806, 'phones': 807, 'young': 808, 'discovered': 809, 'members': 810, 'order': 811, 'rises': 812, 'businesses': 813, 'acquisition': 814, 'board': 815, 'ex': 816, 'opening': 817, 'area': 818, 'signed': 819, 'reached': 820, 'ipod': 821, 'students': 822, 'protest': 823, 'credit': 824, 'rule': 825, 'ready': 826, 'poor': 827, 'town': 828, 'fans': 829, '40': 830, 'outside': 831, 'chance': 832, 'step': 833, 'italy': 834, 'referendum': 835, 'rising': 836, 'holdings': 837, 'bloomberg': 838, 'iran': 839, 'gives': 840, 'france': 841, 'dream': 842, 'come': 843, 'confirmed': 844, 'giving': 845, 'murder': 846, 'continued': 847, 'march': 848, 'arm': 849, 'soon': 850, 'storm': 851, 'fast': 852, 'brazil': 853, 'risk': 854, 'orders': 855, 'spam': 856, 'g': 857, 'meeting': 858, 'comes': 859, 'citing': 860, 'batteries': 861, 'investment': 862, 'leads': 863, 'local': 864, 'experts': 865, 'committee': 866, 'consumers': 867, 'rivals': 868, 'production': 869, 'atlanta': 870, 'sprinters': 871, 'david': 872, \"shi'ite\": 873, 'motorola': 874, 'maoist': 875, 'green': 876, 'main': 877, 'push': 878, 'effect': 879, 'i': 880, 'sent': 881, 'develop': 882, 'sport': 883, 'hospital': 884, 'prison': 885, 'freestyle': 886, 'cubs': 887, 'blow': 888, 'afghan': 889, 'flights': 890, 'd': 891, 'sharply': 892, 'pool': 893, 'kong': 894, 'and': 895, 'science': 896, 'delays': 897, 'woman': 898, 'worth': 899, 'sources': 900, 'color': 901, 'son': 902, 'signs': 903, 'moscow': 904, '49': 905, 'posts': 906, 'issues': 907, 'family': 908, 'attorney': 909, '21': 910, 'homer': 911, 'futures': 912, 'highs': 913, '22': 914, '85': 915, 'exports': 916, 'hope': 917, 'hong': 918, 'project': 919, 'advertising': 920, 'taken': 921, 'review': 922, 'j': 923, 'r': 924, 'athletes': 925, 'relay': 926, 'sydney': 927, 'finish': 928, 'cink': 929, 'muqtada': 930, 'short': 931, 'warning': 932, 'june': 933, 'slow': 934, 'want': 935, 'dutch': 936, 'ancient': 937, 'goog': 938, 'ms': 939, 'stop': 940, 'estimates': 941, 'semifinals': 942, 'charge': 943, 'burundi': 944, 'raised': 945, 'delayed': 946, 'cent': 947, 'falls': 948, 'conflict': 949, 'process': 950, 'nfl': 951, 'losing': 952, 'standards': 953, 'fired': 954, 'boeing': 955, 'depot': 956, 'continues': 957, 'enterprise': 958, 'average': 959, 'challenge': 960, 'individual': 961, 'content': 962, 'ads': 963, 'pro': 964, 'rights': 965, 'host': 966, 'carter': 967, 'losses': 968, 'kill': 969, 'islamabad': 970, 'carrier': 971, 'justice': 972, 'gatlin': 973, 'dropped': 974, 'term': 975, 'build': 976, 'known': 977, 'flight': 978, 'sea': 979, 'c': 980, 'add': 981, 'lose': 982, 'changes': 983, 'euro': 984, 'vodafone': 985, 'appeals': 986, 'radcliffe': 987, 'worries': 988, 'planning': 989, 'electronic': 990, 'personal': 991, 'struck': 992, 'edge': 993, 'millions': 994, 'potential': 995, 'of': 996, 'threat': 997, 'heat': 998, 'published': 999, 'issued': 1000, 'concern': 1001, 'body': 1002, '47': 1003, 'newsfactor': 1004, 'karzai': 1005, 'plot': 1006, 'ghraib': 1007, 'inflation': 1008, 'attempt': 1009, 'radio': 1010, 'given': 1011, 'asian': 1012, 'building': 1013, 'popular': 1014, 'died': 1015, 'vietnam': 1016, 'impact': 1017, 'settle': 1018, 'plane': 1019, 'bring': 1020, 'park': 1021, 'seeking': 1022, 'consecutive': 1023, 'rest': 1024, 'debt': 1025, 'bombs': 1026, 'copyright': 1027, 'changed': 1028, 'coming': 1029, 'executives': 1030, 'makers': 1031, 'finds': 1032, 'crash': 1033, 'facing': 1034, 'ruled': 1035, 'tool': 1036, 'aircraft': 1037, 'buys': 1038, 'watch': 1039, 'linked': 1040, 'voip': 1041, 'airport': 1042, 'provider': 1043, 'finance': 1044, 'pm': 1045, 'points': 1046, 'suspended': 1047, 'innings': 1048, 'seconds': 1049, 'champions': 1050, 'wounded': 1051, 'nikkei': 1052, 'spokesman': 1053, 'ariel': 1054, 'bad': 1055, 'success': 1056, 'thought': 1057, 'complete': 1058, 'wo': 1059, 'developed': 1060, 'seattle': 1061, 'association': 1062, 'peer': 1063, 'wide': 1064, 'missed': 1065, 'housing': 1066, 'athletics': 1067, 'broke': 1068, 'guantanamo': 1069, 'thatcher': 1070, 'looks': 1071, 'bit': 1072, 'having': 1073, 'let': 1074, 'operator': 1075, 'shows': 1076, 'deals': 1077, 'longer': 1078, 'pair': 1079, 'hour': 1080, 'holding': 1081, 'washingtonpost': 1082, 'progress': 1083, 'closer': 1084, 'ground': 1085, '28': 1086, 'level': 1087, 'bell': 1088, 'gain': 1089, 'palestinians': 1090, 'dozens': 1091, 'fischer': 1092, 'warner': 1093, 'paris': 1094, 'hewitt': 1095, 'mortgage': 1096, 'abbey': 1097, 'private': 1098, 'talk': 1099, 'huge': 1100, 'figures': 1101, 'aid': 1102, 'assault': 1103, 'large': 1104, 'hot': 1105, 'philippines': 1106, 'issue': 1107, 'download': 1108, 'stay': 1109, 'pcs': 1110, 'wrong': 1111, 'caused': 1112, 'unveiled': 1113, 'names': 1114, 'in': 1115, 'dispute': 1116, 'sans': 1117, 'single': 1118, 'dollars': 1119, 'allow': 1120, 'spanish': 1121, 'swimming': 1122, 'convention': 1123, 'nokia': 1124, 'st': 1125, 'safety': 1126, 'cause': 1127, 'shell': 1128, 'application': 1129, 'block': 1130, 'davis': 1131, 'usa': 1132, 'saw': 1133, 'received': 1134, 'blast': 1135, 'needs': 1136, 'panel': 1137, '26': 1138, 'session': 1139, 'micro': 1140, 'illegal': 1141, 'boosted': 1142, 'sudanese': 1143, 'roundup': 1144, 'sets': 1145, 'settlement': 1146, 'beating': 1147, 'kenteris': 1148, 'muslim': 1149, 'decided': 1150, 'fiscal': 1151, 'approval': 1152, 'powerbook': 1153, 'nec': 1154, 'sistani': 1155, 'seeks': 1156, 'focus': 1157, '90': 1158, 'republic': 1159, 'electronics': 1160, 'approved': 1161, 'threatened': 1162, 'course': 1163, 'houston': 1164, \"'verdana\": 1165, 'serif': 1166, 'arial': 1167, 'helvetica': 1168, \"666666'\": 1169, 'partners': 1170, 'mixed': 1171, 'operations': 1172, 'deadly': 1173, 'policy': 1174, 'urged': 1175, 'recently': 1176, 'fighters': 1177, 'justin': 1178, 'golf': 1179, 'militiamen': 1180, 'edwards': 1181, 'secretary': 1182, 'republican': 1183, 'jerusalem': 1184, 'camp': 1185, 'stand': 1186, '27': 1187, 'plus': 1188, 'started': 1189, 'recovery': 1190, 'begins': 1191, 'expectations': 1192, 'seek': 1193, 'customer': 1194, 'sees': 1195, 'crowd': 1196, 'generation': 1197, 'statement': 1198, '2003': 1199, 'aimed': 1200, 'protection': 1201, 'java': 1202, 'george': 1203, 'armed': 1204, 'remains': 1205, 'lines': 1206, 'sony': 1207, 'entertainment': 1208, 'clashes': 1209, 'witnesses': 1210, 'zealand': 1211, 'withdraw': 1212, 'islamic': 1213, 'criminal': 1214, 'sex': 1215, 'golden': 1216, 'settlements': 1217, 'imam': 1218, 'black': 1219, 'positive': 1220, 'base': 1221, 'takeover': 1222, 'clear': 1223, 'know': 1224, 'station': 1225, 'stars': 1226, 'rejected': 1227, 'inside': 1228, 'rain': 1229, 'increased': 1230, 'brown': 1231, 'residents': 1232, 'wanted': 1233, 'starts': 1234, 'halliburton': 1235, 'care': 1236, 'features': 1237, 'planes': 1238, 'historic': 1239, 'opened': 1240, 'walk': 1241, 'cable': 1242, 'device': 1243, 'pulled': 1244, 'ninth': 1245, 'programs': 1246, 'cp': 1247, 'sept': 1248, 'ryder': 1249, 'cbs': 1250, 'row': 1251, 'dow': 1252, 'angels': 1253, 'elections': 1254, 'output': 1255, 'refugees': 1256, 'holiday': 1257, 'tests': 1258, 'troubled': 1259, 'paid': 1260, 'agree': 1261, 'developer': 1262, 'massive': 1263, 'species': 1264, 'beach': 1265, 'mass': 1266, 'powerful': 1267, 'able': 1268, 'named': 1269, 'testing': 1270, 'goods': 1271, 'guilty': 1272, 'wrap': 1273, 'designed': 1274, 'twins': 1275, 'finished': 1276, 'numbers': 1277, 'hostage': 1278, 'moqtada': 1279, 'ease': 1280, 'plc': 1281, 'bobby': 1282, 'nyse': 1283, 'soldier': 1284, 'jets': 1285, 'hurdles': 1286, 'banknorth': 1287, 'mutual': 1288, 'drove': 1289, 'warns': 1290, 'plant': 1291, 'coast': 1292, 'movie': 1293, 'upgrade': 1294, 'east': 1295, 'accept': 1296, 'role': 1297, 'spot': 1298, 'malaysia': 1299, 'raising': 1300, 'foot': 1301, 'picture': 1302, 'vs': 1303, 'ends': 1304, 'injury': 1305, 'kills': 1306, 'amateur': 1307, 'ohio': 1308, 'moved': 1309, 'xinhuanet': 1310, 'college': 1311, 'audit': 1312, 'expansion': 1313, 'point': 1314, 'drive': 1315, 'extra': 1316, 'road': 1317, 'rich': 1318, 'send': 1319, 'standard': 1320, 'miles': 1321, 'returned': 1322, 'newspaper': 1323, 'weather': 1324, 'servers': 1325, 'ministry': 1326, 'result': 1327, 'practice': 1328, 'hearing': 1329, 'hoping': 1330, 'relief': 1331, 'leaving': 1332, 'worm': 1333, 'miss': 1334, 'division': 1335, 'demands': 1336, 'mike': 1337, 'nl': 1338, 'telephone': 1339, 'volleyball': 1340, 'ending': 1341, '35': 1342, 'desktop': 1343, 'flash': 1344, 'arafat': 1345, 'foods': 1346, 'magazine': 1347, 'lift': 1348, 'indians': 1349, 'managers': 1350, 'gateway': 1351, 'reporting': 1352, 'middle': 1353, 'problem': 1354, 'teams': 1355, 'current': 1356, 'virtual': 1357, 'breaking': 1358, 'technologies': 1359, 'defending': 1360, 'hurt': 1361, 'offered': 1362, 'kept': 1363, 'stripped': 1364, 'museum': 1365, 'damage': 1366, 'twice': 1367, 'proposal': 1368, 'expects': 1369, 'berlusconi': 1370, 'uprising': 1371, 'chart': 1372, 'jewish': 1373, 'guinea': 1374, 'judges': 1375, 'citigroup': 1376, 'invitational': 1377, 'td': 1378, 'dell': 1379, 'insurance': 1380, 'interview': 1381, 'manufacturing': 1382, 'dvd': 1383, 'events': 1384, 'rare': 1385, 'stem': 1386, 'puts': 1387, 'protect': 1388, 'closed': 1389, 'for': 1390, 'leaves': 1391, 'coalition': 1392, 'pull': 1393, 'appeared': 1394, 'activity': 1395, 'land': 1396, 'training': 1397, 'hollywood': 1398, 'thorpe': 1399, 'eighth': 1400, 'fierce': 1401, 'venezuelan': 1402, 'guard': 1403, 'negotiations': 1404, 'blasts': 1405, 'targets': 1406, 'royal': 1407, 'september': 1408, 'nigeria': 1409, 'mosque': 1410, 'coup': 1411, 'aere': 1412, 'showing': 1413, 'value': 1414, 'detroit': 1415, 'organization': 1416, 'act': 1417, 'score': 1418, 'satellite': 1419, 'previously': 1420, 'check': 1421, 'allows': 1422, 'join': 1423, 'conditions': 1424, 'request': 1425, 'operation': 1426, 'needed': 1427, 'options': 1428, 'confidence': 1429, 'jose': 1430, 'korean': 1431, 'ziff': 1432, 'familiar': 1433, 'everton': 1434, 'cents': 1435, 'victims': 1436, 'related': 1437, 'mw': 1438, 'tri': 1439, 'flying': 1440, 'paula': 1441, 'surged': 1442, 'forbes': 1443, 'total': 1444, 'construction': 1445, 'believe': 1446, 'trouble': 1447, 'silicon': 1448, 'saturn': 1449, 'instead': 1450, 'steps': 1451, 'militant': 1452, 'classic': 1453, 'crawford': 1454, 'briefly': 1455, 'sharp': 1456, 'launches': 1457, 'dallas': 1458, 'homered': 1459, 'eased': 1460, 'prisoners': 1461, 'fastest': 1462, 'rangers': 1463, 'philadelphia': 1464, 'cuba': 1465, 'mets': 1466, 'remained': 1467, 'docomo': 1468, 'arrest': 1469, 'pension': 1470, '67': 1471, 'blair': 1472, 'scored': 1473, '89': 1474, 'abuse': 1475, 'commercial': 1476, 'hewlett': 1477, 'packard': 1478, 'grew': 1479, 'brought': 1480, 'gartner': 1481, 'beats': 1482, 'aol': 1483, 'form': 1484, 'eyes': 1485, 'equatorial': 1486, 'ran': 1487, 'create': 1488, 'supplies': 1489, 'surgery': 1490, 'ordered': 1491, 'failure': 1492, 'pope': 1493, 'mac': 1494, 'singh': 1495, 'dodgers': 1496, 'goal': 1497, 'sixth': 1498, 'tanks': 1499, 'shift': 1500, 'stewart': 1501, 'decline': 1502, 'bombing': 1503, 'producer': 1504, 'slashed': 1505, 'metres': 1506, 'disarm': 1507, 'patterson': 1508, 'rouse': 1509, '46': 1510, 'allegedly': 1511, 'songs': 1512, 'view': 1513, 'wild': 1514, 'robot': 1515, 'prosecutors': 1516, 'el': 1517, 'upset': 1518, 'helps': 1519, 'completed': 1520, 'border': 1521, 'amd': 1522, 'proposed': 1523, 'improve': 1524, 'index': 1525, 'amazon': 1526, 'toys': 1527, 'tour': 1528, 'georgian': 1529, 'director': 1530, 'officer': 1531, 'eu': 1532, 'kreme': 1533, 'quarterback': 1534, 'pakistani': 1535, 'benefits': 1536, 'anticipated': 1537, 'exploded': 1538, 'bringing': 1539, 'positions': 1540, 'fish': 1541, 'appears': 1542, 'spacecraft': 1543, 'connections': 1544, 'interim': 1545, 'announce': 1546, 'renewed': 1547, 'sky': 1548, 'separate': 1549, 'peak': 1550, 'daily': 1551, 'tools': 1552, 'adds': 1553, 'jumped': 1554, 'banking': 1555, 'super': 1556, 'integration': 1557, 'ian': 1558, 'defeat': 1559, 'bonds': 1560, 'bryant': 1561, 'arsenal': 1562, 'nationwide': 1563, 'hockey': 1564, 'struggling': 1565, 'kmart': 1566, 'lay': 1567, 'attacked': 1568, 'krispy': 1569, 'crashed': 1570, 'gasoline': 1571, 'commerce': 1572, 'falling': 1573, 'santander': 1574, 'cube': 1575, 'records': 1576, 'slightly': 1577, '70': 1578, 'disease': 1579, 'weapons': 1580, 'ban': 1581, 'class': 1582, 'image': 1583, 'things': 1584, 'owners': 1585, 'filing': 1586, 'developing': 1587, '48': 1588, 'raise': 1589, 'overnight': 1590, 'shooting': 1591, 'common': 1592, 'moving': 1593, 'calling': 1594, 'works': 1595, 'embassy': 1596, 'extension': 1597, 'special': 1598, 'travel': 1599, 'october': 1600, 'debate': 1601, 'countries': 1602, 'professional': 1603, 'backed': 1604, 'minnesota': 1605, 'setting': 1606, 'stage': 1607, 'played': 1608, '31': 1609, 'woods': 1610, 'playing': 1611, 'urges': 1612, 'remain': 1613, 'village': 1614, 'art': 1615, 'agencies': 1616, 'sought': 1617, 'toll': 1618, 'period': 1619, 'forward': 1620, 'preliminary': 1621, 'chess': 1622, 'person': 1623, 'crackdown': 1624, 'montreal': 1625, 'inch': 1626, 'father': 1627, 'bhp': 1628, 'netscape': 1629, 'qantas': 1630, 'liable': 1631, 'grenade': 1632, 'buying': 1633, 'marketing': 1634, 'minute': 1635, 'spent': 1636, 'steve': 1637, 'income': 1638, 'surprise': 1639, 'shuttle': 1640, 'solar': 1641, 'nt': 1642, 'catch': 1643, 'congo': 1644, 'probably': 1645, 'terrorists': 1646, 'fear': 1647, 'poll': 1648, 'venture': 1649, 'community': 1650, 'distance': 1651, 'levels': 1652, 'vonage': 1653, 'driven': 1654, 'traffic': 1655, '51': 1656, 'created': 1657, 'diego': 1658, 'crime': 1659, 'softball': 1660, 'massacre': 1661, 'arrived': 1662, 'jury': 1663, 'delegation': 1664, 'winner': 1665, 'supreme': 1666, 'madrid': 1667, 'shopping': 1668, 'yen': 1669, 'mice': 1670, 'highly': 1671, 'think': 1672, 'playboy': 1673, 'distribution': 1674, 'tough': 1675, 'tom': 1676, 'lot': 1677, 'tiny': 1678, 'delay': 1679, 'display': 1680, 'save': 1681, 'x': 1682, 'question': 1683, 'wait': 1684, 'sending': 1685, 'appear': 1686, 'baltimore': 1687, 'budget': 1688, 'deep': 1689, 'qualifying': 1690, 'tie': 1691, 'cutting': 1692, 'gardner': 1693, 'ceo': 1694, 'raises': 1695, 'claimed': 1696, 'cross': 1697, 'live': 1698, 'helping': 1699, 'cleveland': 1700, 'pga': 1701, 'ossetia': 1702, 'wounding': 1703, 'pick': 1704, 'georgia': 1705, 'updates': 1706, 'pace': 1707, 'jays': 1708, 'mid': 1709, 'train': 1710, 'religious': 1711, 'info': 1712, 'pitched': 1713, 'helicopter': 1714, 'materials': 1715, '800': 1716, 'putin': 1717, 'shi': 1718, 'don': 1719, 'astros': 1720, 'soaring': 1721, 'fed': 1722, 'style': 1723, 'faced': 1724, 'added': 1725, 'allowed': 1726, 'code': 1727, 'disaster': 1728, 'ship': 1729, 'telescope': 1730, 'diving': 1731, 'headed': 1732, 'response': 1733, 'ties': 1734, 'democracy': 1735, 'hands': 1736, 'sap': 1737, 'owner': 1738, 'moves': 1739, 'ask': 1740, 'room': 1741, 'phishing': 1742, 'files': 1743, 'flaws': 1744, 'design': 1745, 'braves': 1746, 'pushed': 1747, 'hungary': 1748, 'shareholders': 1749, 'defensive': 1750, 'sanctions': 1751, 'ba': 1752, 'industrial': 1753, 'merger': 1754, 'jobless': 1755, 'lack': 1756, 'artisan': 1757, 'thanks': 1758, 'regional': 1759, 'screen': 1760, 'areas': 1761, 'mexico': 1762, 'browser': 1763, 'faster': 1764, 'member': 1765, 'extend': 1766, 'fla': 1767, 'afternoon': 1768, 'lives': 1769, 'tell': 1770, 'ip': 1771, 'patch': 1772, '64': 1773, 'unveils': 1774, 'broken': 1775, 'vendor': 1776, 'evening': 1777, 'supporters': 1778, 'hotel': 1779, 'position': 1780, 'thanou': 1781, 'kansas': 1782, 'holes': 1783, 'revered': 1784, 'semi': 1785, 'denied': 1786, 'waiting': 1787, 'matter': 1788, 'jack': 1789, 'improved': 1790, '2000': 1791, 'suicide': 1792, 'qaida': 1793, 'ratings': 1794, 'speech': 1795, 'shipments': 1796, 'federer': 1797, 'doubled': 1798, 'ayatollah': 1799, 'rooney': 1800, 'straw': 1801, 'cool': 1802, 'disappointing': 1803, 'attention': 1804, 'releases': 1805, 'prove': 1806, '60': 1807, 'previous': 1808, 'feet': 1809, 'putting': 1810, 'secure': 1811, 'joint': 1812, 'moore': 1813, 'sure': 1814, 'authority': 1815, 'senate': 1816, 'critical': 1817, 'settles': 1818, 'eye': 1819, 'alert': 1820, 'deadline': 1821, 'loses': 1822, 'downloads': 1823, 'halt': 1824, 'tried': 1825, 'scoring': 1826, 'easy': 1827, 'ottawa': 1828, 'au': 1829, 'remote': 1830, 'pitcher': 1831, 'streak': 1832, 'hall': 1833, 'highest': 1834, 'rejects': 1835, 'auto': 1836, 'sri': 1837, 'declared': 1838, 'traders': 1839, 'tony': 1840, 'andre': 1841, 'bought': 1842, 'captain': 1843, 'suit': 1844, 'restructuring': 1845, 'moons': 1846, 'watched': 1847, 'district': 1848, 'forecasts': 1849, 'loyal': 1850, 'macromedia': 1851, 'taxes': 1852, 'solid': 1853, 'platform': 1854, 'olympia': 1855, 'l': 1856, 'passengers': 1857, 'medley': 1858, 'munch': 1859, 'draw': 1860, 'keeps': 1861, 'domestic': 1862, 'factories': 1863, 'age': 1864, 'channel': 1865, 'edition': 1866, 'enter': 1867, 'it': 1868, 'expand': 1869, 'explosion': 1870, 'expect': 1871, 'crashes': 1872, 'van': 1873, 'cassini': 1874, 'story': 1875, 'bin': 1876, 'quickly': 1877, 'film': 1878, 'antitrust': 1879, 'certain': 1880, 'virgin': 1881, 'analysis': 1882, 'arms': 1883, 'surge': 1884, 'gear': 1885, 'met': 1886, 'itunes': 1887, 'laws': 1888, 'living': 1889, 'cards': 1890, 'seventh': 1891, 'sued': 1892, 'kidnapped': 1893, 'miami': 1894, 'kobe': 1895, 'premier': 1896, 'bills': 1897, 'marks': 1898, 'movies': 1899, 'toy': 1900, 'parliament': 1901, 'khartoum': 1902, 'threats': 1903, 'crm': 1904, 'chechnya': 1905, 'immediately': 1906, 'bln': 1907, 'built': 1908, 'treasuries': 1909, 'doubles': 1910, 'strikes': 1911, 'wine': 1912, 'hamid': 1913, 'returns': 1914, 'passenger': 1915, 'ford': 1916, 'ite': 1917, 'friendly': 1918, 'p2p': 1919, 'pursuit': 1920, 'enron': 1921, 'usatoday': 1922, 'slip': 1923, 'cars': 1924, 'torn': 1925, 'creating': 1926, 'solution': 1927, 'multiple': 1928, 'mistakes': 1929, 'links': 1930, 'dolphins': 1931, 'valley': 1932, 'weak': 1933, 'explosions': 1934, 'questions': 1935, 'keeping': 1936, 'worldwide': 1937, 'warming': 1938, 'revealed': 1939, 'population': 1940, 'battles': 1941, 'mozilla': 1942, 'dozen': 1943, 'laden': 1944, 'core': 1945, 'congress': 1946, 'perfect': 1947, 'message': 1948, 'looked': 1949, 'vaccine': 1950, 'voice': 1951, 'date': 1952, '150': 1953, 'pass': 1954, 'environment': 1955, 'judo': 1956, 'lifted': 1957, 'extended': 1958, 'w': 1959, 'ii': 1960, 'opponents': 1961, 'scheduled': 1962, 'dramatic': 1963, 'shawn': 1964, 'delivered': 1965, 'nazi': 1966, 'easily': 1967, 'boxing': 1968, 'lawyers': 1969, 'climbed': 1970, 'easing': 1971, 'treasury': 1972, 'jazeera': 1973, 'payments': 1974, 'ball': 1975, 'confirms': 1976, 'chile': 1977, 'delta': 1978, 'investigators': 1979, 'pinochet': 1980, 'dhaka': 1981, 'opec': 1982, 'governor': 1983, 'refugee': 1984, 'candidate': 1985, 'de': 1986, 'apparently': 1987, 'scientific': 1988, 'landing': 1989, 'replace': 1990, 'heard': 1991, 'limited': 1992, 'vice': 1993, 'forced': 1994, 'bowl': 1995, 'captured': 1996, 'tonight': 1997, 'increases': 1998, 'blood': 1999, 'details': 2000, 'boss': 2001, 'closing': 2002, '146': 2003, 'rowing': 2004, 'compete': 2005, 'reform': 2006, 'drew': 2007, 'jackson': 2008, 'reportedly': 2009, 'voters': 2010, 'mortar': 2011, 'council': 2012, 'province': 2013, 'beginning': 2014, 'robert': 2015, 'tigers': 2016, 'fly': 2017, '94': 2018, 'peoplesoft': 2019, 'hills': 2020, 'slam': 2021, 'billiton': 2022, 'swiss': 2023, 'december': 2024, 'hamas': 2025, 'devers': 2026, 'aide': 2027, 'guidant': 2028, 'truckers': 2029, 'reason': 2030, 'grow': 2031, 'spend': 2032, 'gary': 2033, 'flex': 2034, 'rescue': 2035, 'successful': 2036, 'associates': 2037, 'developers': 2038, 'verizon': 2039, 'madden': 2040, 'capacity': 2041, 'documents': 2042, 'crew': 2043, 'decades': 2044, 'cases': 2045, 'hackers': 2046, 'idea': 2047, 'that': 2048, 'wife': 2049, 'schedule': 2050, 'aims': 2051, 'involved': 2052, 'lawsuits': 2053, 'camera': 2054, 'deaths': 2055, 'entered': 2056, 'retailers': 2057, 'us': 2058, 'lee': 2059, 'nba': 2060, 'par': 2061, 'arab': 2062, 'electricity': 2063, 'spirit': 2064, 'fellow': 2065, 'congolese': 2066, 'chris': 2067, 'strength': 2068, 'civil': 2069, 'lanka': 2070, 'strain': 2071, 'words': 2072, 'angry': 2073, 'unions': 2074, 'announces': 2075, 'agrees': 2076, 'failing': 2077, 'wholesale': 2078, 'headquarters': 2079, 'ireland': 2080, 'roger': 2081, 'im': 2082, 'isn': 2083, 'fedex': 2084, 'ag': 2085, 'jamaica': 2086, 'considering': 2087, 'anaheim': 2088, 'arrests': 2089, 'cycling': 2090, 'thing': 2091, 'mind': 2092, 'decade': 2093, 'claiming': 2094, 'sues': 2095, 'status': 2096, 'king': 2097, 'includes': 2098, 'subscribers': 2099, 'touch': 2100, 'sells': 2101, 'ways': 2102, 'networking': 2103, 'turns': 2104, 'sweet': 2105, 'important': 2106, 'pacific': 2107, 'costly': 2108, 'cold': 2109, 'county': 2110, 'existing': 2111, 'properties': 2112, 'sen': 2113, \"2'\": 2114, 'instant': 2115, 'regular': 2116, 'ring': 2117, 'driver': 2118, 'criticism': 2119, 'motion': 2120, 'database': 2121, 'continuing': 2122, 'promises': 2123, '300': 2124, 'emergency': 2125, 'cingular': 2126, 'tops': 2127, 'awarded': 2128, '29': 2129, 'teenager': 2130, 'czech': 2131, 'cardinals': 2132, 'rookie': 2133, 'hungarian': 2134, 'holds': 2135, 'insurers': 2136, 'prepared': 2137, 'derail': 2138, 'kidnappers': 2139, 'bond': 2140, 'silvio': 2141, 'voted': 2142, 'gone': 2143, 'automatic': 2144, 'larry': 2145, 'largely': 2146, 'southwest': 2147, 'mcdonald': 2148, 'expos': 2149, 'quit': 2150, 'ticket': 2151, 're': 2152, 'handed': 2153, 'agassi': 2154, '88': 2155, 'parmalat': 2156, 'tribunal': 2157, 'crimes': 2158, 'striker': 2159, 'g4': 2160, 'pigs': 2161, 'arroyo': 2162, 'venetica': 2163, 'placed': 2164, 'estate': 2165, 'exporters': 2166, 'gap': 2167, 'deficit': 2168, 'asks': 2169, 'streets': 2170, 'wave': 2171, 'page': 2172, 'comments': 2173, 'columbia': 2174, 'finding': 2175, 'involving': 2176, 'technique': 2177, 'cameras': 2178, 'acquired': 2179, 'associated': 2180, 'greater': 2181, 'parts': 2182, 'h': 2183, 'assembly': 2184, 'arizona': 2185, 'effective': 2186, 'rebound': 2187, 'opens': 2188, 'regulatory': 2189, 'messaging': 2190, 'quiet': 2191, 'package': 2192, 'song': 2193, '2002': 2194, 'unbeaten': 2195, 'orioles': 2196, 'roman': 2197, 'caracas': 2198, 'rovers': 2199, 'self': 2200, 'motor': 2201, 'benefit': 2202, 'mason': 2203, 'eastern': 2204, 'strategy': 2205, 'jail': 2206, 'terms': 2207, 'paper': 2208, 'thomas': 2209, 'upbeat': 2210, 'table': 2211, 'discovery': 2212, 'cancer': 2213, 'allegations': 2214, 'embattled': 2215, 'tears': 2216, 'detainees': 2217, 'currency': 2218, 'hare': 2219, 'recalls': 2220, 'deng': 2221, 'holmes': 2222, 'ufj': 2223, 'controversial': 2224, 'surging': 2225, 'quality': 2226, 'picked': 2227, 'lets': 2228, 'preparing': 2229, 'brain': 2230, 'hole': 2231, 'colorado': 2232, 'website': 2233, 'allen': 2234, 'atlantic': 2235, 'choice': 2236, 'pollution': 2237, 'worst': 2238, 'sides': 2239, 'reduce': 2240, 'cnn': 2241, 'ok': 2242, 'extends': 2243, 'seat': 2244, 'truck': 2245, '45': 2246, 'machines': 2247, 'telecom': 2248, 'processors': 2249, 'pre': 2250, 'employee': 2251, 'controversy': 2252, 'joined': 2253, 'stunning': 2254, 'alex': 2255, 'moment': 2256, 'shoulder': 2257, 'november': 2258, 'oakland': 2259, 'seoul': 2260, 'gunfire': 2261, 'anniversary': 2262, 'inquiry': 2263, 'singles': 2264, 'refused': 2265, 'reduced': 2266, 'sweeping': 2267, 'enforcement': 2268, 'vows': 2269, 'leg': 2270, 'survived': 2271, 'discount': 2272, 'equity': 2273, 'blackberry': 2274, 'discuss': 2275, 'agents': 2276, 'lleyton': 2277, 'handsets': 2278, 'km': 2279, 'iraqis': 2280, 'unlikely': 2281, 'vladimir': 2282, 'ukraine': 2283, 'negative': 2284, 'creditors': 2285, 'nepalese': 2286, 'fleet': 2287, 'strained': 2288, 'noguchi': 2289, 'infrastructure': 2290, 'assets': 2291, '32': 2292, 'consider': 2293, 'complex': 2294, 'philippine': 2295, 'brand': 2296, 'regulations': 2297, 'different': 2298, 'cheap': 2299, 'priced': 2300, 'birth': 2301, 'corporation': 2302, 'property': 2303, 'turning': 2304, 'observers': 2305, 'partner': 2306, 'majority': 2307, 'watchdog': 2308, 'cheaper': 2309, 'bids': 2310, 'weight': 2311, 'purchase': 2312, 'trip': 2313, 'brings': 2314, 'producing': 2315, 'shipping': 2316, 'upcoming': 2317, 'notebook': 2318, 'education': 2319, 'revolution': 2320, 'providers': 2321, 'hd': 2322, 'cincinnati': 2323, 'announcement': 2324, 'haven': 2325, 'tomorrow': 2326, 'tight': 2327, 'separatist': 2328, 'delhi': 2329, 'struggles': 2330, 'veterans': 2331, 'estimated': 2332, 'stunned': 2333, 'tied': 2334, 'hitter': 2335, 'boy': 2336, 'schools': 2337, 'word': 2338, 'defeated': 2339, 'user': 2340, 'drops': 2341, 'offset': 2342, 'injuries': 2343, 'lithuania': 2344, 'pitch': 2345, 'journal': 2346, 'ny': 2347, 'books': 2348, 'practices': 2349, 've': 2350, 'receiver': 2351, 'gaming': 2352, 'dominion': 2353, 'epson': 2354, 'foster': 2355, 'gymnast': 2356, 'racing': 2357, 'aziz': 2358, 'stunt': 2359, 'pinsent': 2360, 'northwest': 2361, 'ulmer': 2362, 'scream': 2363, 'oslo': 2364, 'triathlon': 2365, 'bears': 2366, 'lows': 2367, 'stopped': 2368, 'gates': 2369, 'increasingly': 2370, 'henry': 2371, 'modern': 2372, 'count': 2373, 'projects': 2374, 'bea': 2375, 'prize': 2376, 'astronauts': 2377, 'promised': 2378, 'unusual': 2379, 'venus': 2380, 'reaching': 2381, 'climate': 2382, 'concerned': 2383, 'environmental': 2384, 'vendors': 2385, 'true': 2386, 'favorite': 2387, 'machine': 2388, 'solutions': 2389, 'boosts': 2390, 'lawyer': 2391, 'opportunity': 2392, 'doctors': 2393, 'patients': 2394, 'jet': 2395, 'effects': 2396, 'illegally': 2397, 'express': 2398, 'advances': 2399, 'matthew': 2400, 'suite': 2401, 'tiger': 2402, 'marion': 2403, 'andy': 2404, 'northeast': 2405, 'crucial': 2406, 'prepares': 2407, 'collapse': 2408, 'connection': 2409, 'argentina': 2410, 'owned': 2411, 'independent': 2412, 'quarterfinals': 2413, 'knee': 2414, 'infringement': 2415, 'caught': 2416, 'peter': 2417, 'injuring': 2418, 'link': 2419, 'hostile': 2420, 'spring': 2421, 'thin': 2422, 'greatest': 2423, 'relations': 2424, 'admits': 2425, 'crown': 2426, 'units': 2427, 'witness': 2428, 'mother': 2429, '72': 2430, 'eases': 2431, 'theft': 2432, 'girlfriend': 2433, 'telecommunications': 2434, 'subject': 2435, 'banned': 2436, 'clothing': 2437, 'clean': 2438, 'didn': 2439, 'trials': 2440, 'components': 2441, 'missiles': 2442, 'parties': 2443, 'musharraf': 2444, 'exit': 2445, 'akron': 2446, 'taliban': 2447, 'language': 2448, 'ipass': 2449, 'smithfield': 2450, 'non': 2451, 'increasing': 2452, 'ocean': 2453, 'chad': 2454, 'plants': 2455, 'steady': 2456, 'mr': 2457, 'titles': 2458, 'doom': 2459, 'means': 2460, 'meets': 2461, 'thailand': 2462, 'overhaul': 2463, 'netherlands': 2464, 'pa': 2465, 'relationship': 2466, 'zone': 2467, 'dot': 2468, 'mountain': 2469, 'suspect': 2470, 'powers': 2471, 'osama': 2472, 'paying': 2473, 'simply': 2474, 'memory': 2475, 'patent': 2476, 'newcastle': 2477, 'gained': 2478, 'deliver': 2479, 'soft': 2480, 'eserver': 2481, 'louis': 2482, 'stroke': 2483, 'bases': 2484, 'delivery': 2485, 'scott': 2486, 'produced': 2487, '33': 2488, 'missile': 2489, 'era': 2490, 'english': 2491, 'delegates': 2492, 'spitz': 2493, 'james': 2494, 'rallied': 2495, 'backs': 2496, 'slide': 2497, 'voting': 2498, 'adding': 2499, 'milwaukee': 2500, 'legg': 2501, '05': 2502, 'taipei': 2503, 'managing': 2504, 'lowe': 2505, 'pushing': 2506, 'sprinter': 2507, 'prompting': 2508, '42': 2509, 'communist': 2510, 'plotting': 2511, 'pulls': 2512, 'euros': 2513, 'editor': 2514, 'breaks': 2515, 'coverage': 2516, 'closely': 2517, 'bodies': 2518, 'hitting': 2519, 'standoff': 2520, 'nigerian': 2521, 'carly': 2522, 'climb': 2523, '56': 2524, 'denies': 2525, 'centers': 2526, 'deutsche': 2527, 'eds': 2528, 'passed': 2529, 'zimbabwe': 2530, 'peirsol': 2531, 'edged': 2532, 'ncaa': 2533, 'wrestling': 2534, 'parent': 2535, 'wage': 2536, 'xbox': 2537, 'chechen': 2538, 'gov': 2539, 'feel': 2540, 'sa': 2541, 'massachusetts': 2542, 'reality': 2543, 'rolling': 2544, 'waters': 2545, 'include': 2546, 'enterprises': 2547, 'responsible': 2548, 'k': 2549, 'maccentral': 2550, 'politics': 2551, 'born': 2552, 'astronomers': 2553, 'wind': 2554, 'pounds': 2555, 'normal': 2556, 'wing': 2557, 'partnership': 2558, 'carrying': 2559, 'tries': 2560, 'shots': 2561, 'bigger': 2562, 'century': 2563, 'hunt': 2564, 'prevent': 2565, 'cruise': 2566, 'clues': 2567, 'produce': 2568, 'cells': 2569, 'slower': 2570, 'fix': 2571, 'fcc': 2572, 'trend': 2573, 'registration': 2574, 'unprecedented': 2575, 'begun': 2576, 'teammate': 2577, 'knocked': 2578, 'preseason': 2579, 'prix': 2580, 'offense': 2581, '160': 2582, 'kabul': 2583, 'militias': 2584, 'girl': 2585, 'activists': 2586, 'suffering': 2587, 'monthly': 2588, 'roddick': 2589, 'situation': 2590, 'marlins': 2591, 'playoff': 2592, 'weekly': 2593, 'golds': 2594, 'improvement': 2595, 'carlos': 2596, 'ntt': 2597, 'flag': 2598, 'tvs': 2599, 'ill': 2600, 'resolve': 2601, 'fbi': 2602, 'preview': 2603, 'internal': 2604, 'lethal': 2605, 'combat': 2606, 'traded': 2607, 'driving': 2608, 'cleared': 2609, 'emerge': 2610, 'agent': 2611, 'signaled': 2612, 'manchester': 2613, 'owes': 2614, '62': 2615, 'howard': 2616, 'slashes': 2617, 'lifts': 2618, 'stronger': 2619, 'update1': 2620, 'sheffield': 2621, 'seized': 2622, 'missteps': 2623, 'jeff': 2624, 'auditors': 2625, 'bar': 2626, 'volkswagen': 2627, 'glaxosmithkline': 2628, 'technical': 2629, 'lilly': 2630, 'hicks': 2631, 'durable': 2632, 'wariner': 2633, 'plays': 2634, 'depth': 2635, 'pipeline': 2636, 'institute': 2637, 'shock': 2638, 'shut': 2639, 'veteran': 2640, 'famous': 2641, 'sector': 2642, 'expressed': 2643, 'quest': 2644, 'cities': 2645, 'sense': 2646, 'challenges': 2647, 'targeting': 2648, 'at': 2649, 'waves': 2650, 'rock': 2651, 'fine': 2652, 'exploration': 2653, 'task': 2654, 'hubble': 2655, 'dark': 2656, 'safe': 2657, 'carolina': 2658, 'suffered': 2659, 'learn': 2660, 'allowing': 2661, 'defend': 2662, 'article': 2663, 'read': 2664, 'accepted': 2665, 'occupied': 2666, 'by': 2667, 'happy': 2668, 'spread': 2669, 'jason': 2670, 'slash': 2671, 'reporter': 2672, 'commissioner': 2673, 'pinch': 2674, 'easier': 2675, 'flaw': 2676, 'scores': 2677, 'inventory': 2678, '600': 2679, 'newly': 2680, 'shortly': 2681, 'studios': 2682, 'watching': 2683, 'reds': 2684, 'padres': 2685, 'withdrew': 2686, 'swimmer': 2687, 'vijay': 2688, 'potentially': 2689, 'michigan': 2690, 'kostas': 2691, 'matches': 2692, 'offensive': 2693, '75': 2694, 'protesters': 2695, 'cease': 2696, 'aftermath': 2697, 'determine': 2698, 'box': 2699, 'secret': 2700, 'spy': 2701, 'struggled': 2702, 'critics': 2703, 'puerto': 2704, 'assistant': 2705, 'greenspan': 2706, 'movement': 2707, 'brewers': 2708, 'corey': 2709, 'advantage': 2710, '53': 2711, 'option': 2712, 'luxury': 2713, 'split': 2714, 'butterfly': 2715, 'teammates': 2716, 'quoted': 2717, 'angola': 2718, 'processor': 2719, 'poverty': 2720, 'actions': 2721, 'portfolio': 2722, 'convoy': 2723, 'rebounded': 2724, 'rover': 2725, 'floods': 2726, 'recover': 2727, 'fields': 2728, '802': 2729, 'error': 2730, 'maine': 2731, 'unexpected': 2732, 'beaten': 2733, 'contracts': 2734, 'applied': 2735, 'downer': 2736, 'settler': 2737, 'berlin': 2738, '95': 2739, 'resume': 2740, 'fair': 2741, 'initiative': 2742, 'athlete': 2743, 'aaron': 2744, 'ryan': 2745, 'manning': 2746, 'filled': 2747, 'doesn': 2748, 'marked': 2749, 'championships': 2750, 'pounded': 2751, 'mall': 2752, 'nbc': 2753, 'ramirez': 2754, 'responsibility': 2755, 'selig': 2756, 'likud': 2757, 'yasser': 2758, 'barry': 2759, 'sir': 2760, 'compuware': 2761, 'dial': 2762, 'spa': 2763, 'laptop': 2764, 'polish': 2765, 'khorkina': 2766, 'mediacom': 2767, 'immunity': 2768, 'kufa': 2769, 'slump': 2770, 'competing': 2771, 'grant': 2772, 'model': 2773, 'ben': 2774, 'attract': 2775, 'sick': 2776, 'format': 2777, 'predict': 2778, 'families': 2779, 'treatment': 2780, 'rocket': 2781, 'suggests': 2782, 'twin': 2783, 'forest': 2784, 'returning': 2785, 'believed': 2786, 'setback': 2787, 'rape': 2788, 'virginia': 2789, 'reaches': 2790, 'door': 2791, 'figure': 2792, 'interior': 2793, 'fact': 2794, 'cheney': 2795, 'introduce': 2796, 'rivers': 2797, 'threatening': 2798, 'narrow': 2799, 'shanghai': 2800, 'investigating': 2801, 'nanometer': 2802, 'yard': 2803, 'mariners': 2804, 'homers': 2805, 'heading': 2806, 'suspension': 2807, 'jersey': 2808, 'stakes': 2809, 'hunger': 2810, 'rolled': 2811, 'maria': 2812, '2006': 2813, 'rush': 2814, 'envoy': 2815, 'jeremy': 2816, 'rico': 2817, 'birthday': 2818, 'fires': 2819, 'borders': 2820, 'child': 2821, 'follow': 2822, 'norway': 2823, 'satisfaction': 2824, 'dismissed': 2825, 'greeks': 2826, 'dies': 2827, 'worried': 2828, 'busy': 2829, 'mode': 2830, 'handset': 2831, 'signing': 2832, 'aggressive': 2833, 'compensation': 2834, 'slowing': 2835, 'tickets': 2836, 'financequotelookup': 2837, 'jhtml': 2838, 'qtype': 2839, 'sym': 2840, 'infotype': 2841, 'qcat': 2842, \"news'\": 2843, 'closes': 2844, 'sco': 2845, 'supplier': 2846, 'stands': 2847, 'prisoner': 2848, 'wider': 2849, 'liverpool': 2850, 'brokerage': 2851, 'jailed': 2852, 'comeback': 2853, 'supposed': 2854, 'seeded': 2855, 'squad': 2856, 'heinz': 2857, 'jumps': 2858, 'costco': 2859, 'metal': 2860, 'pentium': 2861, 'homeland': 2862, 'villa': 2863, 'austria': 2864, 'hurdle': 2865, 'copyrighted': 2866, 'vault': 2867, 'brief': 2868, 'mom': 2869, 'hispano': 2870, 'halkia': 2871, 'band': 2872, 'slows': 2873, 'lowers': 2874, 'engineers': 2875, 'f': 2876, 'square': 2877, 'knew': 2878, 'designer': 2879, 'notes': 2880, 'motors': 2881, 'gm': 2882, 'dominated': 2883, 'usual': 2884, 'followed': 2885, 'facility': 2886, 'founders': 2887, 'approve': 2888, 'mystery': 2889, 'matt': 2890, 'ray': 2891, 'uses': 2892, 'natural': 2893, 'parents': 2894, 'carry': 2895, 'fewer': 2896, 'cat': 2897, 'flew': 2898, 'mean': 2899, 'simple': 2900, 'this': 2901, '43': 2902, 'provided': 2903, 'feature': 2904, 'from': 2905, 'dangerous': 2906, 'risks': 2907, 'transport': 2908, 'weighs': 2909, 'reveal': 2910, 'resources': 2911, 'sized': 2912, 'rocks': 2913, 'violent': 2914, 'letter': 2915, 'balance': 2916, 'engineered': 2917, 'boom': 2918, 'expands': 2919, '38': 2920, 'extending': 2921, 'controls': 2922, 'lowered': 2923, 'spammers': 2924, 'misleading': 2925, 'visitors': 2926, 'pop': 2927, 'collect': 2928, 'conducted': 2929, 'buried': 2930, 'writes': 2931, 'earned': 2932, 'iranian': 2933, 'opponent': 2934, 'involvement': 2935, 'troop': 2936, 'required': 2937, '41': 2938, 'alexander': 2939, 'significant': 2940, 'schumacher': 2941, '73': 2942, 'medalist': 2943, 'winds': 2944, 'meant': 2945, 'copies': 2946, 'writer': 2947, 'phillies': 2948, 'eagles': 2949, 'toyota': 2950, 'tens': 2951, 'joy': 2952, 'breakaway': 2953, 'approach': 2954, 'predicted': 2955, 'picks': 2956, 'fully': 2957, 'withdrawal': 2958, 'mat': 2959, 'arrives': 2960, 'attempts': 2961, 'withhold': 2962, 'kuwait': 2963, 'declined': 2964, 'pulling': 2965, 'exercise': 2966, 'gop': 2967, 'fought': 2968, 'blind': 2969, 'believes': 2970, 'brian': 2971, 'nhl': 2972, 'strip': 2973, 'formally': 2974, 'weaker': 2975, 'bloody': 2976, 'lineup': 2977, 'belgian': 2978, 'scene': 2979, 'stolen': 2980, 'cooperation': 2981, 'aim': 2982, 'kingdom': 2983, 'rounds': 2984, 'retirement': 2985, '68': 2986, 'fails': 2987, 'starbucks': 2988, 'shutout': 2989, 'supermarket': 2990, 'ual': 2991, 'resigned': 2992, 'arts': 2993, 'wayne': 2994, 'unemployment': 2995, 'weightlifter': 2996, 'sarah': 2997, 'felix': 2998, 'rulon': 2999, 'soar': 3000, 'possibly': 3001, 'warnings': 3002, 'senator': 3003, 'improvements': 3004, 'swept': 3005, 'worry': 3006, 'column': 3007, 'kind': 3008, 'reasons': 3009, 'fail': 3010, 'launching': 3011, 'worlds': 3012, 'concluded': 3013, 'ranks': 3014, 'successfully': 3015, 'cave': 3016, 'worked': 3017, 'swedish': 3018, 'joins': 3019, 'register': 3020, 'conspiracy': 3021, 'experience': 3022, 'defence': 3023, 'strategic': 3024, 'feeling': 3025, 'causing': 3026, 'difficult': 3027, 'jr': 3028, 'freedom': 3029, 'blame': 3030, 'pictures': 3031, 'walker': 3032, 'love': 3033, 'settled': 3034, 'ice': 3035, 'proved': 3036, 'mysterious': 3037, '65': 3038, 'promise': 3039, 'healthy': 3040, 'overall': 3041, 'eric': 3042, 'book': 3043, 'simultaneously': 3044, 'definition': 3045, 'maybe': 3046, 'judging': 3047, 'martinez': 3048, 'pages': 3049, 'breakthrough': 3050, 'clash': 3051, 'suspicion': 3052, 'katerina': 3053, 'glory': 3054, 'path': 3055, 'ministers': 3056, 'escape': 3057, 'convicted': 3058, 'bankrupt': 3059, 'surcharge': 3060, 'transfer': 3061, 'martin': 3062, 'alan': 3063, 'opener': 3064, '10th': 3065, 'optimism': 3066, '2001': 3067, 'protests': 3068, 'account': 3069, 'holiest': 3070, 'awaits': 3071, 'compared': 3072, 'ongoing': 3073, 'seed': 3074, 'client': 3075, 'pittsburgh': 3076, 'contentguard': 3077, 'tells': 3078, 'erupted': 3079, 'deport': 3080, 'payment': 3081, 'pentagon': 3082, 'coastal': 3083, 'weigh': 3084, 'capsule': 3085, 'quincy': 3086, 'cowboys': 3087, 'hair': 3088, 'coaches': 3089, 'i5': 3090, 'semifinal': 3091, 'fishing': 3092, 'remaining': 3093, 'latham': 3094, 'sheikh': 3095, 'upheld': 3096, 'centre': 3097, 'cycle': 3098, 'revenge': 3099, 'walking': 3100, 'protocol': 3101, 'champ': 3102, 'sweden': 3103, 'violations': 3104, 'peacekeepers': 3105, 'rating': 3106, 'seiko': 3107, 'regulator': 3108, 'freddie': 3109, 'gdt': 3110, 'clemens': 3111, 'joyo': 3112, 'davenport': 3113, 'woodgate': 3114, 'greene': 3115, 'dirrell': 3116, 'nesterenko': 3117, 'postal': 3118, 'springboard': 3119, 'linksys': 3120, 'centrino': 3121, 'saudi': 3122, 'skills': 3123, 'shortage': 3124, 'sitting': 3125, 'manage': 3126, 'ea': 3127, 'naval': 3128, 'eat': 3129, 'granted': 3130, 'appearance': 3131, 'storms': 3132, 'scientist': 3133, 'cloning': 3134, 'grows': 3135, 'ranking': 3136, 'birds': 3137, 'baby': 3138, 'piece': 3139, 'citizens': 3140, 'serving': 3141, 'photo': 3142, 'bitter': 3143, 'freed': 3144, 'msft': 3145, 'coral': 3146, 'intense': 3147, 'dirty': 3148, 'hear': 3149, 'repair': 3150, 'optimistic': 3151, 'scams': 3152, 'malicious': 3153, '37': 3154, 'connect': 3155, 'imaging': 3156, 'desktops': 3157, 'announcing': 3158, 'outsourcing': 3159, 'slowed': 3160, 'steep': 3161, 'cover': 3162, 'combined': 3163, 'conflicts': 3164, 'viewing': 3165, 'margaret': 3166, 'pleaded': 3167, 'original': 3168, 'combination': 3169, 'os': 3170, 'wood': 3171, 'presence': 3172, 'arrive': 3173, 'independence': 3174, 'insurgents': 3175, 'siege': 3176, 'shia': 3177, 'doubt': 3178, 'tackle': 3179, 'punta': 3180, 'gorda': 3181, 'andrew': 3182, 'billions': 3183, 'expensive': 3184, 'friends': 3185, 'mary': 3186, 'unable': 3187, 'hearings': 3188, 'gymnasts': 3189, 'formula': 3190, 'shattered': 3191, 'battled': 3192, 'sluggish': 3193, 'crowds': 3194, 'analyst': 3195, 'flagship': 3196, 'providing': 3197, 'postponed': 3198, 'offerings': 3199, 'tampa': 3200, 'y': 3201, 'rout': 3202, 'royals': 3203, 'deputy': 3204, 'soars': 3205, 'readies': 3206, 'transportation': 3207, 'airbus': 3208, 'backing': 3209, 'raids': 3210, 'patches': 3211, 'arena': 3212, 'sentiment': 3213, 'appealed': 3214, 'portugal': 3215, 'federation': 3216, 'sanderson': 3217, 'quick': 3218, 'doughnuts': 3219, 'communities': 3220, 'harris': 3221, 'dairy': 3222, 'reorganization': 3223, 'reporters': 3224, 'gdp': 3225, 'posting': 3226, 'hotels': 3227, 'fat': 3228, 'll': 3229, 'beer': 3230, 'discrimination': 3231, 'imposed': 3232, 'races': 3233, 'threaten': 3234, 'muscle': 3235, 'gail': 3236, 'territory': 3237, 'dealers': 3238, 'lcd': 3239, 'megi': 3240, 'shareholder': 3241, 'poultry': 3242, 'boat': 3243, 'bombings': 3244, 'walls': 3245, 'possibility': 3246, 'barrier': 3247, 'peterson': 3248, 'salvador': 3249, 'lindows': 3250, 'sworn': 3251, 'shaukat': 3252, 'cyber': 3253, '44': 3254, 'ted': 3255, 'swapping': 3256, 'escalating': 3257, 'eta': 3258, 'hbos': 3259, 'reserves': 3260, 'raided': 3261, '102': 3262, 'mia': 3263, 'tumbled': 3264, 'ability': 3265, 'focused': 3266, 'operators': 3267, 'imf': 3268, 'bargain': 3269, 'wake': 3270, 'hip': 3271, 'shop': 3272, 'hellip': 3273, 'affect': 3274, 'cos': 3275, 'cracks': 3276, 'receive': 3277, 'items': 3278, 'smaller': 3279, 'studies': 3280, 'fate': 3281, 'teamed': 3282, 'guide': 3283, 'temporary': 3284, 'images': 3285, 'lake': 3286, 'capabilities': 3287, 'measure': 3288, 'abandoned': 3289, 'marine': 3290, 'universities': 3291, 'fighter': 3292, 'manufacturers': 3293, 'similar': 3294, 'explain': 3295, 'bright': 3296, 'jonathan': 3297, 'guy': 3298, 'mistake': 3299, 'unix': 3300, 'stepped': 3301, 'em': 3302, 'br': 3303, 'viruses': 3304, 'rapid': 3305, 'widely': 3306, 'port': 3307, 'shed': 3308, 'liberation': 3309, '135': 3310, 'heats': 3311, 'healthdaynews': 3312, 'prompted': 3313, 'starter': 3314, 'storage': 3315, 'calm': 3316, 'affected': 3317, 'palmone': 3318, 'develops': 3319, 'counter': 3320, 'overseas': 3321, 'journalists': 3322, 'battery': 3323, 'fees': 3324, 'ships': 3325, 'preliminaries': 3326, 'qualify': 3327, 'elbow': 3328, 'drivers': 3329, '52': 3330, 'ranked': 3331, 'treat': 3332, 'maryland': 3333, 'baseman': 3334, 'venezuelans': 3335, 'polls': 3336, 'walked': 3337, 'pledged': 3338, 'showdown': 3339, 'genetic': 3340, '12th': 3341, 'draws': 3342, 'tensions': 3343, 'eliminated': 3344, 'mining': 3345, 'flee': 3346, 'eagerly': 3347, 'accusations': 3348, 'hilton': 3349, 'electoral': 3350, 'tim': 3351, 'donald': 3352, 'thrown': 3353, 'rains': 3354, 'custody': 3355, 'democrats': 3356, '66': 3357, 'tactics': 3358, 'hal': 3359, 'farm': 3360, 'blamed': 3361, 'completing': 3362, 'rays': 3363, 'insisted': 3364, 'fernandez': 3365, 'sacred': 3366, 'dip': 3367, 'string': 3368, 'severe': 3369, 'summit': 3370, 'mln': 3371, 'spots': 3372, 'lowest': 3373, 'alleging': 3374, 'beta': 3375, 'medallist': 3376, 'standing': 3377, 'computerworld': 3378, 'muller': 3379, '54': 3380, 'cuban': 3381, 'elected': 3382, 'confident': 3383, 'january': 3384, 'freeze': 3385, 'plea': 3386, 'brokers': 3387, 'accounts': 3388, 'liquid': 3389, 'illinois': 3390, 'arbitration': 3391, 'larger': 3392, 'steel': 3393, 'aussies': 3394, 'metre': 3395, 'unknown': 3396, 'sabre': 3397, 'entire': 3398, '71': 3399, 'primary': 3400, 'abuja': 3401, 'especially': 3402, 'recorders': 3403, 'pitching': 3404, 'successor': 3405, 'controlled': 3406, 'egypt': 3407, 'aviation': 3408, 'sears': 3409, 'la': 3410, 'financing': 3411, 'grokster': 3412, 'pk': 3413, 'builder': 3414, '913': 3415, 'bonuses': 3416, 'pipelines': 3417, 'sumitomo': 3418, 'jaw': 3419, 'lukoil': 3420, 'cloud': 3421, 'export': 3422, 'tehran': 3423, 'kids': 3424, 'bidding': 3425, 'kevin': 3426, 'fun': 3427, 'heads': 3428, 'couple': 3429, 'described': 3430, 'grabs': 3431, 'tackles': 3432, 'advice': 3433, 'passing': 3434, 'moon': 3435, 'robotic': 3436, 'genesis': 3437, 'switch': 3438, 'privately': 3439, 'funding': 3440, 'southeast': 3441, 'floor': 3442, 'advisory': 3443, 'default': 3444, 'wet': 3445, 'introduced': 3446, 'hardware': 3447, 'pretty': 3448, 'surrender': 3449, 'allawi': 3450, 'democrat': 3451, 'danger': 3452, 'an': 3453, 'smart': 3454, 'scotland': 3455, 'tap': 3456, 'widespread': 3457, 'sabotage': 3458, 'alaska': 3459, 'multi': 3460, 'travelers': 3461, 'forcing': 3462, 'lab': 3463, 'reveals': 3464, 'dr': 3465, 'surface': 3466, 'officially': 3467, 'courts': 3468, 'prescription': 3469, 'accusing': 3470, 'learned': 3471, 'pleads': 3472, 'imminent': 3473, 'carriers': 3474, 'clearing': 3475, 'paperwork': 3476, 'circuit': 3477, 'cautious': 3478, 'lawmakers': 3479, 'hurting': 3480, 'colleges': 3481, 'pink': 3482, 'adam': 3483, 'den': 3484, 'votes': 3485, 'visiting': 3486, 'yards': 3487, 'exhibition': 3488, 'lourdes': 3489, 'ravaged': 3490, 'bus': 3491, 'assam': 3492, 'tradition': 3493, 'sexual': 3494, 'hamilton': 3495, '84': 3496, 'aides': 3497, 'duo': 3498, 'struggle': 3499, 'tutsi': 3500, 'knows': 3501, 'midday': 3502, 'ride': 3503, 'selection': 3504, 'combining': 3505, 'landslides': 3506, 'sound': 3507, 'causes': 3508, 'identity': 3509, 'domain': 3510, 'holder': 3511, 'multimedia': 3512, 'insurgency': 3513, 'portable': 3514, 'considered': 3515, 'indonesian': 3516, 'shrugged': 3517, 'publicly': 3518, 'slips': 3519, 'fool': 3520, 'pilot': 3521, 'prosecution': 3522, 'turkish': 3523, 'coal': 3524, '80': 3525, 'arch': 3526, 'fame': 3527, 'bridge': 3528, 'fined': 3529, 'attacking': 3530, 'advocates': 3531, 'relatively': 3532, 'drought': 3533, 'elite': 3534, 'smallest': 3535, 'layoffs': 3536, 'spencer': 3537, 'kkd': 3538, 'degree': 3539, 'math': 3540, 'seahawks': 3541, 'drives': 3542, 'die': 3543, 'routes': 3544, 'facilities': 3545, 'crocker': 3546, 'raid': 3547, 'heavyweight': 3548, 'aside': 3549, 'broker': 3550, 'orbiting': 3551, 'foundation': 3552, 'indies': 3553, 'henin': 3554, 'thieves': 3555, 'favourite': 3556, 'limit': 3557, '63': 3558, 'shoppers': 3559, 'factory': 3560, 'dominant': 3561, 'additional': 3562, 'hopeful': 3563, 'route': 3564, 'moments': 3565, '13th': 3566, 'update2': 3567, 'vehicles': 3568, 'janus': 3569, 'dreams': 3570, 'sporting': 3571, 'moktada': 3572, 'governance': 3573, 'spokeswoman': 3574, 'directors': 3575, 'joe': 3576, 'nestle': 3577, 'slammed': 3578, 'suisse': 3579, 'slowly': 3580, 'siemens': 3581, 'paving': 3582, 'supports': 3583, 'stinging': 3584, 'pieces': 3585, 'jnj': 3586, 'outbreak': 3587, 'offices': 3588, 'napster': 3589, 'roof': 3590, 'terminate': 3591, 'slid': 3592, 'runner': 3593, 'marbury': 3594, 'lewis': 3595, 'xiaoping': 3596, 'charlotte': 3597, 'kelly': 3598, 'hog': 3599, 'extradition': 3600, 'bernanke': 3601, 'paxil': 3602, 'seeing': 3603, 'quietly': 3604, 'snow': 3605, 'killer': 3606, 'chapter': 3607, 'emerging': 3608, 'broader': 3609, 'unique': 3610, 'indonesia': 3611, 'exec': 3612, 'updated': 3613, 'researcher': 3614, 'slowdown': 3615, 'prospects': 3616, 'traditional': 3617, 'guys': 3618, 'instruments': 3619, 'hacker': 3620, 'cargo': 3621, 'teen': 3622, 'lived': 3623, 'endangered': 3624, 'stops': 3625, 'neighboring': 3626, 'tropical': 3627, 'hurricanes': 3628, 'dipped': 3629, 'joining': 3630, 'dna': 3631, 'pays': 3632, 'contest': 3633, 'remember': 3634, 'forget': 3635, 'org': 3636, 'argument': 3637, 'opinion': 3638, 'mini': 3639, 'feels': 3640, 'upgrades': 3641, 'measures': 3642, 'worms': 3643, 'gathered': 3644, 'ebay': 3645, 'richard': 3646, 'orange': 3647, 'removed': 3648, 'dash': 3649, 'wisconsin': 3650, 'changing': 3651, '11th': 3652, 'prepare': 3653, 'adopted': 3654, 'resolution': 3655, 'material': 3656, 'spitzer': 3657, 'fda': 3658, 'eating': 3659, 'catching': 3660, 'genetically': 3661, 'proceedings': 3662, 'chances': 3663, 'doubleclick': 3664, 'aware': 3665, 'acknowledged': 3666, 'spotlight': 3667, 'attempting': 3668, 'reading': 3669, 'spyware': 3670, 'april': 3671, 'roll': 3672, 'delivers': 3673, '147': 3674, 'activities': 3675, 'wis': 3676, 'highlights': 3677, 'farmers': 3678, 'kashmir': 3679, 'monitors': 3680, 'guns': 3681, 'rumsfeld': 3682, 'damages': 3683, 'utah': 3684, 'invest': 3685, 'lists': 3686, 'winged': 3687, 'ioc': 3688, '76': 3689, 'kuala': 3690, 'lumpur': 3691, 'hat': 3692, 'gay': 3693, 'monopoly': 3694, 'olympian': 3695, 'displaced': 3696, 'corruption': 3697, 'threw': 3698, 'sends': 3699, 'congestion': 3700, 'productivity': 3701, 'volume': 3702, 'displays': 3703, 'outfielder': 3704, 'brands': 3705, '120': 3706, 'feared': 3707, 'crushing': 3708, 'retreat': 3709, '34': 3710, 'reforms': 3711, 'twist': 3712, 'triple': 3713, 'telling': 3714, 'buyers': 3715, 'enjoyed': 3716, 'xinhua': 3717, 'disruptions': 3718, 'frozen': 3719, 'threatens': 3720, 'commit': 3721, 'innocent': 3722, 'detained': 3723, 'buildings': 3724, 'temporarily': 3725, '2nd': 3726, 'felt': 3727, 'navy': 3728, 'schroeder': 3729, 'managed': 3730, 'pledge': 3731, 'chiron': 3732, 'aussie': 3733, 'rep': 3734, 'fencing': 3735, 'portion': 3736, 'replacement': 3737, 'linebacker': 3738, 'capture': 3739, 'eli': 3740, 'pharmaceutical': 3741, 'encouraged': 3742, 'monitor': 3743, 'sbc': 3744, 'identified': 3745, 'ups': 3746, 'pain': 3747, 'scandals': 3748, 'earn': 3749, 'pervez': 3750, 'porn': 3751, 'haiti': 3752, 'controlling': 3753, 'nielsen': 3754, 'legally': 3755, 'triggered': 3756, 'cyclist': 3757, 'defused': 3758, 'celebrate': 3759, 'loans': 3760, 'chemical': 3761, 'eve': 3762, 'milk': 3763, 'warm': 3764, 'kim': 3765, 'vivendi': 3766, 'ogunleye': 3767, 'admitted': 3768, 'gilles': 3769, 'daiei': 3770, 'gagne': 3771, 'stent': 3772, 'governing': 3773, 'northrop': 3774, 'massu': 3775, 'fallen': 3776, 'garen': 3777, 'creation': 3778, 'emmons': 3779, 'optus': 3780, 'augusto': 3781, 'cape': 3782, 'hasina': 3783, 'edvard': 3784, 'franchitti': 3785, 'webcams': 3786, 'mitsui': 3787, 'ashcroft': 3788, 'simplify': 3789, 'barely': 3790, 'rocky': 3791, 'doubts': 3792, 'celebration': 3793, 'rand': 3794, 'accident': 3795, 'rail': 3796, 'hunter': 3797, 'victim': 3798, 'society': 3799, 'manila': 3800, 'eventually': 3801, 'targeted': 3802, 'hottest': 3803, 'disc': 3804, 'streaming': 3805, 'discounts': 3806, '3d': 3807, 'nobel': 3808, 'compound': 3809, 'license': 3810, 'river': 3811, 'whale': 3812, 'universe': 3813, 'searching': 3814, 'direct': 3815, 'temperatures': 3816, 'orbit': 3817, 'wash': 3818, 'deeper': 3819, 'gulf': 3820, 'monitoring': 3821, 'tougher': 3822, 'id': 3823, 'basic': 3824, 'videos': 3825, 'explode': 3826, 'currently': 3827, 'shown': 3828, 'submit': 3829, 'blog': 3830, 'direction': 3831, 'certainly': 3832, 'survival': 3833, 'adults': 3834, '130': 3835, 'craigslist': 3836, 'dust': 3837, 'swimmers': 3838, 'spinning': 3839, 'chandra': 3840, 'smoke': 3841, 'particularly': 3842, 'preparation': 3843, 'decide': 3844, 'beleaguered': 3845, 'woes': 3846, 'mainframe': 3847, 'truce': 3848, 'pitches': 3849, 'traveling': 3850, 'msn': 3851, 'expense': 3852, 'expanded': 3853, 'engines': 3854, '148': 3855, 'diplomatic': 3856, 'penalty': 3857, '4x100': 3858, 'rwanda': 3859, 'ailing': 3860, 'oust': 3861, 'wreckage': 3862, 'cruised': 3863, 'taste': 3864, 'counting': 3865, 'welcomes': 3866, 'welcomed': 3867, 'civilian': 3868, 'upsets': 3869, 'iverson': 3870, 'visits': 3871, 'northeastern': 3872, 'doomed': 3873, 'modest': 3874, 'ripped': 3875, 'caterpillar': 3876, 'seize': 3877, 'leadership': 3878, 'vancouver': 3879, 'rfid': 3880, 'attend': 3881, 'malaysian': 3882, 'suspicious': 3883, 'trail': 3884, 'goals': 3885, 'speaking': 3886, 'serbia': 3887, 'finishing': 3888, 'kick': 3889, 'republicans': 3890, 'deportation': 3891, 'costas': 3892, '2q': 3893, 'wmt': 3894, 'rolls': 3895, 'curb': 3896, 'outlets': 3897, 'rural': 3898, 'sponsored': 3899, 'draft': 3900, 'shoot': 3901, 'condemned': 3902, 'torri': 3903, 'written': 3904, 'motley': 3905, 'archaeologists': 3906, 'writers': 3907, 'emerged': 3908, 'paintings': 3909, 'brussels': 3910, 'ballot': 3911, 'verge': 3912, 'guillen': 3913, 'scale': 3914, 'recovering': 3915, 'dominate': 3916, 'enters': 3917, 'restructure': 3918, 'followers': 3919, 'competitors': 3920, 'dealt': 3921, 'lure': 3922, '550': 3923, 'rattled': 3924, 'welcome': 3925, 'quarters': 3926, 'pound': 3927, 'audience': 3928, 'economists': 3929, 'grounds': 3930, 'ward': 3931, 'gunmen': 3932, 'manufacturer': 3933, 'bj': 3934, 'sparking': 3935, 'intc': 3936, 'hikes': 3937, 'clinical': 3938, 'crystal': 3939, 'kde': 3940, 'talking': 3941, 'podium': 3942, 'pole': 3943, 'couldn': 3944, 'gb': 3945, 'sardinia': 3946, 'maurice': 3947, 'undergoing': 3948, 'clients': 3949, 'alcoa': 3950, 'triumph': 3951, 'pyongyang': 3952, 'annan': 3953, 'carl': 3954, 'impressive': 3955, 'basra': 3956, 'lackluster': 3957, 'franchise': 3958, 'buyout': 3959, 'labour': 3960, 'embedded': 3961, '108': 3962, 'older': 3963, 'siliconvalley': 3964, 'barclays': 3965, 'dragged': 3966, 'abuses': 3967, 'lightest': 3968, 'interfax': 3969, 'tentative': 3970, 'doses': 3971, 'toshiba': 3972, 'equestrian': 3973, 'weightlifting': 3974, 'dictator': 3975, 'supported': 3976, 'ortiz': 3977, 'uair': 3978, 'tata': 3979, 'disposable': 3980, 'sosa': 3981, 'h5n1': 3982, 'cyberonics': 3983, 'craig': 3984, 'southampton': 3985, 'wire': 3986, 'woolworths': 3987, 'gloria': 3988, 'fdx': 3989, 'polio': 3990, 'fridman': 3991, 'fani': 3992, 'its': 3993, 'improving': 3994, 'jakarta': 3995, 'underway': 3996, 'loan': 3997, 'specialist': 3998, 'culture': 3999, 'inspired': 4000, 'columnist': 4001, 'alive': 4002, 'crowded': 4003, 'bali': 4004, 'midst': 4005, 'glass': 4006, 'shaky': 4007, 'gene': 4008, 'nearby': 4009, 'suggest': 4010, 'candidates': 4011, 'laid': 4012, 'spotted': 4013, 'sample': 4014, 'explosive': 4015, 'vulnerable': 4016, 'waste': 4017, 'unidentified': 4018, 'findings': 4019, 'radiation': 4020, '1980s': 4021, 'nice': 4022, 'privacy': 4023, 'films': 4024, 'medium': 4025, 'platforms': 4026, 'worse': 4027, 'example': 4028, 'define': 4029, 'as': 4030, 'understand': 4031, 'logger': 4032, 'are': 4033, 'install': 4034, 'serve': 4035, 'ensure': 4036, 'bug': 4037, 'plenty': 4038, 'meat': 4039, 'vast': 4040, 'influence': 4041, 'equal': 4042, 'devastating': 4043, 'satellites': 4044, 'laboratory': 4045, '01': 4046, 'observatory': 4047, 'professor': 4048, 'oval': 4049, 'healthday': 4050, 'amanda': 4051, 'teenagers': 4052, 'apparent': 4053, 'bars': 4054, 'ownership': 4055, 'resignation': 4056, 'variety': 4057, 'text': 4058, 'firewall': 4059, 'cap': 4060, 'tracking': 4061, 'bounce': 4062, 'profitable': 4063, 'blocks': 4064, 'tested': 4065, 'award': 4066, 'hoogenband': 4067, 'usc': 4068, 'notables': 4069, 'poised': 4070, 'projected': 4071, 'fernando': 4072, 'redskins': 4073, 'brother': 4074, 'bred': 4075, 'remove': 4076, 'fm': 4077, 'flood': 4078, 'hacking': 4079, 'speculation': 4080, 'va': 4081, 'prince': 4082, 'tips': 4083, 'passion': 4084, 'rome': 4085, 'patriots': 4086, 'kidney': 4087, 'lucrative': 4088, 'procurement': 4089, 'roads': 4090, 'buffalo': 4091, 'virtually': 4092, 'scare': 4093, 'villagers': 4094, 'write': 4095, 'replaced': 4096, 'trick': 4097, 'symantec': 4098, 'chosen': 4099, 'kmrt': 4100, 'slumping': 4101, '58': 4102, 'briton': 4103, 'pride': 4104, 'inmates': 4105, 'stood': 4106, 'vowed': 4107, 'cd': 4108, 'answer': 4109, 'advertisers': 4110, 'fixed': 4111, 'trucks': 4112, 'billing': 4113, 'mile': 4114, 'throw': 4115, 'dubbed': 4116, 'cal': 4117, 'minor': 4118, 'originally': 4119, 'plunge': 4120, 'declare': 4121, 'sights': 4122, 'passes': 4123, 'apart': 4124, 'competitive': 4125, 'premiership': 4126, 'guerrillas': 4127, 'quits': 4128, 'stormed': 4129, 'routine': 4130, 'interactive': 4131, 'plead': 4132, 'hosting': 4133, 'shocked': 4134, 'insists': 4135, 'commodity': 4136, 'hardenne': 4137, 'willing': 4138, 'valued': 4139, 'alliance': 4140, 'owen': 4141, 'kg': 4142, 'trophy': 4143, 'upi': 4144, 'g5': 4145, 'occupation': 4146, 'one': 4147, 'boycott': 4148, 'extraordinary': 4149, 'surrounding': 4150, 'pullout': 4151, 'pointed': 4152, 'inaugural': 4153, 'restore': 4154, 'colombia': 4155, 'haul': 4156, 'female': 4157, 'popularity': 4158, 'difficulties': 4159, 'matched': 4160, 'ing': 4161, 'zoo': 4162, 'execs': 4163, 'hoped': 4164, 'dave': 4165, 'warriors': 4166, 'coffee': 4167, 'destroyed': 4168, '100th': 4169, 'wasn': 4170, 'requirements': 4171, 'environments': 4172, 'smith': 4173, 'tunes': 4174, 'israelis': 4175, 'thunderbird': 4176, 'rower': 4177, 'netratings': 4178, 'lakes': 4179, 'criticized': 4180, 'jointly': 4181, 'crater': 4182, 'bud': 4183, 'millionaire': 4184, 'shook': 4185, 'artists': 4186, 'conglomerate': 4187, 'hiring': 4188, 'clinics': 4189, 'yanks': 4190, 'camps': 4191, 'mix': 4192, 'grumman': 4193, 'nicolas': 4194, 'stepping': 4195, 'wickets': 4196, 'chargers': 4197, 'defeating': 4198, 'socialist': 4199, 'raced': 4200, 'schwarzenegger': 4201, 'mccain': 4202, 'towns': 4203, 'bangladeshi': 4204, 'belarus': 4205, 'disrupt': 4206, 'libya': 4207, 'mizuki': 4208, 'nottingham': 4209, 'molina': 4210, 'probes': 4211, 'mercenary': 4212, 'telephony': 4213, 'odyssey': 4214, 'farms': 4215, 'sheep': 4216, 'airliners': 4217, 'forman': 4218, 'pavin': 4219, 'hang': 4220, 'after': 4221, 'but': 4222, 'danny': 4223, '55': 4224, 'imports': 4225, 'tumble': 4226, 'oldest': 4227, 'fill': 4228, 'flies': 4229, 'experimental': 4230, 'lights': 4231, 'insurer': 4232, 'places': 4233, 'swim': 4234, 'celebrity': 4235, 'booming': 4236, 'recording': 4237, 'cultural': 4238, 'punch': 4239, 'tivo': 4240, 'espn': 4241, 'tracks': 4242, 'winners': 4243, 'urban': 4244, 'truly': 4245, 'dog': 4246, 'formed': 4247, 'prospect': 4248, 'student': 4249, 'gaining': 4250, 'turtles': 4251, '99': 4252, 'feds': 4253, 'happen': 4254, 'reducing': 4255, 'supporting': 4256, 'abusing': 4257, 'entry': 4258, 'saved': 4259, 'most': 4260, 'errors': 4261, 'seriously': 4262, 'addition': 4263, 'happened': 4264, 'ie': 4265, 'pledges': 4266, 'spectacular': 4267, 'whales': 4268, 'forests': 4269, 'hazard': 4270, 'spreads': 4271, 'bugs': 4272, 'recorded': 4273, 'balloons': 4274, 'conduct': 4275, 'phase': 4276, 'trapped': 4277, 'closest': 4278, 'universal': 4279, 'sleep': 4280, 'cooling': 4281, 'ones': 4282, 'flesh': 4283, 'austrian': 4284, 'pushes': 4285, 'chipmaker': 4286, 'momentum': 4287, 'founder': 4288, 'cox': 4289, 'handheld': 4290, 'robust': 4291, 'note': 4292, 'powered': 4293, 'scans': 4294, 'boosting': 4295, 'delivering': 4296, 'resolved': 4297, 'intended': 4298, 'graphics': 4299, 'no': 4300, 'pieter': 4301, 'cheers': 4302, 'runners': 4303, 'entering': 4304, 'budapest': 4305, 'programme': 4306, 'violation': 4307, 'rwandan': 4308, 'anger': 4309, 'venues': 4310, 'landmark': 4311, 'leftist': 4312, 'thousand': 4313, 'nick': 4314, 'edges': 4315, 'successive': 4316, 'semis': 4317, 'desperate': 4318, 'miracle': 4319, 'employers': 4320, 'walsh': 4321, 'maintain': 4322, 'falcons': 4323, 'ankle': 4324, 'ethnic': 4325, 'overcame': 4326, 'maintains': 4327, 'tibet': 4328, 'pct': 4329, 'recovered': 4330, 'answers': 4331, 'reject': 4332, 'fit': 4333, 'sutton': 4334, 'signals': 4335, 'orlando': 4336, 'devil': 4337, 'hints': 4338, 'organizers': 4339, 'montenegro': 4340, 'kitajima': 4341, 'breaststroke': 4342, 'swap': 4343, 'asset': 4344, 'abroad': 4345, 'models': 4346, 'hospitals': 4347, 'stemming': 4348, 'containing': 4349, 'railway': 4350, 'holdout': 4351, 'unveil': 4352, 'munich': 4353, 'selected': 4354, 'intelsat': 4355, 'brothers': 4356, 'carried': 4357, 'investments': 4358, 'capability': 4359, 'md': 4360, 'turkey': 4361, 'tally': 4362, 'germans': 4363, 'novell': 4364, 'collection': 4365, 'hpq': 4366, 'shape': 4367, 'bargaining': 4368, 'kilometers': 4369, 'address': 4370, 'demanded': 4371, 'dealing': 4372, 'jean': 4373, 'humanitarian': 4374, 'dismissal': 4375, 'component': 4376, 'sohu': 4377, 'accepts': 4378, 'delaying': 4379, 'packers': 4380, 'stuff': 4381, 'rebellion': 4382, 'flightless': 4383, 'branches': 4384, 'connecticut': 4385, 'yankee': 4386, 'chen': 4387, 'aiding': 4388, 'climbs': 4389, 'bolstered': 4390, 'marking': 4391, 'reversed': 4392, 'inflationary': 4393, 'landed': 4394, 'resumes': 4395, 'malls': 4396, 'trust': 4397, 'subscription': 4398, 'grade': 4399, '250': 4400, 'inns': 4401, 'springboks': 4402, 'mainland': 4403, 'challenged': 4404, 'thumb': 4405, 'intensified': 4406, 'oks': 4407, 'danish': 4408, 'eliot': 4409, 'wired': 4410, 'hill': 4411, 'import': 4412, 'transaction': 4413, 'switzerland': 4414, 'clinched': 4415, 'cricket': 4416, 'incident': 4417, 'stole': 4418, 'sounds': 4419, 'radioactive': 4420, 'included': 4421, 'burning': 4422, '77': 4423, 'desire': 4424, 'we': 4425, 'brink': 4426, 'aiming': 4427, 'competitor': 4428, 'partial': 4429, 'implement': 4430, 'drama': 4431, 'holidays': 4432, 'overcome': 4433, 'bone': 4434, 'christian': 4435, 'sustained': 4436, 'coveted': 4437, 'si': 4438, 'appointed': 4439, 'bumpy': 4440, 'coxless': 4441, 'signal': 4442, 'swisscom': 4443, 'endured': 4444, 'withdrawn': 4445, 'lou': 4446, 'ac': 4447, 'steroid': 4448, 'confirm': 4449, 'nvidia': 4450, 'korzhanenko': 4451, 'tying': 4452, 'sailing': 4453, 'indicators': 4454, 'picking': 4455, 'medtronic': 4456, 'phillips': 4457, 'reversal': 4458, 'csfb': 4459, 'climbing': 4460, 'evacuated': 4461, 'santana': 4462, 'bargains': 4463, 'spree': 4464, 'snag': 4465, 'marketplace': 4466, '2009': 4467, 'workforce': 4468, 'kits': 4469, 'anglers': 4470, 'tribe': 4471, 'reign': 4472, 'stardust': 4473, 'hailed': 4474, 'policeman': 4475, 'kazaa': 4476, 'chinadotcom': 4477, 'antidepressant': 4478, 'unfair': 4479, 'midway': 4480, 'viacom': 4481, 'canon': 4482, 'tower': 4483, 'chilean': 4484, 'mercenaries': 4485, 'jasikevicius': 4486, 'heathrow': 4487, 'asda': 4488, 'indy': 4489, 'thai': 4490, 'facts': 4491, 'mannheim': 4492, 'connexion': 4493, 'netgear': 4494, 'webcam': 4495, 'kodak': 4496, 'alitalia': 4497, 'safm': 4498, 'dividend': 4499, 'qwest': 4500, 'enzo': 4501, 'baldoni': 4502, 'buick': 4503, 'pork': 4504, 'weisel': 4505, 'ultra': 4506, 'present': 4507, 'cast': 4508, 'stuck': 4509, 'percentage': 4510, 'checks': 4511, 'arabia': 4512, '1bn': 4513, 'suing': 4514, 'crossing': 4515, 'grim': 4516, 'nightmare': 4517, 'chest': 4518, 'kicked': 4519, 'legend': 4520, 'industries': 4521, 'will': 4522, 'dvds': 4523, 'stalled': 4524, 'norwegian': 4525, 'encryption': 4526, 'apps': 4527, 'dedicated': 4528, 'permission': 4529, 'expedition': 4530, 'meteor': 4531, 'shower': 4532, 'actually': 4533, 'operate': 4534, 'normally': 4535, 'teenage': 4536, 'globe': 4537, 'gathering': 4538, 'discover': 4539, 'expert': 4540, 'atmosphere': 4541, 'businessman': 4542, 'breach': 4543, 'compromise': 4544, 'dominance': 4545, 'extreme': 4546, 'bite': 4547, 'creative': 4548, 'console': 4549, 'lined': 4550, 'hitler': 4551, 'politician': 4552, 'thinking': 4553, 'embrace': 4554, 'learning': 4555, 'promote': 4556, 'disappointment': 4557, 'computing': 4558, 'doctor': 4559, 'broad': 4560, 'caribbean': 4561, 'engineering': 4562, 'nature': 4563, 'native': 4564, 'rapidly': 4565, 'limits': 4566, 'indicates': 4567, 'underwater': 4568, 'cluster': 4569, 'diet': 4570, 'broadcast': 4571, 'harry': 4572, 'sparked': 4573, 'planetary': 4574, 'celebrates': 4575, '1999': 4576, 'clusters': 4577, 'initially': 4578, 'dropping': 4579, 'sting': 4580, 'nelson': 4581, 'battling': 4582, 'mexican': 4583, 'lenovo': 4584, 'immediate': 4585, 'touts': 4586, 'fixes': 4587, 'vulnerability': 4588, 'messenger': 4589, 'hike': 4590, 'suffers': 4591, 'funny': 4592, 'contractor': 4593, 'microsystems': 4594, 'http': 4595, 'oct': 4596, 'hdtv': 4597, 'policies': 4598, 'essential': 4599, 'hanging': 4600, 'capable': 4601, 'harsh': 4602, 'galaxy': 4603, 'steam': 4604, 'honor': 4605, 'loaiza': 4606, 'circle': 4607, 'inched': 4608, 'stretch': 4609, 'sally': 4610, 'mandate': 4611, 'two': 4612, 'stir': 4613, 'stronghold': 4614, 'differences': 4615, 'catholic': 4616, 'marines': 4617, 'yao': 4618, 'encouraging': 4619, 'cia': 4620, 'fueled': 4621, '92': 4622, 'parks': 4623, 'ramallah': 4624, 'homeless': 4625, 'dug': 4626, 'marriage': 4627, 'contributed': 4628, 'choose': 4629, 'rbi': 4630, 'dialysis': 4631, 'putter': 4632, 'significantly': 4633, 'chaos': 4634, 'registered': 4635, 'automaker': 4636, 'fundamental': 4637, 'restive': 4638, 'cabrera': 4639, 'atop': 4640, 'arlington': 4641, 'affair': 4642, 'staged': 4643, 'scheme': 4644, '82': 4645, 'lisa': 4646, 'grabbed': 4647, 'rages': 4648, 'cabinet': 4649, 'disciplinary': 4650, 'lauryn': 4651, 'alternative': 4652, 'separatists': 4653, 'gifts': 4654, 'spark': 4655, 'monetary': 4656, 'foes': 4657, 'reigning': 4658, 'petroleum': 4659, 'urge': 4660, 'hunting': 4661, 'baptist': 4662, 'toppled': 4663, 'rough': 4664, '3com': 4665, 'functions': 4666, 'belgium': 4667, 'judgment': 4668, 'powell': 4669, 'withholding': 4670, 'locations': 4671, 'divisions': 4672, 'campus': 4673, 'livermore': 4674, 'gebrselassie': 4675, 'antivirus': 4676, 'mercantile': 4677, 'connected': 4678, 'meetings': 4679, 'attorneys': 4680, 'specific': 4681, 'print': 4682, 'reduction': 4683, 'branch': 4684, 'winter': 4685, 'hometown': 4686, 'kit': 4687, 'moderate': 4688, 'rallies': 4689, 'yields': 4690, 'commodities': 4691, 'wars': 4692, 'revenues': 4693, 'petition': 4694, 'trap': 4695, '2bn': 4696, 'patrol': 4697, 'description': 4698, 'rebounds': 4699, 'deciding': 4700, 'operative': 4701, 'overboard': 4702, 'acquires': 4703, 'insisting': 4704, 'newspapers': 4705, 'rod': 4706, 'escaped': 4707, 'wambach': 4708, '04': 4709, 'bombed': 4710, 'stick': 4711, 'unheralded': 4712, 'infected': 4713, 'headlines': 4714, 'fishermen': 4715, 'explosives': 4716, 'promotion': 4717, 'bureau': 4718, 'neck': 4719, 'factor': 4720, 'processing': 4721, 'deployment': 4722, 'politicians': 4723, 'nz': 4724, 'assassination': 4725, 'conceded': 4726, 'adopt': 4727, 'anderson': 4728, 'builds': 4729, 'margins': 4730, 'warplanes': 4731, 'recalled': 4732, 'minneapolis': 4733, 'forms': 4734, 'officers': 4735, 'investigated': 4736, 'pact': 4737, 'determined': 4738, 'touted': 4739, 'bt': 4740, 'grave': 4741, 'detention': 4742, 'dept': 4743, 'endurance': 4744, 'juniper': 4745, '3rd': 4746, 'appetite': 4747, 'resort': 4748, 'oq': 4749, 'tyler': 4750, 'guo': 4751, 'indefinite': 4752, 'retired': 4753, 'breast': 4754, 'photos': 4755, 'gen': 4756, 'violating': 4757, 'brisk': 4758, 'eclipse': 4759, 'qualifier': 4760, 'ching': 4761, 'owns': 4762, 'screens': 4763, 'glaxo': 4764, 'acquiring': 4765, 'gsk': 4766, 'disclose': 4767, 'screening': 4768, 'weightlifters': 4769, 'gang': 4770, 'revised': 4771, 'influential': 4772, 'ambitious': 4773, 'girls': 4774, 'scam': 4775, 'notebooks': 4776, 'ranging': 4777, '530': 4778, 'maoists': 4779, 'drag': 4780, 'svetlana': 4781, 'peres': 4782, 'seal': 4783, 'contact': 4784, 'battered': 4785, 'unabated': 4786, 'micah': 4787, 'manufactured': 4788, 'mitsubishi': 4789, 'basque': 4790, 'dismisses': 4791, 'sampanis': 4792, 'sight': 4793, 'challenging': 4794, 'schilling': 4795, 'searches': 4796, 'montgomerie': 4797, 'hamish': 4798, 'yang': 4799, 'mob': 4800, 'sarunas': 4801, 'grozny': 4802, 'foiled': 4803, 'shade': 4804, 'davanon': 4805, 'melbourne': 4806, 'irina': 4807, 'kastor': 4808, 'cites': 4809, 'sturrock': 4810, 'yemeni': 4811, 'hnz': 4812, 'ws': 4813, 'attachments': 4814, 'greco': 4815, 'bnk': 4816, 'hamza': 4817, 'bets': 4818, 'about': 4819, 'flows': 4820, 'stayed': 4821, 'relatives': 4822, 'type': 4823, 'muscles': 4824, 'demanding': 4825, 'strange': 4826, 'organizations': 4827, 'boys': 4828, 'projection': 4829, 'daniel': 4830, 'they': 4831, 'directly': 4832, 'skin': 4833, 'rocked': 4834, 'perseid': 4835, 'versions': 4836, 'nbsp': 4837, 'burned': 4838, 'particles': 4839, 'oregon': 4840, 'pioneer': 4841, 'suggesting': 4842, 'reviews': 4843, 'explodes': 4844, 'nevada': 4845, 'method': 4846, 'earthquake': 4847, 'junk': 4848, 'dc': 4849, 'interesting': 4850, 'maximum': 4851, 'fan': 4852, 'with': 4853, 'church': 4854, 'presidency': 4855, 'wonder': 4856, 'clearly': 4857, 'usually': 4858, 'enemy': 4859, 'snatched': 4860, 'was': 4861, 'succeed': 4862, 'drm': 4863, 'innovative': 4864, 'festival': 4865, 'enhanced': 4866, 'ftc': 4867, 'vehicle': 4868, 'tank': 4869, 'bacteria': 4870, 'glow': 4871, 'clouds': 4872, 'teaming': 4873, 'fence': 4874, 'frequent': 4875, 'lands': 4876, 'dramatically': 4877, 'scattered': 4878, 'trees': 4879, 'institutional': 4880, 'investigate': 4881, 'onboard': 4882, 'buzz': 4883, 'dashed': 4884, 'striking': 4885, 'teens': 4886, 'stories': 4887, 'collision': 4888, 'leap': 4889, 'sirius': 4890, 'loaded': 4891, 'approves': 4892, 'influenza': 4893, 'kennedy': 4894, 'boot': 4895, 'laura': 4896, 'charles': 4897, 'featured': 4898, 'consortium': 4899, 'receiving': 4900, 'laptops': 4901, 'creates': 4902, 'offshore': 4903, 'licensing': 4904, 'bolster': 4905, 'initiatives': 4906, 'advertisements': 4907, 'campaigns': 4908, 'newest': 4909, 'earliest': 4910, 'intuit': 4911, 'complaints': 4912, 'adwords': 4913, 'purchased': 4914, 'mercury': 4915, 'studio': 4916, 'integrated': 4917, 'flow': 4918, 'knock': 4919, 'avoided': 4920, 'misses': 4921, 'eyed': 4922, 'straits': 4923, 'served': 4924, 'haas': 4925, 'jay': 4926, 'proves': 4927, 'panthers': 4928, '1996': 4929, 'ceasefire': 4930, 'sporadic': 4931, 'santa': 4932, 'buses': 4933, 'watson': 4934, 'resumed': 4935, 'mahdi': 4936, 'favor': 4937, 'slain': 4938, 'celebrated': 4939, 'patient': 4940, 'bat': 4941, 'artificial': 4942, 'afghans': 4943, 'fee': 4944, 'stations': 4945, 'riot': 4946, 'social': 4947, 'exclusively': 4948, 'betting': 4949, 'misty': 4950, 'kerri': 4951, 'ceremony': 4952, 'unrest': 4953, 'kid': 4954, 'bruce': 4955, 'magnificent': 4956, 'counted': 4957, 'lama': 4958, 'have': 4959, 'exactly': 4960, 'burn': 4961, 'civilians': 4962, 'brad': 4963, 'mcgahee': 4964, 'lots': 4965, 'proposals': 4966, 'powder': 4967, 'grip': 4968, 'anthrax': 4969, 'nascar': 4970, 'polo': 4971, 'audio': 4972, 'backers': 4973, 'worthy': 4974, 'surprising': 4975, 'acquisitions': 4976, 'pile': 4977, 'restaurants': 4978, 'enable': 4979, 'itanium': 4980, 'healthcare': 4981, 'lengthy': 4982, 'volatile': 4983, 'condemns': 4984, 'rooms': 4985, 'ontario': 4986, 'underground': 4987, 'singer': 4988, 'soared': 4989, 'reward': 4990, 'trades': 4991, 'prosecutor': 4992, 'bryan': 4993, 'identify': 4994, 'colin': 4995, 'circulation': 4996, 'llc': 4997, 'colo': 4998, '1st': 4999, 'dual': 5000, 'clearance': 5001, 'tourist': 5002, 'pestpatrol': 5003, '86': 5004, 'flotation': 5005, 'wear': 5006, 'expanding': 5007, 'capped': 5008, 'ricky': 5009, 'accuses': 5010, 'steal': 5011, 'sanchez': 5012, 'pedro': 5013, 'cellphone': 5014, 'testimony': 5015, 'gamers': 5016, 'gambling': 5017, 'asking': 5018, 'sd': 5019, 'restored': 5020, 'pressures': 5021, 'tearing': 5022, 'resulted': 5023, 'magic': 5024, 'deere': 5025, 'shared': 5026, 'reflected': 5027, 'declaring': 5028, 'slashing': 5029, 'eventing': 5030, 'ahmed': 5031, '5bn': 5032, 'q': 5033, 'wouldn': 5034, 'rugby': 5035, 'durban': 5036, 'tore': 5037, 'tutsis': 5038, 'finnish': 5039, 'landslide': 5040, 'ann': 5041, 'category': 5042, 'rathore': 5043, 'chancellor': 5044, 'thrilling': 5045, 'khan': 5046, 'unexpectedly': 5047, 'eriksson': 5048, 'sven': 5049, 'faith': 5050, 'phoenix': 5051, 'vital': 5052, 'compatible': 5053, 'geneva': 5054, 'soviet': 5055, 'kenya': 5056, 'sue': 5057, 'legacy': 5058, 'magna': 5059, 'thens': 5060, 'desert': 5061, 'mask': 5062, 'mouse': 5063, 'withdrawing': 5064, 'colombian': 5065, 'mamaroneck': 5066, 'kofi': 5067, 'hospitalized': 5068, 'protesting': 5069, 'sat': 5070, 'johnny': 5071, 'smarter': 5072, 'outgoing': 5073, 'frank': 5074, 'ichiro': 5075, 'hostages': 5076, 'teixeira': 5077, 'mci': 5078, 'firebrand': 5079, 'guerrilla': 5080, 'holed': 5081, 'brazilian': 5082, 'thornton': 5083, 'handful': 5084, 'acquitted': 5085, 'motorcycle': 5086, 'spin': 5087, 'mosul': 5088, 'dillard': 5089, 'surfers': 5090, 'badminton': 5091, 'robertson': 5092, 'zurich': 5093, 'expenses': 5094, 'bust': 5095, 'telecoms': 5096, 'accord': 5097, 'hybrid': 5098, 'finalized': 5099, 'deloitte': 5100, 'arrivals': 5101, 'wearing': 5102, 'wgc': 5103, 'devoted': 5104, 'fab': 5105, 'slipped': 5106, 'hoy': 5107, 'concessions': 5108, 'overshadowed': 5109, 'organisation': 5110, 'congressional': 5111, 'painting': 5112, 'resigns': 5113, 'bbc': 5114, 'latin': 5115, 'incentives': 5116, 'voluntary': 5117, 'amounts': 5118, 'sophos': 5119, 'unchanged': 5120, 'agriculture': 5121, 'medgyessy': 5122, 'morpheus': 5123, 'excuse': 5124, 'convictions': 5125, 'representing': 5126, 'dips': 5127, 'airports': 5128, 'oversupply': 5129, 'cartel': 5130, 'committed': 5131, 'abducted': 5132, 'neuromodulation': 5133, 'safer': 5134, 'seizing': 5135, 'branding': 5136, 'enrnq': 5137, 'subscriber': 5138, 'epidemic': 5139, '49er': 5140, 'establish': 5141, 'neo': 5142, 'booking': 5143, 'yuliya': 5144, 'rossi': 5145, 'luke': 5146, 'engaged': 5147, 'madonna': 5148, 'hsien': 5149, 'loong': 5150, 'katie': 5151, 'arraigned': 5152, 'dean': 5153, 'russians': 5154, 'rentokil': 5155, 'barrage': 5156, 'copy': 5157, 'gal': 5158, 'rcn': 5159, 'cancelled': 5160, 'adelphia': 5161, 'glenmorangie': 5162, 'beagle': 5163, 'cognos': 5164, 'opsware': 5165, 'meal': 5166, 'sonoma': 5167, 'squirrel': 5168, 'merck': 5169, 'castro': 5170, 'conocophillips': 5171, 'verisign': 5172, 'reputation': 5173, 'posing': 5174, 'bounced': 5175, 'barrels': 5176, 'shy': 5177, 'purchasing': 5178, 'cambridge': 5179, 'necessary': 5180, 'symbol': 5181, 'dying': 5182, 'crossed': 5183, 'prominent': 5184, 'proving': 5185, 'hired': 5186, 'publishing': 5187, 'halfway': 5188, 'is': 5189, 'techweb': 5190, 'provides': 5191, 'craft': 5192, 'rex': 5193, 'be': 5194, 'planets': 5195, 'peaks': 5196, 'animals': 5197, 'wildlife': 5198, 'simultaneous': 5199, 'sort': 5200, 'absence': 5201, 'diseases': 5202, 'manned': 5203, 'sub': 5204, 'boxes': 5205, 'legislative': 5206, 'bias': 5207, 'ideas': 5208, 'favorites': 5209, 'relative': 5210, 'author': 5211, 'load': 5212, 'has': 5213, 'availability': 5214, 'cvs': 5215, 'masterpiece': 5216, 'playstation': 5217, 'oh': 5218, 'bubble': 5219, 'regions': 5220, 'alter': 5221, 'theory': 5222, 'window': 5223, 'extremely': 5224, 'commonly': 5225, 'titan': 5226, 'obtained': 5227, 'adult': 5228, 'glimpse': 5229, 'medicine': 5230, 'pharmacies': 5231, 'husband': 5232, 'typical': 5233, 'employment': 5234, 'turmoil': 5235, 'spreading': 5236, 'hidden': 5237, 'swing': 5238, 'advertisement': 5239, 'boardroom': 5240, 'introducing': 5241, 'p5': 5242, 'power5': 5243, 'map': 5244, 'listing': 5245, 'spectators': 5246, 'protected': 5247, 'techniques': 5248, 'designs': 5249, 'disclosed': 5250, 'proof': 5251, 'sensitive': 5252, 'detection': 5253, 'pen': 5254, 'mo': 5255, 'leonard': 5256, 'wondering': 5257, 'whistling': 5258, 'landscape': 5259, 'raiders': 5260, 'parade': 5261, 'reminder': 5262, '225': 5263, 'confusion': 5264, 'negotiate': 5265, 'carries': 5266, 'guarded': 5267, 'spike': 5268, 'premium': 5269, 'fault': 5270, 'surveillance': 5271, 'savings': 5272, 'hide': 5273, 'romania': 5274, 'inevitable': 5275, 'vegas': 5276, 'nominee': 5277, 'undermine': 5278, 'pest': 5279, 'birdie': 5280, 'isolated': 5281, 'disorder': 5282, 'disruption': 5283, 'broadcasting': 5284, 'shelves': 5285, 'himalayan': 5286, 'revive': 5287, 'dig': 5288, 'recreational': 5289, 'malaria': 5290, 'brendan': 5291, 'hansen': 5292, 'erupts': 5293, 'survives': 5294, 'swiftly': 5295, 'celebrating': 5296, 'falconio': 5297, 'survive': 5298, 'generally': 5299, 'chvez': 5300, 'superstar': 5301, 'profitability': 5302, 'abandon': 5303, 'empire': 5304, 'discovers': 5305, 'saddam': 5306, 'against': 5307, 'hussein': 5308, 'handle': 5309, 'explorer': 5310, '226': 5311, 'routers': 5312, 'waits': 5313, 'disabled': 5314, 'ditch': 5315, 'eagle': 5316, 'burst': 5317, 'stanley': 5318, 'mainframes': 5319, 'youth': 5320, 'detailed': 5321, 'devastation': 5322, 'sharper': 5323, 'approximately': 5324, 'objects': 5325, 'paramilitary': 5326, 'ordering': 5327, 'dialogue': 5328, 'slew': 5329, 'helicopters': 5330, 'dick': 5331, 'celtics': 5332, 'payton': 5333, 'collective': 5334, 'foam': 5335, 'investigations': 5336, 'grab': 5337, 'negotiating': 5338, 'sessions': 5339, 'lighter': 5340, 'portland': 5341, 'dive': 5342, 'convincing': 5343, 'amat': 5344, 'embarrassing': 5345, 'estimate': 5346, 'ore': 5347, 'brokered': 5348, 'ambassador': 5349, 'nunez': 5350, 'nasty': 5351, 'suspend': 5352, 'opteron': 5353, 'contributions': 5354, 'pensions': 5355, 'comment': 5356, 'correct': 5357, 'email': 5358, 'disqualified': 5359, 'downturn': 5360, 'tip': 5361, 'outback': 5362, 'purchases': 5363, 'objections': 5364, 'wraps': 5365, 'thessaloniki': 5366, 'kinko': 5367, 'debuts': 5368, 'nextel': 5369, 'arrival': 5370, 'berdych': 5371, 'pirates': 5372, 'greg': 5373, 'labs': 5374, 'attempted': 5375, 'thick': 5376, 'meaning': 5377, 'talented': 5378, 'keyboard': 5379, 'chemicals': 5380, 'aapl': 5381, 'casino': 5382, 'faulty': 5383, 'lease': 5384, 'swift': 5385, 'kalu': 5386, 'ligament': 5387, 'toms': 5388, 'automotive': 5389, 'aluminum': 5390, 'document': 5391, 'reliever': 5392, 'appliance': 5393, 'beckham': 5394, 'televisions': 5395, 'shore': 5396, 'update4': 5397, 'centuries': 5398, 'paes': 5399, 'bhupathi': 5400, 'sync': 5401, 'beef': 5402, 'footballers': 5403, 'nepali': 5404, 'shoots': 5405, 'surprisingly': 5406, 'labels': 5407, 'bob': 5408, 'comfortable': 5409, 'impoverished': 5410, 'commander': 5411, 'rejecting': 5412, 'hutu': 5413, 'jazz': 5414, 'manny': 5415, 'questioned': 5416, 'ferguson': 5417, 'campbell': 5418, 'admission': 5419, 'update3': 5420, 'slight': 5421, 'embarrassment': 5422, 'roughly': 5423, 'narrower': 5424, 'governments': 5425, 'packing': 5426, 'lashed': 5427, 'surcharges': 5428, 'berkeley': 5429, 'overthrow': 5430, 'spurred': 5431, 'retton': 5432, '78': 5433, 'acts': 5434, 'overheating': 5435, 'irish': 5436, 'fujitsu': 5437, 'steroids': 5438, 'nears': 5439, 'earns': 5440, 'cairo': 5441, 'mud': 5442, 'oxford': 5443, 'deploy': 5444, 'siebel': 5445, 'p2pnet': 5446, 'speeds': 5447, 'performed': 5448, 'onslaught': 5449, 'currencies': 5450, 'hyped': 5451, 'counts': 5452, 'celtic': 5453, 'nov': 5454, 'cardiovascular': 5455, 'ueno': 5456, 'spaniard': 5457, 'regime': 5458, 'derek': 5459, 'jeter': 5460, 'awards': 5461, 'agreeing': 5462, 'liquidation': 5463, 'firestone': 5464, 'downtown': 5465, 'auctions': 5466, 'declining': 5467, 'obscure': 5468, 'tribute': 5469, 'shadow': 5470, 'cusp': 5471, 'gambro': 5472, 'flames': 5473, 'weakness': 5474, 'mortgages': 5475, 'overheat': 5476, 'satisfied': 5477, 'accessible': 5478, 'mylan': 5479, 'swapped': 5480, 'carb': 5481, 'reflect': 5482, 'failures': 5483, 'lindsay': 5484, 'finale': 5485, 'scaled': 5486, 'owens': 5487, 'membership': 5488, 'rifle': 5489, 'riaa': 5490, 'frustration': 5491, 'harmison': 5492, 'representative': 5493, 'arnold': 5494, 'feat': 5495, 'awami': 5496, 'somalia': 5497, 'mens': 5498, 'cruises': 5499, 'middlesbrough': 5500, 'inches': 5501, 'rumbled': 5502, 'screamed': 5503, 'zambrano': 5504, 'jackal': 5505, 'ryu': 5506, 'decathlon': 5507, '2010': 5508, 'individuals': 5509, 'hiv': 5510, 'mcpeak': 5511, 'rbot': 5512, 'cska': 5513, 'shoes': 5514, 'effectiveness': 5515, 'ketchup': 5516, 'interbrew': 5517, 'actuate': 5518, 'memorabilia': 5519, 'dambulla': 5520, 'bmw': 5521, 'bae': 5522, 'ingersoll': 5523, 'vioxx': 5524, 'panama': 5525, 'which': 5526, 'riley': 5527, 'pump': 5528, 'purnomo': 5529, 'elderly': 5530, 'eurozone': 5531, 'taps': 5532, 'uae': 5533, 'matters': 5534, 'submitted': 5535, 'conspiring': 5536, 'proposes': 5537, 'hammered': 5538, 'useful': 5539, 'monroe': 5540, 'tapped': 5541, 'letting': 5542, 'forecasters': 5543, 'embryos': 5544, 'skies': 5545, 'knowledge': 5546, 'anthony': 5547, 'denver': 5548, 'yield': 5549, 'tahoe': 5550, 'visual': 5551, 'orbiter': 5552, 'elements': 5553, 'rainfall': 5554, 'toxic': 5555, 'plate': 5556, 'chorus': 5557, 'animal': 5558, 'deployed': 5559, 'lightning': 5560, 'belt': 5561, 'lesson': 5562, 'thinks': 5563, 'versus': 5564, 'solve': 5565, 'explains': 5566, 'poet': 5567, 'expo': 5568, 'all': 5569, 'over': 5570, 'ugly': 5571, 'associate': 5572, 'ron': 5573, 'destruction': 5574, 'evolution': 5575, 'downloaded': 5576, 'moveon': 5577, 'patrick': 5578, 'judicial': 5579, 'who': 5580, 'blocking': 5581, 'crack': 5582, 'snap': 5583, 'streams': 5584, 'impossible': 5585, 'forums': 5586, 'solo': 5587, 'madison': 5588, 'collected': 5589, 'tree': 5590, 'retreated': 5591, 'remembered': 5592, 'aboard': 5593, 'apollo': 5594, 'ear': 5595, 'tall': 5596, 'fairly': 5597, 'olympians': 5598, 'destroying': 5599, 'shortages': 5600, 'wells': 5601, 'captures': 5602, 'neighborhood': 5603, 'samples': 5604, '00': 5605, 'blasted': 5606, 'ngc': 5607, 'sit': 5608, 'listen': 5609, 'convinced': 5610, 'reflecting': 5611, 'measured': 5612, 'embryonic': 5613, 'ambitions': 5614, 'cnet': 5615, 'sender': 5616, 'hangs': 5617, 'drawn': 5618, 'scrimmage': 5619, 'cellular': 5620, 'bundle': 5621, 'exploit': 5622, 'height': 5623, 'pricing': 5624, 'vulnerabilities': 5625, 'recommendations': 5626, 'jeffrey': 5627, 'exclusive': 5628, 'contained': 5629, 'stumbling': 5630, 'tense': 5631, 'packed': 5632, 'jim': 5633, 'introduces': 5634, 'patents': 5635, 'truth': 5636, 'lucky': 5637, 'upgraded': 5638, 'lycos': 5639, 'hype': 5640, 'canceled': 5641, 'alerts': 5642, 'restrictions': 5643, 'redmond': 5644, 'ignore': 5645, 'savvy': 5646, 'suggested': 5647, 'covered': 5648, 'yellow': 5649, 'automated': 5650, 'smile': 5651, 'williamson': 5652, 'require': 5653, 'collins': 5654, '49ers': 5655, 'f1': 5656, 'jails': 5657, 'he': 5658, 'praised': 5659, 'clashed': 5660, 'heavily': 5661, 'yu': 5662, 'breed': 5663, 'installing': 5664, 'fantastic': 5665, 'rafael': 5666, 'todd': 5667, 'triggering': 5668, 'chiefs': 5669, 'farewell': 5670, 'roared': 5671, 'academic': 5672, 'las': 5673, 'incumbent': 5674, 'afford': 5675, 'willis': 5676, 'freelance': 5677, 'adrian': 5678, 'beltre': 5679, 'destroy': 5680, 'dimarco': 5681, 'performances': 5682, 'reversing': 5683, 'values': 5684, 'victories': 5685, 'elusive': 5686, 'compusa': 5687, 'visited': 5688, 'tamil': 5689, 'bet': 5690, 'widened': 5691, 'would': 5692, 'gps': 5693, 'kayak': 5694, 'conservative': 5695, 'seemingly': 5696, 'undisclosed': 5697, 'tiebreaking': 5698, 'thompson': 5699, 'samsung': 5700, 'provincial': 5701, 'backpacker': 5702, 'distributor': 5703, 'swung': 5704, 'alpha': 5705, 'forming': 5706, 'defends': 5707, 'syrian': 5708, 'activist': 5709, 'pending': 5710, 'broaden': 5711, 'rss': 5712, 'feeds': 5713, 'contain': 5714, 'declares': 5715, 'skyrocketing': 5716, 'publisher': 5717, 'implementing': 5718, 'regain': 5719, 'govt': 5720, 'testified': 5721, '110': 5722, 'voices': 5723, 'blown': 5724, 'peacekeeping': 5725, 'pressed': 5726, 'hiding': 5727, 'accuser': 5728, 'buyer': 5729, 'chanting': 5730, 'taylor': 5731, 'gsm': 5732, 'bradley': 5733, 'fights': 5734, 'pattern': 5735, 'publishes': 5736, 'touchdown': 5737, 'v': 5738, 'longest': 5739, 'boxer': 5740, 'doj': 5741, 'exodus': 5742, 'uncovered': 5743, 'revived': 5744, 'backup': 5745, 'sao': 5746, 'disappointed': 5747, 'coughlin': 5748, 'backstroke': 5749, 'drinking': 5750, 'generic': 5751, 'uniform': 5752, 'troublesome': 5753, 'wildcard': 5754, 'margin': 5755, 'retain': 5756, 'charter': 5757, 'memo': 5758, 'reduces': 5759, 'hotter': 5760, 'calayan': 5761, 'birmingham': 5762, 'contention': 5763, 'stressed': 5764, 'handling': 5765, 'moroccan': 5766, 'plunged': 5767, 'pursue': 5768, 'topping': 5769, 'allies': 5770, 'frontier': 5771, 'staples': 5772, 'sentenced': 5773, 'penney': 5774, 'tungsten': 5775, 'resolving': 5776, 'norton': 5777, 'revamped': 5778, 'dangers': 5779, 'assistance': 5780, 'benitez': 5781, 'hosts': 5782, 'modestly': 5783, 'midrange': 5784, 'alcohol': 5785, 'downloading': 5786, 'sandwiches': 5787, 'connectivity': 5788, 'lan': 5789, 'justine': 5790, 'searched': 5791, 'dominican': 5792, 'particular': 5793, 'hk': 5794, 'advisers': 5795, 'sunnyvale': 5796, 'shipped': 5797, 'expelled': 5798, 'scrafton': 5799, 'notice': 5800, 'strengthen': 5801, 'compelling': 5802, 'summary': 5803, 'tomas': 5804, 'merchandise': 5805, 'undecided': 5806, 'sank': 5807, 'beard': 5808, 'aids': 5809, 'craze': 5810, 'strapped': 5811, 'codes': 5812, 'bloom': 5813, 'timing': 5814, 'roots': 5815, 'wheat': 5816, 'modified': 5817, 'settling': 5818, 'alleges': 5819, 'flared': 5820, 'bands': 5821, 'clothes': 5822, 'lumber': 5823, 'integrate': 5824, 'desperately': 5825, 'custom': 5826, 'orphanage': 5827, 'topped': 5828, 'triton': 5829, 'hurled': 5830, 'junior': 5831, 'ethernet': 5832, 'treated': 5833, 'developments': 5834, 'discounted': 5835, 'midfielder': 5836, 'er': 5837, 'refuses': 5838, 'torrential': 5839, 'dismantling': 5840, 'canberra': 5841, 'occurred': 5842, 'lacks': 5843, 'seats': 5844, 'bizarre': 5845, 'miller': 5846, 'overcomes': 5847, 'linking': 5848, 'kate': 5849, 'raw': 5850, 'clinton': 5851, 'tarnished': 5852, 'likes': 5853, 'foreigners': 5854, 'rewards': 5855, 'terry': 5856, 'prostitute': 5857, 'clutch': 5858, 'hander': 5859, 'dating': 5860, 'deserved': 5861, 'sardinian': 5862, 'nys': 5863, 'telekom': 5864, 'pent': 5865, 'scan': 5866, 'shoe': 5867, 'robbed': 5868, 'dope': 5869, 'bellsouth': 5870, 'nathan': 5871, '293': 5872, 'more': 5873, 'defying': 5874, '74': 5875, 'alonso': 5876, 'ambush': 5877, 'formal': 5878, 'fares': 5879, 'fr': 5880, 'indianapolis': 5881, 'routing': 5882, 'messier': 5883, 'milan': 5884, 'amsterdam': 5885, 'devastated': 5886, 'reacted': 5887, 'firing': 5888, 'foul': 5889, 'mad': 5890, 'ousted': 5891, 'immigrants': 5892, 'colgate': 5893, 'adewale': 5894, 'mdt': 5895, 'eliminate': 5896, 'mediterranean': 5897, 'demonstrated': 5898, 'promising': 5899, 'caci': 5900, 'substantial': 5901, 'relieved': 5902, 'windfall': 5903, 'residential': 5904, 'rice': 5905, 'shrugs': 5906, 'grenades': 5907, 'rank': 5908, 'spoke': 5909, 'misconduct': 5910, 'buoyed': 5911, 'dominating': 5912, 'techs': 5913, 'ravens': 5914, 'uri': 5915, 'section': 5916, 'protested': 5917, 'mirant': 5918, 'susan': 5919, 'mbeki': 5920, 'cardiac': 5921, 'williamsport': 5922, 'grades': 5923, 'waited': 5924, 'mainly': 5925, 'estrada': 5926, 'transactions': 5927, 'workplace': 5928, 'weren': 5929, 'masterpieces': 5930, 'flares': 5931, 'migration': 5932, 'papers': 5933, 'recalling': 5934, 'repeat': 5935, 'finishes': 5936, 'woo': 5937, 'ob': 5938, 'featuring': 5939, 'sammy': 5940, 'keys': 5941, 'nordstrom': 5942, 'tricky': 5943, 'bogus': 5944, 'assured': 5945, 'banner': 5946, 'wpp': 5947, 'ultimately': 5948, 'burden': 5949, 'brugnetti': 5950, 'discussions': 5951, 'commanding': 5952, 'tire': 5953, 'warrant': 5954, 'loopholes': 5955, 'velodrome': 5956, 'unpaid': 5957, 'conn': 5958, 'ualaq': 5959, 'saints': 5960, 'exclusivity': 5961, 'leonidas': 5962, 'pete': 5963, 'glitches': 5964, 'bekele': 5965, 'riggs': 5966, 'overton': 5967, 'whiskey': 5968, 'spies': 5969, 'tae': 5970, 'willingham': 5971, 'wiggins': 5972, 'honda': 5973, 'booker': 5974, 'banco': 5975, 'iconic': 5976, 'fertilizer': 5977, 'han': 5978, 'shipment': 5979, 'bodyguards': 5980, 'sprinting': 5981, 'kadyrov': 5982, 'shujaat': 5983, 'boos': 5984, 'mountains': 5985, 'indictment': 5986, 'ft': 5987, 'immigration': 5988, 'experiments': 5989, 'mactier': 5990, 'cromwell': 5991, 'guerrouj': 5992, 'newbery': 5993, 'aramis': 5994, 'atalanta': 5995, 'biffle': 5996, 'pikes': 5997, 'dario': 5998, 'collaborate': 5999, 'glacier': 6000, 'tobacco': 6001, 'comcast': 6002, 'peeping': 6003, 'mutola': 6004, 'farther': 6005, 'naturally': 6006, 'bonderman': 6007, 'chipset': 6008, 'whisky': 6009, 'distiller': 6010, 'smfg': 6011, 'possis': 6012, 'vz': 6013, 'windsurfer': 6014, 'middleweight': 6015, 'winamp': 6016, 'mourning': 6017, 'simpler': 6018, 'docherty': 6019, 'exiles': 6020, 'bertuzzi': 6021, 'cohen': 6022, 'amr': 6023, 'claw': 6024, '98': 6025, 'trillion': 6026, 'desk': 6027, 'employer': 6028, 'yusgiantoro': 6029, 'finances': 6030, 'shuts': 6031, 'fatal': 6032, 'float': 6033, 'reverse': 6034, \"''\": 6035, 'lynn': 6036, 'switching': 6037, 'ultimate': 6038, 'deck': 6039, 'fashion': 6040, 'monkeys': 6041, 'parking': 6042, 'blues': 6043, 'favourites': 6044, 'bangkok': 6045, 'views': 6046, 'concrete': 6047, 'founded': 6048, 'mails': 6049, 'designate': 6050, 'blogs': 6051, 'minority': 6052, 'solved': 6053, 'cracking': 6054, 'bulk': 6055, 'smell': 6056, 'skepticism': 6057, 'plague': 6058, 'rescuers': 6059, 'washed': 6060, 'obvious': 6061, 'heating': 6062, 'stages': 6063, 'grown': 6064, '700': 6065, 'cleanup': 6066, 'indicate': 6067, 'patterns': 6068, 'eggs': 6069, 'locusts': 6070, 'invasion': 6071, 'looms': 6072, 'liberal': 6073, 'opposite': 6074, 'not': 6075, 'there': 6076, 'configuration': 6077, 'unclear': 6078, 'releasing': 6079, 'moral': 6080, 'character': 6081, 'crashing': 6082, 'chair': 6083, 'advised': 6084, 'reg': 6085, 'stopping': 6086, 'ofcom': 6087, 'forged': 6088, 'pirated': 6089, 'providence': 6090, 'drink': 6091, 'fairfax': 6092, 'hail': 6093, 'agenda': 6094, 'honey': 6095, 'bees': 6096, 'brutal': 6097, 'traced': 6098, 'dry': 6099, 'strongly': 6100, 'duke': 6101, 'continent': 6102, 'streaking': 6103, 'evolved': 6104, 'africans': 6105, 'upward': 6106, 'iss': 6107, 'huygens': 6108, 'detect': 6109, 'knocking': 6110, 'elaine': 6111, 'maneuver': 6112, 'kazakhstan': 6113, 'telescopes': 6114, 'doughnut': 6115, 'active': 6116, 'caution': 6117, 'bites': 6118, 'saves': 6119, 'ed': 6120, 'germ': 6121, 'sciences': 6122, 'defended': 6123, 'examine': 6124, 'follows': 6125, 'admitting': 6126, 'incoming': 6127, 'installed': 6128, 'badly': 6129, 'enhancements': 6130, 'metro': 6131, 'intentionally': 6132, 'app': 6133, 'strategies': 6134, 'cancels': 6135, 'thoughts': 6136, 'questionable': 6137, 'infocus': 6138, 'discusses': 6139, 'router': 6140, 'outlined': 6141, 'columnists': 6142, 'ideal': 6143, 'stanford': 6144, 'klete': 6145, 'keller': 6146, 'victor': 6147, 'kohler': 6148, 'beam': 6149, 'rodriguez': 6150, 'yielded': 6151, 'overlooking': 6152, 'dorman': 6153, 'resting': 6154, 'gp': 6155, 'govern': 6156, 'koreans': 6157, 'disputed': 6158, 'fragile': 6159, 'mate': 6160, 'legislation': 6161, 'nato': 6162, 'counterpart': 6163, 'captors': 6164, 'execution': 6165, 'wore': 6166, 'dawn': 6167, '1992': 6168, 'pilgrims': 6169, 'collapsed': 6170, 'shiites': 6171, 'basis': 6172, 'nanotechnology': 6173, 'ai': 6174, 'mounting': 6175, 'poland': 6176, 'exporter': 6177, '1988': 6178, 'wary': 6179, 'bout': 6180, 'wound': 6181, 'emotional': 6182, 'iron': 6183, 'encourage': 6184, 'wrist': 6185, 'ultimatum': 6186, 'randy': 6187, 'diamondbacks': 6188, 'jenkins': 6189, 'luis': 6190, 'koskie': 6191, 'briefs': 6192, 'xm': 6193, 'freezing': 6194, 'questioning': 6195, 'broncos': 6196, \"world's\": 6197, 'rbis': 6198, 'psychological': 6199, 'religion': 6200, '83': 6201, 'ace': 6202, 'kosuke': 6203, 'calendar': 6204, 'vision': 6205, 'disappeared': 6206, 'complaint': 6207, 'patching': 6208, 'responded': 6209, 'marry': 6210, 'reprieve': 6211, 'kentucky': 6212, 'shifting': 6213, 'integrity': 6214, 'megawati': 6215, 'false': 6216, 'lifepoint': 6217, 'ivan': 6218, 'warehouse': 6219, 'benjamin': 6220, 'debts': 6221, '07': 6222, 'domination': 6223, 'tribune': 6224, 'smashed': 6225, 'listed': 6226, 'funded': 6227, 'nets': 6228, 'lit': 6229, 'casualties': 6230, 'bicycle': 6231, 'presented': 6232, 'dumping': 6233, 'shelf': 6234, 'waving': 6235, 'nile': 6236, 'strokes': 6237, 'counties': 6238, 'credentials': 6239, 'sensational': 6240, 'ozzie': 6241, 'freshman': 6242, 'courtney': 6243, 'jimmy': 6244, 'dubai': 6245, 'memories': 6246, 'glorious': 6247, 'snatch': 6248, 'medicare': 6249, 'oriented': 6250, 'calgary': 6251, '1990s': 6252, 'shrinking': 6253, 'gray': 6254, 'grievance': 6255, 'mounted': 6256, 'visually': 6257, 'impaired': 6258, 'introduction': 6259, 'houses': 6260, 'majors': 6261, 'distributed': 6262, 'lowering': 6263, 'cemetery': 6264, 'donations': 6265, 'simulated': 6266, 'harmony': 6267, 'miguel': 6268, 'utility': 6269, 'pujols': 6270, 'valuable': 6271, 'filipino': 6272, 'tenders': 6273, 'tourists': 6274, 'leagues': 6275, 'controversies': 6276, 'blames': 6277, 'bujumbura': 6278, 'mired': 6279, 'embraced': 6280, '140': 6281, 'hospitality': 6282, 'trim': 6283, 'revealing': 6284, 'redesigned': 6285, 'mood': 6286, 't3': 6287, 'rashid': 6288, 'shaken': 6289, 'tumbles': 6290, 'algae': 6291, 'renegade': 6292, 'benefited': 6293, 'compatibility': 6294, 'prospective': 6295, 'operated': 6296, 'requested': 6297, 'postpones': 6298, 'demonstration': 6299, 'miner': 6300, 'maktoum': 6301, 'mills': 6302, 'telegraph': 6303, 'fitzgerald': 6304, 'layer': 6305, 'genuine': 6306, 'marched': 6307, 'february': 6308, 'revival': 6309, 'protecting': 6310, 'lara': 6311, 'gerhard': 6312, 'shoulders': 6313, 'relating': 6314, 'agreements': 6315, 'circles': 6316, 'crunch': 6317, 'subsidiary': 6318, 'rcmp': 6319, 'frost': 6320, 'abby': 6321, 'tycoon': 6322, 'rollout': 6323, 'ohalete': 6324, 'stephen': 6325, 'arguments': 6326, 'pandemic': 6327, 'observation': 6328, 'markdowns': 6329, 'australians': 6330, 'qb': 6331, 'commitment': 6332, 'gauntlet': 6333, 'aired': 6334, 'vacation': 6335, 'colored': 6336, 'escapes': 6337, 'zagunis': 6338, 'accepting': 6339, 'reeling': 6340, 'studying': 6341, 'connects': 6342, 'cops': 6343, 'declines': 6344, 'electric': 6345, 'guidelines': 6346, 'consulting': 6347, 'assist': 6348, 'excellent': 6349, 'canadians': 6350, 'anterior': 6351, 'cruciate': 6352, 'fractured': 6353, 'medics': 6354, 'stricken': 6355, 'covering': 6356, 'hoops': 6357, 'reactor': 6358, 'funeral': 6359, 'heated': 6360, 'assassinate': 6361, 'vets': 6362, 'friend': 6363, 'strengthening': 6364, 'anglo': 6365, 'hudson': 6366, 'crushed': 6367, 'eyeing': 6368, 'damon': 6369, \"o'hare\": 6370, 'rockies': 6371, 'outlines': 6372, 'adviser': 6373, 'indexes': 6374, 'fielder': 6375, 'suzuki': 6376, 'dan': 6377, 'topple': 6378, 'disrupting': 6379, 'hellas': 6380, 'hammer': 6381, 'angered': 6382, 'murdoch': 6383, 'trained': 6384, 'rowers': 6385, 'reaffirmed': 6386, 'blackrock': 6387, 'slams': 6388, 'ballpark': 6389, 'gun': 6390, 'bruijn': 6391, 'intention': 6392, 'leander': 6393, 'neighbouring': 6394, 'cooperate': 6395, 'producers': 6396, 'usage': 6397, 'guarding': 6398, 'murdered': 6399, 'refinancings': 6400, 'avian': 6401, 'insiders': 6402, 'propelled': 6403, 'peaceful': 6404, 'economies': 6405, 'isp': 6406, 'fled': 6407, 'mohammad': 6408, 'lied': 6409, 'heroes': 6410, 'canoe': 6411, 'youngest': 6412, 'architecture': 6413, 'frances': 6414, 'merge': 6415, 'located': 6416, 'retires': 6417, 'relying': 6418, 'ranges': 6419, 'plastic': 6420, 'dump': 6421, 'skeptical': 6422, 'scramble': 6423, 'scrambled': 6424, 'abortion': 6425, 'ho': 6426, 'shrines': 6427, 'redwood': 6428, 'jurors': 6429, 'arrangement': 6430, 'routines': 6431, 'rallying': 6432, 'courtroom': 6433, 'infections': 6434, 'professionals': 6435, 'vacuum': 6436, 'cleaning': 6437, 'anonymous': 6438, 'shuttles': 6439, 'lucent': 6440, 'condition': 6441, 'austin': 6442, 'synopsys': 6443, 'reductions': 6444, 'defeats': 6445, 'mideast': 6446, 'pettitte': 6447, 'fre': 6448, 'intellectual': 6449, 'amazing': 6450, 'male': 6451, 'peninsula': 6452, 'pti': 6453, 'combine': 6454, 'lying': 6455, 'doubleheader': 6456, 'calf': 6457, 'johan': 6458, 'reliability': 6459, 'en': 6460, 'command': 6461, 'speak': 6462, 'johannesburg': 6463, 'janjaweed': 6464, 'shin': 6465, 'bonanza': 6466, 'inn': 6467, 'damaged': 6468, 'criticize': 6469, 'abruptly': 6470, 'quarterfinal': 6471, 'outs': 6472, 'click': 6473, 'contractors': 6474, 'cavaliers': 6475, 'defy': 6476, 'katmandu': 6477, 'advancing': 6478, 'bans': 6479, 'retire': 6480, 'paso': 6481, 'il': 6482, 'beware': 6483, 'columns': 6484, 'raymond': 6485, 'hutchison': 6486, 'dreamed': 6487, 'davita': 6488, 'queen': 6489, 'tcs': 6490, 'hatch': 6491, 'fries': 6492, '450': 6493, 'genes': 6494, 'affects': 6495, 'riddick': 6496, 'disqualification': 6497, 'nc': 6498, 'hearts': 6499, 'ma': 6500, 'oklahoma': 6501, 'gunships': 6502, 'shines': 6503, 'streamcast': 6504, 'interrogators': 6505, 'salesforce': 6506, 'vanguard': 6507, 'lightly': 6508, 'gill': 6509, 'icon': 6510, 'administrative': 6511, 'panda': 6512, 'gauge': 6513, 'reinstatement': 6514, 'stephon': 6515, 'loser': 6516, 'lays': 6517, 'twists': 6518, 'falluja': 6519, 'spirits': 6520, '93': 6521, 'websites': 6522, 'tossed': 6523, 'psychologist': 6524, 'microchip': 6525, 'go2joy': 6526, 'secretly': 6527, 'ggp': 6528, 'theater': 6529, 'cannons': 6530, 'duty': 6531, 'speedway': 6532, 'master': 6533, 'subpoenas': 6534, 'bookings': 6535, 'promoter': 6536, 'shops': 6537, 'gmail': 6538, 'boyfriend': 6539, 'detainee': 6540, 'awaiting': 6541, 'heels': 6542, 'paulo': 6543, 'liquor': 6544, 'curt': 6545, 'wendy': 6546, '271': 6547, 'northwestern': 6548, 'nazis': 6549, 'wajed': 6550, 'pittman': 6551, 'consistent': 6552, 'imposition': 6553, 'exhausted': 6554, 'inheritance': 6555, 'gamble': 6556, 'defect': 6557, 'executed': 6558, 'denounced': 6559, 'chelsea': 6560, 'ordinary': 6561, 'robbers': 6562, 'wounds': 6563, 'bengie': 6564, 'tejada': 6565, 'imprisoned': 6566, 'masked': 6567, 'kiwi': 6568, 'reliable': 6569, 'squash': 6570, 'taiwanese': 6571, 'imbecile': 6572, 'numerous': 6573, 'departure': 6574, 'bahrain': 6575, 'tsoumeleka': 6576, 'allyson': 6577, 'macapagal': 6578, 'pharmaceuticals': 6579, 'transmeta': 6580, 'tsmc': 6581, 'smic': 6582, 'truckload': 6583, 'sch': 6584, 'amcor': 6585, 'csco': 6586, 'motive': 6587, 'robbins': 6588, 'proposing': 6589, 'youngs': 6590, 'holly': 6591, 'readying': 6592, 'reservist': 6593, 'zingarevich': 6594, 'postbank': 6595, 'goaltender': 6596, '11a': 6597, 'logicalis': 6598, 'brethren': 6599, 'nemov': 6600, 'jeers': 6601, 'regulation': 6602, 'tender': 6603, 'kharrazi': 6604, 'kazmir': 6605, 'rigas': 6606, 'portals': 6607, 'brewery': 6608, 'wimax': 6609, 'countrys': 6610, 'foma': 6611, 'stealth': 6612, 'jetliners': 6613, 'sunflower': 6614, 'thaksin': 6615, 'soften': 6616, 'rezazadeh': 6617, 'sfd': 6618, 'bevan': 6619, 'saltwater': 6620, 'snare': 6621, 'ambev': 6622, 'icann': 6623, 'sellers': 6624, 'dwindling': 6625, 'halted': 6626, 'straining': 6627, 'wallets': 6628, 'offsetting': 6629, 'scorching': 6630, 'bosses': 6631, 'experiences': 6632, 'trimmed': 6633, 'trevor': 6634, 'secrecy': 6635, 'conclusion': 6636, 'guided': 6637, 'neighborhoods': 6638, 'weapon': 6639, 'flooding': 6640, 'brighter': 6641, 'carmaker': 6642, 'dazzling': 6643, 'artist': 6644, 'mainstream': 6645, 'tourism': 6646, 'destinations': 6647, 'feed': 6648, 'autodesk': 6649, 'collaboration': 6650, 'hosted': 6651, 'corrected': 6652, 'famed': 6653, '145': 6654, 'mph': 6655, 'intensity': 6656, 'boats': 6657, 'soul': 6658, 'other': 6659, 'clone': 6660, 'alien': 6661, 'alike': 6662, 'rats': 6663, 'uncertainty': 6664, 'prototype': 6665, 'rodents': 6666, 'refuge': 6667, 'loose': 6668, 'alongside': 6669, 'arriving': 6670, 'southeastern': 6671, 'meteorologists': 6672, 'flip': 6673, 'noted': 6674, 'stellar': 6675, 'restricted': 6676, 'squarely': 6677, 'lunar': 6678, 'shortfall': 6679, 'barred': 6680, 'dolphin': 6681, 'aging': 6682, 'explorers': 6683, 'pit': 6684, 'kenny': 6685, 'declaration': 6686, 'turtle': 6687, 'explanation': 6688, '125': 6689, 'exaggerated': 6690, 'metals': 6691, 'nino': 6692, 'ringed': 6693, 'humans': 6694, 'gift': 6695, 'trash': 6696, 'descending': 6697, 'misery': 6698, 'confront': 6699, 'requires': 6700, 'childhood': 6701, 'max': 6702, 'startup': 6703, 'liberty': 6704, 'their': 6705, 'colonial': 6706, 'warn': 6707, 'ntp': 6708, 'wrote': 6709, 'implementation': 6710, 'first': 6711, 'serves': 6712, 'traces': 6713, 'exception': 6714, 'predicting': 6715, 'involves': 6716, 'jordan': 6717, 'adolf': 6718, 'iii': 6719, 'were': 6720, 'browsers': 6721, 'readers': 6722, 'spoken': 6723, 'lifestyle': 6724, 'signatures': 6725, 'fake': 6726, 'organizing': 6727, 'photographs': 6728, 'rob': 6729, 'aspects': 6730, 'majoras': 6731, 'bioveris': 6732, 'god': 6733, 'protein': 6734, 'ears': 6735, 'diverse': 6736, 'monster': 6737, 'inspire': 6738, 'module': 6739, 'origin': 6740, 'detected': 6741, 'earths': 6742, 'gases': 6743, 'urging': 6744, 'shaped': 6745, 'harvard': 6746, 'couch': 6747, 'insect': 6748, 'complications': 6749, 'procedures': 6750, 'computerized': 6751, 'stance': 6752, 'ira': 6753, 'persist': 6754, 'steer': 6755, 'horse': 6756, 'blu': 6757, 'palm': 6758, 'edward': 6759, 'cited': 6760, 'q2': 6761, \"'1\": 6762, 'clk': 6763, 'pseries': 6764, 'microprocessor': 6765, 'sms': 6766, 'portal': 6767, 'antispam': 6768, 'multifunction': 6769, 'approaches': 6770, 'ignoring': 6771, 'closure': 6772, 'reopen': 6773, 'roar': 6774, 'hook': 6775, 'careful': 6776, 'topics': 6777, 'tired': 6778, 'invade': 6779, 'designers': 6780, 'claria': 6781, 'difference': 6782, 'jon': 6783, 'busch': 6784, '69': 6785, 'chipper': 6786, 'lies': 6787, 'eights': 6788, 'avoiding': 6789, 'sand': 6790, 'greeted': 6791, 'birdies': 6792, 'preparations': 6793, 'worrying': 6794, 'sensation': 6795, 'violated': 6796, 'grid': 6797, 'epa': 6798, 'mortars': 6799, '2008': 6800, 'withdraws': 6801, 'iyad': 6802, 'fuels': 6803, 'armor': 6804, 'fireworks': 6805, 'attended': 6806, 'switched': 6807, 'nutrition': 6808, 'assignment': 6809, 'atp': 6810, 'trio': 6811, 'ming': 6812, 'ferrari': 6813, 'may': 6814, 'credited': 6815, 'persistent': 6816, 'criminals': 6817, 'polling': 6818, 'jam': 6819, 'mount': 6820, 'sizzling': 6821, 'sidelined': 6822, 'reservists': 6823, 'sweeps': 6824, 'embraces': 6825, 'gate': 6826, 'trouncing': 6827, 'nova': 6828, 'scotia': 6829, 'falters': 6830, 'seals': 6831, 'wedding': 6832, 'caps': 6833, 'fred': 6834, 'snaps': 6835, 'deeply': 6836, 'stuns': 6837, 'mound': 6838, 'oversee': 6839, 'tennessee': 6840, 'chase': 6841, 'molestation': 6842, 'mcgreevey': 6843, 'nymex': 6844, 'shine': 6845, 'unseeded': 6846, 'nicole': 6847, 'nanotech': 6848, 'brave': 6849, 'torture': 6850, 'endless': 6851, 'swings': 6852, 'rushed': 6853, 'disrupted': 6854, 'kicks': 6855, 'sad': 6856, 'nasiriyah': 6857, 'prudential': 6858, 'applause': 6859, 'factions': 6860, 'swatch': 6861, 'trailed': 6862, 'liabilities': 6863, 'dogged': 6864, 'mergers': 6865, 'sysco': 6866, 'trails': 6867, 'tape': 6868, 'ux': 6869, 'anarchists': 6870, 'gtw': 6871, 'hlinka': 6872, 'flexibility': 6873, 'stays': 6874, 'edging': 6875, 'examination': 6876, 'wholesecurity': 6877, 'fantasy': 6878, 'ec': 6879, 'invoices': 6880, 'outlooks': 6881, 'daimlerchrysler': 6882, 'dented': 6883, 'mcafee': 6884, 'stone': 6885, 'realignment': 6886, 'bullish': 6887, 'imagine': 6888, 'downgrade': 6889, 'surprised': 6890, 'assailants': 6891, 'bed': 6892, 'drilling': 6893, 'restaurant': 6894, 'opposes': 6895, 'element': 6896, 'suspends': 6897, 'thorpedo': 6898, 'psft': 6899, 'casual': 6900, 'mentioned': 6901, 'antonio': 6902, 'inspections': 6903, 'clears': 6904, 'senators': 6905, 'pill': 6906, 'hamstring': 6907, 'ken': 6908, 'pullback': 6909, 'kernel': 6910, 'suse': 6911, 'packages': 6912, 'bundled': 6913, 'x86': 6914, 'trademark': 6915, 'li': 6916, 'geoff': 6917, 'steals': 6918, 'kidnap': 6919, 'ethiopia': 6920, 'christmas': 6921, '1984': 6922, 'roster': 6923, 'revolt': 6924, 'bound': 6925, 'respect': 6926, 'genocide': 6927, 'intensify': 6928, 'interviews': 6929, 'doug': 6930, 'decisive': 6931, 'background': 6932, '1998': 6933, 'installation': 6934, 'disclosure': 6935, 'tout': 6936, 'lo': 6937, 'riding': 6938, 'coke': 6939, 'cola': 6940, 'albert': 6941, 'sustain': 6942, 'depleted': 6943, 'appealing': 6944, 'sheet': 6945, 'adopts': 6946, 'ernie': 6947, 'ally': 6948, 'garcia': 6949, 'migrants': 6950, 'princess': 6951, 'dye': 6952, 'smooth': 6953, 'sudden': 6954, 'dance': 6955, 'fenway': 6956, 'legitimate': 6957, 'burundian': 6958, 'charts': 6959, 'shelter': 6960, 'tussle': 6961, '1b': 6962, 'chains': 6963, 'jcp': 6964, 'zire': 6965, 'lezak': 6966, 'commanders': 6967, 'abdul': 6968, 'welfare': 6969, 'transition': 6970, 'boots': 6971, 'avenue': 6972, 'journey': 6973, 'agricultural': 6974, 'resistance': 6975, 'sparks': 6976, 'venue': 6977, 'cantor': 6978, 'span': 6979, 'constitution': 6980, 'revolutionary': 6981, 'compromised': 6982, 'stranger': 6983, 'daughter': 6984, 'smuggling': 6985, 'seas': 6986, 'lithuanian': 6987, 'mardy': 6988, 'lojack': 6989, 'operates': 6990, 'update5': 6991, 'islands': 6992, 'turnaround': 6993, 'ieee': 6994, 'pda': 6995, 'wrapped': 6996, 'porch': 6997, 'logistics': 6998, 'convince': 6999, 'diameter': 7000, 'courtesy': 7001, 'trigger': 7002, 'select': 7003, 'goran': 7004, 'bounty': 7005, 'locked': 7006, 'upholds': 7007, 'overwhelming': 7008, 'laboratories': 7009, 'oscar': 7010, 'contender': 7011, 'competitions': 7012, 'looming': 7013, 'backward': 7014, 'remarks': 7015, 'coyotes': 7016, 'communication': 7017, 'troubles': 7018, 'opportunities': 7019, 'graffiti': 7020, 'mariel': 7021, 'rnwk': 7022, 'lingering': 7023, 'interface': 7024, 'underlined': 7025, 'lining': 7026, 'institutions': 7027, 'narrowly': 7028, 'duel': 7029, 'excess': 7030, 'pier': 7031, 'crowned': 7032, 'aggression': 7033, 'smb': 7034, 'emissions': 7035, 'gesture': 7036, 'golfer': 7037, 'bgp': 7038, 'bookseller': 7039, '3q': 7040, 'surpassed': 7041, 'enabling': 7042, 'hotspots': 7043, 'jamaican': 7044, 'humiliating': 7045, 'restated': 7046, 'exchanges': 7047, 'pancreatitis': 7048, 'ekaterini': 7049, 'orleans': 7050, 'policemen': 7051, 'improves': 7052, 'crush': 7053, 'obstacles': 7054, 'legs': 7055, 'minerals': 7056, 'kupets': 7057, 'pornography': 7058, 'cream': 7059, 'stat': 7060, 'stockholm': 7061, 'kilogram': 7062, 'grain': 7063, 'dampier': 7064, 'kingston': 7065, 'santos': 7066, 'constitutional': 7067, 'chasing': 7068, 'ringtones': 7069, '96': 7070, 'loud': 7071, 'mlb': 7072, 'bag': 7073, 'shamed': 7074, 'highway': 7075, 'warfare': 7076, 'lovers': 7077, 'scholarship': 7078, 'provoked': 7079, 'olive': 7080, 'roadblock': 7081, 'weaknesses': 7082, 'spectator': 7083, 'downs': 7084, 'prior': 7085, 'bull': 7086, 'sprints': 7087, 'veronica': 7088, 'discussing': 7089, 'impose': 7090, 'inventories': 7091, 'representatives': 7092, 'neighbours': 7093, 'cds': 7094, 'romance': 7095, 'vie': 7096, 'publicized': 7097, 'acquittal': 7098, 'talbots': 7099, '1997': 7100, 'establishing': 7101, 'taser': 7102, 'stun': 7103, 'standstill': 7104, 'furniture': 7105, 'participation': 7106, 'slack': 7107, 'vanish': 7108, 'blunt': 7109, 'ipos': 7110, 'busting': 7111, 'centres': 7112, 'lebron': 7113, 'pet': 7114, 'reviewing': 7115, 'anfield': 7116, 'plagued': 7117, 'wilkinson': 7118, 'hero': 7119, 'disarmament': 7120, 'stockpiles': 7121, 'diamond': 7122, 'athletic': 7123, 'activated': 7124, 'indiana': 7125, 'sql': 7126, 'lloyds': 7127, 'tsb': 7128, 'noise': 7129, 'fines': 7130, 'disgraced': 7131, 'rubble': 7132, 'figo': 7133, 'rainy': 7134, 'lamy': 7135, 'touche': 7136, 'surges': 7137, 'fledgling': 7138, 'wsj': 7139, 'balco': 7140, 'lender': 7141, 'els': 7142, 'gonzalez': 7143, 'giambi': 7144, 'slim': 7145, 'obasanjo': 7146, 'explained': 7147, 'keyword': 7148, 'perform': 7149, 'raptors': 7150, 'wen': 7151, 'sensor': 7152, 'risky': 7153, 'implemented': 7154, 'ossetian': 7155, 'stable': 7156, 'dirt': 7157, 'plug': 7158, 'populations': 7159, 'statements': 7160, 'methods': 7161, 'cyclists': 7162, 'surpassing': 7163, 'agony': 7164, 'bulgaria': 7165, 'racking': 7166, 'deserter': 7167, 'scottish': 7168, 'snyder': 7169, 'periods': 7170, '311': 7171, 'dal': 7172, 'wright': 7173, 'tantalizing': 7174, 'observed': 7175, 'acclaim': 7176, 'vaughan': 7177, 'tragedy': 7178, 'tale': 7179, 'breath': 7180, 'staying': 7181, 'messages': 7182, 'disband': 7183, 'booed': 7184, 'saulnier': 7185, 'gods': 7186, 'makeover': 7187, 'vaccines': 7188, 'chicken': 7189, 'brady': 7190, 'competed': 7191, 'impending': 7192, 'accelerating': 7193, 'edt': 7194, 'established': 7195, 'musicians': 7196, 'defender': 7197, 'complain': 7198, 'clubs': 7199, 'wrongdoing': 7200, 'pasadena': 7201, 'goodbye': 7202, 'pan': 7203, 'interference': 7204, 'fading': 7205, 'xml': 7206, 'microchips': 7207, 'uffizi': 7208, 'ciena': 7209, 'ab': 7210, 'navistar': 7211, 'hey': 7212, 'lagged': 7213, 'kroger': 7214, 'passage': 7215, 'erts': 7216, 'simon': 7217, 'attached': 7218, 'bowe': 7219, 'lures': 7220, 'rapped': 7221, '57': 7222, 'excitement': 7223, 'counterparts': 7224, 'challenger': 7225, 'stealing': 7226, 'dent': 7227, 'surplus': 7228, 'catastrophe': 7229, 'icahn': 7230, 'voluntarily': 7231, 'bluff': 7232, 'angel': 7233, 'eolas': 7234, 'overruns': 7235, 'crystl': 7236, 'bustos': 7237, 'socialists': 7238, 'begged': 7239, 'pose': 7240, 'panic': 7241, 'logic': 7242, 'gross': 7243, 'morgan': 7244, 'parachutes': 7245, 'diva': 7246, 'regularly': 7247, 'josh': 7248, 'graphic': 7249, 'semiconductors': 7250, 'debuted': 7251, 'fallujah': 7252, 'confined': 7253, 'completely': 7254, 'hague': 7255, 'agfa': 7256, 'gevaert': 7257, 'lcds': 7258, 'deceptive': 7259, 'bags': 7260, 'enjoy': 7261, 'elegant': 7262, 'minds': 7263, 'mention': 7264, 'detonated': 7265, 'shouldn': 7266, '1991': 7267, 'elect': 7268, 'cry': 7269, 'crippling': 7270, 'stringent': 7271, 'injected': 7272, 'propaganda': 7273, 'rse': 7274, 'arkansas': 7275, 'assigned': 7276, 'deny': 7277, 'antidepressants': 7278, 'brent': 7279, 'reiterated': 7280, '9th': 7281, 'concert': 7282, 'baggage': 7283, 'ject': 7284, 'novel': 7285, 'wreck': 7286, 'husseini': 7287, 'webb': 7288, 'recruits': 7289, 'invested': 7290, 'reno': 7291, 'offenses': 7292, 'bulgarian': 7293, 'atomic': 7294, 'still': 7295, 'nassiriya': 7296, 'irs': 7297, 'proxy': 7298, 'lap': 7299, 'acknowledging': 7300, 'permit': 7301, 'bows': 7302, 'comply': 7303, 'recognize': 7304, 'defrauded': 7305, 'clubhouse': 7306, 'herald': 7307, 'fruit': 7308, 'saratoga': 7309, 'springs': 7310, 'smugglers': 7311, 'hess': 7312, 'jana': 7313, 'forlan': 7314, 'denounces': 7315, 'montgomery': 7316, 'mafia': 7317, 'speedy': 7318, 'amelie': 7319, 'marty': 7320, 'correspondent': 7321, 'baker': 7322, 'cooks': 7323, 'mohr': 7324, 'irl': 7325, 'hee': 7326, 'stranded': 7327, 'chaudhry': 7328, 'disney': 7329, 'relaxed': 7330, 'semitic': 7331, 'bear': 7332, 'gibernau': 7333, 'handover': 7334, '16th': 7335, 'literally': 7336, 'surf': 7337, 'thierry': 7338, 'braces': 7339, 'cheer': 7340, 'semitism': 7341, 'atrocities': 7342, 'waterhouse': 7343, 'mumbai': 7344, 'highbury': 7345, 'alberta': 7346, 'cide': 7347, 'hydrogen': 7348, 'graham': 7349, 'firmer': 7350, 'sonic': 7351, 'library': 7352, 'focuses': 7353, 'billabong': 7354, 'pretrial': 7355, 'kirk': 7356, 'francorchamps': 7357, 'jihad': 7358, 'sexually': 7359, 'arti': 7360, 'bodyguard': 7361, 'adams': 7362, 'malabo': 7363, 'islamist': 7364, 'drugmaker': 7365, 'compliance': 7366, 'isvs': 7367, 'speculators': 7368, 'campuses': 7369, 'anytime': 7370, 'weblogic': 7371, 'savage': 7372, 'mcteer': 7373, 'troubling': 7374, 'inks': 7375, 'discus': 7376, 'friendster': 7377, 'pappas': 7378, 'alexei': 7379, 'amstelveen': 7380, 'fosters': 7381, 'petrol': 7382, 'candrea': 7383, 'philip': 7384, 'eastman': 7385, 'mods': 7386, 'squeeze': 7387, 'unwind': 7388, 'hj': 7389, 'frango': 7390, 'foudy': 7391, 'jeeves': 7392, 'asteroid': 7393, 'mcleish': 7394, 'grape': 7395, 'jibjab': 7396, 'hijack': 7397, 'loretta': 7398, 'harrop': 7399, 'bombardier': 7400, 'jingjing': 7401, 'blogger': 7402, 'conflicting': 7403, 'reservation': 7404, 'sbux': 7405, 'pinewood': 7406, 'pierzynski': 7407, 'carbide': 7408, 'strongest': 7409, 'ahold': 7410, 'lashko': 7411, 'swelled': 7412, 'quicktime': 7413, 'casio': 7414, 'mba': 7415, 'masri': 7416, 'centurytel': 7417, 'echostar': 7418, 'auditing': 7419, 'interpol': 7420, 'dwight': 7421, 'fluvirin': 7422, 'sterility': 7423, 'jawbone': 7424, 'halts': 7425, 'menace': 7426, 'indicating': 7427, 'earning': 7428, 'bullet': 7429, 'folks': 7430, '8bn': 7431, '900': 7432, 'reactors': 7433, 'lately': 7434, 'mess': 7435, 'brilliant': 7436, 'letters': 7437, 'bailey': 7438, 'renewal': 7439, 'corner': 7440, 'fences': 7441, 'wealth': 7442, 'jerry': 7443, 'belong': 7444, 'corporations': 7445, 'henderson': 7446, 'fare': 7447, 'walters': 7448, 'tales': 7449, 'myth': 7450, 'encountered': 7451, 'participants': 7452, 'terdiman': 7453, 'propose': 7454, 'sugar': 7455, 'confidential': 7456, 'radar': 7457, 'spurt': 7458, 'dinosaur': 7459, 'eyebrows': 7460, 'comets': 7461, 'jupiter': 7462, 'propulsion': 7463, 'get': 7464, 'exhibit': 7465, 'instrument': 7466, 'administrator': 7467, 'pin': 7468, 'signaling': 7469, 'graduate': 7470, 'reinforce': 7471, 'delight': 7472, 'explore': 7473, 'enjoying': 7474, 'treatments': 7475, 'ansari': 7476, 'clearer': 7477, 'exposure': 7478, 'label': 7479, 'croatia': 7480, 'breeding': 7481, 'contaminated': 7482, 'filling': 7483, 'vessel': 7484, 'ecosystems': 7485, 'beaches': 7486, 'intends': 7487, 'construct': 7488, 'gut': 7489, 'biased': 7490, 'distraction': 7491, 'commercials': 7492, 'guidance': 7493, 'scarce': 7494, 'traveled': 7495, 'behavior': 7496, 'can': 7497, 'static': 7498, 'you': 7499, 'linuxworld': 7500, 'freak': 7501, 'etc': 7502, 'dynamic': 7503, 'some': 7504, 'amazingly': 7505, 'apache': 7506, 'just': 7507, 'up': 7508, 'very': 7509, 'handy': 7510, 'awash': 7511, \"'i\": 7512, 'ayad': 7513, 'utilities': 7514, 'back': 7515, 'vt': 7516, 'disappearing': 7517, 'hardly': 7518, 'teacher': 7519, 'guards': 7520, 'unfortunately': 7521, 'inform': 7522, 'accessing': 7523, 'hijackings': 7524, 'stamp': 7525, 'leslie': 7526, 'liability': 7527, 'debated': 7528, 'timothy': 7529, 'hungry': 7530, 'destination': 7531, 'peers': 7532, 'inflated': 7533, 'alzheimer': 7534, 'accurate': 7535, 'nesting': 7536, '21st': 7537, 'measuring': 7538, 'respond': 7539, 'glaciers': 7540, 'pleasing': 7541, 'experiment': 7542, 'rings': 7543, 'flurry': 7544, 'ancestors': 7545, 'sailors': 7546, 'sacrifices': 7547, 'automatically': 7548, 'undersea': 7549, 'habitat': 7550, 'responding': 7551, 'superb': 7552, 'disk': 7553, 'structures': 7554, 'doors': 7555, 'bangalore': 7556, 'milky': 7557, 'circling': 7558, '03': 7559, 'gather': 7560, 'acting': 7561, 'stomach': 7562, 'stretched': 7563, 'ross': 7564, 'achieved': 7565, 'lady': 7566, 'overstating': 7567, 'techies': 7568, 'tuned': 7569, 'inching': 7570, 'replaces': 7571, 'addresses': 7572, 'viagra': 7573, 'effectively': 7574, 'variant': 7575, 'trojan': 7576, 'blocked': 7577, 'wirelessly': 7578, 'separation': 7579, 'installations': 7580, 'javalobby': 7581, 'img': 7582, 'idg': 7583, 'unsolicited': 7584, 'resign': 7585, 'sister': 7586, 'resource': 7587, 'blockbuster': 7588, 'fallout': 7589, 'blaster': 7590, 'unleashing': 7591, 'networked': 7592, 'superior': 7593, 'creeping': 7594, 'reader': 7595, 'deafening': 7596, 'sits': 7597, 'await': 7598, 'attending': 7599, 'dates': 7600, 'hell': 7601, 'filings': 7602, 'forrester': 7603, 'violate': 7604, 'rsquo': 7605, 'bidders': 7606, 'cybercrime': 7607, 'wlan': 7608, 'examining': 7609, 'intrusion': 7610, 'represents': 7611, 'animated': 7612, 'combines': 7613, 'catalog': 7614, 'factors': 7615, 'pros': 7616, 'honors': 7617, 'nearing': 7618, 'columbus': 7619, 'trojans': 7620, 'cracked': 7621, 'crews': 7622, 'esteban': 7623, 'indicated': 7624, 'guests': 7625, 'viewers': 7626, 'dish': 7627, 'jarno': 7628, 'renault': 7629, 'tenth': 7630, 'exits': 7631, 'younger': 7632, 'wimbledon': 7633, 'outcome': 7634, 'debates': 7635, 'casts': 7636, 'patrolled': 7637, 'memorial': 7638, 'lori': 7639, 'highlight': 7640, 'bulls': 7641, 'confirmation': 7642, 'meltdown': 7643, 'dose': 7644, 'dismiss': 7645, 'tackled': 7646, 'lawmaker': 7647, 'punish': 7648, '1980': 7649, 'liechtenstein': 7650, 'celebrations': 7651, 'phish': 7652, 'pontiff': 7653, 'suddenly': 7654, 'relies': 7655, 'produces': 7656, 'flyers': 7657, 'ruined': 7658, 'refusing': 7659, 'romanian': 7660, 'silent': 7661, 'determination': 7662, 'navratilova': 7663, 'costa': 7664, 'stability': 7665, 'iowa': 7666, 'capping': 7667, 'brett': 7668, 'prey': 7669, 'duncan': 7670, 'batters': 7671, 'divided': 7672, 'clubbed': 7673, 'sinks': 7674, 'mattered': 7675, 'panchen': 7676, 'header': 7677, 'ralph': 7678, 'describe': 7679, 'earl': 7680, 'unleashed': 7681, 'funk': 7682, 'sybase': 7683, 'offseason': 7684, 'dalai': 7685, 'chose': 7686, 'invading': 7687, 'expecting': 7688, 'personalities': 7689, 'stones': 7690, 'opts': 7691, 'intact': 7692, 'foxborough': 7693, 'speaks': 7694, 'remembers': 7695, 'opposed': 7696, 'assumption': 7697, 'decidedly': 7698, 'sanctioned': 7699, 'absolutely': 7700, 'invites': 7701, 'midsize': 7702, 'identification': 7703, 'bold': 7704, 'stray': 7705, 'geographic': 7706, 'penguins': 7707, 'sustaining': 7708, 'innocence': 7709, 'proceed': 7710, 'whistle': 7711, 'identifies': 7712, 'fraudulent': 7713, 'lasting': 7714, 'forefront': 7715, 'customs': 7716, 'pharmacare': 7717, 'lessons': 7718, 'describing': 7719, 'keith': 7720, 'lance': 7721, 'qualified': 7722, 'hire': 7723, 'injunction': 7724, 'attendance': 7725, 'headaches': 7726, 'upgrading': 7727, 'foundstone': 7728, 'prevention': 7729, 'muslims': 7730, 'carvings': 7731, 'fiery': 7732, 'respite': 7733, 'plots': 7734, 'escobedo': 7735, 'defenseman': 7736, 'integrates': 7737, 'enormous': 7738, 'methane': 7739, 'bake': 7740, 'cherry': 7741, 'menu': 7742, 'christopher': 7743, 'been': 7744, 'intervene': 7745, 'gatumba': 7746, 'hacked': 7747, 'lagging': 7748, 'cook': 7749, 'czar': 7750, 'automation': 7751, 'retreats': 7752, 'dismal': 7753, 'mighty': 7754, 'fountain': 7755, 'favre': 7756, 'tricks': 7757, 'noticed': 7758, 'haile': 7759, 'antispyware': 7760, 'logged': 7761, 'boycotted': 7762, 'strengthened': 7763, 'prone': 7764, 'revises': 7765, 'niche': 7766, 'rescued': 7767, 'powerless': 7768, 'vowing': 7769, 'uzbekistan': 7770, '11n': 7771, 'while': 7772, 'biotechnology': 7773, 'connecting': 7774, 'cornerback': 7775, 'suits': 7776, 'bengals': 7777, 'duca': 7778, 'coca': 7779, 'last': 7780, 'routed': 7781, 'criticised': 7782, 'smiling': 7783, 'tate': 7784, 'jan': 7785, 'montana': 7786, 'deemed': 7787, 'ainge': 7788, 'selects': 7789, 'flowing': 7790, 'marie': 7791, 'synchronized': 7792, 'coaching': 7793, 'hijackers': 7794, 'mavericks': 7795, 'colleagues': 7796, 'nights': 7797, '59': 7798, 'mot': 7799, 'hovered': 7800, 'strait': 7801, 'politically': 7802, 'compare': 7803, 'slides': 7804, 'proclaimed': 7805, 'herat': 7806, 'horror': 7807, 'cornwall': 7808, 'forum': 7809, 'softer': 7810, 'debit': 7811, 'exploring': 7812, 'falter': 7813, 'daylight': 7814, 'cpi': 7815, 'clock': 7816, 'sergey': 7817, 'brin': 7818, 'substantially': 7819, 'organisers': 7820, 'tighter': 7821, 'bearing': 7822, 'internationally': 7823, 'dependence': 7824, 'pci': 7825, 'casualty': 7826, 'kremlin': 7827, '7bn': 7828, 'granite': 7829, 'bluetooth': 7830, 'hint': 7831, 'vatican': 7832, 'boscastle': 7833, 'pennsylvania': 7834, 'europeans': 7835, 'ate': 7836, 'simmons': 7837, 'altering': 7838, 'transitional': 7839, 'colombo': 7840, 'manages': 7841, 'unacceptable': 7842, 'shooter': 7843, '81': 7844, 'forwards': 7845, 'attitude': 7846, 'wallabies': 7847, 'hamper': 7848, 'shaking': 7849, 'encounter': 7850, 'campaigning': 7851, 'brazilians': 7852, 'gearing': 7853, 'rosy': 7854, 'furnishings': 7855, 'devote': 7856, 'wr': 7857, 'loves': 7858, 'trends': 7859, 'halves': 7860, 'matildas': 7861, 'throws': 7862, 'syndrome': 7863, 'fixing': 7864, 'suburb': 7865, '4x200': 7866, 'gamestop': 7867, 'updating': 7868, 'victoria': 7869, 'rifles': 7870, 'servants': 7871, 'shake': 7872, 'receives': 7873, 'themed': 7874, 'specifically': 7875, 'ceiling': 7876, 'outbreaks': 7877, 'biotech': 7878, 'battlefield': 7879, 'rae': 7880, 'understanding': 7881, 'advising': 7882, 'multibillion': 7883, 'functionality': 7884, 'respiratory': 7885, 'bounces': 7886, 'celebratory': 7887, 'drawing': 7888, 'wellington': 7889, 'totaling': 7890, 'legislature': 7891, 'actor': 7892, 'mikhail': 7893, 'kederis': 7894, 'deliberately': 7895, 'writing': 7896, 'compiled': 7897, 'editors': 7898, 'saga': 7899, 'grueling': 7900, 'promoting': 7901, 'nest': 7902, 'consolidation': 7903, 'flexible': 7904, 'decent': 7905, 'horizon': 7906, '611': 7907, 'misled': 7908, 'sounded': 7909, 'skipper': 7910, 'symptoms': 7911, 'mediators': 7912, 'mercy': 7913, 'anxious': 7914, 'mayor': 7915, 'builders': 7916, 'encircled': 7917, 'uncertain': 7918, 'beck': 7919, 'punishment': 7920, 'freddy': 7921, 'jordanian': 7922, 'tournaments': 7923, 'issuing': 7924, 'glance': 7925, 'headline': 7926, 'stats': 7927, 'rugged': 7928, 'faults': 7929, 'wish': 7930, 'rotation': 7931, 'bullpen': 7932, 'headwinds': 7933, 'tbilisi': 7934, 'chambers': 7935, 'babies': 7936, 'defuse': 7937, 'automakers': 7938, 'plasma': 7939, 'lorry': 7940, 'hub': 7941, 'drastically': 7942, 'dl': 7943, 'undefeated': 7944, 'showcase': 7945, 'inner': 7946, 'extremists': 7947, 'legendary': 7948, 'debris': 7949, 'bits': 7950, 'dugout': 7951, 'cliff': 7952, 'inflamed': 7953, 'ida': 7954, 'tightened': 7955, 'chaotic': 7956, 'testify': 7957, 'slogan': 7958, 'bc': 7959, 'loyalists': 7960, 'rebuffed': 7961, 'prediction': 7962, 'framework': 7963, 'pakistanis': 7964, 'stifling': 7965, 'kilometres': 7966, 'cherie': 7967, 'mps': 7968, 'resisted': 7969, 'naples': 7970, 'sewage': 7971, 'unanimously': 7972, 'lifting': 7973, 'enabled': 7974, 'concept': 7975, 'wondered': 7976, '02': 7977, 'statistics': 7978, 'mayhem': 7979, 'sour': 7980, 'splashing': 7981, 'unicom': 7982, 'bass': 7983, 'hormone': 7984, 'accuse': 7985, 'retiree': 7986, 'clad': 7987, 'plunges': 7988, 'qualifiers': 7989, 'delegate': 7990, 'drafted': 7991, 'laying': 7992, 'retaliation': 7993, 'belfast': 7994, 'dilemma': 7995, 'dumps': 7996, 'everest': 7997, 'commissions': 7998, 'mastercard': 7999, 'backfires': 8000, 'reilly': 8001, 'priority': 8002, 'robson': 8003, 'aber': 8004, 'fortune': 8005, 'fatah': 8006, 'dominates': 8007, 'slalom': 8008, 'vouliagmeni': 8009, 'examines': 8010, '750': 8011, 'converged': 8012, 'consent': 8013, 'preferred': 8014, 'torch': 8015, 'wto': 8016, 'improper': 8017, 'insolvent': 8018, 'exposed': 8019, 'cyprus': 8020, 'garrison': 8021, 'regained': 8022, 'nintendo': 8023, 'trader': 8024, 'leaped': 8025, 'belonging': 8026, 'mcd': 8027, 'cbc': 8028, 'upper': 8029, 'indoor': 8030, 'ashore': 8031, 'abbas': 8032, 'equaled': 8033, 'olusegun': 8034, 'dried': 8035, 'retiring': 8036, 'spying': 8037, 'tel': 8038, 'aviv': 8039, 'alfred': 8040, 'lie': 8041, 'diplomacy': 8042, 'darling': 8043, 'wales': 8044, 'robbing': 8045, 'nod': 8046, 'hubs': 8047, 'alarm': 8048, 'salvadoran': 8049, 'presentation': 8050, 'adoption': 8051, '61': 8052, 'islam': 8053, 'bn': 8054, 'disappear': 8055, 'fulfilled': 8056, 'jews': 8057, 'finest': 8058, 'harm': 8059, 'snps': 8060, 'reviving': 8061, 'deserted': 8062, 'mistress': 8063, 'contempt': 8064, 'preps': 8065, 'chalks': 8066, 'roaring': 8067, 'baylor': 8068, 'lincoln': 8069, 'damaging': 8070, 'proceeds': 8071, 'hhg': 8072, 'breather': 8073, 'mahesh': 8074, 'hasn': 8075, 'lashes': 8076, 'riches': 8077, 'martian': 8078, 'widens': 8079, 'billionaire': 8080, 'screensaver': 8081, 'bi': 8082, 'thwart': 8083, 'sanders': 8084, 'laps': 8085, 'playoffs': 8086, 'telstra': 8087, 'random': 8088, 'kyle': 8089, 'frenchman': 8090, 'respected': 8091, 'injures': 8092, 'soil': 8093, 'nervous': 8094, 'etsu': 8095, 'churned': 8096, 'iaaf': 8097, 'allege': 8098, 'lenny': 8099, 'prized': 8100, 'millar': 8101, 'sorry': 8102, 'snapping': 8103, 'bowa': 8104, 'excited': 8105, 'halting': 8106, 'drugstore': 8107, 'negotiated': 8108, 'rode': 8109, '2b': 8110, 'unity': 8111, 'stumble': 8112, 'permanent': 8113, 'cien': 8114, 'invalid': 8115, 'grocer': 8116, 'paced': 8117, 'vieira': 8118, 'silverstein': 8119, 'soap': 8120, 'pharmacy': 8121, 'consultancy': 8122, 'maiden': 8123, 'vogue': 8124, 'famously': 8125, 'alternatives': 8126, 'mouth': 8127, 'bankers': 8128, 'wheels': 8129, 'achievement': 8130, 'acc': 8131, 'towers': 8132, 'torched': 8133, 'drastic': 8134, 'headache': 8135, 'disabilities': 8136, 'excluding': 8137, 'specialty': 8138, 'apparel': 8139, 'charlie': 8140, 'gordon': 8141, 'fox': 8142, 'rechargeable': 8143, 'grams': 8144, 'risen': 8145, 'jacksonville': 8146, 'nichols': 8147, 'legislators': 8148, 'dixon': 8149, 'coordinated': 8150, 'rein': 8151, 'commentary': 8152, 'inoue': 8153, 'settlers': 8154, 'guerrero': 8155, 'ire': 8156, 'bench': 8157, 'shimon': 8158, 'mates': 8159, 'blaming': 8160, 'unfavorable': 8161, 'midair': 8162, 'interested': 8163, 'inspect': 8164, 'churches': 8165, 'lavish': 8166, 'matching': 8167, 'serial': 8168, 'callvantage': 8169, 'soaked': 8170, 'escalates': 8171, 'bucks': 8172, 'nurses': 8173, 'jefferson': 8174, 'talent': 8175, 'diplomats': 8176, 'dillon': 8177, 'contacts': 8178, 'lottery': 8179, 'tripled': 8180, 'vow': 8181, 'coincidence': 8182, 'frustrated': 8183, 'blitz': 8184, 'branded': 8185, 'azores': 8186, 'mich': 8187, 'sculls': 8188, 'piraha': 8189, 'ko': 8190, 'initiated': 8191, 'lightweight': 8192, 'dayer': 8193, 'fiasco': 8194, 'deported': 8195, 'uncouple': 8196, 'intraday': 8197, 'homecoming': 8198, 'handlers': 8199, 'flirted': 8200, 'murphy': 8201, 'appearing': 8202, 'entice': 8203, 'honorary': 8204, 'tags': 8205, 'dives': 8206, 'negotiators': 8207, 'matthews': 8208, 'penalties': 8209, 'approached': 8210, 'cios': 8211, 'yes': 8212, 'volunteer': 8213, 'egyptian': 8214, 'galileo': 8215, 'enemies': 8216, 'noah': 8217, 'hate': 8218, 'beauty': 8219, 'distant': 8220, 'ainslie': 8221, 'addressed': 8222, 'slipping': 8223, 'remarkable': 8224, 'spaniards': 8225, 'rewarded': 8226, 'recruit': 8227, 'gandhi': 8228, 'ot': 8229, 'transporters': 8230, 'fort': 8231, 'object': 8232, 'engaging': 8233, 'slumped': 8234, '87': 8235, 'shirt': 8236, 'vp': 8237, 'belarussian': 8238, 'besieged': 8239, 'hu': 8240, 'assassinated': 8241, 'unhurt': 8242, 'recuperating': 8243, 'colts': 8244, 'troy': 8245, 'meth': 8246, 'methamphetamine': 8247, 'pak': 8248, 'woke': 8249, 'crisp': 8250, 'ferenc': 8251, 'gyurcsany': 8252, 'bruised': 8253, 'wang': 8254, 'tattoo': 8255, 'luxembourg': 8256, 'dear': 8257, 'hr': 8258, 'akhmad': 8259, 'itar': 8260, 'tass': 8261, 'eligibility': 8262, 'wracked': 8263, 'proven': 8264, 'mechanical': 8265, 'womens': 8266, 'hindu': 8267, 'soup': 8268, 'gunpoint': 8269, 'overtaken': 8270, 'duplicate': 8271, 'restricting': 8272, '3000': 8273, 'accountant': 8274, 'hurdler': 8275, 'gunners': 8276, 'deena': 8277, 'preserved': 8278, 'crafting': 8279, 'gallon': 8280, 'incidents': 8281, 'priceline': 8282, 'oswalt': 8283, 'roy': 8284, 'pigeon': 8285, 'restoring': 8286, 'wrongly': 8287, '28th': 8288, 'refuse': 8289, 'expression': 8290, 'arson': 8291, 'thg': 8292, 'syringe': 8293, 'mugabe': 8294, 'leon': 8295, 'pr': 8296, 'rueter': 8297, 'seasons': 8298, 'somali': 8299, 'wrestler': 8300, 'strips': 8301, 'anthem': 8302, 'conditioning': 8303, 'athanasia': 8304, 'captivity': 8305, 'treasured': 8306, 'enhance': 8307, 'microwave': 8308, 'idc': 8309, 'protects': 8310, 'eroded': 8311, 'seung': 8312, 'min': 8313, 'printer': 8314, 'stronach': 8315, 'wigley': 8316, 'caretaker': 8317, 'reciprocal': 8318, 'orcl': 8319, 'boris': 8320, 'kraft': 8321, 'gr': 8322, 'sti': 8323, 'accor': 8324, 'omniture': 8325, 'brewer': 8326, 'kamal': 8327, 'abused': 8328, 'convoys': 8329, 'thirds': 8330, 'shalom': 8331, 'reprimanded': 8332, 'salon': 8333, 'ventures': 8334, 'citibank': 8335, 'cholesterol': 8336, 'tremor': 8337, 'mdr': 8338, 'curve': 8339, 'jong': 8340, 'household': 8341, 'satisfying': 8342, 'tablet': 8343, 'wayward': 8344, 'isinbayeva': 8345, 'joanna': 8346, 'mistral': 8347, 'overfished': 8348, 'daniels': 8349, 'wsm': 8350, 'asa': 8351, 'kuwaiti': 8352, '777': 8353, 'confine': 8354, 'purveyors': 8355, 'induce': 8356, 'corvette': 8357, 'fuji': 8358, 'crystals': 8359, 'despaigne': 8360, 'coll': 8361, 'yemen': 8362, 'sandwich': 8363, '7e7': 8364, 'blackburn': 8365, 'seanez': 8366, 'potlatch': 8367, 'bullies': 8368, 'bristol': 8369, 'rejoin': 8370, 'disarming': 8371, 'sia': 8372, 'saboteurs': 8373, 'farmland': 8374, 'wrought': 8375, 'xserve': 8376, 'lenox': 8377, 'deception': 8378, 'dresser': 8379, 'arthritis': 8380, 'census': 8381, 'pentathlon': 8382, 'weekes': 8383, 'llodra': 8384, 'andres': 8385, 'airtran': 8386, 'korzeniowski': 8387, 'aerospace': 8388, 'doldrums': 8389, 'salary': 8390, 'bracing': 8391, 'surprises': 8392, 'floated': 8393, 'inventor': 8394, 'cure': 8395, 'someday': 8396, 'killings': 8397, 'gloom': 8398, 'sidewalks': 8399, 'curbs': 8400, 'maverick': 8401, 'hop': 8402, 'accessories': 8403, 'geeks': 8404, 'marketers': 8405, 'mere': 8406, 'thumping': 8407, 'muddy': 8408, 'nhs': 8409, 'restrict': 8410, 'dialup': 8411, 'discs': 8412, 'uneasy': 8413, 'dormitory': 8414, 'converted': 8415, 'docked': 8416, 'canal': 8417, 'incredibly': 8418, 'rockets': 8419, 'exciting': 8420, 'robots': 8421, 'hooked': 8422, 'addicts': 8423, 'purple': 8424, 'argentine': 8425, 'freeing': 8426, 'falcon': 8427, 'rarity': 8428, 'adjusted': 8429, 'array': 8430, 'rethinking': 8431, 'sunlight': 8432, 'environmentalists': 8433, 'stream': 8434, 'appreciate': 8435, 'countdown': 8436, 'weakening': 8437, 'accurately': 8438, 'pressured': 8439, 'reconsider': 8440, 'nationally': 8441, 'profiles': 8442, 'creatures': 8443, 'longtime': 8444, 'earthquakes': 8445, 'copper': 8446, 'poachers': 8447, 'conservation': 8448, 'locust': 8449, 'swarm': 8450, 'saharan': 8451, 'demonstrates': 8452, 'bypass': 8453, 'optional': 8454, 'opt': 8455, 'reaction': 8456, 'int': 8457, 'what': 8458, 'my': 8459, 'aggregator': 8460, 'dns': 8461, 'so': 8462, 'paste': 8463, 'buddhist': 8464, 'syria': 8465, 'manner': 8466, 'api': 8467, 'terrible': 8468, 'chamber': 8469, 'checked': 8470, 'carefully': 8471, 'circumstances': 8472, 'simcity': 8473, 'another': 8474, 'adapt': 8475, 'resident': 8476, 'antipiracy': 8477, 'suggestions': 8478, 'britons': 8479, 'location': 8480, 'transform': 8481, 'treats': 8482, 'adjust': 8483, 'stamps': 8484, 'engineer': 8485, 'helm': 8486, 'gao': 8487, 'bunny': 8488, 'classified': 8489, 'celestial': 8490, 'infection': 8491, 'clue': 8492, 'tundra': 8493, 'implications': 8494, 'droughts': 8495, 'prehistoric': 8496, 'grapes': 8497, 'reef': 8498, 'rananim': 8499, 'brains': 8500, 'outer': 8501, 'overtake': 8502, 'gigantic': 8503, 'unusually': 8504, 'rogue': 8505, 'naked': 8506, 'enhancing': 8507, 'tons': 8508, 'imagination': 8509, 'bortman': 8510, 'lunine': 8511, 'collections': 8512, 'quartet': 8513, 'watchers': 8514, 'physics': 8515, 'relevant': 8516, 'channels': 8517, 'thirty': 8518, 'colorful': 8519, 'accomplish': 8520, 'comet': 8521, 'uc': 8522, 'makeup': 8523, 'stress': 8524, 'regulate': 8525, 'illness': 8526, 'bare': 8527, 'lauran': 8528, 'neergaard': 8529, 'imported': 8530, 'transplanted': 8531, 'hypertension': 8532, 'tanner': 8533, 'sore': 8534, 'transplant': 8535, 'salt': 8536, 'verdict': 8537, 'midmarket': 8538, 'juice': 8539, 'securing': 8540, 'verify': 8541, 'msblast': 8542, 'chat': 8543, 'intruders': 8544, 'attackers': 8545, 'certifies': 8546, 'palmsource': 8547, 'mp3': 8548, 'angle': 8549, 'specs': 8550, 'cibc': 8551, 'width': 8552, 'ca': 8553, 'prohibit': 8554, 'speakers': 8555, 'authentication': 8556, 'gadget': 8557, 'insider': 8558, 'locally': 8559, 'locker': 8560, 'memorable': 8561, 'digit': 8562, 'outages': 8563, 'jittery': 8564, 'boxers': 8565, 'hopkins': 8566, 'hotly': 8567, 'copying': 8568, 'prospectus': 8569, 'decisions': 8570, 'merchants': 8571, 'refund': 8572, 'structure': 8573, 'cookies': 8574, 'contentious': 8575, 'conversion': 8576, 'contacted': 8577, 'purpose': 8578, 'rankings': 8579, 'mandated': 8580, 'generated': 8581, 'deploying': 8582, 'administrators': 8583, 'consultants': 8584, 'comprehensive': 8585, 'terrific': 8586, 'authoring': 8587, 'gotten': 8588, 'olerud': 8589, 'sunk': 8590, 'franco': 8591, 'rivalry': 8592, 'schinias': 8593, 'brawl': 8594, 'walter': 8595, 'mccarty': 8596, 'dunes': 8597, 'substitute': 8598, 'quadruple': 8599, 'servicemen': 8600, 'missouri': 8601, 'tortured': 8602, 'homage': 8603, 'neighbors': 8604, 'surrounded': 8605, 'completion': 8606, '2007': 8607, 'barbara': 8608, 'discussed': 8609, 'hanged': 8610, 'potter': 8611, 'rage': 8612, 'bosnia': 8613, 'rumors': 8614, 'turnout': 8615, 'bugle': 8616, 'floridians': 8617, 'overhauls': 8618, 'manmohan': 8619, 'inspector': 8620, 'cures': 8621, 'scratching': 8622, 'nurse': 8623, 'pesky': 8624, 'enables': 8625, 'educate': 8626, 'surfing': 8627, 'setbacks': 8628, 'ala': 8629, 'firmly': 8630, 'diplomat': 8631, 'alpine': 8632, 'ruler': 8633, 'attracted': 8634, 'erupt': 8635, 'forgotten': 8636, 'insured': 8637, 'roenick': 8638, 'snub': 8639, 'solidarity': 8640, 'bothered': 8641, 'nicky': 8642, 'heiress': 8643, 'married': 8644, 'conventional': 8645, 'wisdom': 8646, 'voter': 8647, 'summoned': 8648, 'upscale': 8649, 'pirate': 8650, 'curious': 8651, 'predicts': 8652, 'covers': 8653, 'opinions': 8654, 'expires': 8655, 'interests': 8656, 'goers': 8657, 'beasley': 8658, 'concerning': 8659, 'winters': 8660, 'signature': 8661, 'nationals': 8662, 'medalists': 8663, 'unfazed': 8664, 'stationed': 8665, 'temple': 8666, 'surely': 8667, 'toughest': 8668, 'widening': 8669, 'downward': 8670, 'friedgen': 8671, 'demonstrators': 8672, 'sprained': 8673, 'segment': 8674, '86th': 8675, 'composure': 8676, 'cadillacs': 8677, 'aegis': 8678, 'rolen': 8679, 'monk': 8680, '1995': 8681, 'substance': 8682, 'anonymity': 8683, 'healing': 8684, 'intervention': 8685, 'maldives': 8686, 'envelope': 8687, 'barbecue': 8688, '230': 8689, 'apiece': 8690, 'theme': 8691, 'till': 8692, 'honored': 8693, 'forthcoming': 8694, 'orthodox': 8695, 'adjusters': 8696, 'repairs': 8697, 'appearances': 8698, 'reactions': 8699, 'subsidies': 8700, 'yeast': 8701, 'gadgets': 8702, 'moya': 8703, 'swirling': 8704, 'elephants': 8705, 'maintained': 8706, 'rejection': 8707, 'shun': 8708, 'telephones': 8709, 'achievements': 8710, 'sukarnoputri': 8711, 'bail': 8712, 'indication': 8713, 'bloodshed': 8714, 'efficiency': 8715, 'cheated': 8716, 'gem': 8717, 'estimating': 8718, 'shifted': 8719, 'blower': 8720, 'stabilize': 8721, 'princeton': 8722, 'brooklyn': 8723, 'performers': 8724, 'duties': 8725, 'rarely': 8726, 'tribal': 8727, '1972': 8728, 'frankfurt': 8729, 'stereo': 8730, 'offs': 8731, 'airing': 8732, 'bomber': 8733, 'cart': 8734, 'pursued': 8735, 'preacher': 8736, 'washing': 8737, 'cybersecurity': 8738, 'pivx': 8739, 'facetime': 8740, 'polaroid': 8741, 'cfo': 8742, 'vicente': 8743, 'ramifications': 8744, 'shave': 8745, 'hefty': 8746, 'ablaze': 8747, 'flyweight': 8748, 'arguing': 8749, 'levy': 8750, 'pipes': 8751, 'impressed': 8752, 'degrees': 8753, 'natalie': 8754, 'nerves': 8755, 'budgets': 8756, 'revamp': 8757, 'processes': 8758, 'douglas': 8759, 'previews': 8760, 'configurations': 8761, 'subscriptions': 8762, 'speaker': 8763, 'chronic': 8764, 'diabetes': 8765, 'interceptions': 8766, 'tian': 8767, 'torturing': 8768, 'withheld': 8769, 'pac': 8770, 'paychecks': 8771, 'provinces': 8772, 'regina': 8773, 'compensate': 8774, 'interfaces': 8775, 'convert': 8776, 'rebuilding': 8777, 'endorsed': 8778, 'shane': 8779, 'favored': 8780, 'omar': 8781, 'coo': 8782, 'seaside': 8783, 'chl': 8784, 'darren': 8785, 'defective': 8786, 'unannounced': 8787, 'studied': 8788, 'mientkiewicz': 8789, 'glove': 8790, 'approaching': 8791, 'pioneering': 8792, 'mantech': 8793, 'redman': 8794, 'havana': 8795, 'wallace': 8796, 'pointing': 8797, 'hospitalised': 8798, 'tame': 8799, 'intent': 8800, 'singular': 8801, 'iseries': 8802, 'lockout': 8803, 'hezbollah': 8804, 'hassan': 8805, 'singled': 8806, 'steven': 8807, 'medicines': 8808, 'persuade': 8809, 'favors': 8810, 'vaguely': 8811, 'sack': 8812, 'summers': 8813, 'dim': 8814, 'stumbled': 8815, 'forested': 8816, 'upsetting': 8817, 'lone': 8818, 'healthsouth': 8819, 'hardest': 8820, 'renew': 8821, 'answered': 8822, 'drowned': 8823, 'sam': 8824, 'brockton': 8825, 'invited': 8826, '001': 8827, 'receded': 8828, 'shui': 8829, 'sleeping': 8830, 'friction': 8831, 'soldering': 8832, 'estee': 8833, 'lauder': 8834, '11b': 8835, 'adapter': 8836, 'unite': 8837, 'escalate': 8838, 'athlon': 8839, 'dueling': 8840, 'saks': 8841, 'underlying': 8842, 'carmax': 8843, 'aided': 8844, 'consolidate': 8845, 'urgency': 8846, 'ugandan': 8847, 'domains': 8848, 'dumped': 8849, 'piled': 8850, 'trilogy': 8851, 'killers': 8852, 'veiga': 8853, 'postponement': 8854, 'muted': 8855, 'swoop': 8856, 'extradite': 8857, 'violates': 8858, 'cheat': 8859, 'alcoholism': 8860, '1969': 8861, 'mls': 8862, 'lcos': 8863, 'eradicate': 8864, 'quebec': 8865, 'lawrence': 8866, 'witnessed': 8867, 'plains': 8868, 'pratt': 8869, 'rust': 8870, 'ferrero': 8871, 'venter': 8872, 'physical': 8873, 'feelings': 8874, 'hideout': 8875, '3bn': 8876, 'assume': 8877, 'greatly': 8878, 'boks': 8879, 'errant': 8880, 'pouring': 8881, 'captaincy': 8882, 'shelved': 8883, 'kidnapping': 8884, 'schrder': 8885, 'gag': 8886, 'colvin': 8887, 'fiorina': 8888, 'sacking': 8889, 'juan': 8890, 'rajyavardhan': 8891, 'boomerang': 8892, 'acknowledge': 8893, 'examiner': 8894, 'oao': 8895, 'steakhouse': 8896, 'osi': 8897, 'comparison': 8898, 'contends': 8899, 'manhattan': 8900, 'inter': 8901, '5th': 8902, 'mbps': 8903, 'rumours': 8904, 'discussion': 8905, 'jake': 8906, 'tactic': 8907, 'welsh': 8908, 'performing': 8909, 'permits': 8910, 'molik': 8911, 'bailiffs': 8912, 'reit': 8913, 'francs': 8914, 'discoveries': 8915, 'emirates': 8916, 'pickup': 8917, 'gizmo': 8918, 'ifeanyi': 8919, 'merrill': 8920, 'chir': 8921, 'william': 8922, 'lipinski': 8923, 'rubber': 8924, 'leadoff': 8925, 'gallery': 8926, 'ubs': 8927, 'frenzy': 8928, 'dod': 8929, 'nablus': 8930, 'theron': 8931, 'surpass': 8932, 'emails': 8933, 'digest': 8934, 'dodger': 8935, 'sliced': 8936, 'bread': 8937, 'moribund': 8938, 'evenly': 8939, 'scanning': 8940, 'populous': 8941, 'humdrum': 8942, 'slate': 8943, 'framed': 8944, 'fuzzy': 8945, 'fur': 8946, 'leopard': 8947, 'wifi': 8948, 'gradual': 8949, 'unpatched': 8950, 'xue': 8951, 'tan': 8952, 'endorsements': 8953, 'inca': 8954, 'spiders': 8955, 'pulse': 8956, 'abundant': 8957, 'printing': 8958, 'fingerprint': 8959, 'axe': 8960, 'milestone': 8961, 'savor': 8962, 'boards': 8963, 'superiority': 8964, 'strengthens': 8965, 'tgn': 8966, 'simulations': 8967, 'principle': 8968, 'barot': 8969, 'those': 8970, 'ellis': 8971, 'parlors': 8972, 'halls': 8973, 'dragging': 8974, 'hurry': 8975, 'out': 8976, 'perk': 8977, 'golfers': 8978, 'marauding': 8979, 'scrap': 8980, 'cendant': 8981, 'asthma': 8982, 'acid': 8983, 'crypto': 8984, 'malnutrition': 8985, 'protective': 8986, 'flare': 8987, 'notable': 8988, 'myanmar': 8989, 'bury': 8990, 'kurt': 8991, 'feeding': 8992, 'length': 8993, 'rhino': 8994, 'j2ee': 8995, 'louisiana': 8996, 'blooded': 8997, 'q3': 8998, 'digging': 8999, 'banning': 9000, 'haaretz': 9001, 'signalled': 9002, 'scrutiny': 9003, 'forecasting': 9004, 'complaining': 9005, 'dislocated': 9006, 'duck': 9007, 'grounder': 9008, 'frederick': 9009, 'jermaine': 9010, 'baffled': 9011, 'fended': 9012, 'challengers': 9013, 'sophisticated': 9014, 'stalemate': 9015, 'confrontation': 9016, 'smash': 9017, 'abdullah': 9018, 'capsules': 9019, 'radke': 9020, 'idled': 9021, 'acquits': 9022, 'erick': 9023, 'hinted': 9024, 'mohammed': 9025, 'preserve': 9026, 'monarchy': 9027, 'bats': 9028, 'fretted': 9029, 'goldstein': 9030, 'represent': 9031, 'script': 9032, 'intercepted': 9033, '17th': 9034, 'engage': 9035, 'nearer': 9036, 'mcip': 9037, 'disasters': 9038, 'danced': 9039, 'unscheduled': 9040, 'requests': 9041, 'worker': 9042, 'casting': 9043, 'h2': 9044, 'tablets': 9045, 'toss': 9046, 'pessimistic': 9047, 'framingham': 9048, 'buoyant': 9049, 'artillery': 9050, 'being': 9051, 'quoting': 9052, 'envoys': 9053, 'dividends': 9054, 'tellers': 9055, 'swipe': 9056, 'fidelity': 9057, 'outing': 9058, 'rides': 9059, 'lane': 9060, 'aa': 9061, 'belichick': 9062, 'plotters': 9063, 'lend': 9064, 'could': 9065, 'interrupting': 9066, 'suspicions': 9067, 'mechanic': 9068, 'inge': 9069, 'mayo': 9070, 'detains': 9071, 'priests': 9072, 'packaging': 9073, 'armenian': 9074, 'assessment': 9075, 'pancreas': 9076, 'weighed': 9077, 'enact': 9078, 'slaughter': 9079, 'productive': 9080, 'confessed': 9081, 'bonus': 9082, 'inboxes': 9083, 'justify': 9084, 'umpire': 9085, 'spat': 9086, 'corrupt': 9087, 'crops': 9088, 'properly': 9089, 'needing': 9090, 'mediation': 9091, 'stoked': 9092, 'evil': 9093, 'specializing': 9094, 'partially': 9095, 'drc': 9096, 'kinshasa': 9097, 'tasr': 9098, 'incorporated': 9099, 'dds': 9100, 'bait': 9101, 'zijlaard': 9102, 'moorsel': 9103, 'bws': 9104, 'prostate': 9105, 'roaming': 9106, 'perfection': 9107, 'tear': 9108, 'bls': 9109, 'emms': 9110, 'imperial': 9111, 'ministerial': 9112, 'melt': 9113, 'vx': 9114, 'rhode': 9115, 'blistering': 9116, 'stirred': 9117, 'hires': 9118, 'aren': 9119, 'stadiums': 9120, 'crs': 9121, 'choosing': 9122, 'elaborate': 9123, 'tunnel': 9124, 'rs': 9125, 'calculated': 9126, 'paypass': 9127, 'cheese': 9128, 'instance': 9129, 'verbal': 9130, 'defiant': 9131, 'takers': 9132, 'tail': 9133, 'tiffany': 9134, 'barghouti': 9135, 'initiates': 9136, 'ports': 9137, 'megapixel': 9138, 'wreath': 9139, 'stefan': 9140, 'awful': 9141, 'referred': 9142, 'pacers': 9143, 'businessweek': 9144, 'grandfather': 9145, 'crazy': 9146, 'dressed': 9147, 'affairs': 9148, 'mp': 9149, 'intimidation': 9150, 'dealings': 9151, 'fold': 9152, 'plummets': 9153, 'terrified': 9154, 'billie': 9155, 'twickenham': 9156, 'firefox': 9157, 'probing': 9158, 'xom': 9159, 'jumping': 9160, 'physicists': 9161, 'accoona': 9162, 'types': 9163, 'pierce': 9164, 'brewing': 9165, 'lashing': 9166, 'villages': 9167, 'unspecified': 9168, 'appoint': 9169, 'utstarcom': 9170, 'tightens': 9171, 'wafer': 9172, 'loren': 9173, 'brooks': 9174, 'loosening': 9175, 'punished': 9176, 'intentions': 9177, 'terengganu': 9178, 'porto': 9179, 'downfall': 9180, 'cn': 9181, 'revision': 9182, 'palmolive': 9183, 'focusing': 9184, 'gpu': 9185, 'everett': 9186, 'completes': 9187, 'outskirts': 9188, 'buenos': 9189, 'aires': 9190, 'rejuvenated': 9191, 'marches': 9192, 'capitalists': 9193, 'sucking': 9194, 'his': 9195, 'urgent': 9196, 'scei': 9197, 'grabbing': 9198, 'popularly': 9199, 'packs': 9200, 'sergeant': 9201, 'daughters': 9202, 'finland': 9203, 'pleased': 9204, 'editorial': 9205, 'cheering': 9206, 'rebuke': 9207, 'surefire': 9208, 'neptune': 9209, 'hairston': 9210, 'inspires': 9211, 'gerald': 9212, 'suppliers': 9213, 'alison': 9214, 'geologist': 9215, 'removing': 9216, 'ghana': 9217, 'addressing': 9218, 'ghost': 9219, 'firewalls': 9220, 'blockades': 9221, 'slowest': 9222, 'kyodo': 9223, 'clive': 9224, 'dissension': 9225, '60th': 9226, 'weird': 9227, 'downgraded': 9228, '97': 9229, 'durazo': 9230, 'ith': 9231, 'disastrous': 9232, 'zero': 9233, 'beset': 9234, 'separately': 9235, 'mogul': 9236, 'knives': 9237, 'investigator': 9238, 'wizards': 9239, 'dock': 9240, 'revelations': 9241, 'overseeing': 9242, 'petersburg': 9243, 'slap': 9244, 'programmes': 9245, 'disengagement': 9246, 'finn': 9247, 'elmer': 9248, 'composer': 9249, 'bowing': 9250, 'remy': 9251, 'transmission': 9252, 'coasts': 9253, 'liquidated': 9254, 'barring': 9255, 'gujarat': 9256, 'ivory': 9257, 'organize': 9258, 'stormy': 9259, 'upside': 9260, 'wade': 9261, 'fancy': 9262, 'heightened': 9263, 'brass': 9264, 'rite': 9265, 'nailed': 9266, 'unofficial': 9267, 'secrets': 9268, '165': 9269, 'marblehead': 9270, 'warsaw': 9271, 'kayaking': 9272, 'layoff': 9273, 'antiquity': 9274, 'crumbling': 9275, 'alejandro': 9276, 'falla': 9277, 'db': 9278, 'php': 9279, 'languages': 9280, 'overwhelmed': 9281, 'triples': 9282, 'transistor': 9283, 'gunbattle': 9284, 'unveiling': 9285, 'heights': 9286, 'unhappy': 9287, 'heed': 9288, 'voyage': 9289, 'garage': 9290, 'sergio': 9291, 'drum': 9292, 'nil': 9293, 'chastised': 9294, 'chesapeake': 9295, 'wtc': 9296, 'befitting': 9297, 'entirely': 9298, 'graft': 9299, 'nav': 9300, 'halftime': 9301, 'couples': 9302, 'reinforcing': 9303, 'noon': 9304, 'mann': 9305, 'instantly': 9306, 'infectious': 9307, 'annapolis': 9308, 'miniature': 9309, 'antarctic': 9310, 'substances': 9311, 'referral': 9312, 'referring': 9313, 'diy': 9314, 'conquering': 9315, 'unlimited': 9316, 'algerian': 9317, 'aggregate': 9318, 'happens': 9319, 'swagger': 9320, 'bottle': 9321, 'illustrious': 9322, 'kendall': 9323, 'surviving': 9324, 'sliding': 9325, 'communion': 9326, 'programmers': 9327, 'wise': 9328, 'ronaldo': 9329, 'crept': 9330, 'assessed': 9331, 'transformation': 9332, 'shuttled': 9333, 'okla': 9334, 'reunite': 9335, 'terminal': 9336, 'ignored': 9337, 'basement': 9338, 'retrieval': 9339, 'sectors': 9340, 'databases': 9341, 'tibetans': 9342, 'coronary': 9343, 'recruited': 9344, 'christ': 9345, 'confused': 9346, 'rampant': 9347, 'ion': 9348, 'anno': 9349, 'timetable': 9350, 'disappoints': 9351, 'youngster': 9352, 'balancing': 9353, 'reinstated': 9354, 'erstad': 9355, 'maddux': 9356, 'scheduling': 9357, 'happier': 9358, 'dietary': 9359, 'theories': 9360, 'lighting': 9361, 'surfaced': 9362, 'clyde': 9363, 'delighted': 9364, 'hotfix': 9365, 'theirs': 9366, 'slot': 9367, 'foolish': 9368, 'binge': 9369, 'spiral': 9370, 'furious': 9371, 'afloat': 9372, 'eliminating': 9373, 'expressing': 9374, 'topix': 9375, 'spun': 9376, 'despair': 9377, 'recoup': 9378, 'plugged': 9379, 'keyed': 9380, 'seesaw': 9381, 'terrell': 9382, 'denise': 9383, 'heptathlon': 9384, 'wealthier': 9385, 'matchup': 9386, 'matsui': 9387, 'ta': 9388, 'cruising': 9389, 'centenary': 9390, 'eventual': 9391, 'lung': 9392, 'libyan': 9393, 'veins': 9394, 'kristen': 9395, 'philipkoski': 9396, 'uninsured': 9397, 'ivano': 9398, 'limelight': 9399, 'averted': 9400, 'leaderboard': 9401, 'c2': 9402, 'thedeal': 9403, 'longshore': 9404, 'lock': 9405, 'economist': 9406, 'examined': 9407, 'ramp': 9408, 'curbing': 9409, 'asylum': 9410, '20th': 9411, 'deter': 9412, 'publish': 9413, 'flock': 9414, 'hochschorner': 9415, 'bridgestone': 9416, 'ga': 9417, 'gfs': 9418, 'upped': 9419, 'tommy': 9420, 'baldwin': 9421, 'hogan': 9422, 'amir': 9423, 'nairobi': 9424, 'jp': 9425, 'clinch': 9426, 'grey': 9427, 'dad': 9428, 'populated': 9429, 'rebates': 9430, 'optusnet': 9431, 'khatami': 9432, 'fannie': 9433, 'mae': 9434, 'anadarko': 9435, 'scalpers': 9436, 'motogp': 9437, 'dsl': 9438, 'anna': 9439, 'meares': 9440, 'steered': 9441, 'hartford': 9442, 'considers': 9443, 'isv': 9444, 'considerable': 9445, 'dhs': 9446, 'fury': 9447, 'panels': 9448, 'hodge': 9449, 'shibata': 9450, 'outrun': 9451, 'stewardship': 9452, 'highland': 9453, 'fabulous': 9454, '103': 9455, 'clamp': 9456, 'shoddy': 9457, 'hepatitis': 9458, 'airliner': 9459, 'tomb': 9460, 'archaeologist': 9461, 'unearthed': 9462, 'classical': 9463, 'deduct': 9464, 'refinanced': 9465, '693': 9466, 'enthusiastic': 9467, 'anxiously': 9468, 'ignores': 9469, 'submarine': 9470, 'catcher': 9471, 'ethiopian': 9472, 'aci': 9473, 'flier': 9474, 'spate': 9475, 'vikings': 9476, 'bludgeoned': 9477, 'nabbed': 9478, 'celebrities': 9479, 'irna': 9480, 'replacing': 9481, 'cowboy': 9482, 'ralston': 9483, 'milosevic': 9484, 'winnipeg': 9485, 'asserts': 9486, 'saving': 9487, 'aceh': 9488, 'fleeing': 9489, 'waziristan': 9490, 'counterterrorism': 9491, 'guaranteed': 9492, 'monty': 9493, 'whitewash': 9494, 'extradited': 9495, 'volumes': 9496, 'morocco': 9497, 'googles': 9498, 'mustafa': 9499, 'jumper': 9500, 'outfit': 9501, 'organized': 9502, 'bowler': 9503, 'absent': 9504, 'mauresmo': 9505, 'bcs': 9506, 'bullets': 9507, 'shorts': 9508, 'flops': 9509, 'pressing': 9510, 'oss': 9511, 'sharpshooter': 9512, 'jintao': 9513, 'transferring': 9514, 'mediator': 9515, 'lobster': 9516, 'dustan': 9517, 'glavine': 9518, 'outright': 9519, 'buddy': 9520, 'beautiful': 9521, 'tide': 9522, 'rated': 9523, 'hauling': 9524, 'bedroom': 9525, 'kitchen': 9526, 'shrink': 9527, 'dashing': 9528, 'accelerates': 9529, 'tipped': 9530, 'beckett': 9531, 'op': 9532, 'busted': 9533, 'spinners': 9534, 'triangular': 9535, 'nallen': 9536, 'slated': 9537, 'horseback': 9538, 'hussain': 9539, 'sophomore': 9540, 'strikeouts': 9541, 'putt': 9542, '18th': 9543, 'hails': 9544, 'gopur': 9545, 'knowing': 9546, 'vera': 9547, 'zvonareva': 9548, 'mehdi': 9549, 'roadshows': 9550, 'billed': 9551, 'uma': 9552, 'arsonists': 9553, 'eco': 9554, 'practicing': 9555, 'mcgee': 9556, 'bore': 9557, 'optic': 9558, 'holdren': 9559, 'metzger': 9560, 'avert': 9561, 'mountainous': 9562, 'humanity': 9563, 'figuratively': 9564, 'belonged': 9565, 'securely': 9566, 'inverness': 9567, 'referee': 9568, 'jaguars': 9569, 'brackens': 9570, 'wrigley': 9571, 'crying': 9572, 'murkowski': 9573, 'equalled': 9574, 'heather': 9575, 'airborne': 9576, 'rash': 9577, 'insults': 9578, 'hicham': 9579, 'ringtone': 9580, 'chantelle': 9581, 'escobar': 9582, 'recessions': 9583, 'goddess': 9584, 'attendants': 9585, 'monkey': 9586, 'kilometer': 9587, 'arrangements': 9588, 'placing': 9589, 'reunion': 9590, 'winemaker': 9591, 'damp': 9592, 'alta': 9593, 'ejection': 9594, 'a380': 9595, 'fortescue': 9596, 'barrett': 9597, 'marchers': 9598, 'fray': 9599, '2k5': 9600, 'midsession': 9601, 'shyi': 9602, 'kun': 9603, 'achieve': 9604, 'strewn': 9605, 'managerial': 9606, 'romp': 9607, 'grass': 9608, 'mapping': 9609, 'luv': 9610, 'foe': 9611, 'mcmann': 9612, 'relationships': 9613, 'bow': 9614, 'philips': 9615, 'batting': 9616, 'garciaparra': 9617, 'hemingway': 9618, 'bang': 9619, 'bike': 9620, 'roulette': 9621, 'wages': 9622, 'negotiator': 9623, 'enclaves': 9624, 'torre': 9625, 'isle': 9626, 'wwe': 9627, 'wwi': 9628, 'tyrant': 9629, 'belts': 9630, 'wares': 9631, 'approvals': 9632, 'novartis': 9633, 'du': 9634, 'toit': 9635, 'winless': 9636, 'heroine': 9637, 'leaning': 9638, 'plagiarism': 9639, 'grounding': 9640, 'catfish': 9641, 'lyon': 9642, 'fluctuating': 9643, '1q': 9644, 'despatie': 9645, 'tobin': 9646, 'obesity': 9647, 'classes': 9648, 'unstructured': 9649, 'felicien': 9650, 'edmonton': 9651, 'ecclestone': 9652, '408': 9653, 's2io': 9654, 'broadcaster': 9655, 'dorsey': 9656, 'levens': 9657, 'rp': 9658, 'unwanted': 9659, 'fazekas': 9660, 'eldred': 9661, 'experienced': 9662, 'kiprusoff': 9663, 'plumes': 9664, 'layton': 9665, 'connector': 9666, 'racers': 9667, 'syndicated': 9668, 'macey': 9669, 'bfgoodrich': 9670, 'richardson': 9671, 'reboots': 9672, 'osowski': 9673, 'uefa': 9674, 'phil': 9675, 'handing': 9676, 'firefighters': 9677, 'hid': 9678, '323rd': 9679, 'cellphones': 9680, 'tornado': 9681, 'tankers': 9682, 'paraphernalia': 9683, 'rams': 9684, 'idris': 9685, 'adelq': 9686, 'founding': 9687, 'davidson': 9688, '215': 9689, 'drinks': 9690, 'scotch': 9691, 'datatec': 9692, 'prestigious': 9693, 'segway': 9694, 'chew': 9695, 'crispy': 9696, 'investing': 9697, 'interoperability': 9698, 'regis': 9699, 'zarqawi': 9700, 'biocryst': 9701, '8316': 9702, '8307': 9703, 'julie': 9704, 'magnitude': 9705, 'adapters': 9706, 'realtors': 9707, 'grains': 9708, 'balloon': 9709, 'oxide': 9710, 'backyard': 9711, 'chipsets': 9712, 'hydroelectric': 9713, 'powerhouse': 9714, 'iosn': 9715, 'mpaa': 9716, 'precious': 9717, 'ambushed': 9718, 'tsurtsumia': 9719, 'nominated': 9720, 'humpback': 9721, 'growers': 9722, 'treasurer': 9723, 'hayes': 9724, 'brew': 9725, 'meteorites': 9726, 'foothold': 9727, 'ludlow': 9728, 'animation': 9729, '191': 9730, '1944': 9731, 'thief': 9732, 'shadows': 9733, 'beep': 9734, 'smokers': 9735, 'bbdb': 9736, 'adsense': 9737, 'grunsven': 9738, 'embarked': 9739, '16x': 9740, '744': 9741, 'guynn': 9742, 'resistant': 9743, 'jb': 9744, 'bunt': 9745, 'requesting': 9746, 'noc': 9747, 'cirrus': 9748, 'tinkers': 9749, 'eddington': 9750, 'skins': 9751, 'auckland': 9752, 'tainted': 9753, 'frontiers': 9754, 'crocodile': 9755, 'janitors': 9756, 'rudy': 9757, 'coco': 9758, '457': 9759, 'ainsworth': 9760, 'shinawatra': 9761, 'hernndez': 9762, 'frivolous': 9763, 'mdc': 9764, 'tabcorp': 9765, 'hossein': 9766, 'boozer': 9767, 'africanized': 9768, 'yakovlev': 9769, 'bfb': 9770, 'wines': 9771, 'mudslide': 9772, 'coddled': 9773, 'pampered': 9774, 'bee': 9775, 'depressant': 9776, 'jaguar': 9777, 'taekwondo': 9778, 'janco': 9779, 'ibrahim': 9780, 'platinum': 9781, 'ctl': 9782, 'fidel': 9783, 'gilead': 9784, 'mtv': 9785, 'recorder': 9786, 'imac': 9787, 'arabic': 9788, 'mourinho': 9789, 'charade': 9790, 'surgeons': 9791, 'netbeans': 9792, '568th': 9793, 'dechy': 9794, 'capriati': 9795, 'loop': 9796, 'unbundling': 9797, 'tesco': 9798, 'toppling': 9799, 'dissent': 9800, 'planner': 9801, 'bpd': 9802, 'rescuing': 9803, 'phenomenon': 9804, 'textile': 9805, 'bedford': 9806, 'confusing': 9807, 'paradise': 9808, 'hunters': 9809, 'conducting': 9810, 'genius': 9811, 'praise': 9812, 'charity': 9813, 'lash': 9814, 'argues': 9815, 'ak': 9816, '830': 9817, 'salem': 9818, 'winnick': 9819, 'superpower': 9820, 'stein': 9821, 'blows': 9822, 'describes': 9823, 'laughing': 9824, 'loosely': 9825, 'positioning': 9826, 'rebranding': 9827, 'minorities': 9828, 'parity': 9829, 'heartbreak': 9830, 'consultant': 9831, 'perennial': 9832, 'categories': 9833, 'jungle': 9834, 'sapient': 9835, 'battleground': 9836, 'defunct': 9837, 'surrenders': 9838, 'simulation': 9839, 'txn': 9840, 'stm': 9841, 'brcm': 9842, 'households': 9843, 'than': 9844, 'locks': 9845, 'detailing': 9846, 'made': 9847, 'collide': 9848, 'opposing': 9849, 'pensacola': 9850, 'docks': 9851, 'bananas': 9852, 'gently': 9853, 'tyrannosaurus': 9854, 'beasts': 9855, 'blocker': 9856, 'workaholics': 9857, 'into': 9858, 'name': 9859, 'asteroids': 9860, 'observations': 9861, 'sean': 9862, 'weed': 9863, 'sprayed': 9864, 'supercomputer': 9865, 'nests': 9866, 'succeeded': 9867, 'enticing': 9868, 'galaxies': 9869, 'coin': 9870, 'vibrant': 9871, 'transmitted': 9872, '2015': 9873, 'dims': 9874, 'missions': 9875, 'restoration': 9876, 'colors': 9877, 'mortality': 9878, 'spaceflight': 9879, 'outdated': 9880, 'trivial': 9881, 'citadel': 9882, 'relics': 9883, 'hanoi': 9884, 'priceless': 9885, 'deepest': 9886, 'uranium': 9887, 'indictments': 9888, 'rapists': 9889, 'cloned': 9890, 'beneath': 9891, 'geologists': 9892, 'closures': 9893, 'gangs': 9894, 'slaughtering': 9895, 'shark': 9896, 'sharks': 9897, 'voicemail': 9898, 'caller': 9899, 'cement': 9900, 'stateside': 9901, 'contradictory': 9902, 'thank': 9903, \"i'm\": 9904, 'realize': 9905, 'debian': 9906, 'ton': 9907, 'ips': 9908, 'log4j': 9909, 'migrated': 9910, 'getlogger': 9911, 'commons': 9912, 'saudis': 9913, 'surrendered': 9914, \"'the\": 9915, 'how': 9916, 'forgot': 9917, 'reagan': 9918, 'something': 9919, 'loving': 9920, 'oath': 9921, 'sovereignty': 9922, 'flags': 9923, 'jesus': 9924, 'judiciary': 9925, 'dos': 9926, 'testers': 9927, 'browsing': 9928, 'adaptive': 9929, 'bsa': 9930, 'weasel': 9931, 'emergencies': 9932, 'editing': 9933, 'contamination': 9934, 'proper': 9935, 'predecessor': 9936, 'armored': 9937, 'cute': 9938, 'fistful': 9939, 'interrupted': 9940, 'russell': 9941, 'vegetables': 9942, 'branson': 9943, 'flyer': 9944, 'arctic': 9945, 'victorian': 9946, 'implicated': 9947, 'legged': 9948, 'trmm': 9949, 'atmospheric': 9950, 'noaa': 9951, 'composition': 9952, '1930s': 9953, 'demise': 9954, 'sunset': 9955, 'fossil': 9956, 'bones': 9957, 'warrior': 9958, 'raiding': 9959, 'contributing': 9960, 'chimps': 9961, 'sanctuary': 9962, 'almost': 9963, 'oxygen': 9964, 'concepts': 9965, 'maintaining': 9966, 'catches': 9967, 'equivalent': 9968, 'astrobiology': 9969, 'marshall': 9970, 'globular': 9971, 'alight': 9972, 'magnetic': 9973, 'ejected': 9974, 'tucson': 9975, 'dusty': 9976, 'explaining': 9977, 'kathleen': 9978, 'cooler': 9979, 'preventing': 9980, 'ceremonies': 9981, 'sufficient': 9982, 'mysteries': 9983, 'belief': 9984, 'stings': 9985, 'allergy': 9986, 'diedtra': 9987, 'zones': 9988, 'linda': 9989, 'skull': 9990, 'teeth': 9991, 'clot': 9992, 'strep': 9993, 'problematic': 9994, 'medications': 9995, 'academy': 9996, 'proponents': 9997, 'obtaining': 9998, 'snacks': 9999, 'satisfy': 10000, 'abc': 10001, 'actual': 10002, 'authors': 10003, 'adopting': 10004, 'heir': 10005, 'annoying': 10006, 'symbian': 10007, 'callers': 10008, 'adaptors': 10009, 'specification': 10010, 'benhamou': 10011, 'spec': 10012, 'basket': 10013, 'bucked': 10014, 'migrate': 10015, 'cutter': 10016, 'kinds': 10017, 'discounting': 10018, 'distractions': 10019, 'rely': 10020, 'understands': 10021, '488': 10022, 'isps': 10023, 'src': 10024, 'ifw': 10025, 'ibmpseries': 10026, 'sz': 10027, '1x1': 10028, 'ord': 10029, '200301151450': 10030, \"'0'\": 10031, '9824455': 10032, '9690404': 10033, '9473681': 10034, '9688522': 10035, 'html': 10036, 'infow': 10037, \"rss'\": 10038, 'ibms': 10039, 'tm': 10040, 'transmissions': 10041, 'cinemanow': 10042, 'usability': 10043, 'requiring': 10044, 'stark': 10045, 'notched': 10046, 'silence': 10047, 'minn': 10048, 'fordahl': 10049, 'teachers': 10050, 'spur': 10051, 'popping': 10052, 'removes': 10053, 'newport': 10054, 'sempo': 10055, 'sc': 10056, 'capturing': 10057, 'pests': 10058, 'intrusive': 10059, 'optimization': 10060, 'roadblocks': 10061, '8220': 10062, 'bidder': 10063, 'participate': 10064, 'anticipation': 10065, 'archive': 10066, 'acknowledges': 10067, 'broadcasts': 10068, 'defraud': 10069, 'quarantine': 10070, 'penetration': 10071, 'infecting': 10072, '299': 10073, 'understood': 10074, 'mario': 10075, 'powerschool': 10076, 'wily': 10077, 'pena': 10078, 'dreaming': 10079, 'travis': 10080, 'pennetta': 10081, 'prokom': 10082, 'wta': 10083, 'anastasia': 10084, 'myskina': 10085, 'safely': 10086, 'proportions': 10087, 'arash': 10088, 'storming': 10089, 'sinking': 10090, 'downed': 10091, 'contenders': 10092, 'safeco': 10093, 'mothers': 10094, 'splashed': 10095, 'lawn': 10096, 'eligible': 10097, 'diagnosis': 10098, 'slopes': 10099, 'gannon': 10100, 'throwback': 10101, 'programming': 10102, 'spades': 10103, 'flawless': 10104, 'bogey': 10105, 'sundays': 10106, 'pat': 10107, 'fleeting': 10108, 'finalist': 10109, 'lynx': 10110, 'cannon': 10111, 'starved': 10112, 'rampage': 10113, 'airlifted': 10114, 'schoolchildren': 10115, 'outdoor': 10116, 'cantwell': 10117, 'ch': 10118, 'sheriff': 10119, 'loom': 10120, 'reads': 10121, 'utterly': 10122, 'sweltering': 10123, 'profoundly': 10124, 'sleepy': 10125, 'clutching': 10126, 'assuming': 10127, 'impression': 10128, 'actress': 10129, 'sorting': 10130, 'sharma': 10131, 'frail': 10132, 'clogged': 10133, 'colleague': 10134, 'tweaking': 10135, 'dunn': 10136, 'teach': 10137, 'overland': 10138, 'kan': 10139, 'designated': 10140, 'pau': 10141, 'gasol': 10142, 'defies': 10143, 'thrashed': 10144, 'triumphs': 10145, 'clinches': 10146, 'shells': 10147, 'angers': 10148, 'gasped': 10149, 'trembled': 10150, 'populist': 10151, 'firecrackers': 10152, 'promotions': 10153, 'transmit': 10154, 'lions': 10155, 'clones': 10156, 'pagerank': 10157, 'greets': 10158, 'tiring': 10159, 'jeopardy': 10160, 'clark': 10161, 'reigniting': 10162, 'dictatorship': 10163, 'fairytale': 10164, 'rica': 10165, 'hazardous': 10166, 'solely': 10167, 'expiry': 10168, 'predator': 10169, 'finley': 10170, 'harder': 10171, 'fasher': 10172, 'impress': 10173, 'snares': 10174, 'briefed': 10175, 'standings': 10176, 'assembled': 10177, 'toni': 10178, 'stoppage': 10179, 'inflows': 10180, 'excludes': 10181, 'exercises': 10182, 'figuring': 10183, 'newborn': 10184, 'staging': 10185, 'deputies': 10186, 'stiff': 10187, 'fiji': 10188, 'clinching': 10189, 'camarillo': 10190, 'granville': 10191, 'buddha': 10192, 'parliamentary': 10193, 'indefinitely': 10194, 'salesman': 10195, '275': 10196, 'fade': 10197, 'musical': 10198, 'attracting': 10199, 'publication': 10200, 'bleak': 10201, 'pronger': 10202, 'sacrifice': 10203, 'stern': 10204, 'speeches': 10205, 'buzzer': 10206, 'glen': 10207, 'goalkeeper': 10208, 'tremendous': 10209, 'abrupt': 10210, 'evasion': 10211, 'cbi': 10212, 'swappers': 10213, 'monks': 10214, 'publicity': 10215, 'tsa': 10216, 'tightening': 10217, 'gambit': 10218, 'proteins': 10219, 'syy': 10220, 'rope': 10221, 'smbs': 10222, 'benchmark': 10223, 'lebanese': 10224, 'stabilized': 10225, 'damascus': 10226, 'lpnt': 10227, 'prv': 10228, 'frequency': 10229, 'grieving': 10230, 'feedster': 10231, 'kanoodle': 10232, 'realities': 10233, 'educational': 10234, 'invokes': 10235, '11i': 10236, 'competes': 10237, 'goodale': 10238, 'idema': 10239, 'trustworthy': 10240, 'anointed': 10241, 'disciples': 10242, 'cistern': 10243, 'exploding': 10244, 'dependent': 10245, '6b': 10246, 'donkey': 10247, 'portuguese': 10248, 'patience': 10249, 'communicate': 10250, 'squares': 10251, 'staking': 10252, 'testament': 10253, 'ceremonial': 10254, 'dictionary': 10255, 'powerbuilder': 10256, 'posters': 10257, 'shirts': 10258, 'berard': 10259, 'gprs': 10260, 'wyoming': 10261, 'clots': 10262, 'namesake': 10263, 'balloting': 10264, 'renounce': 10265, 'citizenship': 10266, 'divisive': 10267, 'belo': 10268, 'resulting': 10269, 'jockey': 10270, 'privilege': 10271, 'playlist': 10272, 'publishers': 10273, 'mourned': 10274, 'blogging': 10275, 'quiroga': 10276, 'correctly': 10277, 'lufthansa': 10278, 'despondent': 10279, 'distress': 10280, 'ducks': 10281, 'had': 10282, 'harrington': 10283, 'rubin': 10284, 'braced': 10285, 'industrials': 10286, 'steadily': 10287, 'pronounced': 10288, 'scooping': 10289, 'quarterbacks': 10290, 'seeds': 10291, 'saturnian': 10292, 'sneak': 10293, 'havoc': 10294, 'premiers': 10295, 'sponsoring': 10296, 'achilles': 10297, 'sum': 10298, 'incorporate': 10299, 'limiting': 10300, 'vaughn': 10301, 'architectures': 10302, 'luck': 10303, 'overwhelmingly': 10304, 'splintered': 10305, 'everybody': 10306, 'selections': 10307, 'haitian': 10308, 'skip': 10309, 'downside': 10310, 'beshir': 10311, 'incredible': 10312, 'parachute': 10313, 'arrow': 10314, 'faltering': 10315, 'screaming': 10316, 'southwestern': 10317, 'harkin': 10318, 'suburban': 10319, 'alcatel': 10320, 'reigns': 10321, 'scammers': 10322, 'promoted': 10323, 'costume': 10324, 'superhero': 10325, 'deepen': 10326, 'trapeze': 10327, 'informal': 10328, 'thoroughly': 10329, 'formats': 10330, 'upstart': 10331, 'ecm': 10332, 'ritual': 10333, 'cleansing': 10334, 'behalf': 10335, 'trace': 10336, 'royalty': 10337, \"int'l\": 10338, 'conserve': 10339, 'notified': 10340, 'breezed': 10341, 'graves': 10342, 'texan': 10343, 'tack': 10344, 'substantiate': 10345, 'postpone': 10346, 'simms': 10347, '1904': 10348, 'albums': 10349, 'sentences': 10350, 'menaces': 10351, 'drier': 10352, 'menacing': 10353, 'defined': 10354, 'dispatched': 10355, 'fleetboston': 10356, 'touches': 10357, 'scrushy': 10358, 'tag': 10359, 'joke': 10360, 'antiterror': 10361, 'condemn': 10362, 'prizes': 10363, 'ioannou': 10364, 'migrant': 10365, 'rio': 10366, 'feisty': 10367, 'laugh': 10368, 'uncle': 10369, 'inspiration': 10370, 'pawtucket': 10371, 'oprah': 10372, 'winfrey': 10373, 'irks': 10374, 'retrial': 10375, 'pitchers': 10376, 'netting': 10377, 'birdlife': 10378, 'bian': 10379, 'longstanding': 10380, 'refusal': 10381, 'astronaut': 10382, 'spls': 10383, 'burns': 10384, 'merits': 10385, 'procedure': 10386, 'episode': 10387, 'casinos': 10388, 'tenn': 10389, 'tackling': 10390, 'oakville': 10391, '790': 10392, 'outweighed': 10393, 'destructive': 10394, 'organisms': 10395, 'expectation': 10396, 'buffeted': 10397, 'enthusiasts': 10398, 'persons': 10399, 'picturesque': 10400, 'kmx': 10401, 'firmed': 10402, 'bonnie': 10403, 'kampala': 10404, 'stroll': 10405, 'grinspoon': 10406, 'beefing': 10407, 'hips': 10408, 'vermont': 10409, 'adoring': 10410, 'trims': 10411, 'laureate': 10412, 'debilitating': 10413, 'offences': 10414, 'topiramate': 10415, 'glaser': 10416, 'mechanics': 10417, 'watchdogs': 10418, 'pixels': 10419, 'thrive': 10420, 'spit': 10421, 'sheltered': 10422, 'cove': 10423, 'pigeons': 10424, 'seller': 10425, 'carnegie': 10426, 'scripting': 10427, 'faded': 10428, 'aj': 10429, 'wrecked': 10430, 'ordeal': 10431, 'cult': 10432, 'healthier': 10433, 'ripple': 10434, 'lame': 10435, 'discord': 10436, 'lankan': 10437, 'detects': 10438, 'tibetan': 10439, 'sooner': 10440, 'bollywood': 10441, 'renovations': 10442, 'tacit': 10443, 'pared': 10444, 'marginally': 10445, 'westwood': 10446, 'nm': 10447, 'des': 10448, 'iliadis': 10449, 'prop': 10450, 'threshold': 10451, 'doris': 10452, 'yorkers': 10453, 'spiralling': 10454, 'dealer': 10455, 'wwise': 10456, 'mines': 10457, 'seasonally': 10458, 'realplayer': 10459, 'alicia': 10460, 'sidestepping': 10461, 'blagojevich': 10462, 'wrapping': 10463, 'kickoff': 10464, 'siberian': 10465, 'favorable': 10466, 'pluggedin': 10467, 'websphere': 10468, 'exceed': 10469, 'parry': 10470, 'lynch': 10471, 'infect': 10472, 'halved': 10473, 'joanne': 10474, 'intensifies': 10475, 'slaley': 10476, 'supplement': 10477, 'penny': 10478, 'networx': 10479, 'insertion': 10480, 'coupling': 10481, 'irvine': 10482, 'airstrikes': 10483, 'quell': 10484, 'statistical': 10485, 'charlize': 10486, 'supposedly': 10487, 'dude': 10488, 'rb': 10489, 'entitled': 10490, 'necessarily': 10491, 'dancing': 10492, 'hears': 10493, 'revolutionize': 10494, 'flamboyant': 10495, 'servant': 10496, 'relation': 10497, 'punter': 10498, '2050': 10499, 'subdued': 10500, 'imposes': 10501, 'slaves': 10502, 'esp': 10503, 'homegrown': 10504, 'sections': 10505, '19th': 10506, 'conservationists': 10507, 'venom': 10508, 'railroad': 10509, 'persuading': 10510, 'discovering': 10511, 'mutiny': 10512, 'snubs': 10513, 'anticipate': 10514, 'digitally': 10515, 'monsanto': 10516, 'clearinghouse': 10517, 'inspectors': 10518, 'emerges': 10519, 'emblazoned': 10520, 'widen': 10521, 'collaborating': 10522, 'chartered': 10523, 'supercomputers': 10524, 'musa': 10525, 'hindi': 10526, 'dhiren': 10527, 'slideshows': 10528, 'comparing': 10529, 'macs': 10530, 'godina': 10531, 'digested': 10532, 'cybercafe': 10533, 'belly': 10534, 'surrounds': 10535, 'secondary': 10536, 'remainder': 10537, 'industrialized': 10538, 'sons': 10539, 'nd': 10540, 'minnows': 10541, 'aberdeen': 10542, 'forge': 10543, 'curtain': 10544, 'alvarez': 10545, 'suu': 10546, 'kyi': 10547, 'accompanied': 10548, 'girafa': 10549, 'icq': 10550, 'hhs': 10551, 'firsts': 10552, 'outspoken': 10553, 'npr': 10554, 'separates': 10555, 'crimp': 10556, 'visible': 10557, 'monitored': 10558, 'notch': 10559, 'paragraph': 10560, 'schroder': 10561, 'messagelabs': 10562, 'sergei': 10563, 'yielding': 10564, 'peru': 10565, 'dominicans': 10566, 'pitfalls': 10567, 'stated': 10568, 'highlighted': 10569, 'delirious': 10570, 'persisted': 10571, 'parliamentarians': 10572, 'coms': 10573, 'excites': 10574, 'antiwar': 10575, 'cranked': 10576, 'miners': 10577, 'cubin': 10578, 'qatar': 10579, 'surgeon': 10580, 'hydro': 10581, 'guzman': 10582, 'mavs': 10583, 'eduardo': 10584, 'najera': 10585, 'laettner': 10586, 'evan': 10587, 'eschmeyer': 10588, 'dickau': 10589, 'backdrop': 10590, 'vazquez': 10591, 'javier': 10592, 'irregular': 10593, 'ranch': 10594, 'resumption': 10595, 'stump': 10596, 'critically': 10597, 'comfort': 10598, 'fortunes': 10599, 'junta': 10600, 'sigh': 10601, 'pinpoint': 10602, 'heal': 10603, 'vincent': 10604, 'heritage': 10605, 'arbor': 10606, '320': 10607, 'tft': 10608, 'tilt': 10609, 'wings': 10610, 'pricey': 10611, 'megapixels': 10612, 'collar': 10613, 'splash': 10614, 'lengths': 10615, 'warring': 10616, 'warehouses': 10617, 'oversees': 10618, 'lobbyists': 10619, 'automobiles': 10620, 'compatriot': 10621, 'metlife': 10622, 'laundering': 10623, 'posed': 10624, 'nixon': 10625, 'bellhorn': 10626, 'burks': 10627, 'philo': 10628, 'seething': 10629, 'six': 10630, 'buzzing': 10631, 'rick': 10632, 'merry': 10633, 'grove': 10634, 'stirs': 10635, 'soliciting': 10636, 'touched': 10637, 'prolific': 10638, 'newark': 10639, 'spectacle': 10640, 'clay': 10641, 'con': 10642, 'continents': 10643, 'ipods': 10644, 'civic': 10645, 'misused': 10646, 'zdnet': 10647, '780': 10648, 'scenes': 10649, 'es': 10650, 'poorly': 10651, 'clogs': 10652, 'bombarding': 10653, 'enforcers': 10654, 'relentless': 10655, 'racked': 10656, 'passports': 10657, 'relinquish': 10658, 'watered': 10659, 'scraps': 10660, 'mandatory': 10661, 'giddens': 10662, 'k1': 10663, 'masterminding': 10664, 'palpable': 10665, 'quiz': 10666, 'unanimous': 10667, 'refined': 10668, 'putters': 10669, 'valuation': 10670, 'klm': 10671, 'update6': 10672, 'burmese': 10673, 'input': 10674, 'scrambling': 10675, 'leontien': 10676, 'hazem': 10677, 'shaalan': 10678, 'ingredient': 10679, 'naturalizer': 10680, 'hackett': 10681, 'underpin': 10682, 'poaching': 10683, 'poles': 10684, 'et': 10685, 'curbed': 10686, 'understandable': 10687, 'valuing': 10688, 'airlift': 10689, 'overshadowing': 10690, 'tutu': 10691, 'nesn': 10692, 'tempted': 10693, 'rider': 10694, 'jonny': 10695, 'protracted': 10696, 'sportsview': 10697, 'keywords': 10698, 'europes': 10699, 'pornographic': 10700, 'residence': 10701, 'gainers': 10702, 'cheats': 10703, 'cancel': 10704, 'five': 10705, 'renowned': 10706, 'gmt': 10707, 'marwan': 10708, '502': 10709, 'asbestos': 10710, 'swelling': 10711, 'julich': 10712, 'imlogic': 10713, 'respective': 10714, 'lacking': 10715, 'decries': 10716, 'slapped': 10717, 'importation': 10718, 'slick': 10719, 'mena': 10720, 'wasteland': 10721, 'assertions': 10722, 'ankara': 10723, 'bilonog': 10724, 'lisbon': 10725, 'nld': 10726, 'wfp': 10727, 'sicily': 10728, 'mapped': 10729, 'pascal': 10730, 'geared': 10731, 'broadening': 10732, 'basten': 10733, 'davids': 10734, 'edgar': 10735, 'marco': 10736, 'varsity': 10737, 'fergie': 10738, 'vienna': 10739, 'nasd': 10740, 'specially': 10741, 'bombardment': 10742, 'abacha': 10743, 'sani': 10744, 'danube': 10745, 'alps': 10746, 'phrase': 10747, 'interstate': 10748, 'deli': 10749, 'louisville': 10750, 'venerable': 10751, 'groin': 10752, 'atari': 10753, 'redefined': 10754, 'dimmed': 10755, 'somewhat': 10756, 'stride': 10757, 'adjustments': 10758, 'harbinger': 10759, 'astonishing': 10760, 'landfall': 10761, '112': 10762, 'mahmoud': 10763, 'imagined': 10764, 'particle': 10765, 'tinkering': 10766, 'aged': 10767, 'ladies': 10768, 'banners': 10769, 'hung': 10770, 'equities': 10771, 'shrugging': 10772, 'albeit': 10773, 'clutter': 10774, 'helplessly': 10775, 'treading': 10776, 'participating': 10777, 'jewelry': 10778, 'switches': 10779, 'revert': 10780, 'zimbabwean': 10781, 'stumbles': 10782, 'cl': 10783, 'standalone': 10784, 'bigfix': 10785, 'intu': 10786, 'turbotax': 10787, 'goodwill': 10788, 'impairment': 10789, 'adverse': 10790, 'luna': 10791, 'moody': 10792, 'unsecured': 10793, 'emphatic': 10794, 'vitamin': 10795, 'reassure': 10796, 'criteria': 10797, 'vacuums': 10798, 'cunning': 10799, 'muster': 10800, 'socks': 10801, 'spine': 10802, 'rebuff': 10803, 'parallels': 10804, 'fse': 10805, 'hillside': 10806, 'raged': 10807, 'mild': 10808, 'limbo': 10809, 'etched': 10810, 'invite': 10811, 'dec': 10812, 'walkout': 10813, 'manufactures': 10814, 'vw': 10815, 'complicate': 10816, 'anticipates': 10817, 'chalked': 10818, 'klinsmann': 10819, 'composite': 10820, 'painful': 10821, 'outpacing': 10822, 'tendon': 10823, 'outfield': 10824, 'richmond': 10825, '104th': 10826, 'rupert': 10827, 'grinstein': 10828, 'ons': 10829, 'scrapped': 10830, 'shaun': 10831, 'consciousness': 10832, 'icd': 10833, 'heartbeats': 10834, 'item': 10835, 'rigged': 10836, 'corzine': 10837, 'watery': 10838, 'altered': 10839, 'irregularities': 10840, 'evacuate': 10841, 'forging': 10842, 'scenario': 10843, 'travellers': 10844, 'blackouts': 10845, 'even': 10846, 'snapped': 10847, 'masae': 10848, 'woodward': 10849, 'sidelines': 10850, 'bowlers': 10851, 'episodes': 10852, 'farc': 10853, 'pew': 10854, 'dampened': 10855, 'surroundings': 10856, 'panathinaiko': 10857, 'archer': 10858, 'presumably': 10859, 'galway': 10860, 'echoed': 10861, 'welcoming': 10862, 'devised': 10863, 'jeered': 10864, 'looted': 10865, 'canned': 10866, 'rebellious': 10867, 'editions': 10868, 'uphill': 10869, 'blink': 10870, 'shores': 10871, 'sluggishness': 10872, 'strains': 10873, '1945': 10874, 'sparkles': 10875, 'cornell': 10876, 'martino': 10877, 'cyril': 10878, 'corporates': 10879, 'shannon': 10880, 'opera': 10881, 'odp': 10882, 'emachines': 10883, 'downpour': 10884, 'critic': 10885, 'throwing': 10886, 'midfield': 10887, 'reluctant': 10888, 'impasse': 10889, '4bn': 10890, '9bn': 10891, 'stared': 10892, 'grounded': 10893, 'bernstein': 10894, 'grit': 10895, 'byelection': 10896, 'chased': 10897, 'resilience': 10898, 'hurling': 10899, 'inland': 10900, 'ripping': 10901, 'psp': 10902, 'activision': 10903, 'angrily': 10904, 'affordable': 10905, 'riots': 10906, 'bombay': 10907, 'thabo': 10908, 'logan': 10909, 'alleviate': 10910, 'walkman': 10911, 'maple': 10912, 'skinny': 10913, 'whipped': 10914, 'definitely': 10915, 'copenhagen': 10916, 'considerably': 10917, '107': 10918, 'trans': 10919, 'foray': 10920, 'improbable': 10921, 'shocks': 10922, 'secured': 10923, 'unorthodox': 10924, '210': 10925, 'blockaded': 10926, 'evacuation': 10927, 'our': 10928, 'bribery': 10929, 'martyrs': 10930, 'faltered': 10931, '648': 10932, 'curtailed': 10933, 'squads': 10934, 'entries': 10935, 'golkar': 10936, 'presses': 10937, 'jukebox': 10938, 'batch': 10939, 'borrowing': 10940, 'outpost': 10941, 'leipzig': 10942, 'arne': 10943, 'whampoa': 10944, 'ka': 10945, 'shing': 10946, 'unprofitable': 10947, 'cornice': 10948, 'seagate': 10949, 'medallists': 10950, 'lends': 10951, 'blazed': 10952, 'netapp': 10953, 'blank': 10954, 'alters': 10955, 'corriere': 10956, 'chide': 10957, 'claire': 10958, 'exceeded': 10959, 'dismissing': 10960, 'mazuz': 10961, 'oeiag': 10962, 'shifts': 10963, 'cobol': 10964, 'migrating': 10965, 'bump': 10966, 'complicated': 10967, 'lampposts': 10968, 'slackening': 10969, 'sink': 10970, 'petsmart': 10971, 'lg': 10972, 'brace': 10973, 'subway': 10974, 'advert': 10975, 'unfairly': 10976, 'fulfills': 10977, 'genetics': 10978, 'olympiad': 10979, 'cooking': 10980, 'dotinga': 10981, 'anxiety': 10982, 'tomato': 10983, 'ellen': 10984, 'unbeatable': 10985, 'stonehenge': 10986, 'mathematics': 10987, 'wealthy': 10988, 'peshawar': 10989, 'karim': 10990, 'discharged': 10991, 'plain': 10992, 'stepfather': 10993, 'noble': 10994, 'salmon': 10995, 'horses': 10996, 'gloves': 10997, 'rulers': 10998, 'kin': 10999, 'pricewaterhousecoopers': 11000, 'condor': 11001, 'intensive': 11002, 'complained': 11003, 'closings': 11004, 'generous': 11005, 'companys': 11006, 'weeklong': 11007, 'epicenter': 11008, 'stirring': 11009, 'blade': 11010, 'doctrine': 11011, 'recap': 11012, 'wrestled': 11013, 'hormel': 11014, 'schering': 11015, 'scales': 11016, 'televised': 11017, 'jwn': 11018, 'dutchman': 11019, 'sami': 11020, 'argued': 11021, 'neglectful': 11022, 'nigerians': 11023, 'conspirator': 11024, 'belgrade': 11025, 'jetstar': 11026, 'stating': 11027, '4th': 11028, 'attractive': 11029, 'dieters': 11030, 'throttling': 11031, 'reminiscent': 11032, 'viewed': 11033, 'mysql': 11034, 'perl': 11035, 'hibernia': 11036, 'embarcadero': 11037, 'speculative': 11038, 'careers': 11039, 'snagging': 11040, 'kosei': 11041, 'uruguay': 11042, 'lionfish': 11043, 'poisonous': 11044, 'palace': 11045, 'multiyear': 11046, 'assists': 11047, 'finalists': 11048, 'strode': 11049, 'clerical': 11050, 'hasty': 11051, 'judoka': 11052, 'breaching': 11053, 'ethics': 11054, 'anymore': 11055, 'personality': 11056, 'readily': 11057, 'prostitution': 11058, 'erase': 11059, 'licensed': 11060, 'geologic': 11061, 'cub': 11062, 'wishes': 11063, 'vpns': 11064, 'frame': 11065, 'rim': 11066, 'emphasis': 11067, 'termination': 11068, 'hoopla': 11069, 'haunts': 11070, 'rainer': 11071, 'distributors': 11072, 'pratima': 11073, 'barney': 11074, 'chevrontexaco': 11075, 'leak': 11076, 'organisations': 11077, 'schmidt': 11078, 'skilled': 11079, 'liked': 11080, 'brightest': 11081, 'surreal': 11082, 'kean': 11083, 'demonstrations': 11084, 'neverland': 11085, 'marital': 11086, 'invaded': 11087, 'pills': 11088, 'millionaires': 11089, 'respectively': 11090, 'texaco': 11091, 'reasonable': 11092, 'guess': 11093, 'concoction': 11094, 'hideki': 11095, 'rato': 11096, 'loomed': 11097, 'cheaters': 11098, 'jeopardizes': 11099, 'peyton': 11100, 'a1': 11101, 'spoiled': 11102, 'diary': 11103, 'peg': 11104, 'hunts': 11105, 'headlined': 11106, 'amit': 11107, 'asaravala': 11108, 'telcos': 11109, 'perez': 11110, 'pours': 11111, 'thriller': 11112, 'ringing': 11113, 'averts': 11114, 'thanksgiving': 11115, 'softened': 11116, 'aluminium': 11117, 'deakes': 11118, 'feud': 11119, 'nam': 11120, 'norfolk': 11121, 'lauds': 11122, 'lycoris': 11123, 'shepherd': 11124, 'smiles': 11125, 'garland': 11126, 'berth': 11127, 'sgt': 11128, 'pavol': 11129, 'conviction': 11130, 'dropout': 11131, 'creek': 11132, 'strides': 11133, 'spontaneously': 11134, '29th': 11135, 'leapt': 11136, 'factbox': 11137, 'slovakian': 11138, 'bays': 11139, 'kenyan': 11140, 'butter': 11141, 'reply': 11142, 'symbols': 11143, 'norwich': 11144, 'reckoning': 11145, 'cautioned': 11146, 'prayers': 11147, 'drugmakers': 11148, 'mga': 11149, 'stilianov': 11150, 'ansi': 11151, 'cybx': 11152, 'destined': 11153, 'complacency': 11154, 'assesses': 11155, 'kidding': 11156, 'refresh': 11157, 'pardy': 11158, 'moss': 11159, 'doubly': 11160, 'unwise': 11161, 'scalper': 11162, 'viab': 11163, 'mwy': 11164, 'sumner': 11165, 'redstone': 11166, '470': 11167, 'flowed': 11168, 'centered': 11169, 'stockholders': 11170, 'xi': 11171, 'timid': 11172, 'pasting': 11173, 'obligations': 11174, 'staining': 11175, 'leverage': 11176, 'preston': 11177, 'videotape': 11178, 'technically': 11179, 'spiking': 11180, 'kinston': 11181, 'cpsc': 11182, 'provision': 11183, 'losers': 11184, 'defines': 11185, 'outmaneuvered': 11186, 'traveler': 11187, '3b': 11188, '227': 11189, 'wyndham': 11190, 'enlisted': 11191, 'soka': 11192, 'acres': 11193, 'mediocrity': 11194, 'advises': 11195, 'thracian': 11196, 'unrivalled': 11197, 'overshadows': 11198, 'stall': 11199, 'contracting': 11200, '1965': 11201, 'hedge': 11202, 'pocketed': 11203, 'seventy': 11204, 'heroic': 11205, 'crimping': 11206, 'nomination': 11207, 'mitch': 11208, 'vagrant': 11209, 'ukrainian': 11210, 'committees': 11211, 'leasing': 11212, 'disagreement': 11213, 'earthlink': 11214, 'apply': 11215, 'entrenched': 11216, 'clip': 11217, 'erik': 11218, 'succeeds': 11219, 'kenenisa': 11220, 'sanofi': 11221, 'ndp': 11222, 'skilling': 11223, 'chump': 11224, 'limestone': 11225, 'sarbanes': 11226, 'oxley': 11227, 'accountability': 11228, 'probed': 11229, 'leaked': 11230, 'synonymous': 11231, 'ramon': 11232, 'carpenter': 11233, 'hinge': 11234, 'lopez': 11235, 'stretcher': 11236, 'pettersen': 11237, 'tartan': 11238, 'revitalized': 11239, 'throne': 11240, 'countryman': 11241, 'alou': 11242, 'tone': 11243, 'invoked': 11244, 'turks': 11245, 'macero': 11246, 'everhart': 11247, 'thrilled': 11248, 'elvis': 11249, 'saronic': 11250, 'hundredth': 11251, 'singel': 11252, 'cybersquatting': 11253, 'defiance': 11254, 'abduction': 11255, 'hideouts': 11256, 'gradually': 11257, 'telephoned': 11258, 'detain': 11259, 'rudolf': 11260, 'personnel': 11261, 'satirical': 11262, '08': 11263, 'her': 11264, 'yachting': 11265, 'basin': 11266, 'windies': 11267, 'gayle': 11268, 'dipping': 11269, 'kingpin': 11270, 'advisor': 11271, 'palatable': 11272, 'generate': 11273, 'champs': 11274, 'fig': 11275, 'luster': 11276, 'us50': 11277, 'prowess': 11278, 'villarreal': 11279, 'speeding': 11280, 'blasting': 11281, 'toil': 11282, 'feats': 11283, 'bowed': 11284, 'button': 11285, 'masses': 11286, 'flop': 11287, '1500': 11288, 'trafford': 11289, 'bicker': 11290, 'fiercely': 11291, 'evoked': 11292, 'demolition': 11293, 'plano': 11294, 'cfl': 11295, 'comic': 11296, 'pleasure': 11297, 'petria': 11298, 'euphoric': 11299, 'barcelona': 11300, 'aimtc': 11301, 'foils': 11302, 'tcu': 11303, 'outsider': 11304, 'weary': 11305, 'supremacy': 11306, 'showcasing': 11307, 'bolstering': 11308, 'vet': 11309, 'nudge': 11310, 'shootout': 11311, 'guessing': 11312, 'tailored': 11313, 'robbery': 11314, 'superman': 11315, 'batter': 11316, 'ballots': 11317, 'paused': 11318, 'americas': 11319, 'hidayat': 11320, 'bickering': 11321, 'lobsters': 11322, 'sara': 11323, 'sunglasses': 11324, 'ginepri': 11325, 'peculiar': 11326, 'accidents': 11327, 'dire': 11328, '208': 11329, 'wasting': 11330, 'pits': 11331, 'phoning': 11332, 'bangladeshis': 11333, 'phenomenal': 11334, 'houllier': 11335, 'hampton': 11336, 'ages': 11337, 'apartment': 11338, 'valentino': 11339, 'weekends': 11340, 'pennington': 11341, 'palmer': 11342, 'sidekick': 11343, 'fluctuate': 11344, 'goat': 11345, 'qi': 11346, 'lin': 11347, 'jm': 11348, 'pierre': 11349, 'accuracy': 11350, 'blur': 11351, 'ariz': 11352, 'toes': 11353, 'electrical': 11354, 'baquba': 11355, 'residences': 11356, 'pragmatic': 11357, 'reformist': 11358, 'trips': 11359, 'flexed': 11360, 'undocumented': 11361, 'costantino': 11362, 'booing': 11363, 'cups': 11364, 'doc': 11365, 'salle': 11366, 'bandage': 11367, 'paralysed': 11368, 'zito': 11369, 'executes': 11370, 'wicked': 11371, 'orchestrated': 11372, 'denounce': 11373, 'tooele': 11374, 'offender': 11375, 'cole': 11376, 'yale': 11377, 'pistol': 11378, 'salad': 11379, 'watches': 11380, 'scouting': 11381, 'heartbreaking': 11382, 'tune': 11383, 'destroys': 11384, 'indications': 11385, 'contemplating': 11386, 'exotic': 11387, 'dimming': 11388, 'jia': 11389, 'zhanbo': 11390, 'zhang': 11391, 'mi': 11392, 'fiber': 11393, 'delagrange': 11394, 'presidents': 11395, 'sete': 11396, 'rogers': 11397, 'varitek': 11398, 'ginter': 11399, 'dated': 11400, 'baton': 11401, 'unethical': 11402, 'erased': 11403, 'unfolding': 11404, 'airplane': 11405, 'puyallup': 11406, 'brick': 11407, 'ipas': 11408, 'terribly': 11409, 'blazers': 11410, 'readiness': 11411, 'disgruntled': 11412, 'reclaim': 11413, 'castel': 11414, 'gandolfo': 11415, 'documentary': 11416, 'confirming': 11417, 'silverware': 11418, 'squeezing': 11419, 'boudreaux': 11420, 'anbar': 11421, 'echoing': 11422, 'prostitutes': 11423, 'delegations': 11424, 'evocative': 11425, 'steamy': 11426, 'everything': 11427, 'certify': 11428, 'asafa': 11429, '1924': 11430, 'butt': 11431, 'francis': 11432, 'obikwelu': 11433, 'kelvim': 11434, 'perth': 11435, 'tearful': 11436, 'lax': 11437, 'predators': 11438, 'fanciers': 11439, 'fevered': 11440, 'dole': 11441, 'graeme': 11442, 'shewfelt': 11443, 'eaten': 11444, 'checkpoint': 11445, 'morris': 11446, 'wonders': 11447, 'pledging': 11448, 'throes': 11449, 'uniforms': 11450, 'wenger': 11451, 'mishap': 11452, 'anarchy': 11453, 'behar': 11454, 'blumenthal': 11455, 'relaxation': 11456, 'carp': 11457, 'pilbara': 11458, 'shining': 11459, 'repeated': 11460, 'ratan': 11461, 'dossier': 11462, 'middleweek': 11463, 'entangled': 11464, 'raceway': 11465, 'wiretap': 11466, 'wiretapping': 11467, 'regrets': 11468, 'embroiled': 11469, 'lister': 11470, 'lodge': 11471, 'travers': 11472, 'derby': 11473, 'flowers': 11474, 'divide': 11475, 'pins': 11476, 'ano': 11477, 'liossia': 11478, 'importance': 11479, 'bolsters': 11480, 'shame': 11481, 'pondering': 11482, 'cao': 11483, 'digits': 11484, 'sims': 11485, 'recycler': 11486, 'annia': 11487, 'pathology': 11488, 'radiology': 11489, 'jemaah': 11490, 'islamiyah': 11491, 'sealed': 11492, 'emilie': 11493, 'hometrack': 11494, 'safari': 11495, 'tyrannical': 11496, 'fraction': 11497, 'pave': 11498, 'walks': 11499, 'deflation': 11500, 'notorious': 11501, 'ringleader': 11502, 'martial': 11503, 'bmo': 11504, 'tamer': 11505, 'shrapnel': 11506, 'courtyard': 11507, 'shortstop': 11508, 'overcoming': 11509, 'flourish': 11510, 'constitute': 11511, 'shakes': 11512, 'evans': 11513, 'timlin': 11514, 'vargas': 11515, 'cheek': 11516, 'realizing': 11517, 'bootleg': 11518, 'blacks': 11519, 'immortal': 11520, 'contend': 11521, 'collecting': 11522, 'sweat': 11523, 'finger': 11524, 'valenti': 11525, 'oven': 11526, 'friedlander': 11527, 'biopharmaceutical': 11528, 'integris': 11529, 'scot': 11530, 'andrea': 11531, 'mandorlini': 11532, 'emphasizing': 11533, 'zofran': 11534, 'coles': 11535, 'myer': 11536, 'resist': 11537, 'chechens': 11538, 'packets': 11539, 'occurs': 11540, 'ark': 11541, 'analyse': 11542, 'talisman': 11543, 'hi': 11544, 'tekelec': 11545, 'pisa': 11546, 'roosevelt': 11547, 'metz': 11548, 'sucked': 11549, 'microcenter': 11550, 'fortum': 11551, 'herd': 11552, 'nj': 11553, 'prnewswire': 11554, 'enforce': 11555, 'peripheral': 11556, 'ferries': 11557, 'ont': 11558, 'pharma': 11559, 'macintosh': 11560, 'blackout': 11561, 'ramsey': 11562, 'robbie': 11563, 'mateja': 11564, 'kezman': 11565, 'circulating': 11566, 'travelocity': 11567, 'boon': 11568, 'magnate': 11569, 'dez': 11570, 'sandy': 11571, 'tedford': 11572, 'muddled': 11573, 'eclipsed': 11574, 'fa': 11575, 'delio': 11576, 'yesterdays': 11577, 'emc': 11578, 'mulls': 11579, 'appointment': 11580, 'sav': 11581, 'gigabit': 11582, 'trucking': 11583, 'ep': 11584, 'spar': 11585, 'translation': 11586, 'wrestlers': 11587, 'payroll': 11588, 'accelerate': 11589, 'hijacks': 11590, 'teodoro': 11591, 'obiang': 11592, 'nguema': 11593, 'bottles': 11594, 'sas': 11595, 'fatter': 11596, 'timber': 11597, 'sonia': 11598, 'ide': 11599, 'otis': 11600, 'xeon': 11601, 'programmer': 11602, 'cooled': 11603, 'analog': 11604, 'sebrle': 11605, 'urlinfo': 11606, 'inappropriate': 11607, 'meteoric': 11608, 'outsource': 11609, 'demographic': 11610, 'enjoys': 11611, 'approving': 11612, 'heightening': 11613, 'amendment': 11614, 'gasp': 11615, 'sacks': 11616, 'whistled': 11617, 'outstanding': 11618, 'defar': 11619, 'starpower': 11620, 'neri': 11621, 'shouk': 11622, 'faulted': 11623, 'stamina': 11624, 'phillip': 11625, 'monument': 11626, 'repayments': 11627, 'retaliate': 11628, 'hokies': 11629, 'tumbling': 11630, '295': 11631, 'tongue': 11632, 'varian': 11633, 'obscurity': 11634, 'contrast': 11635, 'searing': 11636, 'gym': 11637, 'fisher': 11638, 'melhuse': 11639, 'survivor': 11640, 'prolong': 11641, 'bakar': 11642, 'literacy': 11643, 'outsourced': 11644, 'rescuer': 11645, 'oversight': 11646, 'glut': 11647, 'checking': 11648, 'reunited': 11649, 'hotspot': 11650, 'unwound': 11651, 'karelin': 11652, 'sw': 11653, 'protections': 11654, 'microphone': 11655, 'amd64': 11656, 'rachel': 11657, 'yugoslavia': 11658, 'helsinki': 11659, 'guardsmen': 11660, 'balcony': 11661, 'spurs': 11662, 'carrick': 11663, 'roebuck': 11664, '162': 11665, 'bashar': 11666, 'goodison': 11667, 'bcrx': 11668, '8306': 11669, 'del': 11670, 'vanished': 11671, 'kft': 11672, 'bernard': 11673, 'resale': 11674, 'chauffeur': 11675, 'blueberries': 11676, 'handsomely': 11677, 'jacobs': 11678, '182': 11679, 'poss': 11680, 'angiojet': 11681, 'muenzer': 11682, 'manual': 11683, 'hoddle': 11684, 'wolves': 11685, 'overstatement': 11686, 'turbulence': 11687, 'dour': 11688, 'abraham': 11689, 'jti': 11690, 'macdonald': 11691, 'obligation': 11692, 'swam': 11693, 'pointsec': 11694, 'swede': 11695, 'yelena': 11696, '40th': 11697, 'dclk': 11698, 'sharapova': 11699, 'diesel': 11700, 'resolves': 11701, 'charred': 11702, 'phosphorus': 11703, 'iptv': 11704, 'pottery': 11705, 'barn': 11706, 'mtfg': 11707, 'gcc': 11708, 'scope': 11709, 'eff': 11710, 'herath': 11711, 'buckling': 11712, 'guthrie': 11713, 'cron': 11714, '300er': 11715, 'mmo2': 11716, '1973': 11717, 'bekke': 11718, 'merijn': 11719, 'groenhart': 11720, 'noggin': 11721, 'likelier': 11722, 'toxins': 11723, 'pakhalina': 11724, 'hartley': 11725, 'woody': 11726, 'anky': 11727, 'dressage': 11728, 'faraway': 11729, 'dissolved': 11730, 'spokane': 11731, 'diocese': 11732, 'heralds': 11733, 'monaco': 11734, 'ikaho': 11735, 'afar': 11736, 'sham': 11737, '105': 11738, 'countrymen': 11739, 'asyir': 11740, 'wiesel': 11741, 'ridge': 11742, 'yordani': 11743, 'countering': 11744, 'altria': 11745, 'nwac': 11746, 'tsg': 11747, 'minimum': 11748, 'revoking': 11749, 'emi': 11750, 'antimissile': 11751, 'pep': 11752, 'fifa': 11753, 'rummage': 11754, '1978': 11755, 'cans': 11756, 'themes': 11757, 'expresses': 11758, 'asymmetry': 11759, 'murray': 11760, 'shepperton': 11761, 'contributes': 11762, 'cope': 11763, 'sabah': 11764, 'abramovich': 11765, 'larsson': 11766, 'prototypes': 11767, 'sajad': 11768, 'barzi': 11769, 'singtel': 11770, 'bethesda': 11771, '777s': 11772, 'srichaphan': 11773, 'eyetech': 11774, 'hercules': 11775, 'cools': 11776, 'speakeasy': 11777, 'peacefully': 11778, 'harkness': 11779, 'nv': 11780, 'knuckles': 11781, 'impi': 11782, 'gauhati': 11783, 'hiscocks': 11784, 'carbohydrate': 11785, 'crest': 11786, 'cyberfraud': 11787, 'barrichello': 11788, 'plaque': 11789, 'endotoxins': 11790, 'marcuson': 11791, 'flattens': 11792, 'reliance': 11793, 'worthiness': 11794, '375': 11795, 'mrk': 11796, 'exilim': 11797, 'iker': 11798, 'personalization': 11799, 'ulfa': 11800, 'underscoring': 11801, 'deadlocked': 11802, 'disagrees': 11803, 'disciplined': 11804, 'texans': 11805, 'moiseev': 11806, 'andrejus': 11807, 'zadneprovskis': 11808, 'lion': 11809, 'trainer': 11810, 'canucks': 11811, 'sabotaged': 11812, 'unrestricted': 11813, 'streamed': 11814, 'cypher': 11815, 'wray': 11816, 'tycoons': 11817, 'laureates': 11818, 'implants': 11819, 'exporting': 11820, 'specifications': 11821, 'pardons': 11822, 'pardoned': 11823, 'xine': 11824, 'wu': 11825, 'minxia': 11826, 'distressed': 11827, 'understate': 11828, 'distort': 11829, 'audits': 11830, 'conoco': 11831, 'wiping': 11832, 'enjoyment': 11833, 'gourmet': 11834, 'technologically': 11835, 'bratwurst': 11836, 'prescreening': 11837, 'overly': 11838, 'brabants': 11839, 'kpmg': 11840, 'gus': 11841, 'birgit': 11842, 'cynics': 11843, 'carlyle': 11844, 'occasionally': 11845, 'ph': 11846, 'furthest': 11847, 'broadly': 11848, 'mauritius': 11849, 'mundane': 11850, 'greatness': 11851, 'historical': 11852, 'consequence': 11853, 'temper': 11854, 'outrage': 11855, 'ignorance': 11856, 'marlborough': 11857, 'landscaping': 11858, 'imploded': 11859, 'transitory': 11860, 'tricking': 11861, '1993': 11862, 'stoking': 11863, 'cartoon': 11864, 'glossary': 11865, 'oldsmobile': 11866, 'smattering': 11867, 'filipinos': 11868, 'crow': 11869, 'populace': 11870, 'pinoy': 11871, 'penned': 11872, 'counterpoint': 11873, 'economics': 11874, 'apmf': 11875, 'alligators': 11876, 'roam': 11877, 'citys': 11878, 'sewer': 11879, 'crocodilians': 11880, 'realization': 11881, 'dispersed': 11882, 'architects': 11883, 'forges': 11884, 'mammoth': 11885, 'guarantees': 11886, 'fark': 11887, 'principles': 11888, 'absenteeism': 11889, 'rabid': 11890, 'stmicroelectronics': 11891, 'broadcom': 11892, 'seniors': 11893, 'sopranos': 11894, 'classrooms': 11895, 'feb': 11896, 'canals': 11897, 'teenaged': 11898, 'shakespeare': 11899, 'spaceship': 11900, 'harbor': 11901, 'cocaine': 11902, \"o'keefe\": 11903, 'servicing': 11904, 'armadillo': 11905, 'prairie': 11906, 'beetle': 11907, 'ants': 11908, 'supercolony': 11909, 'viewer': 11910, 'footed': 11911, 'sighted': 11912, 'birdwatchers': 11913, 'martha': 11914, 'bursts': 11915, 'toggle': 11916, 'kirincich': 11917, 'exist': 11918, 'rethinks': 11919, 'trout': 11920, 'purse': 11921, 'validity': 11922, 'sunspot': 11923, 'pollutants': 11924, 'surveyed': 11925, 'antiquities': 11926, 'fisheries': 11927, 'tuna': 11928, 'aquarium': 11929, 'stab': 11930, 'ponders': 11931, 'superfund': 11932, 'statute': 11933, 'limitations': 11934, 'expired': 11935, 'pets': 11936, 'pioneered': 11937, 'frog': 11938, 'behaviors': 11939, 'phenomena': 11940, 'logging': 11941, 'sierra': 11942, 'quakes': 11943, 'zinc': 11944, 'occurring': 11945, 'rhinos': 11946, 'biologists': 11947, 'youngsters': 11948, 'tires': 11949, 'swarms': 11950, '6th': 11951, 'essentially': 11952, 'wonderful': 11953, 'michel': 11954, 'gondry': 11955, 'sunshine': 11956, 'autonomous': 11957, 'refuelling': 11958, 'insecurity': 11959, 'anomaly': 11960, 'incomes': 11961, 'massively': 11962, 'consideration': 11963, 'runtime': 11964, 'tcp': 11965, 'prevents': 11966, 'variable': 11967, \"'my\": 11968, 'se': 11969, 'sourcing': 11970, 'lunch': 11971, 'situations': 11972, \"i've\": 11973, 'daemon': 11974, 'desired': 11975, 'config': 11976, 'your': 11977, 'might': 11978, 'locate': 11979, 'feedlocator': 11980, 'shorten': 11981, 'harbi': 11982, 'involve': 11983, 'exceptions': 11984, 'unhandled': 11985, 'show': 11986, 'nostalgia': 11987, 'sanity': 11988, 'under': 11989, 'amnesty': 11990, 'omari': 11991, 'when': 11992, 'accomplished': 11993, \"nation's\": 11994, 'impartiality': 11995, 'also': 11996, 'java3d': 11997, 'existence': 11998, \"'we\": 11999, 'vecmath': 12000, 'examples': 12001, 'here': 12002, 'psychology': 12003, 'javaone': 12004, 'disgusting': 12005, 'stupid': 12006, 'leahy': 12007, 'taught': 12008, 'full': 12009, 'compute': 12010, 'popup': 12011, 'gameboy': 12012, 'sharers': 12013, 'invisible': 12014, 'react': 12015, 'solving': 12016, 'tempting': 12017, 'catwoman': 12018, 'pointless': 12019, 'photography': 12020, 'yhoo': 12021, 'resellers': 12022, 'adequately': 12023, 'pegoraro': 12024, 'postage': 12025, 'mingle': 12026, 'swell': 12027, 'overstated': 12028, 'deborah': 12029, 'stryker': 12030, 'curtails': 12031, 'jacob': 12032, 'vipers': 12033, 'auctioneer': 12034, 'external': 12035, 'parkinson': 12036, 'tb': 12037, 'vandals': 12038, 'lazy': 12039, 'dwellers': 12040, 'warmer': 12041, 'disturbances': 12042, 'sylvan': 12043, 'disputes': 12044, 'relocate': 12045, 'wrath': 12046, 'transforming': 12047, 'cycles': 12048, 'recoveries': 12049, 'reefs': 12050, 'terra': 12051, 'meteors': 12052, 'twirling': 12053, 'voyager': 12054, 'dinosaurs': 12055, 'fossils': 12056, 'acute': 12057, 'eight': 12058, 'freaks': 12059, 'atkins': 12060, 'scholar': 12061, 'historians': 12062, 'scouring': 12063, 'arming': 12064, 'nude': 12065, 'greenhouse': 12066, 'magma': 12067, '266': 12068, 'influx': 12069, 'captive': 12070, 'plagues': 12071, 'inspiring': 12072, 'lifesaving': 12073, 'fooled': 12074, 'merging': 12075, 'distinguish': 12076, 'geode': 12077, 'ultraviolet': 12078, 'hollow': 12079, 'bubbles': 12080, 'chemistry': 12081, 'sharpest': 12082, 'unseen': 12083, 'breakthroughs': 12084, 'srinivasan': 12085, 'vortices': 12086, 'esas': 12087, 'magnetosphere': 12088, 'heaven': 12089, 'trajectory': 12090, 'baikonour': 12091, 'cosmodrome': 12092, 'formation': 12093, 'layers': 12094, 'contribute': 12095, 'doheny': 12096, 'sickened': 12097, 'potatoes': 12098, 'amateurs': 12099, 'workout': 12100, 'addiction': 12101, 'linger': 12102, 'contrary': 12103, 'tampering': 12104, 'cues': 12105, 'stapling': 12106, 'obese': 12107, 'diabetic': 12108, 'clotting': 12109, 'artery': 12110, 'tiniest': 12111, 'lindsey': 12112, 'uncommon': 12113, 'immune': 12114, 'ridiculous': 12115, 'vending': 12116, 'dreyfuss': 12117, 'chocolate': 12118, 'potato': 12119, 'superpass': 12120, 'cooper': 12121, 'bruise': 12122, 'multinational': 12123, 'spooked': 12124, 'reins': 12125, 'patchwork': 12126, 'bandwidth': 12127, 'glitch': 12128, 'resurgent': 12129, 'bells': 12130, 'playbook': 12131, 'freescale': 12132, 'disks': 12133, 'zooms': 12134, 'alamos': 12135, 'chooses': 12136, 'registers': 12137, 'opting': 12138, 'offshoring': 12139, 'atos': 12140, '116': 12141, 'infravio': 12142, 'positioned': 12143, 'third': 12144, 'primarily': 12145, 'goldman': 12146, 'prohibiting': 12147, 'exposes': 12148, 'snags': 12149, 'rentals': 12150, 'ducking': 12151, 'blackberries': 12152, 'tweaks': 12153, 'intimate': 12154, 'wong': 12155, 'everyday': 12156, 'statue': 12157, 'reopened': 12158, 'rent': 12159, 'printers': 12160, 'descend': 12161, 'corners': 12162, 'punishing': 12163, 'hack': 12164, 'parson': 12165, 'spouses': 12166, 'nagging': 12167, 'strives': 12168, 'glasses': 12169, 'listening': 12170, 'excuses': 12171, 'overture': 12172, 'ppc': 12173, 'whois': 12174, 'detail': 12175, 'banish': 12176, 'myths': 12177, 'craiglist': 12178, 'webmasters': 12179, '114': 12180, '79': 12181, 'underwriters': 12182, 'est': 12183, 'blacklisting': 12184, 'blacklisted': 12185, 'archived': 12186, 'kahle': 12187, 'profiled': 12188, 'interrupt': 12189, 'vicious': 12190, 'wallpaper': 12191, 'boffins': 12192, 'analyze': 12193, 'packet': 12194, 'ensuring': 12195, 'expertise': 12196, 'competent': 12197, 'salvation': 12198, 'posture': 12199, 'creator': 12200, 'revolutionizing': 12201, 'cytometers': 12202, 'attendees': 12203, 'guitar': 12204, 'garageband': 12205, 'flavia': 12206, 'monumental': 12207, 'miresmaeili': 12208, 'colander': 12209, 'emulate': 12210, 'antics': 12211, 'bliss': 12212, 'leskanic': 12213, 'introductions': 12214, 'awkward': 12215, 'lafrentz': 12216, 'clinic': 12217, 'chants': 12218, 'wilder': 12219, 'perched': 12220, 'windswept': 12221, 'ski': 12222, 'elevators': 12223, 'sloppy': 12224, 'rfk': 12225, 'sing': 12226, 'handicap': 12227, 'equaling': 12228, 'furlongs': 12229, 'laurels': 12230, 'reaping': 12231, 'appleby': 12232, 'stuart': 12233, 'fridays': 12234, 'huey': 12235, 'journeyman': 12236, 'pimlico': 12237, 'ranged': 12238, 'fillies': 12239, 'mares': 12240, 'turf': 12241, 'infielder': 12242, 'fontenot': 12243, 'aaa': 12244, 'bests': 12245, 'amber': 12246, 'entourage': 12247, 'repeats': 12248, 'escalated': 12249, 'vez': 12250, 'frugal': 12251, 'catholics': 12252, 'mock': 12253, 'executions': 12254, 'rowling': 12255, 'jk': 12256, 'delights': 12257, 'briefcase': 12258, 'conditioned': 12259, 'rumble': 12260, 'warlords': 12261, 'ramping': 12262, 'youths': 12263, 'drenched': 12264, 'anybody': 12265, 'foreigner': 12266, 'blared': 12267, 'arduous': 12268, 'premiums': 12269, 'skyrocket': 12270, 'asom': 12271, 'miraculous': 12272, 'pyrenees': 12273, 'weaken': 12274, 'sideways': 12275, 'arteries': 12276, 'biologist': 12277, 'heeding': 12278, 'marcia': 12279, 'bacsik': 12280, 'nadal': 12281, 'zahringer': 12282, 'tee': 12283, 'shunning': 12284, 'creed': 12285, 'constructors': 12286, 'tortuous': 12287, 'drills': 12288, 'choppy': 12289, 'honour': 12290, 'allied': 12291, 'climax': 12292, 'attracts': 12293, 'pairing': 12294, 'wildfire': 12295, 'redding': 12296, 'rents': 12297, 'cats': 12298, 'epic': 12299, 'gamblers': 12300, 'inquirer': 12301, 'defied': 12302, 'displayed': 12303, 'acadian': 12304, 'pilgrimage': 12305, 'overpowered': 12306, '26th': 12307, 'throng': 12308, 'nicholls': 12309, 'daye': 12310, 'marries': 12311, 'meister': 12312, 'chapel': 12313, 'echo': 12314, 'snaked': 12315, 'slums': 12316, 'confess': 12317, \"couldn't\": 12318, 'hopefully': 12319, 'ethical': 12320, 'clint': 12321, 'purported': 12322, 'visions': 12323, 'tomko': 12324, 'trachsel': 12325, 'perry': 12326, 'invaders': 12327, 'sci': 12328, 'smackdown': 12329, '8th': 12330, 'castillo': 12331, 'kosovo': 12332, 'slugs': 12333, 'stahl': 12334, 'shippers': 12335, 'disturbed': 12336, 'outlasts': 12337, 'ticked': 12338, 'nhleko': 12339, 'metrostars': 12340, 'recession': 12341, 'evaluating': 12342, 'fairchild': 12343, 'disproportionately': 12344, 'worrell': 12345, 'ott': 12346, 'dunedin': 12347, 'shutting': 12348, 'troublemakers': 12349, 'forestall': 12350, 'kerney': 12351, 'lineman': 12352, 'countless': 12353, 'felled': 12354, 'manhandled': 12355, 'trenton': 12356, 'outlasted': 12357, 'enthusiasm': 12358, 'warships': 12359, '2011': 12360, 'deepened': 12361, 'stung': 12362, 'gma': 12363, 'vaidisova': 12364, 'sweeter': 12365, 'lhasa': 12366, 'marred': 12367, 'prompts': 12368, 'suspense': 12369, '115': 12370, 'gunned': 12371, 'travelling': 12372, 'hilly': 12373, 'intelligent': 12374, 'paint': 12375, 'classics': 12376, 'incarnation': 12377, 'humor': 12378, 'ounce': 12379, 'wit': 12380, 'nicol': 12381, 'emergence': 12382, 'tactical': 12383, 'wwii': 12384, 'riviera': 12385, 'conflicted': 12386, 'ebookers': 12387, 'tenterhooks': 12388, 'flocked': 12389, 'orientation': 12390, 'ginobili': 12391, 'spoils': 12392, 'arguably': 12393, 'jenny': 12394, 'azevedo': 12395, 'routinely': 12396, 'clout': 12397, 'marker': 12398, 'punching': 12399, 'cinderella': 12400, 'peristeri': 12401, 'shattering': 12402, 'darkness': 12403, 'brunt': 12404, 'translator': 12405, 'mindful': 12406, 'watchmaker': 12407, 'bearingpoint': 12408, 'behave': 12409, 'adjourned': 12410, 'kashmiri': 12411, 'simmered': 12412, 'farce': 12413, 'staggered': 12414, 'accent': 12415, 'ky': 12416, 'darwin': 12417, 'consoles': 12418, 'enqvist': 12419, 'tamed': 12420, 'sleepwalking': 12421, 'strayed': 12422, 'weakened': 12423, 'stocked': 12424, 'sailor': 12425, 'accurev': 12426, 'scm': 12427, 'worsened': 12428, 'knot': 12429, 'allstate': 12430, 'shuttered': 12431, '188': 12432, 'mailed': 12433, 'tarnishing': 12434, 'commuter': 12435, 'trains': 12436, 'wherenet': 12437, 'biz': 12438, 'context': 12439, 'searchers': 12440, 'boob': 12441, '4q': 12442, 'eke': 12443, 'superiors': 12444, 'tolerating': 12445, 'thomson': 12446, 'capstar': 12447, 'phishy': 12448, 'titans': 12449, 'escalation': 12450, 'ncar': 12451, 'hypoxic': 12452, 'mantra': 12453, 'virtualization': 12454, 'strangers': 12455, 'footsteps': 12456, 'mcguinty': 12457, 'indirectly': 12458, 'lawless': 12459, 'hyundai': 12460, 'bertrand': 12461, 'lover': 12462, 'should': 12463, 'raps': 12464, '4kids': 12465, 'porsche': 12466, 'wartorn': 12467, 'brokerages': 12468, 'kibbutz': 12469, 'tzuba': 12470, 'realignments': 12471, 'countryside': 12472, 'qwik': 12473, 'deteriorating': 12474, 'bladed': 12475, 'halsted': 12476, 'improprieties': 12477, 'abnormal': 12478, 'netflow': 12479, 'chente': 12480, 'timeline': 12481, 'blackhawks': 12482, 'decker': 12483, '6820': 12484, 'nok': 12485, 'fon': 12486, 'converge': 12487, 'announcements': 12488, 'bikes': 12489, 'anju': 12490, 'farming': 12491, 'rickshaw': 12492, 'dining': 12493, 'oak': 12494, 'devotion': 12495, 'evident': 12496, 'elizabeth': 12497, '14bn': 12498, '11bn': 12499, 'refunds': 12500, 'blc': 12501, 'bermuda': 12502, 'biometric': 12503, 'meals': 12504, 'taco': 12505, 'dew': 12506, 'macworld': 12507, 'mourners': 12508, 'disinfectant': 12509, 'conversation': 12510, 'experiencing': 12511, 'varying': 12512, 'propel': 12513, 'spymasters': 12514, 'voiced': 12515, 'nerve': 12516, 'painstakingly': 12517, 'fluid': 12518, 'paralyze': 12519, 'griffey': 12520, 'prospal': 12521, 'novells': 12522, 'identical': 12523, 'evaluation': 12524, 'cpu': 12525, 'woe': 12526, 'implication': 12527, 'compaq': 12528, 'immini': 12529, 'folded': 12530, 'convenient': 12531, 'gracefully': 12532, 'marc': 12533, 'chanda': 12534, 'ting': 12535, 'represented': 12536, 'stabbed': 12537, 'richest': 12538, 'beverly': 12539, 'crunching': 12540, 'boulder': 12541, 'toed': 12542, 'etrust': 12543, 'ftp': 12544, 'esoteric': 12545, 'predictions': 12546, 'malawi': 12547, 'scared': 12548, 'overlooked': 12549, 'husky': 12550, '129': 12551, 'worsen': 12552, 'absentia': 12553, 'rethink': 12554, 'root': 12555, 'argue': 12556, 'irked': 12557, 'riddles': 12558, 'happily': 12559, 'down': 12560, 'toned': 12561, '91': 12562, 'iscsi': 12563, 'shout': 12564, 'practiced': 12565, 'cowardly': 12566, 'coward': 12567, 'assure': 12568, 'trailers': 12569, 'showers': 12570, 'shambles': 12571, 'staked': 12572, 'acidity': 12573, 'oceans': 12574, 'pretending': 12575, 'superheroes': 12576, 'parody': 12577, 'every': 12578, 'proudly': 12579, '133': 12580, 'lankford': 12581, 'memphis': 12582, 'interwoven': 12583, 'biblical': 12584, 'permitted': 12585, 'bosox': 12586, 'heartland': 12587, 'titled': 12588, 'detractors': 12589, 'nen': 12590, 'financially': 12591, 'gaithersburg': 12592, 'kenneth': 12593, 'carlsen': 12594, 'coached': 12595, 'nagano': 12596, 'geisha': 12597, 'advocacy': 12598, 'seneca': 12599, 'desecration': 12600, '300th': 12601, 'walt': 12602, 'bucs': 12603, 'jesse': 12604, 'fruitless': 12605, 'elects': 12606, 'sheik': 12607, 'nasrallah': 12608, 'lowell': 12609, '164': 12610, 'heyer': 12611, 'clung': 12612, 'insistence': 12613, 'abound': 12614, 'apt': 12615, 'stubbornly': 12616, 'clobber': 12617, 'jeopardizing': 12618, 'recruiting': 12619, 'cake': 12620, 'greeters': 12621, 'upstate': 12622, 'conceding': 12623, 'accusation': 12624, 'importing': 12625, 'applying': 12626, 'gibbons': 12627, 'constant': 12628, 'poses': 12629, 'treacherous': 12630, 'brunei': 12631, 'mental': 12632, 'adapting': 12633, 'parted': 12634, 'darrell': 12635, 'ejections': 12636, 'methuen': 12637, 'igniting': 12638, 'mccool': 12639, 'prelims': 12640, 'nashua': 12641, 'hadlock': 12642, 'campanelli': 12643, 'okinawa': 12644, 'hamburg': 12645, 'hatred': 12646, 'divers': 12647, 'assurance': 12648, 'massacring': 12649, 'fincke': 12650, 'bhutto': 12651, 'motivated': 12652, 'tempt': 12653, 'tempts': 12654, 'alienate': 12655, 'bofh': 12656, 'shall': 12657, 'cosmetics': 12658, 'handhelds': 12659, 'warlord': 12660, '149': 12661, 'cubans': 12662, 'conclude': 12663, 'healed': 12664, 'tides': 12665, 'fouling': 12666, 'microscopic': 12667, 'cornish': 12668, 'combed': 12669, 'magical': 12670, 'carpet': 12671, 'lra': 12672, 'uganda': 12673, 'lord': 12674, 'carrot': 12675, 'photograph': 12676, 'gigabytes': 12677, 'moldovan': 12678, 'singing': 12679, 'decrease': 12680, 'motorbike': 12681, 'mediaone': 12682, 'exercised': 12683, '367': 12684, 'designing': 12685, 'newsstands': 12686, 'glad': 12687, 'leaps': 12688, 'synchronised': 12689, 'nottinghamshire': 12690, 'offing': 12691, 'moderately': 12692, 'rabbits': 12693, 'extensive': 12694, 'apax': 12695, 'permira': 12696, 'finalise': 12697, 'ticking': 12698, 'reviewed': 12699, 'trusts': 12700, 'mirror': 12701, 'bon': 12702, 'tin': 12703, 'ideals': 12704, 'raj': 12705, 'reddy': 12706, 'mellon': 12707, 'mobility': 12708, 'inadvertently': 12709, 'mydoom': 12710, 'exploiting': 12711, 'vento': 12712, 'kabchi': 12713, 'stripes': 12714, 'diminished': 12715, 'ain': 12716, 'inhabitants': 12717, 'instruction': 12718, 'kiwis': 12719, 'helmet': 12720, 'teliasonera': 12721, 'omnitel': 12722, 'knocks': 12723, 'bachchan': 12724, 'mega': 12725, 'mounties': 12726, 'odd': 12727, 'babuyan': 12728, 'pranab': 12729, 'mukherjee': 12730, 'ilias': 12731, 'analytics': 12732, 'atty': 12733, 'statewide': 12734, 'withold': 12735, '540': 12736, 'capitalize': 12737, 'provoke': 12738, 'springbok': 12739, 'repercussions': 12740, 'strippers': 12741, 'limousines': 12742, 'dancers': 12743, 'fashioned': 12744, 'jc': 12745, 'jeans': 12746, 'newcomer': 12747, 'colonies': 12748, 'fluorescent': 12749, 'latch': 12750, 'latches': 12751, 'mittal': 12752, 'steelmaker': 12753, \"what's\": 12754, 'berkley': 12755, 'promotes': 12756, 'vars': 12757, 'takashi': 12758, 'yamamoto': 12759, 'charging': 12760, 'peters': 12761, '82nd': 12762, '1987': 12763, 'congressman': 12764, 'undone': 12765, 'tjx': 12766, 'broking': 12767, 'intellisync': 12768, 'synchronization': 12769, 'flopped': 12770, 'beckons': 12771, 'infuriating': 12772, 'ashburn': 12773, 'wilson': 12774, 'utilizing': 12775, 'cushion': 12776, 'blocs': 12777, 'klochkova': 12778, 'revamping': 12779, 'arbitrators': 12780, 'taxing': 12781, 'papua': 12782, 'highlands': 12783, 'ams': 12784, 'rips': 12785, 'visitor': 12786, 'underestimated': 12787, 'denmark': 12788, 'thirtysomething': 12789, 'grasp': 12790, 'algorithm': 12791, 'outbid': 12792, 'warmth': 12793, 'qualities': 12794, 'horrific': 12795, 'footage': 12796, 'pals': 12797, 'bandanna': 12798, 'grin': 12799, 'cheeks': 12800, 'boohoo': 12801, 'swayed': 12802, 'regret': 12803, 'barriers': 12804, 'outpace': 12805, 'odumbe': 12806, 'handily': 12807, 'metron': 12808, 'mimas': 12809, 'enceladus': 12810, 'complement': 12811, 'descendants': 12812, 'aspiring': 12813, 'embark': 12814, 'heady': 12815, 'skiing': 12816, 'eighty': 12817, 'derived': 12818, 'disbelief': 12819, 'binding': 12820, 'departments': 12821, 'cripple': 12822, 'overdue': 12823, 'simplifies': 12824, 'transparency': 12825, 'porcher': 12826, 'banged': 12827, 'daisuke': 12828, 'additions': 12829, 'modernize': 12830, 'envisioned': 12831, 'slideshow': 12832, 'idvd': 12833, 'discriminates': 12834, 'shirley': 12835, 'eked': 12836, 'municipal': 12837, 'crackdowns': 12838, 'unfamiliar': 12839, 'pathetic': 12840, 'netsol': 12841, 'them': 12842, 'insult': 12843, 'squeezed': 12844, 'shield': 12845, 'preying': 12846, 'slowdowns': 12847, 'bested': 12848, 'alyce': 12849, 'mali': 12850, 'tier': 12851, 'saber': 12852, 'snubbed': 12853, 'proportion': 12854, 'd530': 12855, 'equipped': 12856, 'reasonably': 12857, 'fulfill': 12858, 'draining': 12859, 'ailments': 12860, 'abuzz': 12861, 'algorithms': 12862, 'proliant': 12863, 'adoptive': 12864, 'lamar': 12865, 'odom': 12866, 'layup': 12867, '364': 12868, 'gaps': 12869, 'uniting': 12870, 'fencer': 12871, 'reconstructive': 12872, 'dimona': 12873, 'metering': 12874, 'thumbnail': 12875, 'spends': 12876, '228': 12877, 'wlans': 12878, 'salvage': 12879, 'salvaged': 12880, 'thumbs': 12881, 'stabilizing': 12882, 'winslow': 12883, 'tempered': 12884, 'reiner': 12885, 'classmates': 12886, 'kissed': 12887, 'saakashvili': 12888, 'convene': 12889, 'clumsy': 12890, 'accidentally': 12891, 'trample': 12892, 'jboss': 12893, 'compliant': 12894, 'kayla': 12895, 'burt': 12896, 'pools': 12897, 'accounted': 12898, 'trafficking': 12899, '703': 12900, '240': 12901, 'appliances': 12902, 'disagreements': 12903, 'folds': 12904, 'bild': 12905, 'companion': 12906, 'papal': 12907, 'side': 12908, 'soybean': 12909, 'potomac': 12910, 'districts': 12911, 'andes': 12912, 'supporter': 12913, 'maxtor': 12914, 'injustice': 12915, 'juiced': 12916, 'h1': 12917, 'tucker': 12918, 'sealife': 12919, 'poking': 12920, 'mohl': 12921, 'contested': 12922, 'toon': 12923, 'crienglish': 12924, 'faulkner': 12925, 'humes': 12926, 'tailback': 12927, 'undeniable': 12928, 'backlash': 12929, 'recognized': 12930, 'spied': 12931, 'trumpet': 12932, 'awakes': 12933, 'caucasus': 12934, 'speier': 12935, 'forgetting': 12936, 'courageously': 12937, 'regalia': 12938, 'pid': 12939, 'reawakening': 12940, 'bursitis': 12941, 'cust': 12942, 'witt': 12943, 'lakeforest': 12944, 'infighting': 12945, 'overhead': 12946, 'underpinned': 12947, 'hegemony': 12948, 'recurring': 12949, 'firefight': 12950, 'spinoff': 12951, 'coffins': 12952, 'piling': 12953, 'winxp': 12954, 'guessed': 12955, 'nuke': 12956, 'ment': 12957, 'fizzled': 12958, 'xinjiang': 12959, 'architectural': 12960, 'irwin': 12961, 'prominence': 12962, 'ind': 12963, 'shaikh': 12964, 'aura': 12965, 'excel': 12966, 'jamaicans': 12967, 'concacaf': 12968, 'battlefront': 12969, 'simmering': 12970, 'seaports': 12971, 'archeologist': 12972, 'discriminating': 12973, 'ashington': 12974, 'kiddies': 12975, 'wattage': 12976, 'disco': 12977, 'reconciliation': 12978, 'credibility': 12979, 'sighs': 12980, 'howey': 12981, 'leucadia': 12982, '245': 12983, 'sang': 12984, 'chanted': 12985, 'lashaunte': 12986, 'softness': 12987, 'racket': 12988, 'spawned': 12989, '650': 12990, 'numbered': 12991, 'extinction': 12992, 'birthplace': 12993, 'lefty': 12994, 'headphones': 12995, 'averse': 12996, 'rebuild': 12997, 'swum': 12998, 'honoring': 12999, 'heavier': 13000, 'physicians': 13001, 'obviously': 13002, 'buybacks': 13003, 'exercising': 13004, 'chagrin': 13005, 'obstacle': 13006, 'stimulants': 13007, 'possessed': 13008, 'dana': 13009, 'faneuil': 13010, 'tenths': 13011, 'youkilis': 13012, 'adversity': 13013, 'trot': 13014, 'reese': 13015, 'jennings': 13016, 'forgo': 13017, 'moreland': 13018, 'benches': 13019, 'jumbo': 13020, 'dough': 13021, 'bruins': 13022, 'brae': 13023, 'heroics': 13024, 'merrimack': 13025, 'mohamed': 13026, 'macgowan': 13027, 'soaking': 13028, 'plummeted': 13029, 'mathematical': 13030, 'gilded': 13031, 'romanians': 13032, 'wacky': 13033, 'francona': 13034, 'depositary': 13035, 'receipts': 13036, 'bac': 13037, 'viral': 13038, 'shocking': 13039, 'sorts': 13040, 'trautwig': 13041, 'debbie': 13042, 'freebie': 13043, 'irk': 13044, 'mansions': 13045, 'qualcomm': 13046, 'ti': 13047, 'kahney': 13048, 'swims': 13049, 'interrogation': 13050, 'dar': 13051, 'salaam': 13052, 'fnl': 13053, 'testifying': 13054, 'madness': 13055, '776': 13056, 'cba': 13057, 'totalling': 13058, 'traditionally': 13059, 'attachmate': 13060, 'heightens': 13061, 'next': 13062, 'withdrawals': 13063, 'inflicting': 13064, 'kristin': 13065, 'erode': 13066, 'eroding': 13067, 'wendelstedt': 13068, 'pearl': 13069, 'pawn': 13070, 'deflecting': 13071, 'absolute': 13072, 'bellwether': 13073, 'galesburg': 13074, 'integrating': 13075, 'irrigated': 13076, 'abandoning': 13077, 'elimination': 13078, 'rebecca': 13079, 'peoples': 13080, 'bounties': 13081, 'slavery': 13082, 'portrayed': 13083, 'progressive': 13084, 'brookstone': 13085, 'flipflops': 13086, 'afrol': 13087, 'seiyu': 13088, 'howling': 13089, '741': 13090, 'capitol': 13091, 'relevance': 13092, 'hums': 13093, 'eso': 13094, 'schubert': 13095, 'confounds': 13096, 'casket': 13097, 'esa': 13098, 'willingness': 13099, 'dampen': 13100, 'sentencing': 13101, 'breathe': 13102, 'cryptography': 13103, 'schneider': 13104, 'twisted': 13105, 'update7': 13106, 'leatherback': 13107, 'nadia': 13108, 'hastily': 13109, '28b': 13110, 'blowout': 13111, 'fruits': 13112, 'chihuahua': 13113, 'remorseless': 13114, 'remedy': 13115, 'grapple': 13116, 'tagging': 13117, 'filtering': 13118, 'triumphantly': 13119, 'berry': 13120, 'hinges': 13121, 'deadlock': 13122, 'clicks': 13123, 'fronts': 13124, 'crusade': 13125, 'barclaycard': 13126, 'ditched': 13127, 'gram': 13128, 'instincts': 13129, 'chirac': 13130, 'jacques': 13131, 'crore': 13132, 'channeling': 13133, 'contactless': 13134, 'hostilities': 13135, 'pies': 13136, 'scrum': 13137, 'contreras': 13138, 'shikoku': 13139, 'subcontractors': 13140, 'jasper': 13141, 'illini': 13142, 'reinvigorate': 13143, 'zook': 13144, 'zeeland': 13145, 'kaat': 13146, '283': 13147, 'ecost': 13148, 'hawks': 13149, 'sandbag': 13150, 'micromechatronics': 13151, 'lore': 13152, 'nabs': 13153, 'pots': 13154, 'q4': 13155, 'sanction': 13156, 'armstrong': 13157, 'tyson': 13158, 'toehold': 13159, 'sudans': 13160, 'aurora': 13161, 'newham': 13162, 'ustr': 13163, 'endorsing': 13164, 'finalizes': 13165, 'repairing': 13166, 'vaunted': 13167, 'payoffs': 13168, 'insolvency': 13169, 'dreamweaver': 13170, 'ekimov': 13171, 'wanting': 13172, 'zina': 13173, 'jefferies': 13174, 'exxon': 13175, 'mobil': 13176, 'measurement': 13177, 'embarrassed': 13178, 'accountable': 13179, 'minus': 13180, 'teleportation': 13181, 'teleport': 13182, 'regulated': 13183, 'nothing': 13184, 'encircling': 13185, 'laos': 13186, 'precautions': 13187, 'driv3r': 13188, 'tedious': 13189, 'pedal': 13190, 'winterthur': 13191, 'softening': 13192, '740': 13193, 'byproduct': 13194, 'cautiously': 13195, 'rom': 13196, 'westinghouse': 13197, 'gyro': 13198, 'zeus': 13199, 'unseat': 13200, 'bibby': 13201, 'photons': 13202, 'teleported': 13203, 'trek': 13204, 'inhabited': 13205, 'unsettling': 13206, 'depart': 13207, 'hynix': 13208, 'sidestep': 13209, 'oral': 13210, 'websidestory': 13211, 'jodie': 13212, 'cavs': 13213, 'martina': 13214, 'merlene': 13215, 'ottey': 13216, 'scrape': 13217, 'unjustified': 13218, 'confronted': 13219, 'cow': 13220, 'pleas': 13221, 'dissolve': 13222, 'vacate': 13223, 'mongolia': 13224, 'toolkit': 13225, 'hectares': 13226, 'shockingly': 13227, 'polled': 13228, 'bettina': 13229, 'gerrard': 13230, 'ome': 13231, 'rotondo': 13232, 'entertained': 13233, 'focal': 13234, 'banker': 13235, 'cashless': 13236, 'staroffice': 13237, 'watering': 13238, 'gobbled': 13239, 'lookout': 13240, 'loosens': 13241, 'bulluck': 13242, 'dae': 13243, 'eun': 13244, 'touting': 13245, 'ps3': 13246, 'midnight': 13247, 'videogame': 13248, 'gridlock': 13249, 'busiest': 13250, 'supercomputing': 13251, 'riveted': 13252, 'esperanza': 13253, 'mariona': 13254, 'spruced': 13255, 'gmbh': 13256, 'keynote': 13257, 'efe': 13258, 'sadc': 13259, 'manipulation': 13260, 'financiers': 13261, 'thwarts': 13262, 'nursing': 13263, 'specialists': 13264, 'robovacs': 13265, 'cleaners': 13266, 'stairs': 13267, 'skirts': 13268, 'intelligently': 13269, 'acrobatically': 13270, 'extricate': 13271, 'finanziaria': 13272, 'paf': 13273, 'synovis': 13274, 'ruins': 13275, 'archery': 13276, 'consuming': 13277, 'trots': 13278, 'pdas': 13279, 'complicates': 13280, 'backer': 13281, 'cooke': 13282, 'baked': 13283, 'reid': 13284, 'narcotics': 13285, 'heaviest': 13286, 'kiev': 13287, 'sizable': 13288, 'quickbooks': 13289, 'neared': 13290, 'kuranyi': 13291, 'rooting': 13292, 'sarasota': 13293, 'geforce': 13294, 'heralded': 13295, 'coloured': 13296, 'flexor': 13297, 'tuneup': 13298, 'assaulting': 13299, 'bondholders': 13300, 'rounding': 13301, 'baca': 13302, 'rna': 13303, 'presents': 13304, 'occasion': 13305, 'callahan': 13306, 'condoleezza': 13307, 'jitters': 13308, 'midland': 13309, 'deterred': 13310, 'brushed': 13311, 'outdoors': 13312, 'bedrock': 13313, 'gusev': 13314, 'gymnastic': 13315, 'dinar': 13316, 'dynasty': 13317, 'imperils': 13318, 'happiest': 13319, 'humiliation': 13320, 'contests': 13321, 'yasir': 13322, 'unhappiness': 13323, 'circulatory': 13324, 'illnesses': 13325, 'derailing': 13326, 'breakingviews': 13327, 'wonderland': 13328, 'expulsion': 13329, 'depressing': 13330, 'allenby': 13331, 'faithful': 13332, 'assisted': 13333, 'wakefield': 13334, 'enrolled': 13335, 'playground': 13336, 'distinct': 13337, 'oops': 13338, 'comebacks': 13339, 'penchant': 13340, 'fong': 13341, 'criticizes': 13342, 'o2': 13343, 'winemaking': 13344, 'sars': 13345, 'zviadauri': 13346, 'feverishly': 13347, 'buck': 13348, 'deion': 13349, 'amounted': 13350, 'liberties': 13351, 'erubiel': 13352, 'treble': 13353, 'toured': 13354, 'per': 13355, 'tumultuous': 13356, 'rowand': 13357, 'figured': 13358, 'intensifying': 13359, 'relaunch': 13360, 'sticks': 13361, '1910': 13362, 'relaunches': 13363, 'fiddle': 13364, 'tightest': 13365, 'bafta': 13366, 'nominations': 13367, 'gunning': 13368, 'elseneer': 13369, 'drags': 13370, 'excluded': 13371, 'mandela': 13372, 'fiat': 13373, 'saic': 13374, 'clarification': 13375, 'proud': 13376, 'scala': 13377, 'bated': 13378, 'reopening': 13379, 'justices': 13380, 'fictional': 13381, 'leisure': 13382, 'odds': 13383, 'orphan': 13384, 'preparatory': 13385, 'stopovers': 13386, 'sino': 13387, 'contradict': 13388, 'feathers': 13389, 'discloses': 13390, 'karachi': 13391, 'rigging': 13392, 'him': 13393, 'materiel': 13394, 'melts': 13395, 'fetch': 13396, 'ox': 13397, 'blackstone': 13398, 'proprietary': 13399, 'fanatical': 13400, 'letterman': 13401, 'unending': 13402, 'actors': 13403, 'educated': 13404, 'tsushima': 13405, 'dividing': 13406, 'emptive': 13407, 'inventing': 13408, \"''the\": 13409, 'hoffman': 13410, 'preserving': 13411, 'remanufacturing': 13412, 'boulders': 13413, 'chunks': 13414, 'distances': 13415, 'sniper': 13416, 'bronner': 13417, 'schoeman': 13418, 'roland': 13419, 'artistic': 13420, 'principal': 13421, 'pap': 13422, 'breathing': 13423, 'cot': 13424, 'asahi': 13425, 'depending': 13426, 'suffocating': 13427, 'flocking': 13428, 'winding': 13429, 'stents': 13430, 'tab': 13431, 'supervise': 13432, 'kunitake': 13433, 'ando': 13434, 'gala': 13435, '2d': 13436, 'replied': 13437, 'flap': 13438, 'vana': 13439, 'popov': 13440, 'unleashes': 13441, 'gameplay': 13442, 'uncomfortable': 13443, 'ripens': 13444, 'gaffes': 13445, 'fouls': 13446, 'haunt': 13447, 'survivors': 13448, 'royalties': 13449, 'heavyweights': 13450, 'outage': 13451, 'upholding': 13452, 'zipped': 13453, 'brigade': 13454, '109': 13455, 'rationed': 13456, 'cafes': 13457, 'patrons': 13458, 'equifax': 13459, 'tend': 13460, 'sliver': 13461, 'sweating': 13462, 'placement': 13463, 'inexperienced': 13464, 'darnell': 13465, 'ticks': 13466, 'dress': 13467, 'octopus': 13468, 'suitor': 13469, 'reelection': 13470, 'jjb': 13471, 'trumpeting': 13472, 'tinny': 13473, 'bodied': 13474, 'marble': 13475, 'hopping': 13476, 'sleepycat': 13477, 'infoworld': 13478, 'telecommunication': 13479, 'netanyahu': 13480, 'ha': 13481, 'aretz': 13482, 'recycling': 13483, 'germanium': 13484, 'lending': 13485, 'lenders': 13486, 'tepid': 13487, 'arc': 13488, 'iwf': 13489, 'florence': 13490, 'chokes': 13491, 'smog': 13492, 'fumbling': 13493, 'conventions': 13494, 'seamlessly': 13495, 'adsl': 13496, 'ps2': 13497, '104': 13498, 'ljungqvist': 13499, 'derivative': 13500, 'mobiles': 13501, 'reshaped': 13502, 'spectrum': 13503, 'refinance': 13504, 'wowed': 13505, 'delaware': 13506, 'brits': 13507, 'ut': 13508, 'levin': 13509, 'sacramento': 13510, 'diversion': 13511, 'winn': 13512, 'dixie': 13513, 'synthetic': 13514, 'temperature': 13515, 'storey': 13516, 'acceptance': 13517, 'qassim': 13518, 'dawoud': 13519, '106': 13520, '89th': 13521, 'della': 13522, 'sera': 13523, 'mello': 13524, 'fortified': 13525, 'anne': 13526, 'morale': 13527, '154': 13528, '565': 13529, 'occurrences': 13530, 'leaseholder': 13531, 'litigation': 13532, 'soaps': 13533, 'johns': 13534, 'downplays': 13535, 'menachem': 13536, 'trailing': 13537, 'marrying': 13538, 'hampshire': 13539, 'devry': 13540, 'dv': 13541, 'strauss': 13542, 'frills': 13543, 'vexing': 13544, 'lamppost': 13545, 'staffer': 13546, 'petm': 13547, 'assurances': 13548, 'aer': 13549, 'lingus': 13550, 'crank': 13551, 'chem': 13552, 'contaminants': 13553, 'now': 13554, 'sprawling': 13555, 'nursery': 13556, 'rounded': 13557, 'mum': 13558, 'innovation': 13559, 'craters': 13560, 'rosetta': 13561, 'aspirin': 13562, 'recommend': 13563, 'thinning': 13564, 'regulates': 13565, 'hyperactivity': 13566, 'denial': 13567, 'waning': 13568, 'tones': 13569, 'culmination': 13570, 'dorm': 13571, 'inability': 13572, 'inconvenience': 13573, 'wow': 13574, 'unearth': 13575, 'varejao': 13576, 'leisel': 13577, 'robin': 13578, 'megaliths': 13579, 'automobile': 13580, 'durham': 13581, 'zell': 13582, 'beneficiary': 13583, 'smacked': 13584, 'imploring': 13585, \"gov't\": 13586, 'unraveled': 13587, 'bombarded': 13588, 'valor': 13589, 'asserting': 13590, 'redirect': 13591, 'sag': 13592, 'barnes': 13593, '2080': 13594, 'manipulated': 13595, 'atoms': 13596, 'netsuite': 13597, 'unprotected': 13598, 'flashes': 13599, 'surrogates': 13600, 'using': 13601, 'roh': 13602, 'moo': 13603, 'hyun': 13604, 'through': 13605, 'amendments': 13606, 'awe': 13607, 'riles': 13608, 'diehards': 13609, 'chick': 13610, 'steelers': 13611, 'adrenaline': 13612, 'junkie': 13613, 'scoop': 13614, 'reroute': 13615, 'minimize': 13616, 'hq': 13617, 'undermining': 13618, 'scofflaws': 13619, 'buffett': 13620, 'valid': 13621, 'brielle': 13622, 'digestive': 13623, 'smashes': 13624, 'sheen': 13625, 'believing': 13626, 'wax': 13627, 'companywide': 13628, 'measurements': 13629, 'loral': 13630, 'mediums': 13631, 'installer': 13632, 'microrobot': 13633, 'darpa': 13634, 'reconnaissance': 13635, 'plough': 13636, 'uspto': 13637, 'prosper': 13638, 'cristiano': 13639, 'lahore': 13640, 'pns': 13641, 'blanketing': 13642, 'yuval': 13643, 'affecting': 13644, 'terminated': 13645, 'albany': 13646, 'revitalize': 13647, 'inl': 13648, 'wheel': 13649, 'kostadinos': 13650, 'kapanen': 13651, 'ponca': 13652, 'mladic': 13653, '520': 13654, 'ratko': 13655, 'liven': 13656, 'hcc': 13657, 'myl': 13658, 'recommends': 13659, 'sus': 13660, 'navigate': 13661, 'synchronizing': 13662, 'python': 13663, 'avocent': 13664, 'typed': 13665, 'pluck': 13666, 'plucked': 13667, 'replicated': 13668, 'fumbles': 13669, 'infant': 13670, 'khodorkovsky': 13671, 'cybercrook': 13672, 'twinbill': 13673, 'cameron': 13674, 'kris': 13675, 'benson': 13676, 'quirky': 13677, 'preaches': 13678, 'token': 13679, 'lithium': 13680, 'resurfaced': 13681, 'jinx': 13682, 'noriko': 13683, 'dynamo': 13684, 'corncrake': 13685, 'blowing': 13686, 'sneaks': 13687, 'decides': 13688, 'indo': 13689, 'lobbed': 13690, 'getty': 13691, 'brylin': 13692, 'opp': 13693, 'mimics': 13694, 'precision': 13695, 'busts': 13696, 'dessens': 13697, 'considerations': 13698, 'darin': 13699, 'terrifying': 13700, '301st': 13701, '566th': 13702, 'collaborated': 13703, 'bioethicist': 13704, 'lancet': 13705, 'revisions': 13706, 'pyramid': 13707, 'revising': 13708, 'shutdown': 13709, 'colossal': 13710, 'outlive': 13711, 'spangled': 13712, 'presided': 13713, 'uconn': 13714, 'touchdowns': 13715, 'hibbett': 13716, 'fitness': 13717, 'carmelo': 13718, 'crushes': 13719, 'mei': 13720, 'sheng': 13721, 'eager': 13722, 'sols': 13723, 'dismantle': 13724, 'ropes': 13725, 'humiliated': 13726, 'sideline': 13727, 'ransom': 13728, 'helliniko': 13729, 'icj': 13730, 'liu': 13731, 'proposition': 13732, 'mend': 13733, 'flagged': 13734, 'norm': 13735, 'flipped': 13736, 'glaring': 13737, 'prompt': 13738, 'fina': 13739, 'snuck': 13740, 'many': 13741, 'organised': 13742, 'flutie': 13743, 'participated': 13744, 'lilia': 13745, 'osterloh': 13746, 'bailout': 13747, 'kumari': 13748, 'weighing': 13749, 'coughed': 13750, 'deepens': 13751, 'insure': 13752, 'endeavor': 13753, 'defusing': 13754, 'bofa': 13755, 'authoritarian': 13756, 'terrestrial': 13757, 'concludes': 13758, 'kristian': 13759, 'pless': 13760, 'bugel': 13761, 'hogs': 13762, 'murdering': 13763, 'citation': 13764, 'solicited': 13765, 'misunderstanding': 13766, 'torii': 13767, 'cinema': 13768, 'supplements': 13769, 'picnic': 13770, 'airstrike': 13771, 'diversity': 13772, 'ito': 13773, 'yokado': 13774, '1955': 13775, 'bedminster': 13776, 'mn': 13777, 'courses': 13778, 'architect': 13779, 'belated': 13780, 'rodrigo': 13781, 'postcards': 13782, 'stockowner': 13783, 'memoir': 13784, 'overestimated': 13785, 'spearheaded': 13786, 'kovacs': 13787, 'quitting': 13788, 'behemoth': 13789, 'tidy': 13790, 'tantamount': 13791, 'defaulting': 13792, 'turnabout': 13793, 'dirtiest': 13794, 'whining': 13795, 'encircle': 13796, 'intensively': 13797, 'trainee': 13798, 'jabs': 13799, 'shrek': 13800, 'defendants': 13801, 'observant': 13802, 'franklin': 13803, 'never': 13804, 'concoct': 13805, 'starters': 13806, 'soggy': 13807, 'canoeists': 13808, 'sheppard': 13809, 'sunni': 13810, 'quantity': 13811, 'slaps': 13812, 'sunburst': 13813, 'reminded': 13814, 'tskhinvali': 13815, 'fingertwitch': 13816, 'kirkland': 13817, 'sharman': 13818, 'concedes': 13819, 'dockworker': 13820, 'partisan': 13821, 'horns': 13822, 'establishment': 13823, 'ki': 13824, 'broads': 13825, 'ecological': 13826, 'zetter': 13827, 'mettle': 13828, 'resigning': 13829, 'codeweavers': 13830, 'engelsman': 13831, 'lenton': 13832, 'michelle': 13833, 'formality': 13834, 'smoothly': 13835, 'abductors': 13836, 'alarming': 13837, 'enforcing': 13838, 'sail': 13839, 'labeling': 13840, 'scum': 13841, 'chapters': 13842, 'steadfast': 13843, 'powersharing': 13844, 'brit': 13845, 'munitions': 13846, 'informed': 13847, 'wasted': 13848, 'raging': 13849, 'eurostar': 13850, 'footing': 13851, 'combusts': 13852, 'utter': 13853, 'devastate': 13854, '123': 13855, 'avoids': 13856, 'pine': 13857, 'aquatic': 13858, 'practise': 13859, 'obscenity': 13860, 'scuba': 13861, 'suspending': 13862, 'newratings': 13863, 'uninterrupted': 13864, 'cite': 13865, 'bioenvision': 13866, 'osterman': 13867, 'midwest': 13868, 'lacrosse': 13869, 'conor': 13870, 'diminish': 13871, 'perch': 13872, 'manoeuvre': 13873, 'micromechatronic': 13874, 'contraption': 13875, 'unaware': 13876, 'hungarians': 13877, 'granting': 13878, 'unconventional': 13879, '3500': 13880, 'modems': 13881, 'islamists': 13882, 'seminaries': 13883, 'backstroker': 13884, 'impacted': 13885, 'amazonian': 13886, 'tribespeople': 13887, 'somebody': 13888, 'pioneers': 13889, 'contemplate': 13890, 'featherlite': 13891, 'distorts': 13892, 'dimitar': 13893, 'undercutting': 13894, 'kallis': 13895, 'boucher': 13896, 'guatemala': 13897, 'paramilitaries': 13898, 'collider': 13899, 'sahara': 13900, 'civilization': 13901, 'faction': 13902, 'cio': 13903, 'cvx': 13904, 'fireball': 13905, 'blaze': 13906, 'stretches': 13907, 'poker': 13908, 'rathbone': 13909, 'gregan': 13910, 'eddie': 13911, 'winger': 13912, 'netflix': 13913, 'subpoena': 13914, 'apc': 13915, 'apa': 13916, 'jamie': 13917, 'xabi': 13918, 'beyonce': 13919, 'marquee': 13920, 'nas': 13921, 'seizure': 13922, 'clerk': 13923, 'shoaib': 13924, 'overs': 13925, 'orissa': 13926, 'ceradyne': 13927, 'ceramic': 13928, '461': 13929, 'deposited': 13930, 'peschier': 13931, 'benoit': 13932, 'higginson': 13933, 'infospace': 13934, 'tanked': 13935, 'broadcasters': 13936, 'outfits': 13937, 'vietnamese': 13938, 'ticketing': 13939, 'aetna': 13940, 'fuller': 13941, 'portsmouth': 13942, 'ricardo': 13943, 'snatching': 13944, 'attacker': 13945, 'shedding': 13946, 'wtsla': 13947, 'premature': 13948, 'malware': 13949, 'sedrick': 13950, 'prevailed': 13951, 'recipe': 13952, 'physiology': 13953, 'tremont': 13954, 'powershot': 13955, 'sailed': 13956, 'ct': 13957, 'fugitive': 13958, 'nonprofit': 13959, 'suburbs': 13960, 'brunswick': 13961, 'thwarted': 13962, 'spiritual': 13963, 'indicted': 13964, 'walled': 13965, 'malfeasance': 13966, 'shipka': 13967, 'hapless': 13968, 'commitments': 13969, 'retirees': 13970, 'reconstruction': 13971, 'navigators': 13972, 'canister': 13973, 'dearth': 13974, 'reap': 13975, 'reshuffle': 13976, 'donating': 13977, 'combustible': 13978, 'fascists': 13979, 'pretense': 13980, 'centrifuges': 13981, 'enriched': 13982, 'fend': 13983, 'constantine': 13984, 'christianity': 13985, 'mans': 13986, 'forever': 13987, 'bridis': 13988, 'hanes': 13989, 'ager': 13990, 'lien': 13991, 'broward': 13992, '973': 13993, 'rotating': 13994, 'adoptees': 13995, 'stacy': 13996, 'tuning': 13997, 'battering': 13998, 'fiefdoms': 13999, 'harrowing': 14000, 'halifax': 14001, 'top': 14002, 'boldly': 14003, 'selecting': 14004, 'multitude': 14005, 'mentor': 14006, 'wrangled': 14007, 'aventis': 14008, 'pore': 14009, 'nicaragua': 14010, 'drafting': 14011, 'hampers': 14012, 'portfolios': 14013, 'pastime': 14014, 'dugouts': 14015, 'santiago': 14016, 'plantation': 14017, 'dennis': 14018, 'cne': 14019, 'revokes': 14020, 'revoked': 14021, 'panther': 14022, 'ancic': 14023, 'ljubicic': 14024, 'nyc': 14025, 'magnanimous': 14026, 'mcewing': 14027, 'emphasize': 14028, 'overhauling': 14029, 'reshaping': 14030, 'reshaper': 14031, 'landscapes': 14032, \"bush's\": 14033, '242': 14034, 'nuptials': 14035, 'bearhug': 14036, 'gogh': 14037, '15th': 14038, 'retained': 14039, 'receivers': 14040, 'skid': 14041, 'stifle': 14042, 'overcharging': 14043, 'ominously': 14044, 'donovan': 14045, 'mcnabb': 14046, 'armas': 14047, 'scoffs': 14048, 'reacts': 14049, 'premiere': 14050, 'licenses': 14051, 'elders': 14052, 'and1': 14053, 'chalk': 14054, 'vaulted': 14055, 'stumps': 14056, 'corelli': 14057, 'summerhouse': 14058, 'whereabouts': 14059, 'copyrights': 14060, 'visionary': 14061, 'sorrell': 14062, 'marvell': 14063, 'breathtaking': 14064, 'lowry': 14065, 'mauling': 14066, 'grudzielanek': 14067, 'glendon': 14068, 'rusch': 14069, 'neighbor': 14070, 'garret': 14071, 'schaub': 14072, 'bash': 14073, 'reed': 14074, 'criticial': 14075, 'patched': 14076, 'sp1': 14077, 'newer': 14078, 'mailing': 14079, 'choking': 14080, 'demilitarized': 14081, 'stockpiling': 14082, 'lauding': 14083, 'coordinator': 14084, 'slave': 14085, 'bunker': 14086, 'woburn': 14087, 'infield': 14088, 'huggins': 14089, 'alumni': 14090, 'slobodan': 14091, 'treating': 14092, 'jubilation': 14093, 'vendt': 14094, 'quashed': 14095, 'penultimate': 14096, 'heyl': 14097, 'slender': 14098, 'wadlow': 14099, 'spaulding': 14100, 'bronx': 14101, 'extent': 14102, '1977': 14103, 'lasted': 14104, 'cossacks': 14105, 'outriders': 14106, 'fearless': 14107, 'abductions': 14108, 'grips': 14109, 'escort': 14110, 'clerics': 14111, 'nytimes': 14112, 'kerman': 14113, 'jomhuri': 14114, 'ye': 14115, 'eslami': 14116, 'shakai': 14117, 'satirists': 14118, 'hopefuls': 14119, 'barbs': 14120, 'miserable': 14121, 'retains': 14122, 'levied': 14123, 'alaskans': 14124, 'okay': 14125, 'deprive': 14126, '2017': 14127, 'difficulty': 14128, 'renovation': 14129, 'recommendation': 14130, 'privatization': 14131, 'demetra': 14132, '720': 14133, 'fends': 14134, 'tallahassee': 14135, 'overturned': 14136, 'averting': 14137, 'artwork': 14138, 'colour': 14139, 'sole': 14140, '274': 14141, 'hobbled': 14142, 'misguided': 14143, 'hollinger': 14144, 'rohmer': 14145, 'conrad': 14146, 'gemma': 14147, 'painkiller': 14148, 'hinder': 14149, 'maritime': 14150, 'percy': 14151, 'ismail': 14152, 'machinegun': 14153, 'discipline': 14154, 'accords': 14155, 'mastering': 14156, 'nutritional': 14157, 'salvo': 14158, 'kings': 14159, 'rahul': 14160, 'aicc': 14161, 'davie': 14162, 'bickered': 14163, 'evokes': 14164, 'nnn': 14165, 'karnataka': 14166, 'caltrans': 14167, 'vna': 14168, 'fours': 14169, 'obtain': 14170, 'multistate': 14171, 'tubes': 14172, 'bobcats': 14173, 'bobcat': 14174, 'kittens': 14175, 'bavarian': 14176, 'commemorate': 14177, 'rison': 14178, 'monterrey': 14179, 'iraklion': 14180, 'veritas': 14181, 'illustrates': 14182, 'masters': 14183, 'coats': 14184, 'overturns': 14185, 'blessing': 14186, 'alarmed': 14187, 'drift': 14188, 'economically': 14189, 'fared': 14190, 'flint': 14191, 'testosterone': 14192, 'pwc': 14193, 'smit': 14194, 'overmatched': 14195, 'bend': 14196, 'dityatin': 14197, 'heckling': 14198, 'heckled': 14199, 'offending': 14200, 'redemption': 14201, 'pointer': 14202, 'plotted': 14203, 'frogs': 14204, 'conferences': 14205, 'boehner': 14206, 'frenchwoman': 14207, 'khaki': 14208, 'waved': 14209, 'israels': 14210, 'unwilling': 14211, 'othman': 14212, 'attained': 14213, 'mathieu': 14214, 'sped': 14215, 'clocked': 14216, 'gamesmanship': 14217, 'hone': 14218, 'partly': 14219, \"we've\": 14220, '1956': 14221, 'fleisher': 14222, 'hickory': 14223, \"sh'ite\": 14224, 'goof': 14225, 'cheapened': 14226, 'revives': 14227, 'jiang': 14228, 'directions': 14229, 'unfriendly': 14230, 'nephew': 14231, 'cheekbone': 14232, 'praying': 14233, 'chaplain': 14234, 'neutral': 14235, 'liners': 14236, 'depths': 14237, 'centimeters': 14238, 'bluster': 14239, 'chinas': 14240, 'tiananmen': 14241, 'assumed': 14242, 'robby': 14243, 'valencia': 14244, 'zaragoza': 14245, 'supercup': 14246, 'rattle': 14247, 'filching': 14248, 'intersection': 14249, 'layered': 14250, 'paradox': 14251, 'contradiction': 14252, 'hen': 14253, 'harbour': 14254, 'egg': 14255, 'colorectal': 14256, 'excels': 14257, 'thigh': 14258, 'muscular': 14259, 'taints': 14260, 'accomplice': 14261, 'supplying': 14262, 'muscled': 14263, 'yosemite': 14264, 'pristine': 14265, 'injure': 14266, 'strife': 14267, 'brunell': 14268, 'directed': 14269, 'bayliss': 14270, 'wicket': 14271, 'studded': 14272, 'fishery': 14273, 'execute': 14274, 'bb': 14275, 'praises': 14276, 'seizes': 14277, 'dingman': 14278, 'novoa': 14279, 'optioned': 14280, 'frantically': 14281, 'brno': 14282, 'greenback': 14283, 'julius': 14284, 'carson': 14285, 'cautionary': 14286, 'minefield': 14287, 'kiss': 14288, 'patrolling': 14289, 'ruud': 14290, 'brees': 14291, 'guest': 14292, 'easiest': 14293, 'bobble': 14294, 'chua': 14295, 'warded': 14296, 'kota': 14297, 'baru': 14298, 'kasuri': 14299, 'staggering': 14300, 'incomplete': 14301, 'tsentoroi': 14302, 'impacts': 14303, 'rained': 14304, '163': 14305, 'snowmobiles': 14306, 'yellowstone': 14307, 'godfrey': 14308, 'hounsfield': 14309, 'closet': 14310, 'patrols': 14311, 'ferrying': 14312, 'pulsating': 14313, 'diminutive': 14314, 'combatants': 14315, 'stiffer': 14316, 'stricter': 14317, 'plaintiff': 14318, 'hated': 14319, 'conclusions': 14320, 'thumped': 14321, 'taxi': 14322, 'seekers': 14323, 'lampedusa': 14324, 'rudi': 14325, 'lakewood': 14326, 'falsely': 14327, 'multimillion': 14328, 'primer': 14329, 'giannini': 14330, 'greens': 14331, 'bunch': 14332, 'riders': 14333, 'domed': 14334, 'fingers': 14335, 'cousin': 14336, 'restores': 14337, 'impatiently': 14338, 'samat': 14339, 'clarity': 14340, 'ousts': 14341, 'unlv': 14342, 'naubise': 14343, 'grinning': 14344, 'resembles': 14345, 'courage': 14346, 'patronage': 14347, 'jammu': 14348, 'comerica': 14349, 'raped': 14350, '468': 14351, 'hurts': 14352, 'darn': 14353, 'accidental': 14354, 'grateful': 14355, 'pronunciation': 14356, 'inclined': 14357, 'wichita': 14358, 'bartoli': 14359, 'malaysians': 14360, 'detectives': 14361, 'reforma': 14362, 'poorer': 14363, 'telltale': 14364, 'mobs': 14365, 'reflects': 14366, 'baffling': 14367, 'comedown': 14368, 'dragila': 14369, 'schumann': 14370, 'arabiya': 14371, 'engulfing': 14372, 'disclosures': 14373, 'bharti': 14374, 'rioting': 14375, 'madhya': 14376, 'pradesh': 14377, 'nationalist': 14378, 'consumed': 14379, 'redgrave': 14380, 'duvall': 14381, 'tryon': 14382, 'equalling': 14383, 'che': 14384, 'guevara': 14385, 'tends': 14386, 'harming': 14387, 'turbine': 14388, 'crammed': 14389, 'natives': 14390, 'approachable': 14391, 'londoner': 14392, 'yanked': 14393, 'pommel': 14394, 'periodic': 14395, 'jolted': 14396, 'victorious': 14397, 'champagne': 14398, 'yining': 14399, 'hyang': 14400, 'gaddafi': 14401, 'koch': 14402, 'lifelong': 14403, 'rife': 14404, 'aligned': 14405, 'regarded': 14406, \"administration's\": 14407, 'cote': 14408, 'ivoire': 14409, 'irin': 14410, 'undeveloped': 14411, 'humble': 14412, 'uni': 14413, 'eliminates': 14414, 'parallel': 14415, 'dax': 14416, 'definitive': 14417, 'intrigued': 14418, 'collects': 14419, 'charm': 14420, 'breeze': 14421, 'gibbs': 14422, 'lapse': 14423, '1000': 14424, 'clamour': 14425, 'randolph': 14426, 'hurdling': 14427, 'caucus': 14428, 'liberals': 14429, 'uks': 14430, 'verified': 14431, 'emotions': 14432, 'foil': 14433, 'offence': 14434, 'wahhabism': 14435, 'realise': 14436, 'pariah': 14437, 'fliers': 14438, 'baldauf': 14439, 'joan': 14440, 'reinjures': 14441, 'covington': 14442, 'pharmacist': 14443, 'pitchmen': 14444, 'diaper': 14445, 'dearly': 14446, 'geography': 14447, 'marsha': 14448, 'kaouch': 14449, 'obeidi': 14450, 'frees': 14451, 'lilac': 14452, 'exploited': 14453, 'holm': 14454, 'raffarin': 14455, 'vernon': 14456, 'hunted': 14457, 'depicts': 14458, 'anguished': 14459, 'mouthed': 14460, 'underneath': 14461, 'sportsmanship': 14462, 'timeout': 14463, 'peanut': 14464, 'jelly': 14465, 'hug': 14466, 'lankas': 14467, 'moises': 14468, 'apparatus': 14469, 'lodged': 14470, 'fatigue': 14471, 'peregrine': 14472, 'drubbing': 14473, 'outpitched': 14474, 'amended': 14475, 'nanno': 14476, 'def': 14477, 'homestand': 14478, 'inciting': 14479, 'zoysa': 14480, 'fiorentina': 14481, 'nabil': 14482, 'scoreboard': 14483, 'roush': 14484, 'sportsticker': 14485, 'overheated': 14486, 'cavern': 14487, 'australias': 14488, 'pavano': 14489, 'nadu': 14490, 'atm': 14491, 'stubborn': 14492, 'veterinarian': 14493, 'ensured': 14494, 'banff': 14495, 'relieve': 14496, 'gentle': 14497, 'paves': 14498, 'kalashnikov': 14499, 'adriana': 14500, 'shelda': 14501, 'bede': 14502, 'premarket': 14503, 'dubious': 14504, 'attire': 14505, 'gelding': 14506, 'swore': 14507, 'pia': 14508, 'mushaf': 14509, 'goldfish': 14510, 'notably': 14511, 'fmg': 14512, 'upstaging': 14513, 'municipality': 14514, 'hearn': 14515, 'quitter': 14516, 'ne': 14517, 'affiliated': 14518, 'derailment': 14519, 'schadenfreude': 14520, 'stain': 14521, 'rory': 14522, 'sabbatini': 14523, 'simons': 14524, '1989': 14525, 'sentence': 14526, 'hoover': 14527, 'herbert': 14528, 'bribe': 14529, 'wriggle': 14530, 'spell': 14531, 'britains': 14532, 'llws': 14533, 'conejo': 14534, 'morganton': 14535, 'anhydrous': 14536, 'ammonia': 14537, 'anabolic': 14538, 'ashour': 14539, 'mir': 14540, 'circus': 14541, 'invented': 14542, 'cain': 14543, 'transcript': 14544, 'vigorous': 14545, 'downing': 14546, 'leather': 14547, 'smeared': 14548, 'berths': 14549, 'miranda': 14550, 'cms': 14551, 'resets': 14552, 'entrance': 14553, 'devoid': 14554, 'extract': 14555, 'artistry': 14556, 'emotion': 14557, 'skeptics': 14558, 'q1': 14559, 'blazing': 14560, 'souvenirs': 14561, 'roadside': 14562, 'scorecard': 14563, 'scratched': 14564, 'cherundolo': 14565, 'hannover': 14566, 'tragic': 14567, 'jd': 14568, 'clan': 14569, 'payouts': 14570, 'touching': 14571, 'quad': 14572, 'silvers': 14573, 'wolf': 14574, 'recognition': 14575, 'nguyen': 14576, 'peril': 14577, 'renting': 14578, 'arbitron': 14579, 'jaret': 14580, 'justification': 14581, 'steadied': 14582, 'slightest': 14583, 'denying': 14584, 'huddle': 14585, 'bellaire': 14586, 'dwindled': 14587, 'unilateral': 14588, 'kr': 14589, 'surfwear': 14590, 'tang': 14591, 'glaus': 14592, 'thinned': 14593, 'excellence': 14594, 'gil': 14595, '48th': 14596, 'mri': 14597, 'nomar': 14598, 'solace': 14599, 'heist': 14600, 'exorcist': 14601, '138': 14602, 'itsa': 14603, 'postseason': 14604, 'crutches': 14605, 'ruptured': 14606, 'choke': 14607, 'biking': 14608, 'diseased': 14609, 'daddy': 14610, 'precursor': 14611, 'maasai': 14612, 'deserters': 14613, 'hypocrite': 14614, 'idowu': 14615, 'blunder': 14616, 'operational': 14617, 'provokes': 14618, 'exhaustion': 14619, 'midwestern': 14620, 'maltreatment': 14621, 'sanitised': 14622, 'salim': 14623, 'hamdan': 14624, 'johannes': 14625, 'weinrich': 14626, 'krishnamurthi': 14627, 'overhang': 14628, 'tarnish': 14629, 'eighteen': 14630, 'overpaid': 14631, 'flawed': 14632, 'singaporean': 14633, 'efficiently': 14634, 'juicy': 14635, 'steak': 14636, 'waistline': 14637, 'medarex': 14638, 'cadet': 14639, 'serie': 14640, 'alliances': 14641, 'teva': 14642, 'longrun2': 14643, 'hsinchu': 14644, 'certification': 14645, 'before': 14646, 'honduras': 14647, 'embassies': 14648, 'alchemists': 14649, 'braving': 14650, 'musician': 14651, 'perfectly': 14652, 'canaveral': 14653, 'aeronautics': 14654, 'antalya': 14655, 'scorpions': 14656, 'guilt': 14657, 'rebirth': 14658, 'tonnes': 14659, 'aveo': 14660, 'bsch': 14661, 'blending': 14662, 'soas': 14663, 'armhy': 14664, 'gregg': 14665, 'plunked': 14666, 'insufficient': 14667, 'breezes': 14668, \"ol'\": 14669, 'rebounding': 14670, 'har': 14671, 'gilo': 14672, 'admit': 14673, 'idiots': 14674, 'steleus': 14675, 'hansbrough': 14676, 'why': 14677, 'decliners': 14678, 'bpo': 14679, 'neutralizing': 14680, 'hao': 14681, 'cypriots': 14682, 'alleviated': 14683, 'dunphy': 14684, 'boaters': 14685, 'huston': 14686, 'shaded': 14687, 'relax': 14688, 'elber': 14689, 'newfound': 14690, 'bearish': 14691, 'conclusive': 14692, 'jpl': 14693, 'expenditure': 14694, 'barged': 14695, 'implores': 14696, 'exiting': 14697, 'dam': 14698, 'emily': 14699, 'lops': 14700, 'observes': 14701, 'daring': 14702, 'artouste': 14703, 'altitude': 14704, 'videogames': 14705, 'cassidy': 14706, 'xfire': 14707, 'woolies': 14708, 'unblemished': 14709, 'col': 14710, 'axes': 14711, 'coulthard': 14712, 'modifications': 14713, 'interconnect': 14714, 'unmanned': 14715, 'hauled': 14716, 'alexandre': 14717, 'otto': 14718, 'investigative': 14719, 'incapable': 14720, '316': 14721, 'multicultural': 14722, 'wooldridge': 14723, 'motorists': 14724, 'barbour': 14725, 'flown': 14726, 'lecce': 14727, 'highlighting': 14728, 'whyte': 14729, 'perdita': 14730, '628': 14731, 'criticising': 14732, 'historian': 14733, 'austro': 14734, 'bernie': 14735, 'favour': 14736, 'somalis': 14737, 'inauguration': 14738, 'goma': 14739, 'imams': 14740, 'saps': 14741, 'sheets': 14742, 'three': 14743, 'ks': 14744, 'swat': 14745, 'standby': 14746, 'fitz': 14747, 'inaugurated': 14748, 'chelseas': 14749, 'scs': 14750, 'brazen': 14751, 'lighthouse': 14752, 'internets': 14753, 'ratio': 14754, 'trendy': 14755, 'luggage': 14756, 'restatement': 14757, 'hastings': 14758, 'etr': 14759, 'move': 14760, 'snipers': 14761, 'anton': 14762, 'pulp': 14763, 'arsene': 14764, 'maintenance': 14765, 'mysap': 14766, 'lousy': 14767, '560': 14768, '637': 14769, '417': 14770, 'compatriots': 14771, 'cassiopeia': 14772, 'carping': 14773, 'longaberger': 14774, '784': 14775, 'hijacking': 14776, 'copycat': 14777, 'pall': 14778, 'miikka': 14779, 'amcast': 14780, 'variations': 14781, 'xframe': 14782, 'solaris': 14783, 'sparc': 14784, 'hornets': 14785, 'roommate': 14786, 'pataki': 14787, 'briefing': 14788, 'scalability': 14789, 'nickel': 14790, 'cybercafes': 14791, 'curfew': 14792, 'spurring': 14793, 'vue': 14794, 'rollover': 14795, 'cumb': 14796, 'notifier': 14797, 'eliyon': 14798, 'faganfinder': 14799, 'fagan': 14800, 'storks': 14801, 'w32': 14802, 'tapings': 14803, 'bogota': 14804, 'stabilised': 14805, '884': 14806, 'cheered': 14807, 'nolan': 14808, 'earrings': 14809, 'jingling': 14810, 'necklace': 14811, 'tossing': 14812, 'bangla': 14813, 'vick': 14814, 'rnc': 14815, 'racial': 14816, 'copied': 14817, 'documentum': 14818, 'eci': 14819, 'kukoc': 14820, 'kostanic': 14821, 'maleeva': 14822, '504': 14823, 'ronald': 14824, 'salk': 14825, 'slr': 14826, 'mineral': 14827, 'clueless': 14828, 'sails': 14829, 'ibrox': 14830, 'slater': 14831, 'commandos': 14832, 'diana': 14833, 'contingent': 14834, 'zimbabweans': 14835, 'subsided': 14836, 'boiled': 14837, '18pc': 14838, 'coeur': 14839, 'wheaton': 14840, 'meseret': 14841, 'paraguay': 14842, 'mg': 14843, 'mamas': 14844, 'guantnamo': 14845, 'nevin': 14846, 'hispanic': 14847, 'spoiling': 14848, 'flyby': 14849, 'firstcall': 14850, 'gfi': 14851, 'disgraceful': 14852, 'commemorating': 14853, 'isabella': 14854, 'gusts': 14855, 'bane': 14856, 'tension': 14857, 'diver': 14858, 'musicland': 14859, 'heilman': 14860, 'disappoint': 14861, 'beltran': 14862, 'weave': 14863, 'tighten': 14864, 'uncertainties': 14865, 'nunavut': 14866, 'heeled': 14867, 'pumped': 14868, 'baron': 14869, 'philosophy': 14870, 'niagara': 14871, '800metres': 14872, 'bashir': 14873, 'decorated': 14874, 'wk': 14875, 'fanfare': 14876, 'mathews': 14877, 'intestinal': 14878, 'onset': 14879, 'plight': 14880, 'soy': 14881, 'grandmother': 14882, 'diminishing': 14883, 'zelnorm': 14884, 'boo': 14885, 'sluggers': 14886, 'sparkling': 14887, 'schemes': 14888, 'lefthander': 14889, 'halladay': 14890, 'postgame': 14891, 'gifford': 14892, 'mbango': 14893, 'encourages': 14894, 'wrongfully': 14895, 'vigilantes': 14896, 'suitors': 14897, 'abilities': 14898, '14th': 14899, '1986': 14900, 'bruises': 14901, 'bumping': 14902, 'heraklio': 14903, 'crete': 14904, 'predictable': 14905, 'finch': 14906, 'samoa': 14907, 'invincible': 14908, 'grieve': 14909, 'without': 14910, 'slogans': 14911, 'malt': 14912, 'gmga': 14913, 'lander': 14914, 'silvan': 14915, 'plotter': 14916, 'pig': 14917, 'ramesh': 14918, 'ponnuru': 14919, 'boring': 14920, 'laila': 14921, 'weir': 14922, 'bewilderment': 14923, 'harold': 14924, 'bugmenot': 14925, 'evade': 14926, 'dali': 14927, 'oppose': 14928, '910': 14929, 'mississippian': 14930, '5million': 14931, 'unscathed': 14932, 'hammers': 14933, 'steadies': 14934, 'unhittable': 14935, 'cue': 14936, 'fractures': 14937, 'barghouthi': 14938, 'soothed': 14939, 'directing': 14940, 'merit': 14941, 'shutouts': 14942, 'scoreless': 14943, 'contraceptive': 14944, 'democratize': 14945, 'chipmakers': 14946, 'optical': 14947, 'inward': 14948, 'lean': 14949, 'rgs': 14950, 'franchiser': 14951, 'burma': 14952, 'merely': 14953, 'musab': 14954, 'thinner': 14955, 'tables': 14956, 'tabled': 14957, 'tottenham': 14958, 'iraqs': 14959, 'specter': 14960, 'mastermind': 14961, 'monte': 14962, 'gfk': 14963, 'slugger': 14964, 'jcc': 14965, 'fated': 14966, 'brunet': 14967, 'que': 14968, 'unnerved': 14969, 'weekslong': 14970, 'kingman': 14971, 'structured': 14972, 'masks': 14973, 'biology': 14974, 'geneticists': 14975, 'lactic': 14976, 'ins': 14977, 'formidable': 14978, 'huntingdon': 14979, 'tod': 14980, 'geodynamic': 14981, 'quake': 14982, 'endorse': 14983, 'leonid': 14984, 'portraits': 14985, 'urine': 14986, 'predominantly': 14987, 'unsettled': 14988, 'fundingpost': 14989, 'ceos': 14990, 'kdg': 14991, 'unconvincing': 14992, 'bakery': 14993, 'homestretch': 14994, 'whitney': 14995, 'quartz': 14996, 'kaolin': 14997, 'esrange': 14998, 'assistants': 14999, '180': 15000, \"terror'\": 15001, 'wrenching': 15002, 'ax': 15003, 'classify': 15004, 'doles': 15005, 'mis': 15006, 'daggett': 15007, 'greenpeace': 15008, 'ncf': 15009, 'suntrust': 15010, 'complimentary': 15011, 'malcontents': 15012, 'rochester': 15013, 'aegean': 15014, 'shelving': 15015, 'brower': 15016, 'lukashenko': 15017, 'roadmap': 15018, 'behaviour': 15019, 'qtr': 15020, 'repatriate': 15021, '264': 15022, 'cartilage': 15023, 'argos': 15024, 'bishop': 15025, 'colubris': 15026, 'hadash': 15027, 'violante': 15028, 'blackmail': 15029, 'roxio': 15030, 'discourage': 15031, 'letdown': 15032, 'throttler': 15033, 'omb': 15034, 'priorities': 15035, 'notches': 15036, 'bbb': 15037, 'sluice': 15038, 'fundy': 15039, '2914': 15040, 'ata': 15041, 'misappropriation': 15042, 'mailman': 15043, 'bubka': 15044, 'idol': 15045, 'moorcroft': 15046, 'georgi': 15047, 'plowing': 15048, 'seizures': 15049, 'repeals': 15050, 'repressive': 15051, 'fairness': 15052, 'taker': 15053, 'convenience': 15054, 'quicker': 15055, 'checkpoints': 15056, 'ravenous': 15057, 'scourge': 15058, 'molineux': 15059, 'strugglers': 15060, 'cigarette': 15061, 'cahill': 15062, 'putnam': 15063, 'usher': 15064, 'sleek': 15065, 'turnovers': 15066, 'pondered': 15067, 'towered': 15068, 'hmong': 15069, 'barents': 15070, 'hebrew': 15071, 'regatta': 15072, 'spokesmen': 15073, 'buchalki': 15074, 'trivia': 15075, 'compactflash': 15076, 'afghanistans': 15077, 'fulfilling': 15078, 'departures': 15079, 'severance': 15080, 'benq': 15081, 'astra': 15082, 'pneumonia': 15083, 'astrazeneca': 15084, 'iressa': 15085, 'stg': 15086, 'proliferation': 15087, 'jurisdiction': 15088, 'permanently': 15089, 'tracksuits': 15090, 'rangana': 15091, 'pumping': 15092, 'stabilise': 15093, 'prefer': 15094, 'revelation': 15095, 'palestine': 15096, 'preventive': 15097, 'fetes': 15098, 'liberate': 15099, 'oilfield': 15100, 'jara': 15101, 'soothe': 15102, 'heaps': 15103, 'already': 15104, 'ns': 15105, 'joys': 15106, 'loot': 15107, 'livewire': 15108, 'kinnunen': 15109, 'superhigh': 15110, 'excerpt': 15111, 'cognitive': 15112, 'boisterous': 15113, 'pummeling': 15114, 'paired': 15115, 'penn': 15116, 'blythe': 15117, 'slyusareva': 15118, 'blesses': 15119, 'libwhisker': 15120, 'rods': 15121, 'halve': 15122, 'risking': 15123, 'reiziger': 15124, 'aqsa': 15125, 'empting': 15126, 'ouster': 15127, 'hrb': 15128, 'applebee': 15129, 'baroness': 15130, 'georgiy': 15131, 'sial': 15132, 'losman': 15133, 'homebuilder': 15134, 'smucker': 15135, 'atlas': 15136, 'bayley': 15137, 'keirin': 15138, 'bahamas': 15139, 'pitted': 15140, 'leopold': 15141, 'concussion': 15142, 'jamming': 15143, 'reinforced': 15144, 'progressed': 15145, 'bev': 15146, 'glasner': 15147, 'inbreeding': 15148, 'pandas': 15149, 'coordination': 15150, 'mountainside': 15151, 'respectable': 15152, 'dvdr': 15153, 'foxsports': 15154, 'aesthetic': 15155, 'niger': 15156, 'thrust': 15157, 'overvalued': 15158, 'cinram': 15159, 'recommended': 15160, 'elie': 15161, 'blitzed': 15162, 'treaty': 15163, 'spyglass': 15164, 'wielded': 15165, 'parisians': 15166, 'logiclibrary': 15167, 'logidex': 15168, 'lagat': 15169, 'brighten': 15170, 'contrasts': 15171, 'tygo': 15172, 'uninitiated': 15173, 'airplanes': 15174, 'textures': 15175, 'fnac': 15176, 'utd': 15177, 'juventus': 15178, 'subtler': 15179, 'quiznos': 15180, 'kadhafi': 15181, 'disclosing': 15182, 'wrapup': 15183, 'agios': 15184, 'xanadu': 15185, 'abetting': 15186, 'warrants': 15187, 'redback': 15188, 'borland': 15189, 'scarcely': 15190, 'moosehead': 15191, 'skycity': 15192, 'bouygues': 15193, 'antiterrorism': 15194, 'camouflage': 15195, 'bmc': 15196, 'jacobsen': 15197, 'pedophile': 15198, 'fantasies': 15199, 'yuan': 15200, 'observing': 15201, 'arresting': 15202, 'scripts': 15203, 'curacao': 15204, 'shady': 15205, 'dressing': 15206, 'agl': 15207, 'sinister': 15208, 'sunoil': 15209, 'greener': 15210, 'juninho': 15211, 'marcus': 15212, 'nate': 15213, 'mullin': 15214, 'fibre': 15215, 'bloggers': 15216, 'racist': 15217, 'grotech': 15218, 'unsettles': 15219, 'commotion': 15220, 'runaway': 15221, 'headfirst': 15222, 'teleconference': 15223, 'stopover': 15224, 'wafers': 15225, 'gland': 15226, 'gills': 15227, 'orang': 15228, 'moot': 15229, '117': 15230, 'intercollegiate': 15231, 'holders': 15232, 'eskandarian': 15233, 'eeoc': 15234, 'burswood': 15235, 'indias': 15236, 'converging': 15237, 'eaton': 15238, 'vermontville': 15239, 'strand': 15240, 'kookaburras': 15241, 'ode': 15242, 'nudity': 15243, 'eerily': 15244, 'wannstedt': 15245, 'storied': 15246, 'tn': 15247, 'mourns': 15248, 'equipping': 15249, 'antagonize': 15250, 'nukes': 15251, 'paperlinx': 15252, 'tapes': 15253, 'dimmer': 15254, 'harsher': 15255, 'dispatches': 15256, 'lawson': 15257, '315': 15258, 'equip': 15259, 'assad': 15260, 'plo': 15261, 'internally': 15262, 'evoke': 15263, 'boycotts': 15264, 'madritsch': 15265, 'frattini': 15266, 'revisits': 15267, 'renaissance': 15268, 'adb': 15269, 'fortis': 15270, 'thud': 15271, 'brookes': 15272, 'gyurcsny': 15273, 'accomplishment': 15274, 'holocaust': 15275, 'typhoons': 15276, 'plutonium': 15277, 'biggio': 15278, 'ovation': 15279, 'astro': 15280, 'demons': 15281, 'klecko': 15282, 'carbone': 15283, 'spoons': 15284, 'harried': 15285, 'utensils': 15286, 'meirelles': 15287, 'mit': 15288, 'morrone': 15289, 'businessmen': 15290, 'hantuchova': 15291, 'photographer': 15292, 'log': 15293, 'hamman': 15294, 'forthwith': 15295, 'materialise': 15296, 'baseless': 15297, 'installfest': 15298, 'afterward': 15299, 'hazim': 15300, 'shalaan': 15301, 'lb': 15302, 'draper': 15303, 'openings': 15304, 'attributed': 15305, 'wiseman': 15306, 'banana': 15307, 'rubens': 15308, 'deposits': 15309, 'janet': 15310, 'longhorn': 15311, 'infosys': 15312, 'calvin': 15313, 'viable': 15314, 'flayed': 15315, 'xeni': 15316, 'jardin': 15317, 'least': 15318, 'grapefruit': 15319, 'olena': 15320, 'olefirenko': 15321, 'certified': 15322, 'doubted': 15323, 'beds': 15324, 'gravity': 15325, 'clippers': 15326, 'coated': 15327, 'blew': 15328, 'pfizer': 15329, 'repeatedly': 15330, 'xavier': 15331, 'bartlett': 15332, 'borrowers': 15333, 'wring': 15334, 'pursuing': 15335, 'pencil': 15336, 'classmate': 15337, '343': 15338, 'californians': 15339, 'serena': 15340, 'tick': 15341, 'baig': 15342, 'odeon': 15343, '380': 15344, 'kristine': 15345, 'fawcett': 15346, 'brandi': 15347, 'chastain': 15348, 'bsf': 15349, 'grandson': 15350, 'tragedies': 15351, 'lawman': 15352, 'marshal': 15353, 'everyman': 15354, 'underscored': 15355, 'cruces': 15356, 'mu': 15357, 'datawest': 15358, 'estes': 15359, 'boumsong': 15360, 'ineffectiveness': 15361, 'likelihood': 15362, 'ditech': 15363, 'pessimism': 15364, 'domenech': 15365, 'janitorial': 15366, 'andrey': 15367, 'stodgy': 15368, 'pumps': 15369, \"shi'ites\": 15370, 'nullsoft': 15371, 'unconstitutional': 15372, 'girlfriends': 15373, 'diamonds': 15374, 'cyclical': 15375, 'credence': 15376, 'tube': 15377, 'goaltending': 15378, 'dunham': 15379, 'ammunition': 15380, 'apology': 15381, 'karam': 15382, 'ramaz': 15383, 'nozadze': 15384, 'vaso': 15385, 'vaph': 15386, 'avalanche': 15387, 'flatly': 15388, 'webcast': 15389, 'vetted': 15390, 'peas': 15391, 'urbz': 15392, 'grooves': 15393, 'mama': 15394, 'nightclubs': 15395, 'syniverse': 15396, 'interoperator': 15397, 'c65': 15398, 'm65': 15399, 's65': 15400, 'sl65': 15401, 'cv65': 15402, 'ct65': 15403, 'cxv65': 15404, 'cxt65': 15405, 'reel': 15406, '840': 15407, 'dior': 15408, 'accelerators': 15409, 'possibilities': 15410, 'db2': 15411, 'tomlinson': 15412, 'goosen': 15413, 'pahlavan': 15414, '848': 15415, 'misinterpreting': 15416, 'snapper': 15417, 'sakhalin': 15418, 'livid': 15419, 'acs': 15420, 'authorization': 15421, 'instigating': 15422, 'jokinen': 15423, 'peltonen': 15424, 'swiftboat': 15425, 'crewman': 15426, 'hockfield': 15427, 'bulletproof': 15428, 'triathlete': 15429, 'famer': 15430, 'inspection': 15431, 'agarwal': 15432, 'appoints': 15433, 'separated': 15434, 'merchant': 15435, 'michele': 15436, 'mirkq': 15437, 'characterized': 15438, 'wreaths': 15439, 'fraught': 15440, 'suncorp': 15441, 'metway': 15442, 'fy': 15443, '618': 15444, 'moffitt': 15445, 'questionnaire': 15446, 'swirl': 15447, 'whether': 15448, 'badgers': 15449, 'rebuilt': 15450, 'loit': 15451, 'wagoner': 15452, 'zwick': 15453, 'concealing': 15454, 'belfour': 15455, 'appendectomy': 15456, 'ineffective': 15457, 'surgical': 15458, 'incubated': 15459, 'slt': 15460, 'nfd': 15461, 'yokogawa': 15462, 'jennifer': 15463, 'nathalie': 15464, 'drafts': 15465, 'bronson': 15466, 'cybercrimes': 15467, 'kao': 15468, 'subpoenaed': 15469, 'rockville': 15470, 'recordkeeping': 15471, 'examiners': 15472, 'mediacorp': 15473, 'misrepresented': 15474, '4452': 15475, 'buildup': 15476, 'malley': 15477, 'statham': 15478, 'nhlpa': 15479, 'reinstate': 15480, 'minivan': 15481, 'digitized': 15482, 'pardon': 15483, '330': 15484, 'fishers': 15485, 'polite': 15486, 'overthrew': 15487, 'disruptive': 15488, 'whistles': 15489, 'catcalls': 15490, 'silencing': 15491, 'newman': 15492, 'hassle': 15493, '1990': 15494, 'sendoff': 15495, 'persia': 15496, 'unforgiving': 15497, 'shuns': 15498, 'canoeing': 15499, 'veraas': 15500, 'larsen': 15501, 'barbaric': 15502, 'hyping': 15503, 'summerlong': 15504, 'opel': 15505, 'loudspeakers': 15506, 'annually': 15507, 'ftse': 15508, 'teck': 15509, 'cominco': 15510, 'activates': 15511, 'hager': 15512, 'dawson': 15513, 'cayard': 15514, 'newton': 15515, 'filly': 15516, 'mast': 15517, 'conagra': 15518, 'shearer': 15519, 'howell': 15520, 'pesquera': 15521, 'shachtman': 15522, 'donkeys': 15523, 'tarantino': 15524, 'muppets': 15525, 'plaques': 15526, 'presley': 15527, 'linkup': 15528, 'redenvelope': 15529, 'lkoh': 15530, 'rts': 15531, 'ardamatta': 15532, 'cypriot': 15533, 'hobbyist': 15534, 'runoff': 15535, 'grouse': 15536, 'mosques': 15537, 'bf': 15538, 'goodrich': 15539, 'schrager': 15540, 'aque': 15541, 'tilly': 15542, 'bloated': 15543, 'eritreans': 15544, 'decode': 15545, 'dcgn': 15546, 'barr': 15547, 'brl': 15548, 'schein': 15549, 'moyes': 15550, 'hallmarks': 15551, 'canoeist': 15552, 'oldies': 15553, 'timed': 15554, 'tearaway': 15555, '849': 15556, 'midsummer': 15557, 'sociology': 15558, 'bazil': 15559, 'brochures': 15560, 'douse': 15561, 'oversupplied': 15562, 'sidestepped': 15563, 'saver': 15564, 'smug': 15565, 'swells': 15566, '36bn': 15567, 'mauritian': 15568, 'baylis': 15569, 'freeplay': 15570, 'clockwork': 15571, 'etisalat': 15572, '544': 15573, 'licences': 15574, 'mainline': 15575, 'nitromed': 15576, 'droves': 15577, 'shopped': 15578, 'treadmills': 15579, 'blowers': 15580, 'candles': 15581, 'chandeliers': 15582, 'crediting': 15583, 'untangle': 15584, 'thread': 15585, 'kinder': 15586, 'technologist': 15587, 'cofounded': 15588, 'blundered': 15589, 'terrorized': 15590, 'underlings': 15591, 'parceled': 15592, 'scrooge': 15593, 'aggressiveness': 15594, 'abusers': 15595, 'sizzler': 15596, 'uzis': 15597, '47s': 15598, 'gleam': 15599, 'quipped': 15600, '10k': 15601, 'flameout': 15602, 'refocuses': 15603, 'gears': 15604, 'rollins': 15605, 'nobility': 15606, 'delightful': 15607, 'chrysler': 15608, 'bling': 15609, 'creepier': 15610, 'webpreneurs': 15611, 'steamroller': 15612, 'tastes': 15613, 'specialized': 15614, 'astorga': 15615, 'goings': 15616, 'characterize': 15617, 'facto': 15618, 'fellini': 15619, 'paradoxes': 15620, 'affirmative': 15621, 'thais': 15622, 'accomplishments': 15623, 'fives': 15624, 'ritualistic': 15625, 'goaded': 15626, 'impishly': 15627, 'patronized': 15628, 'milder': 15629, 'gentler': 15630, 'downhome': 15631, 'intersecting': 15632, 'paths': 15633, 'evidenced': 15634, 'appreciation': 15635, 'lampano': 15636, 'alley': 15637, 'clarence': 15638, 'orient': 15639, 'globalization': 15640, 'bluegrass': 15641, 'chiang': 15642, 'mai': 15643, 'phuket': 15644, 'livability': 15645, 'alligator': 15646, 'ornately': 15647, 'albino': 15648, 'rumored': 15649, 'vacationers': 15650, 'flushed': 15651, 'buggers': 15652, 'consultancies': 15653, 'capgemini': 15654, 'cto': 15655, 'gaucherin': 15656, 'unicenter': 15657, 'unwrapped': 15658, 'buzzsaw': 15659, '9b': 15660, 'boobs': 15661, 'wrests': 15662, 'photoshop': 15663, 'synstar': 15664, '297': 15665, 'switchboard': 15666, 'voicemails': 15667, 'elisa': 15668, 'batista': 15669, 'listings': 15670, 'messing': 15671, 'take': 15672, 'although': 15673, 'becoming': 15674, 'sugarcrm': 15675, 'crafted': 15676, 'osaka': 15677, 'sprawl': 15678, 'rowboats': 15679, 'grill': 15680, 'floating': 15681, 'pavilions': 15682, 'during': 15683, 'fearsome': 15684, 'procrastinating': 15685, 'socialites': 15686, 'sexier': 15687, 'siberia': 15688, '1908': 15689, 'presumed': 15690, 'pluto': 15691, 'redesigning': 15692, 'compulsive': 15693, 'aerospaces': 15694, 'mesquite': 15695, 'tailed': 15696, 'astronomical': 15697, 'invasive': 15698, 'mowed': 15699, 'flooded': 15700, 'loosestrife': 15701, 'parker': 15702, 'theorists': 15703, 'spanning': 15704, 'clannish': 15705, 'agressive': 15706, 'spans': 15707, 'vacationing': 15708, 'beached': 15709, 'minke': 15710, 'vineyard': 15711, 'gamma': 15712, 'outshining': 15713, 'adjusts': 15714, 'tails': 15715, 'ponder': 15716, 'teasing': 15717, 'microbial': 15718, 'sunblock': 15719, 'skywatchers': 15720, 'scout': 15721, 'reformulated': 15722, 'poison': 15723, 'rarest': 15724, 'pleasures': 15725, 'stargazing': 15726, 'noticing': 15727, 'hues': 15728, 'vary': 15729, 'grants': 15730, 'spaceshipone': 15731, 'piloted': 15732, 'financed': 15733, 'typically': 15734, 'outward': 15735, 'unleash': 15736, 'subterranean': 15737, 'vertical': 15738, 'malfunctioned': 15739, 'guinn': 15740, 'indicting': 15741, 'loggerhead': 15742, 'nested': 15743, 'alvin': 15744, 'seafloor': 15745, 'vents': 15746, 'tectonics': 15747, 'croaking': 15748, 'beaufort': 15749, 'exaggerating': 15750, 'wildfires': 15751, 'owls': 15752, 'justifying': 15753, 'subsoil': 15754, 'explored': 15755, 'squid': 15756, 'voyagers': 15757, 'minuscule': 15758, 'downplay': 15759, 'bolder': 15760, 'cowbirds': 15761, 'cowbird': 15762, 'chicks': 15763, 'mauritanian': 15764, 'telco': 15765, 'bugtraq': 15766, 'landline': 15767, 'spoofing': 15768, 'xforms': 15769, 'yawns': 15770, 'ironic': 15771, 'faxes': 15772, 'legalized': 15773, 'nastiness': 15774, 'fax': 15775, 'marketer': 15776, 'physicist': 15777, 'hypotheses': 15778, 'amazed': 15779, 'tantalized': 15780, 'eternal': 15781, 'spotless': 15782, 'masterful': 15783, 'mesmerizing': 15784, 'ceases': 15785, 'austral': 15786, 'weaponry': 15787, 'detrimentally': 15788, 'aerial': 15789, 'satisfies': 15790, 'variability': 15791, 'k5': 15792, 'limerick': 15793, 'queue': 15794, 'submissions': 15795, 'limericks': 15796, 'mod': 15797, 'afraid': 15798, 'runtimeproperties': 15799, 'reflection': 15800, 'customize': 15801, 'develoepr': 15802, 'namespace': 15803, 'integer': 15804, 'parseint': 15805, 'getproperty': 15806, 'cloudscape': 15807, 'ids': 15808, 'hacks': 15809, 'only': 15810, 'cherish': 15811, 'much': 15812, 'own': 15813, 'ntpd': 15814, 'conf': 15815, 'manually': 15816, 'overwhelm': 15817, 'balances': 15818, 'nist': 15819, '192': 15820, '244': 15821, 'classname': 15822, 'see': 15823, 'feedparser': 15824, 'verbose': 15825, 'arabian': 15826, \"'but\": 15827, 'khaled': 15828, 'leniency': 15829, 'refreshing': 15830, 'mexception': 15831, 'newsmonster': 15832, 'stack': 15833, 'generates': 15834, 'logs': 15835, 'hardcore': 15836, 'regan': 15837, 'kinda': 15838, \"'now\": 15839, 'unelectable': 15840, 'atheist': 15841, \"'what\": 15842, \"'do\": 15843, \"'no\": 15844, 'sangha': 15845, \"'so\": 15846, 'buddhism': 15847, 'sympathies': 15848, 'admire': 15849, 'teaching': 15850, 'mindfulness': 15851, 'kindness': 15852, 'compassion': 15853, \"'riyadh\": 15854, \"'othman\": 15855, 'fahd': 15856, \"'al\": 15857, 'shaban': 15858, 'shihri': 15859, 'himself': 15860, \"'baghdad\": 15861, \"'led\": 15862, 'koran': 15863, 'sincerity': 15864, 'provisional': 15865, 'puppet': 15866, 'any': 15867, 'utils': 15868, 'bsd': 15869, 'j3d': 15870, \"'yesterday\": 15871, 'decency': 15872, 'bizarrely': 15873, 'btw': 15874, \"'on\": 15875, 'nominees': 15876, 'crass': 15877, \"'fuck\": 15878, 'heartbeat': 15879, 'profanity': 15880, \"'when\": 15881, 'accumulation': 15882, 'ingrained': 15883, 'distrust': 15884, 'concentrated': 15885, 'persona': 15886, 'wields': 15887, 'constrained': 15888, 'balanced': 15889, 'disassembled': 15890, 'debugger': 15891, 'did': 15892, 'bloat': 15893, 'zawodny': 15894, 'threads': 15895, 'scoble': 15896, 'really': 15897, \"doesn't\": 15898, \"'last\": 15899, \"mozilla's\": 15900, 'tabbed': 15901, \"'does\": 15902, 'perhaps': 15903, \"can't\": 15904, 'doubleplus': 15905, 'buffy': 15906, 'censor': 15907, 'slayer': 15908, 'ashlee': 15909, 'vance': 15910, 'ladyboy': 15911, 'northumberland': 15912, 'holograms': 15913, 'forgeries': 15914, 'hologram': 15915, 'handwritten': 15916, 'parcels': 15917, 'fido': 15918, 'beloved': 15919, 'pooch': 15920, 'personalized': 15921, 'mingling': 15922, 'bungalow': 15923, 'billiards': 15924, 'chantilly': 15925, 'divorced': 15926, 'widowed': 15927, 'torrents': 15928, 'fling': 15929, 'samenow': 15930, 'smitten': 15931, 'umesh': 15932, 'patel': 15933, 'muris': 15934, 'wohlstadter': 15935, 'blinked': 15936, 'jessica': 15937, 'cutler': 15938, 'retracing': 15939, 'thom': 15940, 'hue': 15941, 'worcestershire': 15942, 'perseids': 15943, 'lifespan': 15944, 'tissue': 15945, 'disturbance': 15946, 'boundary': 15947, 'hardworking': 15948, 'therapy': 15949, 'streamlined': 15950, 'fossilised': 15951, 'oceanic': 15952, 'vegetation': 15953, 'planck': 15954, 'interact': 15955, 'molecular': 15956, 'refutes': 15957, 'unexceptional': 15958, 'immortalized': 15959, 'embarking': 15960, 'hazards': 15961, 'modis': 15962, 'utc': 15963, 'horseflies': 15964, 'colorfully': 15965, 'earthgrazing': 15966, 'zip': 15967, 'spaceships': 15968, 'coriolis': 15969, 'neil': 15970, 'tranquility': 15971, 'hailstorm': 15972, '30th': 15973, 'harmlessly': 15974, 'dino': 15975, 'adolescent': 15976, 'deckchairs': 15977, 'deckchair': 15978, 'ballooning': 15979, 'zipping': 15980, 'suprisingly': 15981, 'upwellings': 15982, 'texts': 15983, 'conservationist': 15984, 'pagan': 15985, 'partying': 15986, 'lizard': 15987, 'chimpanzee': 15988, 'chimp': 15989, 'avoidance': 15990, 'unpiloted': 15991, 'aft': 15992, 'zvezda': 15993, 'kaczor': 15994, 'telemonitoring': 15995, 'telerobotic': 15996, 'wellness': 15997, 'spacefarers': 15998, 'orson': 15999, 'welles': 16000, 'moguls': 16001, 'spielberg': 16002, 'clever': 16003, 'duped': 16004, 'cosmic': 16005, 'intergalactic': 16006, 'spatial': 16007, 'cavity': 16008, 'carved': 16009, 'geodes': 16010, 'volcanic': 16011, 'sedimentary': 16012, 'prebiotic': 16013, 'organic': 16014, 'circumstellar': 16015, 'mauna': 16016, 'kea': 16017, 'hawaii': 16018, 'sunshade': 16019, 'mirrors': 16020, 'leftovers': 16021, 'snacking': 16022, 'spherical': 16023, 'cathedrals': 16024, 'lumped': 16025, 'resided': 16026, 'superheated': 16027, 'tunnelling': 16028, 'wannabe': 16029, 'fascinated': 16030, 'earthlike': 16031, 'spawn': 16032, 'kurtenbach': 16033, 'shenzhou': 16034, '220': 16035, 'twentieth': 16036, 'jaxa': 16037, 'earthgrazers': 16038, 'chemists': 16039, 'remnants': 16040, 'shimmering': 16041, 'embers': 16042, 'nebula': 16043, '246': 16044, 'shrinks': 16045, 'boiling': 16046, 'slumber': 16047, 'drowsiness': 16048, 'hormones': 16049, 'diners': 16050, 'modify': 16051, 'imperfect': 16052, 'sedentary': 16053, 'skateboarding': 16054, 'krista': 16055, 'larson': 16056, 'sayreville': 16057, 'skate': 16058, 'unravel': 16059, 'adulthood': 16060, 'allergic': 16061, 'outgrow': 16062, 'sensitivity': 16063, 'allergies': 16064, 'wasps': 16065, 'chatter': 16066, 'lester': 16067, 'unheard': 16068, 'meteorologist': 16069, 'fetus': 16070, 'pregancy': 16071, 'eaters': 16072, 'elephant': 16073, 'emma': 16074, 'authorize': 16075, 'insulin': 16076, 'preventer': 16077, 'edelson': 16078, 'vessels': 16079, 'retina': 16080, 'headway': 16081, 'throats': 16082, 'stevenson': 16083, 'substandard': 16084, 'pollen': 16085, 'bashes': 16086, 'fournier': 16087, 'langhorne': 16088, 'pacemaker': 16089, 'damaris': 16090, 'ochoa': 16091, 'enlarged': 16092, 'consists': 16093, 'calorie': 16094, 'nutritionists': 16095, 'mckinsey': 16096, 'mightily': 16097, 'knowledgewharton': 16098, 'conundrum': 16099, 'unseal': 16100, 'rorschach': 16101, 'otellini': 16102, 'consolidating': 16103, 'alumnus': 16104, 'resurfaces': 16105, 'ekecheiria': 16106, 'senders': 16107, 'begging': 16108, 'securify': 16109, 'taher': 16110, 'elgamal': 16111, 'mentality': 16112, 'plugs': 16113, 'bagle': 16114, 'rumbles': 16115, 'bombard': 16116, 'mosquito': 16117, 'reboot': 16118, 'submits': 16119, 'covad': 16120, 'flips': 16121, 'ultrawideband': 16122, 'xs110': 16123, 'walkie': 16124, 'talkie': 16125, 'portalplayer': 16126, 'edit': 16127, 'squinty': 16128, 'standardization': 16129, 'mime': 16130, 'pixel': 16131, 'yourdon': 16132, 'deadlines': 16133, 'consumption': 16134, 'traction': 16135, 'blindsided': 16136, 'sachs': 16137, 'gavel': 16138, 'classifieds': 16139, 'adopters': 16140, 'mosquitos': 16141, 'ati': 16142, 'movietickets': 16143, 'novices': 16144, 'caregivers': 16145, 'clipboard': 16146, 'copiers': 16147, 'transceiver': 16148, 'cmos': 16149, 'quicken': 16150, 'inexpensive': 16151, 'projector': 16152, '2300mp': 16153, 'brightness': 16154, 'compilations': 16155, 'reflections': 16156, 'paterson': 16157, 'abide': 16158, 'biometrics': 16159, 'stuffing': 16160, 'stashing': 16161, 'lockers': 16162, 'fingerprints': 16163, 'slagle': 16164, 'liedtke': 16165, 'wrestles': 16166, 'auditorium': 16167, 'uppercut': 16168, 'crippled': 16169, 'pleading': 16170, 'battens': 16171, 'hatches': 16172, 'erosion': 16173, '321': 16174, 'salter': 16175, 'yuri': 16176, 'kageyama': 16177, 'dimensional': 16178, 'enriching': 16179, 'nettlesome': 16180, 'miron': 16181, 'varouhakis': 16182, 'acacia': 16183, 'bolt': 16184, 'grehan': 16185, 'seo': 16186, 'bookmarks': 16187, 'searchable': 16188, 'cache': 16189, 'unwelcome': 16190, 'toolbar': 16191, 'tasked': 16192, 'etailers': 16193, 'contextual': 16194, 'wishing': 16195, 'penalized': 16196, 'techdirt': 16197, 'brewster': 16198, 'tidbit': 16199, 'donate': 16200, 'unauthorised': 16201, 'binary': 16202, 'baseline': 16203, 'tunneling': 16204, 'legitimately': 16205, 'mitigate': 16206, 'articles': 16207, 'ietf': 16208, 'panacea': 16209, 'naysayers': 16210, 'minnesot': 16211, 'animating': 16212, 'cinematics': 16213, 'promo': 16214, 'analyzing': 16215, 'japanconsuming': 16216, 'deft': 16217, 'function': 16218, 'vuitton': 16219, 'productions': 16220, 'cytometry': 16221, 'roederer': 16222, 'treister': 16223, 'flowjo': 16224, 'microscopes': 16225, 'ramped': 16226, 'augmented': 16227, 'namm': 16228, 'nashville': 16229, 'jul': 16230, 'awaken': 16231, 'hafner': 16232, 'hartman': 16233, '603': 16234, 'klara': 16235, 'koukalova': 16236, 'rib': 16237, 'immensity': 16238, 'wrangle': 16239, 'enraged': 16240, 'latasha': 16241, 'julio': 16242, 'backstage': 16243, 'raucous': 16244, 'bails': 16245, 'bungled': 16246, 'audition': 16247, 'reveled': 16248, 'slapping': 16249, 'fens': 16250, 'toddle': 16251, 'emerald': 16252, 'curtis': 16253, 'rejoining': 16254, 'rehabbing': 16255, 'caravan': 16256, 'raef': 16257, 'ymca': 16258, 'bluffs': 16259, 'bunkers': 16260, 'throwbacks': 16261, 'mvp': 16262, 'uhf': 16263, 'originals': 16264, 'sleeved': 16265, 'smudged': 16266, 'salvaging': 16267, 'oceanport': 16268, 'decathalon': 16269, 'monmouth': 16270, '1979': 16271, 'ambivalence': 16272, 'gardening': 16273, 'pars': 16274, 'overtaking': 16275, 'everythings': 16276, 'timesheets': 16277, 'seventeenth': 16278, 'symonds': 16279, 'kasay': 16280, 'mashiska': 16281, 'malivai': 16282, 'drizzle': 16283, 'brandy': 16284, 'batboy': 16285, 'newmarch': 16286, 'halliday': 16287, 'dispatch': 16288, 'disperse': 16289, \"didn't\": 16290, 'shelling': 16291, 'distract': 16292, '59th': 16293, 'stresses': 16294, 'reevaluation': 16295, 'miresmaili': 16296, 'raping': 16297, 'schoolgirl': 16298, 'partisans': 16299, 'polarized': 16300, 'buffet': 16301, 'lamenting': 16302, 'deckers': 16303, 'supplant': 16304, 'wedged': 16305, 'jacket': 16306, 'raincoat': 16307, 'holborn': 16308, 'bustling': 16309, 'sasebo': 16310, 'cloudless': 16311, 'lunchroom': 16312, 'elementary': 16313, 'froze': 16314, 'grader': 16315, 'lighthearted': 16316, 'gravely': 16317, 'dispelled': 16318, 'uttering': 16319, 'proclaims': 16320, 'sarajevo': 16321, 'herzegovina': 16322, 'compounds': 16323, 'prejudice': 16324, 'jin': 16325, 'recordings': 16326, 'outlawed': 16327, 'khagen': 16328, 'orem': 16329, 'slept': 16330, 'wheelchairs': 16331, 'together': 16332, 'others': 16333, 'eel': 16334, 'collapsing': 16335, 'poacher': 16336, 'mugged': 16337, 'willem': 16338, 'dekker': 16339, 'eels': 16340, 'nano': 16341, 'naivete': 16342, 'reliant': 16343, 'intensification': 16344, 'needy': 16345, 'neediest': 16346, 'acasuso': 16347, 'yorker': 16348, 'quarterfinalists': 16349, 'lesage': 16350, 'flanagan': 16351, 'pacesetter': 16352, 'interfering': 16353, 'where': 16354, 'clang': 16355, 'panana': 16356, 'boarded': 16357, 'tapping': 16358, 'naming': 16359, 'pows': 16360, 'rebranded': 16361, 'vaduz': 16362, 'ushered': 16363, 'principality': 16364, 'launderers': 16365, 'liberated': 16366, 'gigs': 16367, 'surveys': 16368, '200m': 16369, 'encountering': 16370, 'permalink': 16371, \"'baba\": 16372, 'ganoush': 16373, 'tabouli': 16374, 'chromatin': 16375, 'daniela': 16376, 'sofronie': 16377, 'athleticism': 16378, 'sermon': 16379, 'openers': 16380, 'melinda': 16381, 'czink': 16382, 'flavio': 16383, 'saretta': 16384, 'swatting': 16385, 'aces': 16386, 'daryl': 16387, 'southland': 16388, 'impromptu': 16389, 'puzzles': 16390, 'fervent': 16391, 'luckily': 16392, 'prosecuted': 16393, 'th': 16394, 'newhan': 16395, 'singling': 16396, 'dislocating': 16397, 'booths': 16398, 'smacks': 16399, 'fullback': 16400, 'sprain': 16401, 'hemlock': 16402, 'bitterly': 16403, 'hemlocks': 16404, 'usta': 16405, 'scoville': 16406, '18s': 16407, 'damion': 16408, 'easley': 16409, 'assumes': 16410, 'serbian': 16411, 'detonations': 16412, 'contributors': 16413, 'flesch': 16414, 'steiner': 16415, 'inexact': 16416, 'blanket': 16417, 'lambs': 16418, 'blah': 16419, 'kendrick': 16420, 'precedence': 16421, 'friendships': 16422, 'sprains': 16423, 'recuperation': 16424, 'isles': 16425, 'grenada': 16426, 'roofs': 16427, 'shelters': 16428, 'outplayed': 16429, 'uaw': 16430, 'clc1': 16431, 'bazarak': 16432, 'panjshir': 16433, 'rahmal': 16434, 'beg': 16435, 'morose': 16436, 'muddling': 16437, 'excessive': 16438, 'untoward': 16439, 'eruptions': 16440, 'pervaded': 16441, 'outline': 16442, 'hum': 16443, 'schuerholz': 16444, 'shuffled': 16445, 'exiled': 16446, 'dynamically': 16447, 'morphing': 16448, 'defers': 16449, 'spurn': 16450, 'peacebroker': 16451, 'jumpstart': 16452, 'souls': 16453, 'quarantined': 16454, 'mth': 16455, 'clouding': 16456, 'salesmen': 16457, 'beaming': 16458, 'fairway': 16459, 'emitted': 16460, 'chime': 16461, 'heraldic': 16462, 'swish': 16463, 'raisers': 16464, 'inhibitex': 16465, 'academics': 16466, 'manuel': 16467, 'llinas': 16468, 'genome': 16469, 'parasite': 16470, 'convincingly': 16471, 'tapper': 16472, 'futile': 16473, 'bouwmeester': 16474, 'laynce': 16475, 'nix': 16476, 'appendix': 16477, 'dandy': 16478, 'homosexual': 16479, 'gaulle': 16480, 'tightly': 16481, 'again': 16482, 'clergy': 16483, 'ubiquitous': 16484, 'byzantine': 16485, 'manu': 16486, 'fellows': 16487, 'watkins': 16488, 'glide': 16489, 'descended': 16490, 'whizzed': 16491, 'croatian': 16492, 'frano': 16493, 'vican': 16494, '100ths': 16495, 'haunting': 16496, 'berto': 16497, 'welterweight': 16498, 'hans': 16499, 'garden': 16500, 'carrasquero': 16501, 'assest': 16502, 'sighting': 16503, 'cutty': 16504, 'sark': 16505, 'supportive': 16506, 'vacancy': 16507, 'levelled': 16508, 'ipatch': 16509, 'ensures': 16510, 'businesss': 16511, 'reincarnation': 16512, 'warmly': 16513, 'mclean': 16514, 'inmate': 16515, 'vcjd': 16516, 'clinging': 16517, 'cyberscofflaws': 16518, 'declan': 16519, 'mccullagh': 16520, 'gmb': 16521, 'staggers': 16522, 'fittest': 16523, 'convergence': 16524, 'apathy': 16525, 'multipurpose': 16526, 'tames': 16527, 'dementieva': 16528, 'duct': 16529, 'greetings': 16530, 'manslaughter': 16531, 'alphaserver': 16532, 'risc': 16533, '9000': 16534, 'socialite': 16535, 'beau': 16536, 'costliest': 16537, 'grumbling': 16538, 'cremate': 16539, 'cremated': 16540, 'alternatively': 16541, 'reschedule': 16542, 'appeasing': 16543, 'amusement': 16544, 'tallying': 16545, 'since': 16546, '909': 16547, 'toc': 16548, 'cons': 16549, 'beastie': 16550, 'exists': 16551, 'modeling': 16552, 'crabs': 16553, 'alphaservers': 16554, 'aphrodite': 16555, 'yvette': 16556, 'jarvis': 16557, 'councilwoman': 16558, 'uncivil': 16559, 'guitars': 16560, 'misdeeds': 16561, 'chuckled': 16562, 'tabloids': 16563, 'tchaikovsky': 16564, 'excise': 16565, 'shorter': 16566, 'dalton': 16567, 'bordering': 16568, 'smarting': 16569, 'cubicle': 16570, 'daimler': 16571, 'remnant': 16572, 'carmaking': 16573, 'citron': 16574, 'fuse': 16575, 'bose': 16576, 'sponsor': 16577, 'telkom': 16578, 'cantat': 16579, 'bombmaker': 16580, 'adwatch': 16581, 'karate': 16582, 'chopped': 16583, 'erratic': 16584, 'wreaked': 16585, 'schwab': 16586, 'roadmaps': 16587, 'defections': 16588, 'demonstrate': 16589, 'neutrality': 16590, 'hardens': 16591, 'disables': 16592, 'modifies': 16593, 'headhunts': 16594, 'plurality': 16595, 'philosophers': 16596, 'foresight': 16597, 'coexist': 16598, 'habitable': 16599, 'toymakers': 16600, 'mattel': 16601, 'hasbro': 16602, 'lehman': 16603, 'powerpoint': 16604, 'detecting': 16605, 'chronology': 16606, 'lakers': 16607, 'spare': 16608, 'newlywed': 16609, 'chanel': 16610, 'realign': 16611, 'ergonomically': 16612, 'broadens': 16613, 'preferences': 16614, 'differently': 16615, 'disability': 16616, 'chefs': 16617, 'waiter': 16618, 'tableside': 16619, 'cozy': 16620, 'stained': 16621, 'reciting': 16622, 'recounts': 16623, 'tosses': 16624, 'morsel': 16625, 'chef': 16626, 'ogden': 16627, 'gentile': 16628, 'depends': 16629, 'burnosky': 16630, 'wussy': 16631, 'defected': 16632, 'wiretaps': 16633, 'toothaker': 16634, 'thumbprint': 16635, 'fitfully': 16636, 'pepsi': 16637, 'newsstand': 16638, \"'s\": 16639, 'shhite': 16640, 'hilzenrath': 16641, 'flagg': 16642, 'sweetest': 16643, 'ibf': 16644, \"state's\": 16645, 'umpires': 16646, 'yawer': 16647, 'kurd': 16648, 'kurdish': 16649, 'neglected': 16650, 'pipe': 16651, 'unchecked': 16652, 'infantry': 16653, 'lakebed': 16654, 'diagnostic': 16655, 'propels': 16656, 'worthless': 16657, 'aiko': 16658, 'hayashi': 16659, 'legalize': 16660, 'waging': 16661, 'kerr': 16662, 'spinal': 16663, 'reacquire': 16664, 'vaclav': 16665, 'cory': 16666, 'stillman': 16667, 'linuxtimed': 16668, 'coincide': 16669, 'marketed': 16670, 'v2': 16671, 'stringently': 16672, 'designation': 16673, 'clustering': 16674, 'zenworks': 16675, 'autobuild': 16676, '349': 16677, 'ditching': 16678, 'earphones': 16679, 'altec': 16680, 'lansing': 16681, 'inmotion': 16682, 'chameleon': 16683, 'joey': 16684, 'bulger': 16685, 'imprisoning': 16686, 'ploy': 16687, 'mcarthur': 16688, 'disparity': 16689, 'endorses': 16690, 'deflating': 16691, 'booth': 16692, 'intro': 16693, 'shapes': 16694, 'peered': 16695, 'upstaged': 16696, 'wreak': 16697, 'caravans': 16698, 'donsanjh': 16699, 'nixing': 16700, 'refine': 16701, 'ujjal': 16702, 'dosanjh': 16703, 'saskatchewan': 16704, 'sheds': 16705, 'sidebar': 16706, 'nuts': 16707, 'bolts': 16708, 'guids': 16709, 'uttered': 16710, 'tome': 16711, 'dobras': 16712, 'kwacha': 16713, 'if': 16714, 'unappreciated': 16715, 'emulating': 16716, 'turnouts': 16717, 'roasting': 16718, 'rejoins': 16719, 'rejoined': 16720, 'aristide': 16721, 'wheaties': 16722, 'grandmas': 16723, 'instruct': 16724, 'irate': 16725, 'entrant': 16726, 'rocketeers': 16727, 'compartment': 16728, 'drifted': 16729, 'totally': 16730, 'sheerin': 16731, 'arrows': 16732, 'misfires': 16733, 'inflaming': 16734, 'bravado': 16735, 'scsi': 16736, 'pottharst': 16737, 'rooftops': 16738, 'lifeboats': 16739, 'tipoff': 16740, 'ecologists': 16741, 'roofless': 16742, 'condos': 16743, 'sweated': 16744, 'sigi': 16745, 'schmid': 16746, 'spamming': 16747, 'scripted': 16748, 'costumed': 16749, 'edited': 16750, 'vigorously': 16751, 'brandl': 16752, 'comedic': 16753, 'adventure': 16754, 'soundtrack': 16755, 'spandex': 16756, '935': 16757, '697': 16758, '238': 16759, 'liftoff': 16760, 'phishers': 16761, 'tabs': 16762, 'scoops': 16763, 'counterfeit': 16764, 'combating': 16765, 'baptized': 16766, 'basing': 16767, 'shards': 16768, 'jugs': 16769, 'diploma': 16770, 'burke': 16771, 'peerage': 16772, 'garners': 16773, 'robb': 16774, 'wildcards': 16775, 'delist': 16776, 'sluiter': 16777, 'stylist': 16778, 'gion': 16779, 'tetsuo': 16780, 'ishihara': 16781, 'conscience': 16782, 'unemployed': 16783, 'staid': 16784, 'sly': 16785, 'redskin': 16786, 'minicamp': 16787, 'qbs': 16788, 'buccaneers': 16789, 'wording': 16790, 'tannehill': 16791, 'profiling': 16792, 'starwood': 16793, 'rangebound': 16794, 'clawed': 16795, 'warden': 16796, 'stalls': 16797, 'devises': 16798, 'sackings': 16799, 'frantic': 16800, 'arbitrary': 16801, 'gugliotta': 16802, 'ledee': 16803, 'geic': 16804, 'geico': 16805, 'festooned': 16806, 'susceptible': 16807, 'breaches': 16808, 'correction': 16809, 'incorrectly': 16810, 'minimal': 16811, 'overlap': 16812, 'winston': 16813, 'uil': 16814, 'pivot': 16815, 'fielding': 16816, 'balls': 16817, 'tagged': 16818, 'nomadic': 16819, 'profession': 16820, 'twang': 16821, 'inflected': 16822, 'tinges': 16823, 'waitin': 16824, 'wishful': 16825, 'confiscating': 16826, 'communists': 16827, 'do': 16828, 'cruncher': 16829, 'easymobile': 16830, 'easyjet': 16831, 'stelios': 16832, 'haji': 16833, 'visa': 16834, 'grande': 16835, 'depressed': 16836, 'masako': 16837, 'seclusion': 16838, 'bracket': 16839, 'condon': 16840, 'wills': 16841, 'decertified': 16842, 'scratcher': 16843, 'unam': 16844, 'pumas': 16845, 'tecos': 16846, 'wlll': 16847, 'ceremoniously': 16848, 'predictably': 16849, 'camden': 16850, 'holman': 16851, 'mccoy': 16852, 'daryle': 16853, 'fedora': 16854, 'bookshop': 16855, 'mx': 16856, 'unifi': 16857, 'absorbed': 16858, 'amicus': 16859, 'prescribe': 16860, 'holistic': 16861, 'swallow': 16862, 'outpouring': 16863, 'pocket': 16864, 'benazir': 16865, 'mustelid': 16866, 'treason': 16867, 'flashy': 16868, 'gowns': 16869, 'gown': 16870, 'drafty': 16871, 'wargames': 16872, 'spines': 16873, 'mecca': 16874, 'cupid': 16875, 'thee': 16876, 'os2': 16877, 'brentwood': 16878, 'confidents': 16879, 'damper': 16880, 'continuation': 16881, 'nascent': 16882, 'brittany': 16883, 'dom': 16884, 'triplets': 16885, 'quadruplets': 16886, 'consult': 16887, 'lieutenant': 16888, 'dostam': 16889, 'registering': 16890, 'cores': 16891, 'greenland': 16892, 'ferret': 16893, 'springfield': 16894, 'grunting': 16895, 'groaning': 16896, 'sks': 16897, 'zalmay': 16898, 'khalilzad': 16899, 'butterflies': 16900, 'fluttering': 16901, 'comb': 16902, 'gypsy': 16903, 'moths': 16904, 'leaf': 16905, 'defoliation': 16906, 'forestry': 16907, 'unwrapping': 16908, 'flabergasted': 16909, 'ruin': 16910, 'hothouse': 16911, 'spaceprobes': 16912, 'extremes': 16913, 'venusian': 16914, 'summertime': 16915, 'lime': 16916, 'swinging': 16917, 'phaithful': 16918, 'phlock': 16919, 'phinish': 16920, 'swarmed': 16921, 'attraction': 16922, 'brandenburg': 16923, 'dominguez': 16924, 'payload': 16925, 'jernigan': 16926, 'katharine': 16927, 'webster': 16928, 'entirety': 16929, 'infamous': 16930, 'bithoor': 16931, 'researchbuzz': 16932, 'algorithmic': 16933, 'digesting': 16934, 'sucker': 16935, 'protester': 16936, 'doorstep': 16937, 'eventers': 16938, 'cravings': 16939, 'craving': 16940, 'homeowners': 16941, 'landings': 16942, 'hotline': 16943, 'seventies': 16944, 'oft': 16945, 'barclay': 16946, 'capitamall': 16947, 'outperform': 16948, 'rental': 16949, 'reflective': 16950, 'patterned': 16951, 'microdisplay': 16952, 'afx': 16953, 'carlisle': 16954, 'specializes': 16955, 'dsir': 16956, 'url': 16957, 'ntc': 16958, '04sg1': 16959, 'ajc': 16960, '0804': 16961, '17whales': 16962, \"html'\": 16963, 'longing': 16964, 'bachelor': 16965, 'fag': 16966, 'utopian': 16967, 'flogging': 16968, 'rendezvous': 16969, 'reselling': 16970, 'seawater': 16971, 'lux': 16972, 'guestbooks': 16973, 'trickled': 16974, 'tathiana': 16975, 'garbin': 16976, 'drummed': 16977, 'mercilessly': 16978, 'unaccounted': 16979, 'pleasant': 16980, 'smuggled': 16981, 'wooden': 16982, 'perish': 16983, 'flak': 16984, 'sociological': 16985, 'derive': 16986, 'spouse': 16987, 'dearborn': 16988, 'yearseach': 16989, 'ussr': 16990, 'cadwallader': 16991, 'possession': 16992, 'kicking': 16993, 'counterattacking': 16994, 'frustrations': 16995, 'dain': 16996, 'blanton': 16997, 'freshly': 16998, 'viktoria': 16999, 'trawler': 17000, 'mullaitivu': 17001, 'interceding': 17002, 'legislator': 17003, 'guangdong': 17004, 'prevented': 17005, 'megastar': 17006, 'amitabh': 17007, 'wracking': 17008, 'vlt': 17009, 'wedgies': 17010, 'palms': 17011, 'bureaucrat': 17012, 'shipper': 17013, 'guarantee': 17014, 'clearest': 17015, 'outweigh': 17016, 'onesteel': 17017, 'boral': 17018, 'biodiversity': 17019, 'intl': 17020, 'gallirallus': 17021, 'calayaensis': 17022, 'archipelago': 17023, 'congratulates': 17024, 'congratulated': 17025, 'loosehead': 17026, 'hampering': 17027, 'concentrate': 17028, 'throughput': 17029, 'gontyuk': 17030, 'abrasive': 17031, 'flanker': 17032, 'apprehension': 17033, 'muhammad': 17034, 'naeem': 17035, 'noor': 17036, 'homebuilders': 17037, '978': 17038, 'crosshairs': 17039, 'optimise': 17040, 'sthrough': 17041, 'slovenia': 17042, 'katarina': 17043, 'srebotnik': 17044, 'prague': 17045, 'rfe': 17046, 'rl': 17047, 'cheery': 17048, 'undercuts': 17049, 'lambasts': 17050, 'tsx': 17051, 'geoffrey': 17052, 'unfathomable': 17053, 'careless': 17054, 'suvs': 17055, 'lnm': 17056, 'lakshmi': 17057, 'bosnian': 17058, '280': 17059, 'realnetwork': 17060, 'rile': 17061, 'wa': 17062, 'wildly': 17063, 'obsession': 17064, 'issuers': 17065, 'reimburse': 17066, 'continuously': 17067, 'sentiments': 17068, 'pounding': 17069, 'communique': 17070, 'rankled': 17071, 'warplane': 17072, 'unforced': 17073, 'dulles': 17074, 'lp': 17075, 'hiptop': 17076, 'nucleus': 17077, 'blimp': 17078, 'demoted': 17079, 'lofted': 17080, 'aquino': 17081, 'confiscated': 17082, 'livni': 17083, 'incursion': 17084, 'yana': 17085, 'medleys': 17086, 'comps': 17087, 'unattended': 17088, 'shack': 17089, 'morgue': 17090, 'hagen': 17091, 'adamant': 17092, 'teresa': 17093, 'gq': 17094, 'rocketed': 17095, 'detective': 17096, 'hite': 17097, 'westchester': 17098, 'jeanine': 17099, 'pirro': 17100, 'supervisor': 17101, '212': 17102, '621': 17103, '1630': 17104, 'reruns': 17105, 'agate': 17106, 'yourap': 17107, '838': 17108, '4616': 17109, 'outrages': 17110, 'aftershock': 17111, 'irritated': 17112, 'nikolaos': 17113, 'siranidis': 17114, 'bimis': 17115, 'transparent': 17116, 'sternly': 17117, 'longwell': 17118, 'ahman': 17119, 'facemask': 17120, 'vcard': 17121, 'derrick': 17122, 'township': 17123, 'perfectionist': 17124, 'rajyvardhan': 17125, 'shooters': 17126, 'authorizes': 17127, 'authorized': 17128, 'koepf': 17129, 'displeasure': 17130, 'clapping': 17131, 'sported': 17132, 'berets': 17133, 'adorned': 17134, 'badges': 17135, 'cardinal': 17136, 'farewells': 17137, 'similarities': 17138, 'elation': 17139, 'woodshed': 17140, 'soho': 17141, 'sasser': 17142, 'grasping': 17143, 'sander': 17144, 'empted': 17145, 'rw': 17146, 'glendale': 17147, 'exemption': 17148, 'exempted': 17149, 'exploitation': 17150, 'cu': 17151, 'stalinist': 17152, 'nonprofits': 17153, 'birding': 17154, 'photographic': 17155, 'rapture': 17156, 'birdman': 17157, 'belair': 17158, 'mathew': 17159, 'tekulsky': 17160, 'waxes': 17161, 'serendipitous': 17162, 'snakes': 17163, 'snake': 17164, 'venomous': 17165, 'guano': 17166, 'seabird': 17167, 'excrement': 17168, 'jackass': 17169, 'spider': 17170, 'funneled': 17171, 'profited': 17172, 'conserving': 17173, 'paradoxically': 17174, 'wilderness': 17175, 'frowned': 17176, 'madagascar': 17177, 'locals': 17178, 'vibrations': 17179, 'thornbugs': 17180, 'vibrating': 17181, 'phobia': 17182, 'rooted': 17183, 'viking': 17184, 'supper': 17185, 'lingers': 17186, 'infusing': 17187, 'sciencenasa': 17188, 'grugel': 17189, '3700': 17190, 'eagan': 17191, 'solicitations': 17192, 'symc': 17193, 'eradicated': 17194, 'exterminating': 17195, 'poolcrasher': 17196, 'matsuzaka': 17197, 'corte': 17198, 'madera': 17199, 'moniker': 17200, 'submission': 17201, 'rvs': 17202, 'markopoulos': 17203, 'overrated': 17204, 'purist': 17205, 'bskyb': 17206, 'talked': 17207, '256': 17208, 'evolocity': 17209, 'weber': 17210, 'agonize': 17211, 'ilife': 17212, 'iphoto': 17213, 'imovie': 17214, 'panning': 17215, 'zooming': 17216, 'finalize': 17217, 'discriminate': 17218, '527': 17219, 'commenced': 17220, 'recapitalization': 17221, 'marginal': 17222, 'stools': 17223, 'freshwater': 17224, 'insuring': 17225, 'honduran': 17226, 'hassles': 17227, 'commuters': 17228, 'fad': 17229, 'visor': 17230, 'headgear': 17231, 'registrar': 17232, 'admin': 17233, 'signup': 17234, 'ui': 17235, 'cached': 17236, 'rearing': 17237, 'demographers': 17238, 'reference': 17239, 'berkshire': 17240, 'lomax': 17241, 'pir': 17242, 'ilm': 17243, 'acl': 17244, 'slovakia': 17245, 'rita': 17246, 'weston': 17247, 'huddled': 17248, 'mattress': 17249, 'northwood': 17250, 'luzon': 17251, 'unwraps': 17252, 'placers': 17253, 'gymnasticsteam': 17254, '173': 17255, '821': 17256, 'geogia': 17257, 'versatility': 17258, 'ghz': 17259, 'hyperthreading': 17260, 'retention': 17261, 'presenters': 17262, 'dimitris': 17263, 'pipanikoulaou': 17264, 'dodo': 17265, 'unobstructed': 17266, 'fools': 17267, 'unifying': 17268, 'bridging': 17269, 'transcending': 17270, 'harmonious': 17271, 'yelled': 17272, 'byu': 17273, 'bogeys': 17274, '775': 17275, 'hinting': 17276, 'hardline': 17277, 'unworkable': 17278, 'aung': 17279, \"isn't\": 17280, 'centerfold': 17281, 'slaughtered': 17282, 'lpg': 17283, 'liquified': 17284, 'moorhen': 17285, 'visualization': 17286, 'compuserve': 17287, 'palmos': 17288, 'ong': 17289, 'whetted': 17290, 'appetites': 17291, 'salvages': 17292, 'kellen': 17293, 'toning': 17294, 'comedy': 17295, 'comedian': 17296, 'neal': 17297, 'conan': 17298, 'withholds': 17299, 'initiate': 17300, 'breezy': 17301, '74th': 17302, 'hasten': 17303, 'myriad': 17304, 'bundles': 17305, 'impede': 17306, 'evaded': 17307, 'scratches': 17308, 'termite': 17309, 'inspirational': 17310, 'rattlesnake': 17311, 'exterminator': 17312, 'saviour': 17313, 'irrigation': 17314, 'mosquitoes': 17315, '290': 17316, 'babwin': 17317, 'sayre': 17318, 'interdicting': 17319, 'broadway': 17320, '943': 17321, 'powerhouses': 17322, 'charming': 17323, 'jostled': 17324, 'forth': 17325, 'listless': 17326, 'ntap': 17327, 'recasts': 17328, 'byline': 17329, 'adeveloper': 17330, '033': 17331, 'cliffhanger': 17332, 'faulds': 17333, 'scintilla': 17334, 'materialises': 17335, 'bloodstock': 17336, 'fulfils': 17337, 'fortnight': 17338, 'invidual': 17339, 'hiking': 17340, 'dogs': 17341, 'leash': 17342, 'gruden': 17343, 'chummy': 17344, 'sampled': 17345, 'globally': 17346, '20mhz': 17347, 'lavrov': 17348, 'ereli': 17349, 'deploys': 17350, 'vindigo': 17351, 'maps': 17352, 'towson': 17353, 'anthropologist': 17354, 'camped': 17355, 'metropolis': 17356, 'peruvian': 17357, 'steering': 17358, 'diamondmax': 17359, 'adequate': 17360, 'vied': 17361, '139': 17362, 'revise': 17363, 'commissioners': 17364, 'liquidate': 17365, 'manag': 17366, 'ers': 17367, 'steller': 17368, 'eiders': 17369, 'teamwork': 17370, 'gran': 17371, 'hatteberg': 17372, 'dodging': 17373, 'exhale': 17374, 'saluted': 17375, 'cedric': 17376, 'rested': 17377, 'gosh': 17378, 'ornithologists': 17379, 'distinctive': 17380, 'hopeless': 17381, 'organise': 17382, 'abkhazia': 17383, 'allegro': 17384, 'roberts': 17385, 'shutter': 17386, 'overcapacity': 17387, 'selflessly': 17388, 'rightful': 17389, 'comity': 17390, 'handcuffs': 17391, 'slogs': 17392, 'capitals': 17393, 'reciever': 17394, 'redevelop': 17395, 'circled': 17396, '65bn': 17397, '45bn': 17398, 'plausible': 17399, 'unparalleled': 17400, 'empstead': 17401, 'banter': 17402, 'jerricho': 17403, 'cotchery': 17404, 'hauls': 17405, 'ajaf': 17406, 'falah': 17407, 'dosari': 17408, 'frets': 17409, 'lungs': 17410, 'erasing': 17411, 'nissan': 17412, 'outfought': 17413, 'outscored': 17414, 'happied': 17415, 'hurler': 17416, 'unconditional': 17417, 'waivers': 17418, 'righthanded': 17419, 'inneapolis': 17420, 'jobe': 17421, 'orthopedic': 17422, 'mckenry': 17423, 'fy04': 17424, 'generator': 17425, 'phy': 17426, 'buckets': 17427, 'sauce': 17428, 'tubs': 17429, '35th': 17430, 'marxist': 17431, 'endangering': 17432, 'jodel': 17433, 'chamblain': 17434, 'backtracks': 17435, 'cubic': 17436, 'litres': 17437, 'squander': 17438, 'ameriquest': 17439, 'lacassie': 17440, 'ayed': 17441, 'outerbay': 17442, 'buckle': 17443, 'flourished': 17444, 'benefactor': 17445, 'industrialist': 17446, 'philanthropist': 17447, 'cummins': 17448, 'ballad': 17449, 'exudes': 17450, 'hasher': 17451, 'invariably': 17452, 'conjunctivitis': 17453, 'viewership': 17454, 'burner': 17455, 'strongman': 17456, 'r66': 17457, 'paws': 17458, 'coasted': 17459, 'advertiser': 17460, 'mutually': 17461, 'beneficial': 17462, 'kaftanzoglio': 17463, 'prosaic': 17464, 'bathing': 17465, 'rituals': 17466, 'suv': 17467, 'flattening': 17468, 'trustee': 17469, 'overseer': 17470, 'ternet': 17471, 'motivator': 17472, 'itss': 17473, 'kauffman': 17474, 'dismay': 17475, 'engages': 17476, 'breathed': 17477, 'dwarfed': 17478, 'pippa': 17479, 'funnell': 17480, 'luk': 17481, 'plumage': 17482, 'beak': 17483, 'oliveros': 17484, 'taunting': 17485, 'refrain': 17486, 'ancients': 17487, 'pained': 17488, 'poisoned': 17489, 'melvin': 17490, 'tx': 17491, 'erickson': 17492, 'miscues': 17493, 'inconsequential': 17494, 'sloppiness': 17495, 'sheer': 17496, 'undercut': 17497, 'trudged': 17498, 'autograph': 17499, 'diagnosed': 17500, 'waged': 17501, 'primeval': 17502, 'millennia': 17503, 'twitchers': 17504, 'ff': 17505, 'camino': 17506, 'meleon': 17507, 'deficiencies': 17508, 'incorporates': 17509, 'transflective': 17510, 'affirmed': 17511, 'dartmouth': 17512, 'forehead': 17513, 'arrayed': 17514, 'lacklustre': 17515, 'assign': 17516, 'forensic': 17517, 'accountants': 17518, 'lid': 17519, 'bonnet': 17520, 'megapatch': 17521, 'georgians': 17522, 'trys': 17523, 'dwain': 17524, 'playbooks': 17525, 'whip': 17526, 'secular': 17527, 'diagnose': 17528, 'defects': 17529, 'rustavi': 17530, 'unnamed': 17531, 'hovering': 17532, 'accredit': 17533, 'healers': 17534, 'subsiding': 17535, 'issaquah': 17536, 'overlooks': 17537, 'reams': 17538, 'unsafe': 17539, 'uncharacteristically': 17540, 'olym': 17541, 'pics': 17542, 'conneally': 17543, 'swiped': 17544, 'unequal': 17545, '484': 17546, 'magellan': 17547, 'changers': 17548, 'revolves': 17549, 'morphed': 17550, 'vintage': 17551, '370': 17552, 'pokey': 17553, 'earthwind': 17554, 'minutemen': 17555, 'lbs': 17556, 'preference': 17557, 'linebackers': 17558, 'practically': 17559, 'necessity': 17560, 'lads': 17561, '84th': 17562, 'uighur': 17563, 'uighurs': 17564, 'keen': 17565, 'retried': 17566, 'hijacker': 17567, 'atta': 17568, 'gulfs': 17569, 'emboldened': 17570, 'rifts': 17571, 'mended': 17572, 'deployments': 17573, 'reignite': 17574, \"'most\": 17575, 'residency': 17576, 'ronnie': 17577, 'bereaved': 17578, 'rearranged': 17579, 'wielding': 17580, 'belles': 17581, 'fairy': 17582, 'dethroning': 17583, 'levity': 17584, 'pranksters': 17585, 'citya': 17586, 'squaddie': 17587, 'furor': 17588, 'colony': 17589, 'yank': 17590, 'dhabi': 17591, 'wam': 17592, 'hashar': 17593, 'pinnacle': 17594, 'phenom': 17595, 'iban': 17596, 'hebei': 17597, 'adverts': 17598, 'programmed': 17599, 'varazdates': 17600, 'zopyros': 17601, 'pankration': 17602, 'culminate': 17603, 'coronation': 17604, 'gyms': 17605, 'sumer': 17606, 'oozes': 17607, 'dadu': 17608, 'qa': 17609, 'possessing': 17610, 'lees': 17611, 'submitting': 17612, 'bukavu': 17613, 'nylander': 17614, 'swath': 17615, 'freeipods': 17616, 'phony': 17617, 'baghad': 17618, 'nagdhunga': 17619, 'arousing': 17620, 'superstition': 17621, 'ua': 17622, 'impurity': 17623, 'fertile': 17624, 'peloponnesus': 17625, 'kagawa': 17626, 'ehime': 17627, 'prefectures': 17628, 'meteorological': 17629, 'syncs': 17630, '200metres': 17631, 'immortality': 17632, 'eons': 17633, 'excavated': 17634, 'abortive': 17635, 'vinyl': 17636, 'logistic': 17637, 'centralises': 17638, 'emulation': 17639, 'desir': 17640, 'heaston': 17641, 'abolished': 17642, '393': 17643, '1949': 17644, 'faint': 17645, 'ump': 17646, 'spitter': 17647, 'severely': 17648, 'facial': 17649, 'leo': 17650, 'pondside': 17651, 'condominium': 17652, 'spared': 17653, 'knox': 17654, 'mangieri': 17655, 'maytag': 17656, 'refrigeration': 17657, 'lettuce': 17658, 'tomatoes': 17659, 'mangoes': 17660, 'coconuts': 17661, 'untreated': 17662, 'gushing': 17663, 'fringes': 17664, 'adored': 17665, 'totalitarian': 17666, 'paralyzes': 17667, 'paralyzed': 17668, 'scoffed': 17669, 'enlightenment': 17670, 'bkst': 17671, 'garda': 17672, 'dublin': 17673, 'tlb': 17674, 'parameters': 17675, '441': 17676, 'scratch': 17677, 'masterminded': 17678, 'corporal': 17679, 'incurred': 17680, 'savannah': 17681, 'toddler': 17682, 'uves': 17683, 'spectrometer': 17684, 'paranal': 17685, 'epoch': 17686, 'aquil': 17687, 'nuzum': 17688, 'scull': 17689, 'furiously': 17690, 'tnk': 17691, 'bp': 17692, 'cradle': 17693, 'groceries': 17694, 'caskets': 17695, 'asi': 17696, 'ossitian': 17697, 'presentacion': 17698, 'narrows': 17699, 'eurostat': 17700, 'deirdre': 17701, 'demet': 17702, 'karin': 17703, 'thuerig': 17704, 'tanzania': 17705, 'mon': 17706, 'herbicide': 17707, 'widescreen': 17708, 'hash': 17709, 'slashdot': 17710, 'combo': 17711, 'fiction': 17712, 'spout': 17713, 'traits': 17714, 'rotational': 17715, 'outstrip': 17716, 'whopping': 17717, 'multifaceted': 17718, 'kijal': 17719, 'encroach': 17720, 'bela': 17721, 'karolyi': 17722, 'molded': 17723, 'comaneci': 17724, '1976': 17725, 'sparkle': 17726, 'bilking': 17727, 'companiessaw': 17728, 'thesecond': 17729, 'industryresearch': 17730, 'oogle': 17731, 'beefed': 17732, 'wavered': 17733, 'prospered': 17734, 'brash': 17735, 'synch': 17736, 'sharkskin': 17737, 'swimsuit': 17738, 'burglarized': 17739, 'tinkerbell': 17740, 'danforth': 17741, 'heisman': 17742, 'painkillers': 17743, 'alka': 17744, 'seltzer': 17745, 'hangover': 17746, 'insatiable': 17747, 'swirls': 17748, 'chubb': 17749, 'narrowed': 17750, 'worthwhile': 17751, 'smartphone': 17752, 'resonate': 17753, 'icra': 17754, 'illustrated': 17755, 'punctuality': 17756, 'beautified': 17757, 'amaroneck': 17758, 'barden': 17759, 'reclusive': 17760, 'bertie': 17761, 'ahern': 17762, 'bumbling': 17763, 'selves': 17764, 'scant': 17765, 'searcher': 17766, 'severed': 17767, 'tuesdayissued': 17768, 'practical': 17769, 'crores': 17770, 'jash': 17771, 'contribution': 17772, 'us3': 17773, '38billion': 17774, '73billion': 17775, 'whopper': 17776, 'fairplay': 17777, 'ratchet': 17778, 'piggybacks': 17779, 'aligns': 17780, 'grecian': 17781, 'lovely': 17782, 'flakey': 17783, 'pastries': 17784, 'dyer': 17785, 'deluge': 17786, 'cramps': 17787, 'engagements': 17788, 'featureless': 17789, 'iscor': 17790, 'cougar': 17791, 'cougars': 17792, 'tractors': 17793, 'hoeing': 17794, 'endresshauser': 17795, 'candidancy': 17796, 'kadoura': 17797, 'lection': 17798, 'congratulations': 17799, 'hugely': 17800, 'womenswear': 17801, 'hingham': 17802, 'sta': 17803, 'borrows': 17804, 'inbound': 17805, 'quickscan': 17806, 'mm': 17807, 'a700': 17808, 'crowning': 17809, 'laurel': 17810, 'brow': 17811, 'singlet': 17812, 'paddles': 17813, 'balled': 17814, 'fists': 17815, 'shouts': 17816, 'pfannmller': 17817, 'hermann': 17818, 'maier': 17819, 'fightback': 17820, '1958': 17821, 'sane': 17822, 'hover': 17823, 'internetnews': 17824, 'lucie': 17825, 'defenses': 17826, 'enlists': 17827, 'jockeying': 17828, 'amf': 17829, 'earmarked': 17830, 'harshest': 17831, 'condemnation': 17832, 'refinery': 17833, 'impresses': 17834, 'peasants': 17835, 'yousif': 17836, 'russias': 17837, 'tdn': 17838, 'unmatched': 17839, 'heise': 17840, 'untrusted': 17841, '10yr': 17842, 'genevish': 17843, 'yuriy': 17844, 'virtue': 17845, 'daw': 17846, 'scaling': 17847, 'exhaustive': 17848, 'poweredge': 17849, '4600': 17850, '194': 17851, 'befuddling': 17852, 'zealots': 17853, 'viatcheslav': 17854, 'trespassing': 17855, 'disturbing': 17856, 'starkly': 17857, 'worsens': 17858, 'faa': 17859, 'orbits': 17860, 'entrusts': 17861, 'hoffa': 17862, 'alias': 17863, 'savaged': 17864, 'mastiff': 17865, 'carol': 17866, 'leeanne': 17867, 'caversham': 17868, 'spilled': 17869, 'mmc': 17870, 'fennell': 17871, 'gladstone': 17872, 'briskly': 17873, 'topic': 17874, 'ventured': 17875, 'jef': 17876, 'curry': 17877, 'milpitas': 17878, 'skirt': 17879, 'shuja': 17880, 'eya': 17881, 'sfr622': 17882, 'airdrops': 17883, 'airstrips': 17884, 'lavery': 17885, 'unloaded': 17886, 'rhat': 17887, 'sebl': 17888, 'novl': 17889, 'perking': 17890, 'sanguine': 17891, 'inaugurates': 17892, 'swahili': 17893, 'alcoholic': 17894, 'beverages': 17895, 'mildly': 17896, 'diedrich': 17897, 'installment': 17898, \"'n'\": 17899, 'graphically': 17900, 'emotionally': 17901, 'functionally': 17902, 'anticompetitive': 17903, 'wobbled': 17904, 'yler': 17905, 'piper': 17906, 'toughening': 17907, 'peacemaker': 17908, 'knobs': 17909, 'countback': 17910, 'olson': 17911, 'technological': 17912, 'etchings': 17913, 'furnace': 17914, 'davide': 17915, 'castelvecchi': 17916, 'astronomy': 17917, 'momentous': 17918, 'deciphering': 17919, 'flamed': 17920, 'brickbats': 17921, 'fabrication': 17922, 'manufacture': 17923, 'wuxi': 17924, 'inspecting': 17925, 'recycle': 17926, 'definite': 17927, 'subs': 17928, 'unimpressive': 17929, 'nfc': 17930, 'righty': 17931, 'ahmad': 17932, 'groh': 17933, 'violin': 17934, 'lyrics': 17935, 'demonstrating': 17936, 'perceptions': 17937, 'nightfall': 17938, 'zeitoun': 17939, 'overrule': 17940, 'unfurl': 17941, 'cacophonous': 17942, 'deteriorated': 17943, 'confronts': 17944, 'biological': 17945, 'chute': 17946, 'gilbert': 17947, 'misfortune': 17948, 'lasts': 17949, 'gazetted': 17950, 'virture': 17951, 'attach': 17952, 'asterisk': 17953, 'breaststrokes': 17954, 'hanson': 17955, 'ht': 17956, 'curling': 17957, 'neville': 17958, 'shovkovsky': 17959, 'berlusoni': 17960, 'definitions': 17961, 'dare': 17962, 'jns': 17963, 'diavik': 17964, 'zigbee': 17965, 'sprinkler': 17966, 'vacant': 17967, 'loosened': 17968, 'censured': 17969, 'deportees': 17970, '825': 17971, 'intros': 17972, 'plateau': 17973, 'instructing': 17974, 'cyberinfrastructure': 17975, 'gyurta': 17976, 'trademarked': 17977, 'keyterms': 17978, 'metaspinner': 17979, 'evaders': 17980, 'deposit': 17981, 'debtors': 17982, 'dotted': 17983, 'zim': 17984, 'zesn': 17985, 'eu1': 17986, 'autoritee': 17987, 'downsized': 17988, 'strengths': 17989, 'startups': 17990, 'colds': 17991, 'postponing': 17992, 'sunnetwork': 17993, 'gotchas': 17994, 'negotiation': 17995, 'jewell': 17996, 'powerbase': 17997, 'besieging': 17998, 'nativity': 17999, 'crosses': 18000, 'refineries': 18001, 'syno': 18002, 'bathed': 18003, 'unrelenting': 18004, 'boating': 18005, 'helper': 18006, 'beliefs': 18007, 'because': 18008, 'extermination': 18009, 'attends': 18010, 'sapped': 18011, 'deveop': 18012, 'subsystem': 18013, 'cupertino': 18014, 'centric': 18015, 'pacts': 18016, '4b': 18017, 'coyness': 18018, 'abia': 18019, 'ampco': 18020, 'bergstrom': 18021, 'folk': 18022, 'placings': 18023, 'shatter': 18024, 'lansdowne': 18025, 'crumbles': 18026, 'wedge': 18027, 'succumbed': 18028, 'cancellations': 18029, 'sake': 18030, 'mineta': 18031, 'tco': 18032, 'juergen': 18033, 'glasgow': 18034, 'szabolcs': 18035, 'huszti': 18036, 'newsview': 18037, 'suspiciously': 18038, 'attractively': 18039, 'toughen': 18040, 'analytical': 18041, 'pop3': 18042, 'imap': 18043, 'aris': 18044, 'funky': 18045, 'blameless': 18046, 'hustzi': 18047, 'unlucky': 18048, 'pressley': 18049, 'frustrating': 18050, 'undergo': 18051, '3m': 18052, 'transit': 18053, 'showings': 18054, 'burlington': 18055, 'interviewed': 18056, 'rv': 18057, 'lv': 18058, 'moe': 18059, 'volleyballers': 18060, 'trounce': 18061, '128th': 18062, '155': 18063, 'kigali': 18064, 'rawanda': 18065, 'wyo': 18066, 'drums': 18067, 'nws': 18068, 'domicile': 18069, 'tohmatsu': 18070, 'mismanagement': 18071, 'behold': 18072, 'newstrack': 18073, 'heaton': 18074, 'iceland': 18075, 'ambition': 18076, 'glossy': 18077, 'mainichi': 18078, 'shimbus': 18079, 'huskers': 18080, 'ronaldinho': 18081, 'cantered': 18082, 'shielding': 18083, 'downright': 18084, 'lackadaisical': 18085, 'cad': 18086, 'emachineshop': 18087, 'popped': 18088, 'inbox': 18089, 'elevated': 18090, 'governorship': 18091, 'bedevil': 18092, 'snaking': 18093, 'smartest': 18094, 'pupils': 18095, 'foley': 18096, 'financials': 18097, 'chill': 18098, 'talke': 18099, 'hatem': 18100, 'abdel': 18101, 'kader': 18102, 'dinars': 18103, 'ballyhooed': 18104, 'occur': 18105, 'incompatibility': 18106, 'overplayed': 18107, 'discredited': 18108, 'consigned': 18109, 'ommissioner': 18110, 'mea': 18111, 'culpa': 18112, 'rectify': 18113, 'upsurge': 18114, 'kostantinos': 18115, 'deservedly': 18116, 'hiroshi': 18117, 'izumi': 18118, 'lula': 18119, 'orwell': 18120, 'amallah': 18121, 'constituencies': 18122, 'machetes': 18123, 'somber': 18124, 'shameful': 18125, 'reverses': 18126, 'kohut': 18127, 'claude': 18128, 'trichet': 18129, 'currencys': 18130, 'prc': 18131, 'cyran': 18132, 'vevey': 18133, 'getaway': 18134, 'appropriately': 18135, 'manna': 18136, '812': 18137, 'wherabouts': 18138, 'marvel': 18139, 'fickle': 18140, 'gust': 18141, 'siren': 18142, 'fitting': 18143, 'liver': 18144, 'flutter': 18145, 'seasonal': 18146, 'flavor': 18147, 'porting': 18148, 'tendons': 18149, 'hiram': 18150, 'conciliation': 18151, 'convict': 18152, 'deliberated': 18153, 'convicting': 18154, 'dion': 18155, 'coleman': 18156, 'holley': 18157, 'neolithic': 18158, 'induced': 18159, 'unpopular': 18160, 'impostors': 18161, 'despised': 18162, 'selfish': 18163, 'ern': 18164, 'query': 18165, 'dashboards': 18166, 'puncture': 18167, 'medicaid': 18168, 'unorthdox': 18169, 'cobi': 18170, 'substitutes': 18171, 'dnc': 18172, 'mulder': 18173, 'hicago': 18174, 'eastley': 18175, 'caves': 18176, 'aptitude': 18177, 'preservation': 18178, 'bombproof': 18179, 'donation': 18180, 'rescues': 18181, 'uprooting': 18182, 'shenzhen': 18183, 'garner': 18184, 'silenced': 18185, 'plentiful': 18186, 'interaction': 18187, 'squyres': 18188, 'zvidauri': 18189, 'zurab': 18190, 'choker': 18191, 'insurrection': 18192, 'wiped': 18193, 'grinding': 18194, 'payoff': 18195, 'extremism': 18196, 'murky': 18197, 'dotson': 18198, 'incompetent': 18199, 'entrepreneurs': 18200, 'devour': 18201, 'reimbursement': 18202, 'temples': 18203, 'hera': 18204, 'rediff': 18205, 'indices': 18206, 'mussina': 18207, 'inconsistent': 18208, 'herculean': 18209, 'beneficence': 18210, 'robben': 18211, 'christo': 18212, 'afrikaner': 18213, 'iveco': 18214, 'dodgy': 18215, 'cognoscenti': 18216, 'sumptuous': 18217, 'booby': 18218, 'coop': 18219, 'hardy': 18220, 'rickets': 18221, 'schroders': 18222, 'hanover': 18223, 'ruffling': 18224, 'instability': 18225, 'cicadas': 18226, 'periodically': 18227, 'whir': 18228, 'breeden': 18229, 'tirvine': 18230, '1800': 18231, '1900': 18232, 'mhz': 18233, 'hop1806': 18234, 'nkorea': 18235, 'frontline': 18236, 'ullyett': 18237, 'tenfold': 18238, 'dovish': 18239, 'verb': 18240, 'foolproof': 18241, 'miscalculate': 18242, 'hubris': 18243, 'adebayo': 18244, 'ogunlesi': 18245, 'dougan': 18246, 'exclude': 18247, 'wellesley': 18248, 'amerisuites': 18249, 'zombies': 18250, 'eyepods': 18251, 'zigzagging': 18252, 'slung': 18253, 'coursed': 18254, 'dinger': 18255, 'leno': 18256, 'scenery': 18257, 'oure': 18258, 'cassoni': 18259, 'tattered': 18260, 'bony': 18261, 'overcrowded': 18262, 'motives': 18263, 'muddle': 18264, 'versatile': 18265, 'commandments': 18266, \"''to\": 18267, 'mockingbird': 18268, 'nonstop': 18269, 'andruw': 18270, 'fateh': 18271, 'jang': 18272, 'byelections': 18273, 'prerequisite': 18274, 'tompor': 18275, 'gawkers': 18276, 'mankind': 18277, 'dopey': 18278, 'kotick': 18279, 'fearful': 18280, 'fanatics': 18281, 'unforgettable': 18282, '837': 18283, 'horizontal': 18284, 'hg': 18285, 'mickelson': 18286, 'exceptional': 18287, 'ehud': 18288, 'olmert': 18289, 'firmament': 18290, 'gigi': 18291, 'ugulava': 18292, 'p150': 18293, 'hilla': 18294, 'babylon': 18295, 'mutations': 18296, 'gujurat': 18297, 'hindus': 18298, 'incentive': 18299, 'nippon': 18300, 'teatime': 18301, 'humbled': 18302, 'fetched': 18303, 'roadway': 18304, 'archrival': 18305, 'cardiologists': 18306, 'perks': 18307, 'overburdened': 18308, 'schedules': 18309, 'reminisced': 18310, 'gladly': 18311, 'lacing': 18312, 'jarring': 18313, 'brooding': 18314, 'pepe': 18315, 'stony': 18316, 'hearted': 18317, 'endorsement': 18318, 'interpreted': 18319, 'interpret': 18320, 'fastball': 18321, 'rehabilitation': 18322, 'tugging': 18323, 'patten': 18324, 'backfield': 18325, 'provisions': 18326, 'enticements': 18327, '252': 18328, 'confounding': 18329, 'downhill': 18330, 'distinguished': 18331, 'carangelo': 18332, 'kenerson': 18333, 'tours': 18334, 'clarke': 18335, 'kaye': 18336, 'societies': 18337, 'implicate': 18338, 'gund': 18339, '190': 18340, 'moonless': 18341, 'flippered': 18342, 'hectic': 18343, 'deliciously': 18344, 'coroibos': 18345, 'deflated': 18346, 'genevaun': 18347, 'refer': 18348, 'namibia': 18349, 'commissioned': 18350, 'done': 18351, 'auctioned': 18352, 'scuffle': 18353, 'probable': 18354, 'boomed': 18355, 'currents': 18356, 'sterling': 18357, 'classifies': 18358, 'macau': 18359, '463': 18360, '376': 18361, 'penalize': 18362, 'chapman': 18363, 'freckle': 18364, 'vyatcheslav': 18365, 'scintillating': 18366, 'proverbial': 18367, 'hillah': 18368, 'misreporting': 18369, 'bookkeeping': 18370, 'underreporting': 18371, 'leadtek': 18372, 'winfast': 18373, 'px6600td': 18374, '6600': 18375, 'plantar': 18376, 'fasciitis': 18377, 'aerobic': 18378, 'workouts': 18379, 'koyie': 18380, 'bigbie': 18381, 'val': 18382, 'majewski': 18383, 'bowie': 18384, 'motherhood': 18385, 'cephalopod': 18386, 'aquarists': 18387, 'bloc': 18388, 'hemisphere': 18389, 'overwritten': 18390, 'boulevard': 18391, 'vasillias': 18392, 'sofia': 18393, 'procession': 18394, 'necked': 18395, 'floored': 18396, 'immersed': 18397, 'slabs': 18398, 'hobbling': 18399, 'polished': 18400, 'hardcourt': 18401, 'yonhap': 18402, 'musicmatch': 18403, 'xquery': 18404, 'xpath': 18405, 'jgr': 18406, 'tributes': 18407, 'goethals': 18408, 'magician': 18409, 'wbc': 18410, 'vitali': 18411, 'klitschko': 18412, 'infancy': 18413, 'sullivan': 18414, 'opines': 18415, 'enthralls': 18416, 'travelled': 18417, 'spanned': 18418, 'doped': 18419, 'michelangelo': 18420, 'botticelli': 18421, 'srinagar': 18422, 'kalam': 18423, 'dampening': 18424, 'pregnancy': 18425, 'cramming': 18426, '132': 18427, 'overcharges': 18428, 'analogue': 18429, '512kbps': 18430, 'gbp': 18431, 'remanufacturer': 18432, 'incomparable': 18433, 'sleazy': 18434, 'disarmed': 18435, 'swaps': 18436, 'financegates': 18437, 'overpriced': 18438, '573': 18439, 'bot': 18440, 'requirement': 18441, 'countersues': 18442, 'countersued': 18443, 'sme': 18444, 'smes': 18445, 'originating': 18446, 'conte': 18447, 'damphousse': 18448, 'avs': 18449, 'citrus': 18450, 'cobbling': 18451, 'disconcerting': 18452, 'landslips': 18453, 'perthshire': 18454, 'mute': 18455, 'herb': 18456, 'variation': 18457, 'folklore': 18458, 'downpours': 18459, 'alienated': 18460, 'exacerbated': 18461, '5b': 18462, 'ingly': 18463, 'endear': 18464, 'repemption': 18465, 'plume': 18466, 'below': 18467, 'segundo': 18468, \"america's\": 18469, 'galyans': 18470, 'congressmen': 18471, 'spelling': 18472, 'scmn': 18473, 'tela': 18474, 'vi': 18475, 'nw': 18476, 'hd1': 18477, 'launcher': 18478, 'thesaurus': 18479, 'parental': 18480, 'dolan': 18481, 'derailed': 18482, 'bacterial': 18483, 'detergents': 18484, 'wastewater': 18485, 'grantsdale': 18486, '915': 18487, 'univ': 18488, 'indict': 18489, '1913': 18490, 'prohibits': 18491, 'inherently': 18492, 'discriminatory': 18493, 'privatisation': 18494, 'bath': 18495, 'cheung': 18496, 'accessed': 18497, 'cics': 18498, 'averages': 18499, 'terminations': 18500, 'redundancy': 18501, 'navel': 18502, 'gazing': 18503, 'powerade': 18504, 'dials': 18505, 'wits': 18506, 'chimpanzees': 18507, 'warum': 18508, 'sind': 18509, 'amis': 18510, 'fett': 18511, 'accompanying': 18512, 'burgers': 18513, 'vilified': 18514, 'jest': 18515, 'alienware': 18516, 'evolves': 18517, 'videophone': 18518, 'alexandra': 18519, 'grate': 18520, 'freewheeling': 18521, \"org'\": 18522, 'varied': 18523, 'sado': 18524, 'nurtures': 18525, 'incubator': 18526, 'beauties': 18527, 'utilitarian': 18528, 'of2004': 18529, 'earningsbetween': 18530, 'napkin': 18531, 'latestversion': 18532, 'firstweek': 18533, 'internalfigures': 18534, 'apes': 18535, 'predecessors': 18536, 'wildest': 18537, 'ravage': 18538, 'swarming': 18539, 'void': 18540, 'venturing': 18541, 'weightlessness': 18542, 'spacewalks': 18543, '142': 18544, 'alamogordo': 18545, 'ingenious': 18546, 'analysing': 18547, 'cooked': 18548, 'ovens': 18549, 'meckler': 18550, 'cliche': 18551, 'juneau': 18552, 'addicted': 18553, 'peptide': 18554, 'insomnia': 18555, 'adhd': 18556, 'disorders': 18557, 'neuropeptide': 18558, 'nps': 18559, 'alertness': 18560, 'suppresses': 18561, 'diabetics': 18562, 'stave': 18563, 'violator': 18564, 'shmouters': 18565, 'tussles': 18566, 'rake': 18567, '189': 18568, 'ogc': 18569, 'prep': 18570, 'amzn': 18571, 'ysearchblog': 18572, 'referrals': 18573, 'cyberterrorist': 18574, 'extortionists': 18575, 'penetrate': 18576, 'cryptographic': 18577, 'stint': 18578, 'snatches': 18579, 'gentleness': 18580, 'beast': 18581, 'debrief': 18582, 'solidly': 18583, 'hungaroring': 18584, 'ferraris': 18585, 'reclaims': 18586, 'scarred': 18587, 'infested': 18588, 'ncssm': 18589, 'zingers': 18590, 'fec': 18591, 'quarry': 18592, 'goosed': 18593, 'blinged': 18594, 'rappers': 18595, 'professors': 18596, 'corcha': 18597, 'abdalla': 18598, 'cane': 18599, 'passionately': 18600, 'fathers': 18601, 'emplyees': 18602, 'wartime': 18603, 'documented': 18604, 'nifty': 18605, 'dwyane': 18606, 'gouging': 18607, 'ilyse': 18608, 'kusnetz': 18609, 'pillars': 18610, 'standardized': 18611, 'nonsubscription': 18612, 'angling': 18613, 'fabled': 18614, 'taimen': 18615, 'depend': 18616, 'ecotourism': 18617, 'supercharge': 18618, 'carbon': 18619, 'supercharged': 18620, 'kanellos': 18621, 'lifeblood': 18622, 'insensitivity': 18623, 'entities': 18624, 'maturity': 18625, 'shawnee': 18626, 'terminals': 18627, 'g7': 18628, 'counsels': 18629, 'counseled': 18630, 'relocates': 18631, 'artesia': 18632, 'iteration': 18633, 'improperly': 18634, 'outraged': 18635, 'gullet': 18636, 'shinobu': 18637, 'asagoe': 18638, 'sugiyama': 18639, 'googlers': 18640, 'piles': 18641, 'muni': 18642, 'exempt': 18643, 'issuance': 18644, 'replenish': 18645, 'nited': 18646, 'institution': 18647, 'prides': 18648, 'alerted': 18649, 'sunny': 18650, 'plaguing': 18651, 'manic': 18652, 'graphs': 18653, 'gripped': 18654, 'starring': 18655, 'financier': 18656, 'gecko': 18657, 'grunt': 18658, 'goodyear': 18659, 'slices': 18660, 'purveyor': 18661, 'hrl': 18662, 'glick': 18663, 'superseded': 18664, 'call': 18665, 'slugfest': 18666, 'lrlsq': 18667, 'renews': 18668, 'implantable': 18669, 'overturning': 18670, 'disguised': 18671, 'evens': 18672, 'leveled': 18673, 'strangest': 18674, 'volos': 18675, 'bopper': 18676, 'instructed': 18677, 'banyamulenge': 18678, 'fore': 18679, 'chickens': 18680, 'kelantan': 18681, 'forint': 18682, 'rad': 18683, 'ctp': 18684, 'snapbridge': 18685, 'proactively': 18686, 'organizational': 18687, 'kossovksy': 18688, 'osdl': 18689, 'scalable': 18690, 'cutbacks': 18691, 'outplacement': 18692, 'directory': 18693, 'kravets': 18694, 'gormley': 18695, 'moderates': 18696, 'heaved': 18697, 'reeled': 18698, 'hallway': 18699, 'bogomolov': 18700, '110th': 18701, 'moyo': 18702, 'serb': 18703, 'blic': 18704, 'fractious': 18705, 'sydell': 18706, 'reinsurance': 18707, 'turnover': 18708, 'latrobe': 18709, 'tranquilisers': 18710, 'trumps': 18711, 'npower': 18712, 'strangely': 18713, 'nutrients': 18714, 'bottlenecks': 18715, 'blackberrys': 18716, 'blinds': 18717, '144': 18718, 'luminaries': 18719, 'steaming': 18720, 'crasher': 18721, 'hobbyists': 18722, 'acronym': 18723, 'lamp': 18724, 'obsolete': 18725, 'avct': 18726, 'kvm': 18727, 'technicians': 18728, 'outsize': 18729, '174': 18730, 'patriarch': 18731, 'impresario': 18732, 'pancreatic': 18733, 'islet': 18734, 'neuroendocrine': 18735, 'tumor': 18736, 'aster': 18737, 'plumbers': 18738, 'electricians': 18739, 'handymen': 18740, 'punctured': 18741, 'soliman': 18742, 'nakar': 18743, 'quezon': 18744, 'crib': 18745, 'strategist': 18746, 'xie': 18747, 'torrid': 18748, 'villains': 18749, 'ixiasoft': 18750, 'multiplatform': 18751, 'meddling': 18752, 'austerity': 18753, 'thestreet': 18754, 'taxus': 18755, 'express2': 18756, 'eluting': 18757, 'crook': 18758, 'sneaky': 18759, 'loos': 18760, 'becks': 18761, 'vocab': 18762, 'nocturnal': 18763, 'romping': 18764, 'seared': 18765, 'obituary': 18766, 'geographers': 18767, 'iis': 18768, 'ims': 18769, 'whitfield': 18770, 'aberration': 18771, 'carnivorous': 18772, 'enrico': 18773, 'bondi': 18774, 'parma': 18775, 'freely': 18776, 'lawton': 18777, 'tsarina': 18778, 'fawning': 18779, 'courtiers': 18780, 'faberg': 18781, 'deserving': 18782, 'lunged': 18783, 'skill': 18784, 'worthier': 18785, 'tyneside': 18786, 'devils': 18787, 'abreast': 18788, 'dprk': 18789, 'hermes': 18790, 'jereme': 18791, 'milons': 18792, 'flagbearer': 18793, 'advocating': 18794, 'lunt': 18795, 'physicals': 18796, 'unsolved': 18797, 'numeracy': 18798, 'moulds': 18799, 'conceptualise': 18800, 'outfitted': 18801, 'cheerleader': 18802, 'prima': 18803, 'ballerina': 18804, 'dusting': 18805, 'ibadan': 18806, 'missionary': 18807, '198': 18808, 'rushing': 18809, 'voluble': 18810, 'indebted': 18811, 'sharemarket': 18812, 'nullified': 18813, 'jeweller': 18814, 'braved': 18815, 'formations': 18816, 'swamped': 18817, 'denisa': 18818, 'chladkova': 18819, 'coat': 18820, 'unfounded': 18821, 'negatives': 18822, 'idling': 18823, 'manufacturered': 18824, 'dale': 18825, 'mcfeatters': 18826, 'sol': 18827, 'sh': 18828, 'w3c': 18829, 'flame': 18830, 'vibes': 18831, 'ridiculed': 18832, 'laughed': 18833, 'intimidate': 18834, 'mope': 18835, 'ingston': 18836, 'beginnings': 18837, 'tuscan': 18838, 'regaled': 18839, 'chafing': 18840, 'oddity': 18841, 'shopper': 18842, 'generating': 18843, 'troopsand': 18844, 'torrent': 18845, 'savors': 18846, 'rhythm': 18847, 'backboard': 18848, 'moorings': 18849, 'dunked': 18850, 'stretching': 18851, 'precautionary': 18852, 'magnificently': 18853, 'outsized': 18854, 'firings': 18855, 'gentlemen': 18856, 'rails': 18857, 'chunhong': 18858, 'shuttlers': 18859, 'elco': 18860, 'der': 18861, 'geest': 18862, 'leaping': 18863, 'jeddah': 18864, 'nowadays': 18865, 'fits': 18866, 'update10': 18867, 'bitterness': 18868, 'chatted': 18869, 'wd': 18870, 'overemoted': 18871, 'sulking': 18872, 'spectre': 18873, 'museums': 18874, 'russels': 18875, 'federations': 18876, 'evaporated': 18877, 'kiefer': 18878, 'schuettler': 18879, '387': 18880, 'uninformed': 18881, 'forgiven': 18882, 'catapulted': 18883, 'jammed': 18884, 'transfers': 18885, 'coasting': 18886, 'jettison': 18887, 'pirah': 18888, 'barter': 18889, 'consonants': 18890, 'vowels': 18891, 'rave': 18892, 'arthroscopic': 18893, 'moonlighting': 18894, 'nantha': 18895, 'kumar': 18896, 'darkest': 18897, 'four': 18898, 'fashions': 18899, 'tweed': 18900, 'jackets': 18901, 'ponchos': 18902, 'restitution': 18903, 'repackaging': 18904, 'envision': 18905, 'xia': 18906, 'harlotte': 18907, 'headliner': 18908, 'performer': 18909, 'pampling': 18910, 'nominate': 18911, 'vigilant': 18912, 'chevron': 18913, 'prank': 18914, 'unwitting': 18915, 'recipients': 18916, 'ethnically': 18917, 'decree': 18918, 'kossovsky': 18919, 'ard': 18920, 'delhomme': 18921, 'shone': 18922, 'treasures': 18923, 'hodgkin': 18924, 'appreciates': 18925, 'anew': 18926, 'pectoral': 18927, 'jousting': 18928, 'shunned': 18929, 'skipped': 18930, 'upswing': 18931, 'frodo': 18932, 'saul': 18933, 'zaentz': 18934, 'videotaped': 18935, 'aggressively': 18936, 'extremist': 18937, 'divorce': 18938, 'sown': 18939, 'recites': 18940, 'breakup': 18941, 'hops': 18942, 'chang': 18943, 'aisle': 18944, 'multivitamins': 18945, 'starch': 18946, 'burgeoning': 18947, 'infusion': 18948, 'sanamacha': 18949, 'chanu': 18950, 'leaner': 18951, 'spill': 18952, 'punitive': 18953, 'introductory': 18954, 'waltzes': 18955, 'frappe': 18956, 'picker': 18957, 'uppers': 18958, 'cafe': 18959, 'minny': 18960, 'laud': 18961, 'benevolent': 18962, 'rehabilitated': 18963, 'purged': 18964, '1966': 18965, 'avid': 18966, \"you're\": 18967, 'harkened': 18968, 'plowed': 18969, 'norman': 18970, 'leventhal': 18971, 'grungy': 18972, 'oasis': 18973, 'undergone': 18974, 'chemotherapy': 18975, 'outplays': 18976, 'lemons': 18977, 'lemonade': 18978, 'laszlo': 18979, 'grouping': 18980, 'afterglow': 18981, 'googleland': 18982, 'us1': 18983, 'a2': 18984, 'us752': 18985, 'mailbag': 18986, 'flintridge': 18987, 'withstood': 18988, 'psst': 18989, 'cybercriminal': 18990, 'knife': 18991, 'shear': 18992, 'counterprotested': 18993, 'macro': 18994, 'nic': 18995, 'macrozonaris': 18996, 'friesen': 18997, 'koeverden': 18998, 'bootlegs': 18999, 'bootlegging': 19000, 'lifeline': 19001, 'blessed': 19002, 'biddlecombe': 19003, 'nemo': 19004, 'thrillingly': 19005, 'disturbingly': 19006, 'silverman': 19007, 'reimbursed': 19008, 'sempron': 19009, 'cpus': 19010, 'celeron': 19011, 'upstages': 19012, 'upstage': 19013, 'blacksburg': 19014, '06': 19015, 'prays': 19016, 'freelancer': 19017, 'grilled': 19018, 'walkoff': 19019, 'eliana': 19020, 'hooray': 19021, 'rosevelt': 19022, 'bowman': 19023, 'cling': 19024, 'hoist': 19025, 'bogies': 19026, 'outreach': 19027, 'deterrent': 19028, 'swamps': 19029, 'flaming': 19030, 'loved': 19031, 'jacks': 19032, 'dull': 19033, 'kilometre': 19034, 'foxboro': 19035, 'darted': 19036, 'tackler': 19037, 'defenders': 19038, 'mforma': 19039, 'rejoicing': 19040, 'sifted': 19041, 'unsuspecting': 19042, 'pdip': 19043, 'ppp': 19044, 'prosperity': 19045, 'pds': 19046, 'stagnation': 19047, 'technologists': 19048, 'immersive': 19049, 'silberman': 19050, 'mixes': 19051, 'syndicate': 19052, 'taiex': 19053, 'truckmaker': 19054, 'diane': 19055, 'swonk': 19056, 'powerpak': 19057, 'rescinded': 19058, 'libby': 19059, 'steinbrenner': 19060, 'bulging': 19061, 'reservations': 19062, 'dilemmas': 19063, 'amidst': 19064, 'enforced': 19065, 'ministership': 19066, 'sorrow': 19067, 'stalk': 19068, 'poured': 19069, 'barometer': 19070, 'booked': 19071, 'textbooks': 19072, 'omit': 19073, 'soviets': 19074, 'invoke': 19075, 'salisbury': 19076, 'ni': 19077, 'pairs': 19078, 'launchers': 19079, 'fao': 19080, 'videotapes': 19081, 'recourse': 19082, 'apologized': 19083, 'shaibany': 19084, 'lip': 19085, 'laughable': 19086, 'gimmick': 19087, 'foundations': 19088, 'unnerve': 19089, 'theaters': 19090, 'deluxe': 19091, 'scorsese': 19092, 'melodrama': 19093, 'survivable': 19094, 'sunil': 19095, 'dutt': 19096, 'stuttering': 19097, 'sotherton': 19098, 'infiltrators': 19099, 'infiltrated': 19100, 'ricciuti': 19101, 'unrealistic': 19102, 'puc': 19103, 'bandwagon': 19104, 'nationalistic': 19105, 'innuendo': 19106, 'sidewalk': 19107, 'commiserating': 19108, 'ioa': 19109, 'paddled': 19110, 'kanaiyalal': 19111, 'jiwanlal': 19112, 'valsad': 19113, 'sectarian': 19114, 'upheavals': 19115, 'amagi': 19116, 'fukuoka': 19117, 'prefecture': 19118, 'uapb': 19119, 'nsf': 19120, 'endangers': 19121, 'shallow': 19122, 'assateague': 19123, 'keyboards': 19124, 'troupe': 19125, 'bestiality': 19126, \"'xxx\": 19127, 'stinky': 19128, 'accumulating': 19129, 'evangelist': 19130, 'dva': 19131, 'gambros': 19132, 'rapids': 19133, 'glued': 19134, 'mortared': 19135, 'neuros': 19136, 'hdd': 19137, 'upgradeable': 19138, 'bivn': 19139, 'leukemia': 19140, 'storytelling': 19141, 'continuity': 19142, 'cabela': 19143, 'tnt': 19144, 'espn2': 19145, 'unquestioned': 19146, 'keeth': 19147, 'attackman': 19148, 'inf': 19149, 'neifi': 19150, 'pleasantly': 19151, 'breeders': 19152, 'dq': 19153, 'nail': 19154, 'biting': 19155, 'hualan': 19156, 'collaborators': 19157, 'colonization': 19158, 'irony': 19159, 'promptly': 19160, 'microcosm': 19161, 'hunkered': 19162, 'custodial': 19163, \"murder'\": 19164, 'ryanair': 19165, 'inactive': 19166, 'relabel': 19167, 'thinkers': 19168, 'convenors': 19169, 'grandly': 19170, 'crackberry': 19171, 'addictions': 19172, '15pm': 19173, 'outpoints': 19174, 'yardstick': 19175, '263': 19176, 'premdasa': 19177, 'yury': 19178, 'rybak': 19179, 'bok': 19180, 'warpath': 19181, 'rapes': 19182, 'nonbinding': 19183, 'sensationally': 19184, 'cid': 19185, 'archbishop': 19186, 'deya': 19187, 'linear': 19188, 'assumptions': 19189, 'shrp': 19190, 'berber': 19191, 'accra': 19192, 'kufuor': 19193, 'cocoa': 19194, 'grower': 19195, 'spotlights': 19196, 'ault': 19197, 'afl': 19198, 'fizz': 19199, 'frigid': 19200, 'synchronising': 19201, 'regaining': 19202, 'wallaby': 19203, 'milestones': 19204, 'pounce': 19205, '500s': 19206, 'slickest': 19207, 'seos': 19208, 'sternest': 19209, 'mailer': 19210, 'virulent': 19211, 'repackaged': 19212, 'honouring': 19213, 'unsure': 19214, 'dismantled': 19215, 'lithuanians': 19216, 'josemi': 19217, 'carragher': 19218, 'hyypia': 19219, 'riise': 19220, 'kewell': 19221, 'baros': 19222, \"l'oreal\": 19223, 'necessitate': 19224, 'smoking': 19225, 'cosmetic': 19226, 'initiating': 19227, 'wagging': 19228, 'conspicuously': 19229, 'billionaires': 19230, 'bolded': 19231, 'sometimes': 19232, 'inzamam': 19233, 'ul': 19234, 'haq': 19235, 'akhtar': 19236, 'posco': 19237, 'crdn': 19238, 'hotfixes': 19239, 'pack2': 19240, 'germs': 19241, 'bulletin': 19242, 'hellenic': 19243, 'precise': 19244, '952': 19245, 'clarifies': 19246, 'anzus': 19247, 'maxine': 19248, 'mckew': 19249, 'advocate': 19250, 'facq': 19251, 'inflate': 19252, 'cpa': 19253, 'isaacson': 19254, 'novice': 19255, 'homilies': 19256, 'cheapware': 19257, 'airfare': 19258, '495': 19259, 'aseball': 19260, 'leaking': 19261, 'gushed': 19262, 'reputations': 19263, 'giorgi': 19264, 'baramidze': 19265, 'rajiv': 19266, 'laroia': 19267, 'invent': 19268, 'leveling': 19269, 'workloads': 19270, 'uptake': 19271, 'wrestle': 19272, 'bureaucracy': 19273, 'swansong': 19274, 'richey': 19275, 'roundtrip': 19276, 'nme': 19277, 'fanning': 19278, 'limitless': 19279, 'eudora': 19280, 'rapper': 19281, 'bandana': 19282, 'piero': 19283, 'rosati': 19284, 'birders': 19285, 'lonesome': 19286, 'tfts': 19287, 'jenner': 19288, 'whisker': 19289, 'prints': 19290, 'abdelkrim': 19291, 'beghdali': 19292, 'safwan': 19293, 'sabagh': 19294, 'prelim': 19295, 'nurture': 19296, 'kayakers': 19297, 'travelwatch': 19298, 'geotourism': 19299, 'tourtellot': 19300, 'untrampled': 19301, 'airfares': 19302, '312': 19303, '322': 19304, 'moines': 19305, 'retrieve': 19306, 'advise': 19307, 'ganzalez': 19308, 'kasey': 19309, 'kahne': 19310, 'inflammation': 19311, 'sensei': 19312, 'aliso': 19313, 'viejo': 19314, 'meander': 19315, 'romanesque': 19316, 'capri': 19317, 'wrecks': 19318, 'plied': 19319, 'cypak': 19320, 'throwaway': 19321, 'strategizes': 19322, 'kip': 19323, 'clampdown': 19324, 'exams': 19325, 'gakkai': 19326, 'trickling': 19327, 'wrench': 19328, 'uneventful': 19329, 'lodging': 19330, 'calcavecchia': 19331, 'dived': 19332, 'microcontrollers': 19333, 'workhorse': 19334, 'conditioners': 19335, 'splendid': 19336, 'isolation': 19337, 'imagines': 19338, 'erin': 19339, 'mirabella': 19340, 'squeaks': 19341, 'undertaken': 19342, 'boneheaded': 19343, 'abounded': 19344, 'prosecutions': 19345, 'canceling': 19346, 'instances': 19347, 'metropolitan': 19348, 'beltway': 19349, 'bandit': 19350, 'evenings': 19351, 'sagittarius': 19352, 'inject': 19353, 'racketeers': 19354, 'racketeering': 19355, 'wend': 19356, 'vandellas': 19357, 'motown': 19358, 'ilk': 19359, 'lehmann': 19360, 'extraction': 19361, '206': 19362, 'pata': 19363, 'nipping': 19364, 'predicated': 19365, 'postgresql': 19366, 'arden': 19367, 'legalities': 19368, 'narrowest': 19369, 'emperor': 19370, 'corder': 19371, 'dulls': 19372, 'stink': 19373, 'critters': 19374, 'explanations': 19375, 'transient': 19376, 'unmentionables': 19377, 'affleck': 19378, 'laure': 19379, 'manaudou': 19380, 'persecution': 19381, 'wavelengths': 19382, 'stratosphere': 19383, 'infrared': 19384, 'spasms': 19385, 'vagrants': 19386, 'impounds': 19387, 'fixation': 19388, 'indifference': 19389, 'inherited': 19390, 'corrective': 19391, 'overhauled': 19392, 'herbold': 19393, 'disdain': 19394, 'neah': 19395, 'superstars': 19396, 'keepsakes': 19397, 'submariner': 19398, 'billowing': 19399, 'swank': 19400, 'fanueil': 19401, 'frequently': 19402, 'lotus': 19403, 'conferencing': 19404, 'jabber': 19405, 'lcs': 19406, 'reining': 19407, 'unsanctioned': 19408, 'radicati': 19409, 'breached': 19410, 'brawling': 19411, 'schaeffer': 19412, 'ngos': 19413, 'charities': 19414, 'disbands': 19415, 'cede': 19416, 'removal': 19417, 'faceoff': 19418, 'synthelabo': 19419, 'proctor': 19420, 'downplayed': 19421, 'identifying': 19422, 'usernames': 19423, 'hartwick': 19424, 'dependency': 19425, 'funneling': 19426, 'felony': 19427, 'mercurial': 19428, 'rocker': 19429, 'composed': 19430, 'mulcahy': 19431, 'carnies': 19432, 'rehearsed': 19433, 'patter': 19434, '2012': 19435, 'y2': 19436, 'democratizing': 19437, 'margot': 19438, 'seminar': 19439, 'multimodal': 19440, 'romantic': 19441, 'calms': 19442, 'suns': 19443, 'jdocs': 19444, 'documentation': 19445, 'apis': 19446, 'rewrites': 19447, 'suppressing': 19448, 'gainesville': 19449, \"ok'd\": 19450, 'staffers': 19451, 'prevailing': 19452, 'sniff': 19453, 'mccarron': 19454, 'thunderstorms': 19455, 'adhere': 19456, 'airwaves': 19457, 'stimulus': 19458, 'disguise': 19459, '233': 19460, 'awareness': 19461, 'marriages': 19462, 'smooch': 19463, 'odder': 19464, 'crosby': 19465, 'slay': 19466, 'slaying': 19467, 'filmmaker': 19468, 'theo': 19469, 'gi': 19470, 'deserting': 19471, 'calmly': 19472, 'thome': 19473, 'abreu': 19474, 'milton': 19475, 'fraudulently': 19476, 'fted': 19477, 'implicit': 19478, 'glances': 19479, 'eatery': 19480, 'cuisine': 19481, 'underlining': 19482, 'enmity': 19483, 'bubbling': 19484, 'activate': 19485, 'raul': 19486, 'ligaments': 19487, 'nodded': 19488, 'scoreboards': 19489, 'dunks': 19490, 'culminates': 19491, 'averaging': 19492, 'shouldering': 19493, 'horrendous': 19494, 'outings': 19495, 'oriole': 19496, 'bernieres': 19497, 'mandolin': 19498, 'rewrite': 19499, 'smoltz': 19500, '38th': 19501, 'lpga': 19502, 'suzann': 19503, 'retreating': 19504, 'desirable': 19505, 'harborplace': 19506, 'epilepsy': 19507, 'notching': 19508, 'subside': 19509, 'felipe': 19510, 'pickoff': 19511, 'inimitable': 19512, 'squawked': 19513, 'whined': 19514, 'inconsiderate': 19515, 'noisy': 19516, 'dellucci': 19517, 'evansville': 19518, 'correll': 19519, 'buckhalter': 19520, 'classroom': 19521, 'marisa': 19522, 'dudiak': 19523, 'lonely': 19524, 'sutherland': 19525, 'wool': 19526, 'desolate': 19527, 'metallic': 19528, 'replies': 19529, 'gheorghe': 19530, 'titianu': 19531, 'suceava': 19532, 'laboring': 19533, 'deflect': 19534, 'mocks': 19535, 'mutate': 19536, 'deadlier': 19537, 'arthur': 19538, 'helton': 19539, 'ehran': 19540, 'refining': 19541, 'utes': 19542, 'whittingham': 19543, 'brigham': 19544, 'jagged': 19545, 'caicos': 19546, '1841': 19547, 'skimping': 19548, 'pocketing': 19549, 'nonresidential': 19550, 'cosmo': 19551, 'chandler': 19552, 'hien': 19553, 'burly': 19554, 'lexicon': 19555, 'andover': 19556, 'edinburgh': 19557, 'bulgariaa': 19558, 'inhaler': 19559, 'infused': 19560, 'gatorade': 19561, 'vodka': 19562, 'inhalants': 19563, 'drinkers': 19564, 'vaporized': 19565, 'vaporizer': 19566, 'awol': 19567, 'inhale': 19568, 'mixing': 19569, 'pressurized': 19570, 'amaze': 19571, 'iacovidis': 19572, 'spinaway': 19573, 'klefos': 19574, 'memphremagog': 19575, 'bayhawks': 19576, 'drubbed': 19577, 'yukiko': 19578, 'spinnaker': 19579, 'robe': 19580, 'trunks': 19581, 'brandishing': 19582, 'clasped': 19583, 'prizefighter': 19584, 'backside': 19585, 'wreaks': 19586, 'unplugged': 19587, 'trach': 19588, 'inquiries': 19589, 'affidavit': 19590, 'bullying': 19591, 'forbids': 19592, 'mousa': 19593, 'marzook': 19594, 'chronicle': 19595, 'stavropol': 19596, 'grappling': 19597, 'banda': 19598, 'violently': 19599, 'te': 19600, 'airlifts': 19601, 'lairs': 19602, 'fugitives': 19603, 'tribesmen': 19604, 'containers': 19605, 'illiteracy': 19606, 'punches': 19607, 'ridicule': 19608, 'or': 19609, 'treasure': 19610, 'mooning': 19611, 'obscene': 19612, 'avant': 19613, 'garde': 19614, 'mooned': 19615, 'typhoid': 19616, 'traditions': 19617, 'gambell': 19618, 'chunk': 19619, 'locating': 19620, 'washtenaw': 19621, 'bypasses': 19622, 'linguistic': 19623, 'guidebook': 19624, 'lanning': 19625, 'bookstore': 19626, 'daunting': 19627, 'guidebooks': 19628, 'overreaching': 19629, 'herbal': 19630, 'openly': 19631, 'thirteen': 19632, 'robina': 19633, 'muqimyar': 19634, 'friba': 19635, 'razayee': 19636, 'epitomises': 19637, 'footballer': 19638, 'buehrle': 19639, 'hoosier': 19640, 'grad': 19641, 'svoboda': 19642, 'herrmann': 19643, 'occupy': 19644, 'reexamination': 19645, 'pediatric': 19646, 'suicidal': 19647, 'tendencies': 19648, 'alindra': 19649, 'demolished': 19650, 'ferocious': 19651, 'unhorsed': 19652, 'foerster': 19653, 'burnham': 19654, 'outmaneuvering': 19655, 'a69': 19656, 'reshape': 19657, 'footballing': 19658, 'primera': 19659, 'liga': 19660, 'shaping': 19661, 'signings': 19662, 'subsidy': 19663, 'transformed': 19664, 'assailed': 19665, 'disorganized': 19666, 'midweek': 19667, 'skirmishing': 19668, 'flush': 19669, 'unrepentantly': 19670, 'nedlands': 19671, 'coups': 19672, 'modelling': 19673, 'bible': 19674, 'inhibitors': 19675, 'gastrointestinal': 19676, 'modification': 19677, 'ahrq': 19678, 'precedent': 19679, 'devise': 19680, 'souza': 19681, 'boone': 19682, 'breyton': 19683, 'paulse': 19684, 'rabat': 19685, 'moroccans': 19686, 'voila': 19687, 'precisely': 19688, 'osman': 19689, 'dimissed': 19690, 'intend': 19691, 'wand': 19692, 'affable': 19693, 'stare': 19694, 'enraptured': 19695, 'heptathlete': 19696, 'aryiro': 19697, 'strataki': 19698, 'hristos': 19699, 'meletoglou': 19700, 'premises': 19701, 'carribean': 19702, 'riband': 19703, 'misfit': 19704, 'uruguayan': 19705, 'islamonline': 19706, 'conclave': 19707, 'hailing': 19708, 'subtle': 19709, 'ctr': 19710, 'heres': 19711, 'notre': 19712, 'dame': 19713, 'tyrone': 19714, 'ara': 19715, 'parseghian': 19716, 'reigned': 19717, 'oversaw': 19718, 'plum': 19719, 'lemon': 19720, 'manta': 19721, 'tamilnadu': 19722, 'heaped': 19723, '1927': 19724, 'carquinez': 19725, 'bechtel': 19726, 'myers': 19727, 'roskosmos': 19728, 'anatoly': 19729, 'perminov': 19730, 'triumphed': 19731, 'basks': 19732, 'villareal': 19733, 'miniaturized': 19734, 'planotexas': 19735, 'traps': 19736, 'wunsiedel': 19737, '1946': 19738, 'argonauts': 19739, 'stunner': 19740, 'emad': 19741, '64th': 19742, 'edu': 19743, 'equestrinan': 19744, 'sociedad': 19745, 'astiarzan': 19746, 'portraying': 19747, 'disrespect': 19748, 'rosters': 19749, 'comics': 19750, 'dreary': 19751, 'lambert': 19752, 'norma': 19753, 'oermann': 19754, 'chills': 19755, 'ardor': 19756, 'greenemeier': 19757, 'lag': 19758, 'subjects': 19759, 'clinique': 19760, 'davies': 19761, 'overtook': 19762, 'hereford': 19763, 'bernabeu': 19764, 'respects': 19765, 'cotroni': 19766, 'reputed': 19767, 'ricans': 19768, 'boomers': 19769, 'sputtered': 19770, 'giaan': 19771, 'sobrero': 19772, 'markgraf': 19773, 'boxx': 19774, 'msnbc': 19775, 'proclaiming': 19776, 'spandau': 19777, 'ossian': 19778, 'rebuts': 19779, 'parked': 19780, 'yashwanthpur': 19781, 'horned': 19782, 'taped': 19783, 'sided': 19784, 'mcdermott': 19785, 'psychogical': 19786, 'reclaiming': 19787, 'deprivation': 19788, 'upturn': 19789, 'egyptians': 19790, 'decked': 19791, 'commendations': 19792, 'notation': 19793, 'conspicuous': 19794, 'gallantry': 19795, 'oas': 19796, 'unloading': 19797, 'tractor': 19798, 'deutche': 19799, 'ohare': 19800, 'chicagosohare': 19801, 'scrapping': 19802, 'ostensibly': 19803, 'tracer': 19804, 'startling': 19805, 'refute': 19806, 'embellished': 19807, 'untrue': 19808, 'perimeter': 19809, 'alright': 19810, 'blighty': 19811, 'pinsents': 19812, 'ismael': 19813, 'evaluate': 19814, 'distributing': 19815, 'sniffs': 19816, 'crawl': 19817, 'striding': 19818, 'towards': 19819, 'dbcp': 19820, 'threaded': 19821, 'chewed': 19822, 'daytona': 19823, 'jeb': 19824, 'debuting': 19825, 'mks': 19826, 'dagger': 19827, 'parlayed': 19828, 'relays': 19829, 'rosenhaus': 19830, 'charleston': 19831, 'debacle': 19832, 'howitzer': 19833, 'tenacity': 19834, 'paramount': 19835, 'zemin': 19836, 'siler': 19837, 'faked': 19838, 'hoaxers': 19839, 'imitated': 19840, 'xvi': 19841, 'gustaf': 19842, 'immigrate': 19843, 'adpowers': 19844, 'taufik': 19845, 'indonesias': 19846, 'pellet': 19847, 'reprehensible': 19848, 'chows': 19849, 'kennebunk': 19850, 'eater': 19851, 'wolfed': 19852, 'sonya': 19853, 'alexandria': 19854, '101': 19855, 'tr': 19856, 'ast': 19857, 'teetered': 19858, 'palk': 19859, 'balloted': 19860, 'eastwood': 19861, 'plumbed': 19862, 'depravity': 19863, 'fisticuffs': 19864, 'toppers': 19865, 'oozed': 19866, 'chariots': 19867, 'showy': 19868, 'uprights': 19869, 'flexes': 19870, 'localities': 19871, 'sanjenjo': 19872, 'baiona': 19873, 'galicia': 19874, 'idf': 19875, 'separating': 19876, 'backwards': 19877, 'crusher': 19878, 'languished': 19879, 'fiancee': 19880, 'alderson': 19881, 'primaries': 19882, 'samaritans': 19883, 'thunders': 19884, 'steamrolled': 19885, 'polanco': 19886, 'symbolizing': 19887, 'mids': 19888, 'mediocre': 19889, 'unspoken': 19890, '62nd': 19891, 'nip': 19892, 'tangled': 19893, 'uh': 19894, 'thunder': 19895, 'gratitude': 19896, 'indycar': 19897, 'kanaan': 19898, 'kyoto': 19899, 'mihama': 19900, \"we're\": 19901, 'rows': 19902, 'comfortably': 19903, 'impatient': 19904, 'kashmiris': 19905, 'assorted': 19906, 'intrasquad': 19907, 'portent': 19908, 'drub': 19909, 'delgado': 19910, 'tweaked': 19911, 'dystrophy': 19912, 'enjoyable': 19913, '2600': 19914, 'intellivision': 19915, 'centipede': 19916, 'triumphing': 19917, 'seminoles': 19918, 'donnie': 19919, 'bowden': 19920, 'matfield': 19921, 'commanded': 19922, 'unsuccessful': 19923, 'feminine': 19924, 'gianna': 19925, 'angelopoulos': 19926, 'daskalaki': 19927, 'agence': 19928, 'presse': 19929, 'endures': 19930, 'antigovernment': 19931, 'shellac': 19932, 'conquoring': 19933, 'ducati': 19934, 'livio': 19935, 'suppo': 19936, 'tocks': 19937, 'muscling': 19938, 'lobstermen': 19939, 'davy': 19940, 'arnaud': 19941, '66th': 19942, 'otc': 19943, 'henri': 19944, '4million': 19945, 'cristian': 19946, 'metrodome': 19947, 'rafa': 19948, 'gerard': 19949, 'vocational': 19950, 'rundowns': 19951, 'belted': 19952, 'carded': 19953, 'understated': 19954, 'habibullah': 19955, 'ghafar': 19956, 'tea': 19957, 'kyrgyzstan': 19958, 'sparse': 19959, 'sofa': 19960, 'trauma': 19961, 'roberto': 19962, 'erie': 19963, 'toledo': 19964, 'conform': 19965, 'yamaha': 19966, 'opportunistic': 19967, 'possesses': 19968, 'toughness': 19969, 'disposed': 19970, 'rousing': 19971, 'comrade': 19972, 'crowns': 19973, '179': 19974, '678': 19975, 'functional': 19976, 'souped': 19977, 'iq': 19978, \"don't\": 19979, 'modules': 19980, 'cesar': 19981, 'gaviria': 19982, 'salaried': 19983, 'tourney': 19984, 'chisox': 19985, 'tiptoeing': 19986, 'upheaval': 19987, 'strut': 19988, 'spoil': 19989, 'gabriel': 19990, 'romo': 19991, 'keeper': 19992, 'taxpayer': 19993, 'plex': 19994, 'khalanga': 19995, 'ribs': 19996, 'revoke': 19997, 'qin': 19998, 'chore': 19999, 'succinctly': 20000, 'sums': 20001, 'quotgolden': 20002, 'desi': 20003, 'relaford': 20004, 'nistelrooy': 20005, 'fenerbahce': 20006, 'cge': 20007, 'mcenery': 20008, '22nd': 20009, 'lyrical': 20010, 'oar': 20011, 'puns': 20012, 'courier': 20013, '464': 20014, '7511': 20015, 'sfordevansville': 20016, 'assaults': 20017, 'unitas': 20018, 'marino': 20019, 'archie': 20020, 'hous': 20021, 'tonians': 20022, 'frenetic': 20023, 'cheerful': 20024, 'chairbed': 20025, 'wonderfully': 20026, 'uplifting': 20027, 'holland': 20028, 'assassinations': 20029, 'datuk': 20030, 'soi': 20031, 'lek': 20032, 'wana': 20033, 'khurshid': 20034, 'mahmud': 20035, 'retd': 20036, 'jehangir': 20037, 'karamat': 20038, 'pakistans': 20039, 'shahid': 20040, 'afridi': 20041, 'malik': 20042, 'whooshing': 20043, 'nightmarish': 20044, 'sellout': 20045, 'petco': 20046, 'ussid': 20047, '31st': 20048, 'bask': 20049, 'nh': 20050, 'indefinately': 20051, 'laxness': 20052, 'mounts': 20053, 'malbrunot': 20054, 'le': 20055, 'figaro': 20056, 'chesnot': 20057, 'scanner': 20058, 'lifetimes': 20059, 'entrepreneurial': 20060, 'mohrer': 20061, 'infiltration': 20062, 'infiltrating': 20063, 'vandy': 20064, 'vanderbilt': 20065, 'rivalries': 20066, 'invoking': 20067, 'goldilocks': 20068, 'yesteryear': 20069, 'structural': 20070, 'blas': 20071, 'melissa': 20072, 'hooters': 20073, 'bluffton': 20074, 'magpies': 20075, 'wisely': 20076, 'thrusts': 20077, 'manifesto': 20078, 'redefinition': 20079, 'mortem': 20080, 'singleheader': 20081, 'gondola': 20082, 'hazy': 20083, 'forestland': 20084, 'barns': 20085, 'silos': 20086, 'steeples': 20087, 'bleachers': 20088, 'exulting': 20089, 'patriot': 20090, 'genuinely': 20091, 'maxwell': 20092, 'elicits': 20093, 'twellman': 20094, 'squandered': 20095, 'bu': 20096, 'bourque': 20097, 'terriers': 20098, 'sheriffs': 20099, 'adapts': 20100, 'monthlong': 20101, 'putts': 20102, 'stealthy': 20103, 'relives': 20104, 'granada': 20105, 'gnarled': 20106, 'federico': 20107, 'lorca': 20108, 'summarily': 20109, 'communal': 20110, 'unsealed': 20111, 'modernizer': 20112, 'guangan': 20113, 'xianyan': 20114, 'mulled': 20115, 'kashgar': 20116, 'gestured': 20117, 'spiraling': 20118, 'greecefor': 20119, 'mist': 20120, 'endemic': 20121, 'puttering': 20122, 'hypothetical': 20123, 'cofounders': 20124, '136': 20125, 'millimetres': 20126, 'vollmer': 20127, 'interventionist': 20128, 'silences': 20129, 'surrendering': 20130, 'drunk': 20131, 'dubs': 20132, 'delaiba': 20133, 'khultoum': 20134, 'eissa': 20135, 'abdallah': 20136, 'grapples': 20137, '68th': 20138, 'expodes': 20139, 'cas': 20140, 'neumeier': 20141, 'flattered': 20142, 'nuances': 20143, 'elmira': 20144, 'affeldt': 20145, 'jorge': 20146, 'vasquez': 20147, 'suckers': 20148, 'fairways': 20149, 'cuffs': 20150, 'ty': 20151, 'feuding': 20152, 'richer': 20153, 'scorched': 20154, '1936': 20155, 'panicked': 20156, 'ripples': 20157, 'ransacked': 20158, 'lai': 20159, 'chak': 20160, 'deliberate': 20161, 'bolingbrook': 20162, '406': 20163, 'coli': 20164, 'quantum': 20165, 'patties': 20166, 'steaks': 20167, 'oyster': 20168, 'superstores': 20169, 'banished': 20170, 'antidoping': 20171, 'vaulter': 20172, 'ralf': 20173, '694': 20174, 'bs': 20175, 'interpretation': 20176, 'aircrafts': 20177, 'murmurings': 20178, 'aleksandr': 20179, 'belarusian': 20180, 'dpa': 20181, 'faisal': 20182, 'saleh': 20183, 'hayat': 20184, 'operatives': 20185, 'concluding': 20186, 'rookies': 20187, 'galatsi': 20188, 'scupper': 20189, 'decentralised': 20190, 'misuse': 20191, 'latroy': 20192, 'hawkins': 20193, 'collaborator': 20194, 'imperialism': 20195, 'thrashes': 20196, 'lebanon': 20197, 'ula': 20198, 'lecturer': 20199, 'jutta': 20200, 'schmitt': 20201, 'amy': 20202, 'bushehr': 20203, 'parisian': 20204, 'daubed': 20205, 'wanna': 20206, 'anarchist': 20207, 'punk': 20208, 'haircut': 20209, 'hobby': 20210, 'stoned': 20211, 'rambling': 20212, 'zapatistas': 20213, 'sweetenham': 20214, 'stems': 20215, 'fright': 20216, 'bulldozer': 20217, 'tunnels': 20218, 'sacher': 20219, 'habash': 20220, 'khalis': 20221, 'salivating': 20222, 'patiently': 20223, 'delicious': 20224, 'francois': 20225, 'castang': 20226, 'fending': 20227, 'clentzos': 20228, 'evidences': 20229, 'frenzied': 20230, 'drank': 20231, 'vaal': 20232, 'plaudits': 20233, 'adulation': 20234, 'messy': 20235, 'fightings': 20236, '302': 20237, 'diverted': 20238, 'sway': 20239, 'muammar': 20240, 'clandestine': 20241, 'reparation': 20242, 'profiler': 20243, 'projections': 20244, 'abidjan': 20245, 'flagging': 20246, 'tacitly': 20247, 'tailenders': 20248, 'protestors': 20249, 'defection': 20250, 'defectors': 20251, 'barros': 20252, 'overtakes': 20253, 'trucker': 20254, 'putrin': 20255, 'gaffe': 20256, 'symbolising': 20257, 'album': 20258, 'yngling': 20259, 'ayton': 20260, 'endgame': 20261, 'mickey': 20262, 'logo': 20263, 'resurrection': 20264, 'disgrace': 20265, 'rainbow': 20266, 'carabobo': 20267, 'mainstay': 20268, 'butts': 20269, 'breakout': 20270, 'irresistible': 20271, 'concocting': 20272, 'dealership': 20273, 'weirdest': 20274, 'dashes': 20275, 'goldstruck': 20276, 'unabashed': 20277, 'dizzy': 20278, 'hughes': 20279, 'hilled': 20280, 'amman': 20281, 'recreate': 20282, 'vegetable': 20283, 'perishable': 20284, 'unaffected': 20285, 'standartisation': 20286, 'restructuting': 20287, 'generations': 20288, 'unthinkable': 20289, 'concentration': 20290, 'obl': 20291, 'untraced': 20292, 'both': 20293, 'saviours': 20294, 'snared': 20295, 'ringgold': 20296, 'asianews': 20297, 'potters': 20298, 'hedgerows': 20299, 'prefabricated': 20300, 'chock': 20301, 'filters': 20302, 'heaving': 20303, 'nan': 20304, 'stacey': 20305, 'zach': 20306, 'witnessing': 20307, 'shootings': 20308, '747': 20309, 'pittodrie': 20310, 'consensus': 20311, 'txt': 20312, '1300': 20313, 'ig': 20314, 'buitrago': 20315, 'reyes': 20316, '08s': 20317, 'dophins': 20318, 'hartson': 20319, 'caledonian': 20320, 'thistle': 20321, 'discards': 20322, 'erroneously': 20323, 'rubbing': 20324, 'grimacing': 20325, 'blitzing': 20326, 'employing': 20327, 'crosed': 20328, 'rtr': 20329, 'sunken': 20330, 'sandbar': 20331, 'oliver': 20332, 'arraignments': 20333, 'rending': 20334, 'brutally': 20335, 'lubricates': 20336, 'shouldered': 20337, 'vaulting': 20338, 'mourn': 20339, 'happiness': 20340, 'expeditionary': 20341, 'moana': 20342, 'hilo': 20343, 'kuhio': 20344, 'plaza': 20345, 'gippsland': 20346, 'insensitive': 20347, 'offended': 20348, 'ramada': 20349, 'mcdonnell': 20350, 'menahem': 20351, 'diyala': 20352, 'adil': 20353, 'chartshow': 20354, 'itv1': 20355, 'nogushi': 20356, 'carnations': 20357, 'specify': 20358, 'lao': 20359, 'lishi': 20360, 'loudy': 20361, 'tourky': 20362, 'brazell': 20363, 'zealanders': 20364, 'clearcut': 20365, 'subdue': 20366, 'fiance': 20367, 'tramps': 20368, 'batsman': 20369, 'salman': 20370, '2hrs': 20371, '26min': 20372, '20sec': 20373, 'ashes': 20374, 'mortal': 20375, 'inexorably': 20376, 'perpetrate': 20377, 'hinske': 20378, 'runa': 20379, 'resorts': 20380, 'yacht': 20381, 'luxuries': 20382, 'superrich': 20383, 'heatwave': 20384, 'thyself': 20385, 'jaipur': 20386, 'apologize': 20387, 'superficial': 20388, 'ethic': 20389, 'prevails': 20390, 'exude': 20391, 'sappenfield': 20392, 'sacrificing': 20393, 'recognise': 20394, 'miscalculation': 20395, 'danielle': 20396, 'rhoades': 20397, 'subsisted': 20398, 'extravagantly': 20399, 'relegates': 20400, 'cricketing': 20401, 'smiths': 20402, 'tyres': 20403, 'testy': 20404, 'cooperating': 20405, 'outdone': 20406, 'mastery': 20407, 'teng': 20408, 'haibin': 20409, 'tasty': 20410, 'horseshoe': 20411, 'panathanaiko': 20412, 'e175': 20413, 'trinity': 20414, 'misguiding': 20415, 'sword': 20416, 'nuwan': 20417, 'ghazni': 20418, 'lad': 20419, 'mag': 20420, 'unsubtle': 20421, 'humour': 20422, 'scantily': 20423, 'messina': 20424, 'livorno': 20425, 'qualification': 20426, 'chidambaram': 20427, 'arrogance': 20428, 'arrogant': 20429, 'smashing': 20430, 'notts': 20431, 'cy': 20432, 'undisputed': 20433, 'satyendra': 20434, 'shrestha': 20435, 'rashtra': 20436, 'isuppli': 20437, 'validate': 20438, '305': 20439, 'lukewarm': 20440, 'squint': 20441, 'surfer': 20442, 'expertly': 20443, 'shoreline': 20444, 'giggled': 20445, 'nijmegen': 20446, 'meeker': 20447, 'bursting': 20448, 'knack': 20449, 'chi': 20450, 'yeah': 20451, '4000': 20452, 'movements': 20453, 'bings': 20454, 'shrouds': 20455, 'beringer': 20456, 'blass': 20457, 'seremban': 20458, 'fever': 20459, 'throat': 20460, 'carnival': 20461, 'jolts': 20462, 'bathes': 20463, 'strollers': 20464, 'wad': 20465, 'cables': 20466, 'kneel': 20467, 'slays': 20468, 'depriving': 20469, 'musketeers': 20470, 'juanjo': 20471, 'cliches': 20472, 'elbows': 20473, 'honestly': 20474, 'neill': 20475, 'caley': 20476, 'farooq': 20477, 'usman': 20478, 'ghulam': 20479, 'rawalpindi': 20480, 'sandra': 20481, 'pires': 20482, 'ana': 20483, 'connelly': 20484, 'khakis': 20485, 'croton': 20486, 'donned': 20487, 'landlocked': 20488, 'tramp': 20489, 'blazes': 20490, 'thrashings': 20491, 'ircj': 20492, 'fairer': 20493, 'thinktank': 20494, 'reforming': 20495, 'morningstar': 20496, 'distinction': 20497, 'gutsy': 20498, 'bernhard': 20499, 'langer': 20500, 'karzais': 20501, 'bhairab': 20502, 'somalians': 20503, 'lonoke': 20504, 'baitfish': 20505, 'solvency': 20506, 'ribband': 20507, 'usada': 20508, 'tetrahydrogestrinone': 20509, 'prohibitions': 20510, 'strictly': 20511, 'mckenzie': 20512, 'soothes': 20513, 'snapshots': 20514, 'she': 20515, 'cram': 20516, 'incorrect': 20517, 'sputtering': 20518, 'scrounging': 20519, 'trademarks': 20520, 'contestant': 20521, 'worn': 20522, 'ammar': 20523, 'guardian': 20524, 'rousted': 20525, 'shoguns': 20526, 'siestas': 20527, 'tonne': 20528, 'must': 20529, 'tinto': 20530, 'refuted': 20531, 'naughton': 20532, 'farmer': 20533, '313': 20534, 'untimely': 20535, 'ferried': 20536, 'harare': 20537, 'emilio': 20538, 'botin': 20539, 'redhanded': 20540, 'dethrones': 20541, 'sirtaki': 20542, 'possess': 20543, 'distribute': 20544, 'vouchers': 20545, 'tories': 20546, 'cynical': 20547, 'frustrates': 20548, 'renters': 20549, 'contending': 20550, 'tylenol': 20551, 'caplets': 20552, 'mint': 20553, 'weisman': 20554, 'jane': 20555, 'pauley': 20556, 'usurps': 20557, 'fsa': 20558, 'prius': 20559, 'thundered': 20560, 'thwarting': 20561, 'thefts': 20562, 'ourtune': 20563, 'blister': 20564, 'swears': 20565, 'conquers': 20566, 'ramy': 20567, 'roone': 20568, 'arledge': 20569, 'ebersol': 20570, 'unwatchable': 20571, 'fragmented': 20572, 'jingoistic': 20573, 'commercialized': 20574, 'thechat': 20575, 'undrafted': 20576, 'sportsman': 20577, 'aptly': 20578, 'futuresport': 20579, 'lois': 20580, 'adventures': 20581, 'pinstripes': 20582, 'finishers': 20583, 'wheldon': 20584, 'preakness': 20585, 'reshuffles': 20586, 'een': 20587, 'distanced': 20588, 'wealthiest': 20589, 'playstation2': 20590, 'lounged': 20591, 'recliner': 20592, 'flanked': 20593, 'basically': 20594, 'mccovey': 20595, 'responsibilities': 20596, 'regardless': 20597, 'safeguard': 20598, 'aqua': 20599, 'patricia': 20600, 'mats': 20601, 'microrobots': 20602, 'pacs': 20603, 'convertible': 20604, '2024': 20605, 'shaving': 20606, 'expats': 20607, 'fta': 20608, 'attaches': 20609, 'expatriates': 20610, 'sheeran': 20611, 'clicking': 20612, 'pandemonium': 20613, 'catriona': 20614, 'iamgold': 20615, 'steamed': 20616, 'motto': 20617, 'rifleman': 20618, 'jiulin': 20619, 'derivatives': 20620, 'redefine': 20621, 'intervened': 20622, 'telemarketer': 20623, 'castelblanco': 20624, 'tatters': 20625, 'us500': 20626, 'a692': 20627, '377': 20628, 'hatchs': 20629, 'purge': 20630, 'howe': 20631, 'gazed': 20632, 'scribblings': 20633, 'blazoned': 20634, 'loathed': 20635, 'idolise': 20636, '53rd': 20637, 'vfr': 20638, 'neumuenster': 20639, 'assays': 20640, 'waltz': 20641, 'blithe': 20642, 'brevity': 20643, 'philly': 20644, 'westbrook': 20645, 'notations': 20646, 'ankles': 20647, 'stitch': 20648, 'stanozolol': 20649, 'somalias': 20650, 'freeway': 20651, 'hualien': 20652, 'terrain': 20653, 'ji': 20654, 'sitewatcher': 20655, 'newsletter': 20656, 'buoys': 20657, 'overshadow': 20658, 'elevate': 20659, 'glint': 20660, 'glowing': 20661, '1928': 20662, 'profilers': 20663, 'entertain': 20664, 'catherine': 20665, 'ndereba': 20666, 'sunrise': 20667, 'breakfast': 20668, 'normalcy': 20669, 'graveyard': 20670, 'taskmaster': 20671, 'wigo': 20672, 'rudic': 20673, 'karlsruhe': 20674, 'magine': 20675, 'contracted': 20676, 'meek': 20677, 'hides': 20678, 'supermarkets': 20679, 'intervening': 20680, 'polarizing': 20681, 'anchored': 20682, 'moro': 20683, 'milf': 20684, 'audiences': 20685, 'holtz': 20686, 'eakin': 20687, 'nonpartisan': 20688, 'edgy': 20689, 'rollouts': 20690, 'preloaded': 20691, 'biceps': 20692, 'reloading': 20693, 'capper': 20694, 'amused': 20695, 'speculated': 20696, 'spielman': 20697, 'continually': 20698, 'maraud': 20699, 'shanty': 20700, 'cedar': 20701, 'cmcc': 20702, 'intently': 20703, 'embarrass': 20704, 'horn': 20705, 'catalanotto': 20706, 'bloodied': 20707, 'bharati': 20708, 'racine': 20709, 'basics': 20710, 'excelled': 20711, 'postmatch': 20712, 'unfulfilled': 20713, '731': 20714, 'blazingly': 20715, 'zorba': 20716, 'crackwon': 20717, 'rocking': 20718, 'bolted': 20719, 'energized': 20720, 'thereabouts': 20721, 'overpowers': 20722, 'batted': 20723, 'sphere': 20724, 'hurtling': 20725, 'whitewashing': 20726, 'windy': 20727, 'shakeout': 20728, 'palpitations': 20729, 'holt': 20730, 'oram': 20731, 'adler': 20732, 'emedicine': 20733, 'nebraska': 20734, 'installers': 20735, 'stereos': 20736, 'fishy': 20737, 'kenney': 20738, 'unhooked': 20739, 'cadillac': 20740, 'sedan': 20741, 'deville': 20742, 'dts': 20743, 'galore': 20744, 'pencils': 20745, 'backpack': 20746, '013': 20747, 'headcount': 20748, 'conquered': 20749, 'marshaling': 20750, 'honorable': 20751, 'snarling': 20752, 'generators': 20753, 'bulletins': 20754, 'realistic': 20755, 'thrills': 20756, 'prequel': 20757, 'cinemas': 20758, 'jv': 20759, 'us100': 20760, 'etw': 20761, 'give': 20762, 'slipups': 20763, 'takedown': 20764, 'persuaded': 20765, 'ilya': 20766, 'shabalkin': 20767, 'valiant': 20768, 'devin': 20769, 'throbbing': 20770, 'cried': 20771, 'regrouped': 20772, 'resonated': 20773, 'gambled': 20774, 'trulli': 20775, 'puma': 20776, 'galleries': 20777, 'jamaat': 20778, 'ansar': 20779, 'islamiya': 20780, 'differ': 20781, 'inadequate': 20782, 'bracks': 20783, 'virginity': 20784, 'virgins': 20785, 'advantages': 20786, 'manipulate': 20787, 'scary': 20788, 'genital': 20789, 'warts': 20790, 'penile': 20791, 'cervical': 20792, 'rectal': 20793, '503': 20794, 'bbg': 20795, 'adv': 20796, '690': 20797, '1000s': 20798, 'quotes': 20799, 'tribesman': 20800, 'graze': 20801, 'cattle': 20802, 'nudged': 20803, 'sep': 20804, 's55': 20805, 'sg': 20806, 'affiliate': 20807, 'koorzhanenko': 20808, 'championirina': 20809, 'the5': 20810, 'dyed': 20811, 'prescient': 20812, 'crumble': 20813, 'heese': 20814, 'quebeckers': 20815, 'guylaine': 20816, 'dumont': 20817, 'annie': 20818, 'sabouri': 20819, 'stressing': 20820, 'tari': 20821, 'akpodiete': 20822, 'purporting': 20823, 'cries': 20824, 'hypocrisy': 20825, 'jetblue': 20826, 'misinterprets': 20827, 'politicos': 20828, 'campaigners': 20829, 'yell': 20830, 'geronimo': 20831, 'autonomously': 20832, 'descents': 20833, 'earthbound': 20834, 'skydivers': 20835, 'genna': 20836, 'balinese': 20837, 'stimulate': 20838, 'regrowth': 20839, 'additive': 20840, 'skewer': 20841, 'cybercynics': 20842, 'presentations': 20843, 'misbehaving': 20844, 'scapegoat': 20845, 'diminshes': 20846, 'evacuees': 20847, 'whilst': 20848, 'infringements': 20849, 'pony': 20850, 'andretti': 20851, 'secretaries': 20852, 'striving': 20853, 'well': 20854, 'overjoyed': 20855, 'pettiness': 20856, 'bald': 20857, 'weeping': 20858, 'brews': 20859, 'ashok': 20860, 'outpaces': 20861, 'expound': 20862, 'persuasion': 20863, 'minestrone': 20864, 'hummus': 20865, 'hay': 20866, 'curved': 20867, 'canyon': 20868, 'righteous': 20869, 'handstand': 20870, 'trophies': 20871, 'tempers': 20872, 'daytime': 20873, 'capitalizing': 20874, 'canuck': 20875, 'morneau': 20876, 'westminster': 20877, 'cc': 20878, 'sabathia': 20879, 'unanet': 20880, 'fiesty': 20881, 'slugged': 20882, '6753': 20883, 'boils': 20884, 'bahrainis': 20885, 'swelter': 20886, 'dn': 20887, 'remark': 20888, 'mdx': 20889, '010': 20890, 'melanoma': 20891, 'legitimacy': 20892, '70th': 20893, '58th': 20894, 'bergamo': 20895, 'cellar': 20896, 'nausea': 20897, 'rang': 20898, 'neighbourhood': 20899, 'centred': 20900, 'itc': 20901, 'hondurans': 20902, 'sulks': 20903, 'asymmetric': 20904, 'nut': 20905, 'envy': 20906, 'wrestlemania': 20907, 'outrunning': 20908, 'melting': 20909, 'risked': 20910, 'apprentice': 20911, 'trump': 20912, 'wannabes': 20913, 'nur': 20914, 'malena': 20915, 'arachnids': 20916, 'malay': 20917, 'mingguan': 20918, 'dessert': 20919, 'desserts': 20920, 'healthful': 20921, 'asean': 20922, 'shigeru': 20923, 'omi': 20924, 'anonymously': 20925, 'empowered': 20926, 'chevrolet': 20927, 'subcompact': 20928, 'rear': 20929, 'rm': 20930, 'cm': 20931, 'recipes': 20932, 'pittsburg': 20933, 'metoprolol': 20934, 'tartrate': 20935, 'hydrochlorothiazide': 20936, 'loppressor': 20937, 'hct': 20938, 'paperback': 20939, 'swaggering': 20940, 'gunslingers': 20941, 'populate': 20942, 'kenwrights': 20943, 'bentonville': 20944, 'esma': 20945, 'associations': 20946, 'sequences': 20947, 'chung': 20948, 'kwei': 20949, 'feng': 20950, '15bn': 20951, 'putsch': 20952, 'istanbul': 20953, 'negligence': 20954, 'badness': 20955, 'calabasas': 20956, 'westford': 20957, 'poplar': 20958, 'wildcats': 20959, 'ink': 20960, 'complexities': 20961, 'turin': 20962, 'venice': 20963, 'plagiarised': 20964, 'afternoons': 20965, 'giovane': 20966, 'riche': 20967, 'brackets': 20968, 'divisional': 20969, 'planners': 20970, '340': 20971, 'leisurely': 20972, 'steward': 20973, 'poise': 20974, 'shipwrecked': 20975, 'omens': 20976, 'wires': 20977, 'rias': 20978, 'reluctance': 20979, 'bouquet': 20980, 'pruett': 20981, 'thundering': 20982, 'knucklehead': 20983, 'festivities': 20984, 'stagnating': 20985, 'yearly': 20986, 'resorting': 20987, 'zoellick': 20988, 'cascades': 20989, 'cliffs': 20990, 'arid': 20991, 'coulee': 20992, 'acquiescence': 20993, 'kaiser': 20994, 'p4': 20995, 'longrun': 20996, 'tceq': 20997, 'dreadful': 20998, 'meltdowns': 20999, 'derisive': 21000, 'sneers': 21001, 'hardaker': 21002, 'immortalise': 21003, 'renaming': 21004, 'armenia': 21005, 'turkmenistan': 21006, 'tajikistan': 21007, 'moldova': 21008, 'gruber': 21009, 'itms': 21010, 'meaningless': 21011, 'transported': 21012, '6500': 21013, 'icirc': 21014, 'tre': 21015, 'windsor': 21016, 'floors': 21017, 'replicate': 21018, 'viropharma': 21019, 'omniweb': 21020, 'grandest': 21021, 'entreaties': 21022, '50c': 21023, 'manhunt': 21024, 'spains': 21025, 'inits': 21026, 'staring': 21027, 'nervously': 21028, 'aether': 21029, 'wunderkind': 21030, 'friedman': 21031, 'billings': 21032, 'cashes': 21033, 'digicam': 21034, '401': 21035, 'trotted': 21036, 'inkjet': 21037, 'pixma': 21038, '911': 21039, 'amicable': 21040, 'bundesliga': 21041, 'scalps': 21042, 'stranglehold': 21043, 'criticises': 21044, 'sleaze': 21045, 'eleventh': 21046, 'adjustment': 21047, 'bilateral': 21048, 'plucky': 21049, '1960s': 21050, 'trafficker': 21051, 'mateo': 21052, 'mania': 21053, 'micronesia': 21054, 'cayman': 21055, 'dumais': 21056, 'prohibition': 21057, 'stocking': 21058, 'libations': 21059, 'choices': 21060, 'groundwork': 21061, 'unsustainable': 21062, 'pohl': 21063, 'mwai': 21064, 'kibaki': 21065, '300b': 21066, 'overturn': 21067, 'fielded': 21068, 'donors': 21069, 'judged': 21070, 'criterion': 21071, 'pares': 21072, 'middleware': 21073, 'soa': 21074, 'zeroes': 21075, 'elbowing': 21076, 'scots': 21077, 'internationals': 21078, 'weeps': 21079, 'wept': 21080, 'holidaymakers': 21081, 'workshare': 21082, 'metadata': 21083, 'pollack': 21084, 'extravaganza': 21085, 'spoiler': 21086, 'albay': 21087, 'salceda': 21088, 'denigrate': 21089, 'venezuelas': 21090, 'roller': 21091, 'coaster': 21092, 'broadest': 21093, 'relishes': 21094, 'relishing': 21095, 'strachan': 21096, 'pickering': 21097, 'angela': 21098, 'squabbling': 21099, 'newfoundland': 21100, 'labrador': 21101, 'ramps': 21102, 'mystified': 21103, 'thorough': 21104, 'slowness': 21105, 'monsoon': 21106, 'counters': 21107, 'shrug': 21108, 'taxation': 21109, 'spiked': 21110, 'evolve': 21111, 'nervy': 21112, 'acusations': 21113, 'nightly': 21114, 'mogadishu': 21115, \"o'reilly\": 21116, 'configured': 21117, 'snarl': 21118, 'staffs': 21119, 'neelie': 21120, 'kroes': 21121, 'gruelling': 21122, 'trudge': 21123, 'trampled': 21124, 'dared': 21125, 'anchors': 21126, 'knight': 21127, 'peio': 21128, 'herzliya': 21129, 'fog': 21130, 'mailers': 21131, 'unenviable': 21132, 'concede': 21133, 'grinds': 21134, 'iphtashu': 21135, 'backroom': 21136, 'altercation': 21137, 'puntland': 21138, 'eradicating': 21139, \"'olympic\": 21140, 'chuck': 21141, 'hagel': 21142, 'saturdays': 21143, 'andrews': 21144, 'valuations': 21145, 'suppress': 21146, 'pond': 21147, 'beefs': 21148, 'assertion': 21149, 'outbound': 21150, 'disappears': 21151, 'recess': 21152, 'tribes': 21153, 'complains': 21154, 'hb7': 21155, 'shareholdings': 21156, 'rbos': 21157, 'inflicted': 21158, 'roiled': 21159, 'hagerstown': 21160, 'bks': 21161, 'gme': 21162, 'bbi': 21163, 'twmc': 21164, 'fye': 21165, 'vineeta': 21166, 'rai': 21167, 'saksena': 21168, 'svyatoslav': 21169, 'bychkov': 21170, 'ilim': 21171, 'pundit': 21172, 'kcna': 21173, 'burials': 21174, 'workstations': 21175, 'phillipines': 21176, 'feasibility': 21177, '3bln': 21178, 'defer': 21179, 'scst': 21180, 'fortress': 21181, '232': 21182, 'celebs': 21183, 'bourne': 21184, 'scarlett': 21185, 'johansson': 21186, 'talents': 21187, 'wrongs': 21188, 'stripping': 21189, '6ghz': 21190, 'lawlessness': 21191, 'commemorated': 21192, 'uncovers': 21193, 'bipolar': 21194, 'northfield': 21195, 'cookie': 21196, 'googly': 21197, 'stagflation': 21198, '970': 21199, 'istvan': 21200, 'szabo': 21201, 'niece': 21202, 'aunt': 21203, 'drugged': 21204, 'assaulted': 21205, 'pileup': 21206, 'scandinavian': 21207, 'frey': 21208, 'extinguished': 21209, 'agonizingly': 21210, 'osullivan': 21211, 'cude': 21212, 'karen': 21213, 'tso': 21214, '688': 21215, 'nvestors': 21216, 'castings': 21217, 'cedarburg': 21218, 'stolpen': 21219, 'scheming': 21220, 'forgets': 21221, 'remembering': 21222, 'harper': 21223, 'decry': 21224, 'stalwarts': 21225, 'sizing': 21226, 'stengle': 21227, 'infects': 21228, 'speedier': 21229, 'offload': 21230, 'ajax': 21231, 'detergent': 21232, 'rubinkam': 21233, 'toews': 21234, 'ordinance': 21235, 'minors': 21236, 'grasps': 21237, 'treasurys': 21238, 'yumisledi': 21239, 'pl': 21240, 'justly': 21241, 'yumisleidi': 21242, 'notify': 21243, 'redundant': 21244, 'whowhere': 21245, 'labeled': 21246, 'aggregates': 21247, 'finder': 21248, 'pinged': 21249, 'veterinary': 21250, 'yammering': 21251, 'informationweek': 21252, 'hostreview': 21253, 'bloomfield': 21254, 'joked': 21255, 'womb': 21256, 'ever': 21257, 'hydrant': 21258, 'wolfsburg': 21259, 'colombias': 21260, 'comrades': 21261, 'lans': 21262, 'spooks': 21263, 'arbitrator': 21264, 'vezina': 21265, 'workweek': 21266, 'deprived': 21267, 'dents': 21268, 'ney': 21269, 'bellwethers': 21270, 'voyeur': 21271, 'emailing': 21272, 'keystrokes': 21273, 'installs': 21274, 'registry': 21275, 'consistency': 21276, 'decathlons': 21277, 'shakier': 21278, 'penang': 21279, 'warren': 21280, 'reich': 21281, 'selecltion': 21282, 'holmgren': 21283, 'bulked': 21284, 'gis': 21285, 'infantrymen': 21286, 'ushers': 21287, 'hyperactive': 21288, 'batman': 21289, 'cameramen': 21290, 'sticking': 21291, 'sentimental': 21292, 'unlike': 21293, 'tightness': 21294, 'dvertisers': 21295, 'drowns': 21296, '175': 21297, 'awarding': 21298, 'us200': 21299, '281': 21300, 'jelena': 21301, 'magdalena': 21302, 'ios': 21303, 'modularity': 21304, \"cisco'sios\": 21305, 'trickles': 21306, 'reat': 21307, 'damning': 21308, '170': 21309, 'provoking': 21310, 'ladens': 21311, 'resurrected': 21312, 'abolish': 21313, 'broadside': 21314, 'galleon': 21315, 'hodson': 21316, 'ts': 21317, '2megapixel': 21318, 'lens': 21319, 'reflex': 21320, 'eos': 21321, '20d': 21322, 'hematite': 21323, 'ruthless': 21324, 'downplaying': 21325, 'worrisome': 21326, 'a80': 21327, 'bins': 21328, 'impossibly': 21329, 'tanned': 21330, 'allana': 21331, 'catalina': 21332, 'ponor': 21333, 'yitzhak': 21334, 'rabin': 21335, 'coined': 21336, 'abut': 21337, 'kongers': 21338, 'voyeurs': 21339, 'peek': 21340, 'analysed': 21341, 'mythological': 21342, 'conner': 21343, 'ructions': 21344, 'sitecatalyst': 21345, 'obligatory': 21346, 'kidd': 21347, 'rutherford': 21348, 'continental': 21349, 'expenditures': 21350, 'undermines': 21351, 'gatlins': 21352, 'equatoguinean': 21353, \"day's\": 21354, 'nudging': 21355, 'encouragement': 21356, 'vouch': 21357, 'soybeans': 21358, 'astonished': 21359, 'alene': 21360, 'balked': 21361, 'torment': 21362, 'horribly': 21363, 'xu': 21364, 'gouzel': 21365, 'maniourova': 21366, 'kyoko': 21367, 'hamaguchi': 21368, 'triumphant': 21369, '799': 21370, 'netweaver': 21371, 'rashed': 21372, 'rahman': 21373, 'safma': 21374, 'boycots': 21375, 'boycotting': 21376, 'kinsmen': 21377, 'maul': 21378, 'slumps': 21379, 'socioeconomic': 21380, 'romulo': 21381, 'dzmm': 21382, '91ers': 21383, 'kickaround': 21384, 'outduel': 21385, 'peavy': 21386, 'graduates': 21387, 'giovanni': 21388, 'carrara': 21389, 'rivera': 21390, 'corbett': 21391, 'calories': 21392, 'chant': 21393, 'jse': 21394, 'estonia': 21395, 'estonians': 21396, 'quotas': 21397, 'quota': 21398, 'phir': 21399, 'milenge': 21400, 'stigma': 21401, 'reconcile': 21402, 'companionship': 21403, 'ochichi': 21404, 'lastminute': 21405, 'randall': 21406, 'tipping': 21407, 'vanishes': 21408, 'bathroom': 21409, 'heap': 21410, 'wiggle': 21411, 'groundwater': 21412, 'seeps': 21413, 'wading': 21414, 'sags': 21415, 'springsteen': 21416, 'loudspeaker': 21417, 'mofa': 21418, 'misinterpreted': 21419, 'uneven': 21420, 'democratization': 21421, 'superimposes': 21422, 'shea': 21423, 'applaud': 21424, 'characteristically': 21425, 'orchids': 21426, 'orchid': 21427, 'often': 21428, 'nose': 21429, 'breakdown': 21430, 'concession': 21431, 'inksys': 21432, 'herndon': 21433, 'simulates': 21434, 'aneurysm': 21435, 'intrinsically': 21436, 'pie': 21437, 'dly': 21438, 'boarder': 21439, 'mistakenly': 21440, 'carrollton': 21441, 'seriousness': 21442, 'vindictive': 21443, 'zapped': 21444, 'coding': 21445, 'shoveled': 21446, 'barren': 21447, 'pangnirtung': 21448, 'baffin': 21449, 'octane': 21450, 'exper': 21451, 'significance': 21452, 'cb': 21453, 'ballet': 21454, 'flats': 21455, 'nah': 21456, 'noticeable': 21457, 'fledged': 21458, 'ginger': 21459, 'astaire': 21460, 'withstand': 21461, 'plagiarized': 21462, 'arising': 21463, 'skidded': 21464, 'corks': 21465, 'coubertin': 21466, 'ten': 21467, 'nis': 21468, 'sampras': 21469, 'faliro': 21470, '167': 21471, 'interacts': 21472, 'buddies': 21473, 'cruz': 21474, 'enhances': 21475, 'realism': 21476, 'donley': 21477, 'outduels': 21478, 'skydome': 21479, 'destabilise': 21480, 'mishkat': 21481, 'moumin': 21482, 'jerremy': 21483, 'biennial': 21484, 'cripples': 21485, 'trailblazer': 21486, 'inflammatory': 21487, 'outrageous': 21488, 'skittish': 21489, 'damped': 21490, 'digestion': 21491, 'lasalandra': 21492, 'brynna': 21493, '20s': 21494, 'bloating': 21495, 'cramping': 21496, 'heinrichs': 21497, 'deane': 21498, 'hartz': 21499, 'differentiate': 21500, 'graceful': 21501, 'relieving': 21502, 'menopause': 21503, 'unproven': 21504, 'floodwaters': 21505, 'walkable': 21506, 'lobbied': 21507, 'pediatrician': 21508, 'beth': 21509, 'pure': 21510, 'milen': 21511, 'dobrev': 21512, 'seeding': 21513, '207': 21514, 'wane': 21515, 'irritable': 21516, 'bowel': 21517, 'constipation': 21518, 'ils': 21519, 'lily': 21520, 'intercontinental': 21521, 'netanya': 21522, 'eilat': 21523, 'lobbies': 21524, 'comers': 21525, 'eii': 21526, 'righthander': 21527, 'jerome': 21528, 'lulled': 21529, 'rendered': 21530, '90s': 21531, 'jurgen': 21532, 'hristo': 21533, 'stoitchkov': 21534, 'marcello': 21535, 'lippi': 21536, \"o'brien\": 21537, 'swan': 21538, 'cameroon': 21539, 'francoise': 21540, 'etone': 21541, 'pips': 21542, 'hrysopiyi': 21543, 'devetzi': 21544, 'jams': 21545, 'restatements': 21546, 'hedges': 21547, 'delinquencies': 21548, 'whistleblowing': 21549, '515': 21550, '725': 21551, 'kerkorian': 21552, 'prosperous': 21553, 'scavenge': 21554, 'furawiyah': 21555, 'rummaging': 21556, 'ashy': 21557, 'dingy': 21558, 'moussa': 21559, 'safi': 21560, 'riyadh': 21561, 'loudly': 21562, 'motel': 21563, '359': 21564, 'piniella': 21565, 'ambulance': 21566, 'omega': 21567, 'breguet': 21568, 'ucsd': 21569, 'snoops': 21570, 'peep': 21571, 'stereotypes': 21572, 'statistic': 21573, 'wottle': 21574, 'grief': 21575, 'longed': 21576, 'cobh': 21577, 'lhp': 21578, 'subdues': 21579, 'bert': 21580, 'blyleven': 21581, '002d': 21582, 'goose': 21583, 'gossage': 21584, 'germanythe': 21585, 'eleanor': 21586, 'wart': 21587, 'ovals': 21588, 'scorecards': 21589, 'parable': 21590, 'fgl': 21591, 'pub': 21592, 'courting': 21593, 'mgm': 21594, 'goldwyn': 21595, 'mayer': 21596, 'businesslike': 21597, 'preening': 21598, 'aleksander': 21599, 'sapic': 21600, 'handoff': 21601, 'routs': 21602, 'cinch': 21603, 'showdowns': 21604, 'nancy': 21605, 'kerrigan': 21606, 'tonya': 21607, 'harding': 21608, 'heraklion': 21609, 'kazmirs': 21610, 'untouchable': 21611, 'qube': 21612, 'polyphonic': 21613, 'generalisimo': 21614, 'dazzles': 21615, '533': 21616, 'unharmed': 21617, '1970s': 21618, 'cesare': 21619, 'battisti': 21620, 'insurgent': 21621, 'appropriate': 21622, 'casually': 21623, 'deserve': 21624, '29bn': 21625, '217': 21626, '172': 21627, 'contains': 21628, 'savior': 21629, 'mindgent': 21630, 'heikens': 21631, 'infector': 21632, 'graner': 21633, 'dtc': 21634, 'parting': 21635, 'aisles': 21636, 'bacchanalian': 21637, 'cmbss': 21638, 'unskilled': 21639, 'amassed': 21640, 'cutback': 21641, 'aoc': 21642, 'jahrling': 21643, 'pelting': 21644, 'listeners': 21645, 'piercing': 21646, 'spotty': 21647, 'crises': 21648, 'leery': 21649, 'gyroscopically': 21650, 'scooter': 21651, 'commandeer': 21652, 'collectibles': 21653, 'booted': 21654, 'fakes': 21655, 'infuriated': 21656, 'guardsman': 21657, 'sayyaf': 21658, 'graduated': 21659, 'saxby': 21660, '24th': 21661, 'solves': 21662, 'handiwork': 21663, 'advancements': 21664, 'prowl': 21665, 'w64': 21666, 'shruggle': 21667, 'infecter': 21668, 'actively': 21669, 'huger': 21670, 'hart': 21671, 'wipe': 21672, 'opinionated': 21673, 'bsd2': 21674, 'myrtle': 21675, 'uphold': 21676, 'strict': 21677, 'goalpost': 21678, 'kantor': 21679, 'indigenous': 21680, 'unites': 21681, 'greecesaying': 21682, 'euro400': 21683, 'shakeup': 21684, 'rote': 21685, 'delicate': 21686, 'padilla': 21687, 'retailing': 21688, 'merchandising': 21689, 'wean': 21690, 'groans': 21691, 'palmisano': 21692, 'bergstein': 21693, 'eleni': 21694, 'invective': 21695, 'idiot': 21696, 'beersheba': 21697, 'splitting': 21698, 'compeititons': 21699, 'habibul': 21700, 'icc': 21701, 'prodded': 21702, 'wiretapped': 21703, 'implying': 21704, 'std': 21705, 'depo': 21706, 'provera': 21707, 'bastard': 21708, 'guides': 21709, 'wanadoo': 21710, 'internet2': 21711, 'ante': 21712, 'blockading': 21713, 'spikes': 21714, 'gaze': 21715, 'fretting': 21716, 'coincides': 21717, 'rejigged': 21718, 'hyper': 21719, 'threading': 21720, 'extensions': 21721, 'midsized': 21722, 'logowatch': 21723, 'unpleasant': 21724, \"c'm\": 21725, 'autistic': 21726, 'autism': 21727, \"tibet's\": 21728, 'fades': 21729, 'robonaut': 21730, 'imaged': 21731, 'shames': 21732, 'royce': 21733, 'lloyd': 21734, 'abdurahman': 21735, 'khadr': 21736, 'mole': 21737, 'peeved': 21738, 'slighted': 21739, 'pubs': 21740, 'reaffirms': 21741, 'toffees': 21742, 'ham': 21743, 'echoes': 21744, 'waned': 21745, 'embargo': 21746, 'birdflu': 21747, 'mutation': 21748, 'itanic': 21749, 'em64': 21750, 'rhapsody': 21751, 'countrywomen': 21752, \"'orphan\": 21753, 'forceful': 21754, 'rot': 21755, 'pinpoints': 21756, 'sk390': 21757, '390': 21758, 'kronor': 21759, 'sp': 21760, 'activisions': 21761, 'doom3': 21762, 'passport': 21763, 'laughter': 21764, '202': 21765, 'semites': 21766, 'malfunctions': 21767, 'aboot': 21768, 'wrapper': 21769, 'gamespot': 21770, 'outsiders': 21771, 'limp': 21772, 'spunky': 21773, 'caroline': 21774, 'lac': 21775, 'beauport': 21776, 'flatwater': 21777, 'newsasia': 21778, 'haseenah': 21779, 'koyakutty': 21780, 'kharazi': 21781, 'expose': 21782, 'plainly': 21783, 'pot': 21784, 'roundly': 21785, 'attributes': 21786, 'apologise': 21787, 'slamming': 21788, 'apologised': 21789, 'lambasting': 21790, 'laval': 21791, 'philippe': 21792, 'comtois': 21793, '186': 21794, 'konrad': 21795, 'arrollton': 21796, 'paints': 21797, 'gloomy': 21798, 'softens': 21799, 'airtime': 21800, 'intake': 21801, 'valdes': 21802, 'dapena': 21803, 'leigh': 21804, 'strope': 21805, 'roadways': 21806, 'neowin': 21807, '25th': 21808, 'scent': 21809, 'sniffing': 21810, 'whiff': 21811, 'spectral': 21812, 'rewire': 21813, 'nongenetically': 21814, 'ravenously': 21815, 'cams': 21816, 'metabolism': 21817, 'aljazeera': 21818, 'deserves': 21819, 'junichiro': 21820, 'koizumi': 21821, 'suffer': 21822, 'growls': 21823, 'mutinied': 21824, 'overloaded': 21825, 'certainty': 21826, 'busters': 21827, 'darlings': 21828, 'pterostilbene': 21829, 'overblown': 21830, 'resonance': 21831, 'berg': 21832, 'repaid': 21833, 'pankritio': 21834, 'epicentre': 21835, 'shipman': 21836, 'kyiv': 21837, 'foundered': 21838, 'kuchma': 21839, 'karina': 21840, 'longworth': 21841, 'theatrical': 21842, 'tamper': 21843, 'pare': 21844, 'amex': 21845, 'cboe': 21846, 'fuelling': 21847, 'acquirers': 21848, 'wilfredo': 21849, 'ledezma': 21850, 'unimportant': 21851, '8221': 21852, 'griffith': 21853, 'responses': 21854, 'kabel': 21855, 'deutschland': 21856, 'appease': 21857, \"hollywood's\": 21858, 'misdiagnosis': 21859, 'auburn': 21860, 'raptor': 21861, 'puzzled': 21862, 'culprit': 21863, 'perils': 21864, 'erecting': 21865, '654': 21866, 'monastery': 21867, 'athos': 21868, 'regrettable': 21869, 'swallows': 21870, 'bakeries': 21871, 'bulks': 21872, 'trios': 21873, 'settings': 21874, 'travels': 21875, 'squashed': 21876, 'criticizing': 21877, 'fomenting': 21878, 'roadshow': 21879, 'renaults': 21880, 'motorsport': 21881, 'v10': 21882, 'circuits': 21883, 'leary': 21884, 'midlands': 21885, 'aitken': 21886, 'mcgregor': 21887, 'shrs': 21888, 'natl': 21889, 'ssb': 21890, 'hooliganism': 21891, 'biannual': 21892, 'collared': 21893, 'penetrated': 21894, 'spokesperson': 21895, 'tse': 21896, 'jiji': 21897, 'procuring': 21898, 'admirers': 21899, 'evia': 21900, 'goliath': 21901, 'simmers': 21902, 'pairings': 21903, 'widest': 21904, 'supremo': 21905, 'colby': 21906, 'pearce': 21907, 'resales': 21908, 'wooing': 21909, 'removable': 21910, 'invincibles': 21911, 'greats': 21912, 'invincibility': 21913, 'polluting': 21914, 'booting': 21915, 'waterfall': 21916, 'hempstead': 21917, 'accretive': 21918, 'suitable': 21919, 'interbew': 21920, 'rigases': 21921, 'owe': 21922, 'gloucester': 21923, 'ignatyev': 21924, '20million': 21925, 'northwestward': 21926, 'preemptive': 21927, 'luddite': 21928, 'spamvertised': 21929, 'squeezes': 21930, 'dbcc': 21931, 'malacaang': 21932, 'allayed': 21933, 'exerting': 21934, 'nyeastman': 21935, 'qn': 21936, 'cingulars': 21937, 'aws': 21938, 'infineon': 21939, 'extrasolar': 21940, 'italians': 21941, 'brush': 21942, 'richter': 21943, 'oaks': 21944, 'ponytail': 21945, 'depicted': 21946, 'beyond': 21947, 'botswana': 21948, 'botswanan': 21949, 'debswana': 21950, 'incorporating': 21951, 'barnwell': 21952, 'aftercare': 21953, 'facilitation': 21954, 'basking': 21955, 'matera': 21956, 'mel': 21957, 'gibson': 21958, 'untied': 21959, 'goalscorer': 21960, 'tevez': 21961, 'volley': 21962, 'exam': 21963, 'baik': 21964, 'qualifies': 21965, 'amer': 21966, 'jamali': 21967, 'medication': 21968, 'scribe': 21969, 'adage': 21970, 'sochi': 21971, 'ulster': 21972, 'inked': 21973, 'equality': 21974, 'tent': 21975, 'umm': 21976, 'fahm': 21977, 'junction': 21978, 'insert': 21979, 'eluded': 21980, 'decathlete': 21981, 'dmitriy': 21982, 'karpov': 21983, 'disciplines': 21984, 'percassi': 21985, 'agi': 21986, 'luciano': 21987, '7p': 21988, 'deliveries': 21989, 'everyone': 21990, 'catheter': 21991, 'discontinued': 21992, 'rue': 21993, 'whispering': 21994, 'rd': 21995, 'japans': 21996, 'acsi': 21997, 'spurned': 21998, 'outplay': 21999, 'stiffening': 22000, 'thinkpad': 22001, 'x40': 22002, 'spiraled': 22003, 'neglecting': 22004, 'byiraqi': 22005, 'mudslides': 22006, 'densely': 22007, 'repay': 22008, 'owed': 22009, 'juichi': 22010, 'convoluted': 22011, '902': 22012, 'mikelsons': 22013, '226bn': 22014, 'realrhapsody': 22015, 'frawley': 22016, 'hurlstone': 22017, 'obey': 22018, 'originator': 22019, 'organizes': 22020, 'ass': 22021, 'sleet': 22022, 'likening': 22023, 'greeces': 22024, '000metres': 22025, 'topples': 22026, 'snickers': 22027, 'subtlest': 22028, 'brondby': 22029, 'aalborg': 22030, 'cantonment': 22031, 'majzoub': 22032, 'khalifa': 22033, 'clarify': 22034, 'schaumburg': 22035, \"corp's\": 22036, 'redefining': 22037, 'swedishness': 22038, 'literary': 22039, 'generational': 22040, 'blond': 22041, 'guzzling': 22042, 'herman': 22043, 'vacancies': 22044, 'appointments': 22045, 'restricts': 22046, 'dontrelle': 22047, 'mashona': 22048, 'heartache': 22049, 'strive': 22050, 'inhibiting': 22051, 'blueberry': 22052, 'fungal': 22053, 'glenn': 22054, 'hoddles': 22055, 'inhaled': 22056, 'powdered': 22057, 'deadliest': 22058, 'creditor': 22059, 'ilford': 22060, '127': 22061, 'unprofessional': 22062, 'shakedown': 22063, 'brookline': 22064, 'scituate': 22065, 'potholes': 22066, 'repaved': 22067, 'planted': 22068, 'iv': 22069, 'concertgoers': 22070, 'ushermc': 22071, 'dissatisfied': 22072, 'backups': 22073, 'geopolitical': 22074, 'boil': 22075, 'candor': 22076, 'diluting': 22077, 'attrition': 22078, 'resembled': 22079, 'handball': 22080, 'fouled': 22081, 'sneakaways': 22082, 'pivotmen': 22083, 'weaves': 22084, 'gos': 22085, 'lookaway': 22086, 'backdoor': 22087, 'setup': 22088, 'fullest': 22089, 'capricious': 22090, 'dictated': 22091, 'tilting': 22092, 'contradicting': 22093, 'freshmen': 22094, 'kicker': 22095, 'ohliger': 22096, 'ayers': 22097, 'oakton': 22098, 'evita': 22099, 'agiasoteli': 22100, 'athenian': 22101, 'nea': 22102, 'ionia': 22103, 'yelling': 22104, 'yogurts': 22105, 'unfinished': 22106, 'evgeny': 22107, 'makarenko': 22108, 'predicament': 22109, 'sidearm': 22110, 'curveballs': 22111, 'fastballs': 22112, 'knuckleballs': 22113, 'meltemi': 22114, 'railing': 22115, 'piedmont': 22116, 'turner': 22117, 'cora': 22118, 'sisler': 22119, '1961': 22120, 'remanded': 22121, 'mishandled': 22122, 'repo': 22123, 'parthenon': 22124, 'plaka': 22125, 'outscoring': 22126, 'ennui': 22127, 'calamity': 22128, 'befell': 22129, 'mirabelli': 22130, 'corral': 22131, 'knuckleball': 22132, 'computational': 22133, 'filter': 22134, 'dignity': 22135, 'basheer': 22136, 'og': 22137, 'hoer': 22138, 'carabinieri': 22139, 'tracing': 22140, 'ginsberg': 22141, 'hitching': 22142, 'wagon': 22143, 'remarkably': 22144, 'inconsistency': 22145, 'leaguers': 22146, 'tu': 22147, 'rostov': 22148, 'squadron': 22149, 'archives': 22150, 'inattention': 22151, 'mistreatment': 22152, 'baiji': 22153, 'stolid': 22154, 'moskva': 22155, 'manezh': 22156, 'cobblestoned': 22157, 'expanse': 22158, 'obscured': 22159, 'modernist': 22160, 'hulk': 22161, 'rossiya': 22162, 'grimy': 22163, 'gleaming': 22164, 'skier': 22165, 'diaries': 22166, 'witch': 22167, 'comedienne': 22168, 'shabana': 22169, 'rehman': 22170, 'provocative': 22171, 'nf': 22172, 'sega': 22173, 'beetles': 22174, 'carcasses': 22175, 'loathing': 22176, 'lobsterland': 22177, 'flirt': 22178, 'urinating': 22179, 'crustaceans': 22180, 'secretive': 22181, 'finches': 22182, 'crampons': 22183, 'fragments': 22184, 'brittle': 22185, 'fabric': 22186, 'insights': 22187, 'textiles': 22188, 'frightened': 22189, 'georgiaite': 22190, 'grandell': 22191, 'ncc': 22192, 'pad': 22193, 'marrow': 22194, 'constantly': 22195, 'supplied': 22196, 'biomolecules': 22197, 'replicating': 22198, 'dioxin': 22199, 'pcbs': 22200, 'pesticides': 22201, 'advisories': 22202, 'trumpets': 22203, 'segments': 22204, 'mdgrape': 22205, 'calculate': 22206, 'creators': 22207, 'say': 22208, 'capitalist': 22209, 'nanosys': 22210, '7333': 22211, 'dignitaries': 22212, 'holdup': 22213, 'licking': 22214, '80mbps': 22215, 'ferryboat': 22216, 'puget': 22217, 'rsa': 22218, 'deleting': 22219, 'salerno': 22220, 'outscore': 22221, 'nss': 22222, 'curtailing': 22223, 'curtail': 22224, 'pullman': 22225, 'departing': 22226, '35b': 22227, 'paulwell': 22228, 'assess': 22229, 'odm': 22230, 'footie': 22231, 'fest': 22232, 'apos': 22233, 'flexing': 22234, 'modeled': 22235, 'rigid': 22236, 'caste': 22237, 'parija': 22238, 'bhatnagar': 22239, 'a117': 22240, 'comforted': 22241, 'babraham': 22242, 'dataquest': 22243, 'furthering': 22244, 'realm': 22245, 'recognizable': 22246, 'destiny': 22247, 'len': 22248, 'tattooed': 22249, 'blazer': 22250, 'throttle': 22251, 'tillakaratne': 22252, 'dilshan': 22253, 'prestige': 22254, 'machinery': 22255, 'procured': 22256, 'smiley': 22257, 'ovine': 22258, 'reprimands': 22259, 'associatates': 22260, 'outburst': 22261, 'mississauga': 22262, 'skirmish': 22263, 'brig': 22264, 'shbak': 22265, 'tareq': 22266, 'rajab': 22267, 'fueling': 22268, 'leapfrogs': 22269, 'deccan': 22270, '86bn': 22271, 'goldin': 22272, 'dieguito': 22273, 'encinitas': 22274, 'gyroscope': 22275, 'converts': 22276, 'lifeway': 22277, 'unforeseen': 22278, 'sleepless': 22279, 'pk2000': 22280, 'cefact': 22281, 'notification': 22282, 'pipped': 22283, 'elisabeth': 22284, 'kubler': 22285, 'psychiatrist': 22286, 'revolutionized': 22287, 'terminally': 22288, 'hospice': 22289, 'macrovision': 22290, 'annoys': 22291, 'unused': 22292, 'unpublished': 22293, 'daisy': 22294, 'riverside': 22295, 'nonfatal': 22296, 'nonsmokers': 22297, 'then': 22298, 'hushing': 22299, 'same': 22300, 'staley': 22301, 'arkayev': 22302, 'yulia': 22303, 'olga': 22304, 'carving': 22305, 'yucca': 22306, 'stored': 22307, 'indiscriminate': 22308, 'infringing': 22309, 'gutherie': 22310, 'scrappy': 22311, 'penenberg': 22312, 'nerdiverse': 22313, 'newmark': 22314, 'sublet': 22315, 'mchugh': 22316, 'embracing': 22317, 'hasta': 22318, 'vista': 22319, 'circuiting': 22320, 'jill': 22321, '134': 22322, 'spinner': 22323, 'invades': 22324, '09': 22325, 'sardine': 22326, 'tranquil': 22327, 'balmy': 22328, 'sardines': 22329, 'stockholder': 22330, 'notwithstanding': 22331, 'innovations': 22332, 'partnered': 22333, 'sheepish': 22334, 'woolly': 22335, 'newcomers': 22336, 'harrier': 22337, 'goad': 22338, 'serbians': 22339, 'wallenberg': 22340, '2x': 22341, 'evaluates': 22342, 'pyjamas': 22343, 'spills': 22344, 'homelands': 22345, 'warcrimes': 22346, 'authenticity': 22347, 'accreditation': 22348, 'accredits': 22349, 'mascot': 22350, 'racially': 22351, 'recklessly': 22352, 'umbrella': 22353, 'microsurgical': 22354, 'dilation': 22355, 'kidneys': 22356, 'sjm': 22357, 'beermeister': 22358, 'frosty': 22359, 'doggies': 22360, 'cdma': 22361, 'chilly': 22362, 'tonique': 22363, 'rgentina': 22364, 'perceived': 22365, 'defences': 22366, 'reinfected': 22367, 'shaujaat': 22368, 'shauket': 22369, 'skydiving': 22370, 'omnivision': 22371, 'datamonitor': 22372, 'spoofed': 22373, 'progresses': 22374, 'graz': 22375, 'accessibility': 22376, 'guidlines': 22377, 'underscores': 22378, 'coordinating': 22379, 'crosswalks': 22380, 'mcnichol': 22381, 'sullied': 22382, 'condoned': 22383, 'podcasting': 22384, 'newsreaders': 22385, 'tivocasting': 22386, 'reseller': 22387, 'fujifilm': 22388, '3ghz': 22389, '8ghz': 22390, 'kellerman': 22391, 'ignoramus': 22392, 'f1s': 22393, 'khamenei': 22394, 'semantics': 22395, 'reprograms': 22396, 'cohn': 22397, 'chided': 22398, 'pietro': 22399, 'lunardi': 22400, 'debunked': 22401, 'statisticians': 22402, 'debunking': 22403, 'bamian': 22404, '8212': 22405, 'zemaryalai': 22406, 'tarzi': 22407, 'buddhas': 22408, 'infamously': 22409, 'bsx': 22410, 'arise': 22411, 'depiction': 22412, 'flatline': 22413, 'advancers': 22414, 'ramadorai': 22415, 'hordes': 22416, 'stamped': 22417, 'centimetres': 22418, 'bombers': 22419, 'fiddler': 22420, 'dedicates': 22421, 'sanos': 22422, 'emanuel': 22423, 'rego': 22424, 'bosma': 22425, 'pablo': 22426, 'herrera': 22427, 'transferred': 22428, 'cipinang': 22429, 'glover': 22430, 'bluescope': 22431, 'awesome': 22432, 'inspected': 22433, 'sigma': 22434, 'adi': 22435, 'thawfeeq': 22436, 'strangled': 22437, 'rangiri': 22438, 'encapsulate': 22439, 'complexity': 22440, 'unsyndicated': 22441, 'excerpts': 22442, 'differs': 22443, 'simpson': 22444, 'tomacco': 22445, 'cheesy': 22446, 'stepchild': 22447, 'exron': 22448, 'bros': 22449, 'resilient': 22450, 'beginner': 22451, 'gracious': 22452, 'duration': 22453, 'uninspired': 22454, 'rationing': 22455, 'mutates': 22456, 'exerciseeven': 22457, 'hustled': 22458, 'detectors': 22459, 'cockpit': 22460, 'safeguards': 22461, 'contradicts': 22462, 'manx': 22463, 'umts': 22464, 'voula': 22465, 'patoulidou': 22466, 'graphical': 22467, 'procedural': 22468, 'edonkey': 22469, 'woos': 22470, 'countered': 22471, 'speedster': 22472, 'vagner': 22473, 'ration': 22474, 'transmitters': 22475, 'laurence': 22476, 'les': 22477, 'echos': 22478, 'damarcus': 22479, 'psv': 22480, 'eindhoven': 22481, 'hoekstra': 22482, 'porter': 22483, 'goss': 22484, 'hastert': 22485, 'loyalty': 22486, 'pepsico': 22487, 'moamer': 22488, 'transpacific': 22489, 'anchorage': 22490, 'capsized': 22491, 'tarred': 22492, 'praising': 22493, 'komando': 22494, 'seldom': 22495, 'inconceivable': 22496, 'asides': 22497, '1952': 22498, 'sailboard': 22499, 'kosmas': 22500, 'kent': 22501, 'knockout': 22502, 'affection': 22503, 'safeguarding': 22504, 'koenig': 22505, 'filesharing': 22506, 'rodent': 22507, 'drying': 22508, 'commenting': 22509, 'straighten': 22510, 'compelled': 22511, 'symbolism': 22512, 'marvan': 22513, 'atapattu': 22514, 'evacuating': 22515, 'roils': 22516, 'torching': 22517, 'feasting': 22518, 'rallys': 22519, 'chamberlin': 22520, 'rid': 22521, 'dispose': 22522, 'ustody': 22523, 'offshoot': 22524, 'estimation': 22525, 'stabilises': 22526, 'chillier': 22527, 'raft': 22528, 'geek': 22529, 'bedrooms': 22530, 'pdf': 22531, 'boarder8925': 22532, '333mhz': 22533, 'frontside': 22534, '166mhz': 22535, 'frederich': 22536, 'cepeda': 22537, 'fredericton': 22538, 'beckoned': 22539, 'balkans': 22540, 'caches': 22541, 'centrally': 22542, 'barings': 22543, 'counterfeiting': 22544, '964': 22545, '722': 22546, 'skips': 22547, 'socials': 22548, 'manitoba': 22549, 'hurtled': 22550, 'firming': 22551, '29bil': 22552, 'microsoftand': 22553, 'undervalued': 22554, 'corrects': 22555, 'giancarlo': 22556, 'cimoli': 22557, 'frequencies': 22558, 'suck': 22559, 'us5': 22560, 'reiterates': 22561, 'inaction': 22562, 'schoop': 22563, 'vanco': 22564, 'vpn': 22565, 'labored': 22566, 'anxieties': 22567, 'hotbed': 22568, 'cornerstone': 22569, 'newisys': 22570, 'camouflaged': 22571, '394': 22572, 'wegner': 22573, 'such': 22574, 'valerie': 22575, 'dupont': 22576, 'leeds': 22577, 'eclipsing': 22578, 'irritate': 22579, 'raritan': 22580, 'voracious': 22581, 'sunfish': 22582, 'sturgeon': 22583, 'gamba': 22584, 'plunging': 22585, 'scollapse': 22586, '84bn': 22587, 'stephanie': 22588, 'armour': 22589, 'creature': 22590, 'junggarsuchus': 22591, 'sloani': 22592, 'sphenosuchianone': 22593, 'dwelling': 22594, 'waviness': 22595, 'dignified': 22596, 'tug': 22597, 'rubbish': 22598, 'grace': 22599, 'juliet': 22600, 'cuthbert': 22601, 'assures': 22602, 'expeditious': 22603, 'prayer': 22604, 'christians': 22605, 'middlsbrough': 22606, 'kossuth': 22607, 'guardians': 22608, 'hasbara': 22609, 'canard': 22610, 'squirrelly': 22611, 'petrova': 22612, 'jurassic': 22613, 'croc': 22614, 'deathly': 22615, 'dismembering': 22616, 'northrup': 22617, 'successfull': 22618, 'inured': 22619, 'barricades': 22620, 'rusher': 22621, 'kabeer': 22622, 'gbaja': 22623, 'biamila': 22624, 'squeak': 22625, 'thames': 22626, 'baystar': 22627, 'arranged': 22628, 'concurrent': 22629, 'untouched': 22630, 'detroits': 22631, 'immigrant': 22632, 'cheaply': 22633, 'dependable': 22634, 'unwittingly': 22635, 'ederal': 22636, 'webloggers': 22637, 'aul': 22638, 'partied': 22639, 'magazines': 22640, 'usefulness': 22641, 'narrative': 22642, 'timonium': 22643, 'essay': 22644, 'candid': 22645, 'succeeding': 22646, 'policymakers': 22647, 'edmonds': 22648, 'reggie': 22649, 'valentine': 22650, 'lecavalier': 22651, 'sakic': 22652, 'richards': 22653, '35billion': 22654, 'oxes': 22655, 'huse': 22656, 'crus': 22657, 'bahamian': 22658, 'overtones': 22659, 'relied': 22660, 'salads': 22661, 'fastfood': 22662, 'famine': 22663, 'parathyroid': 22664, 'calcium': 22665, 'utans': 22666, 'borneo': 22667, 'entertaining': 22668, '605': 22669, 'dousing': 22670, 'wohl': 22671, 'nuisance': 22672, 'pch': 22673, 'drese': 22674, 'nationalists': 22675, 'wilting': 22676, 'distancing': 22677, 'relish': 22678, 'julian': 22679, 'alecko': 22680, 'devising': 22681, 'thermal': 22682, 'insulation': 22683, 'underside': 22684, 'liaison': 22685, 'midmorning': 22686, 'undoubtedly': 22687, 'batons': 22688, 'harassment': 22689, 'recoups': 22690, 'recouped': 22691, 'commandeered': 22692, 'cathay': 22693, 'swallowed': 22694, 'packer': 22695, 'sizzle': 22696, '569': 22697, 'pounces': 22698, 'unauthorized': 22699, 'unlaced': 22700, 'galoot': 22701, 'unassuming': 22702, 'sneakers': 22703, 'michaels': 22704, 'crafts': 22705, 'nakamura': 22706, 'ultrahigh': 22707, 'dislocation': 22708, 'density': 22709, 'videocon': 22710, 'solemn': 22711, 'commemorations': 22712, 'eiffel': 22713, '1940s': 22714, 'jeeps': 22715, 'fujian': 22716, 'costing': 22717, 'investigates': 22718, 'upwards': 22719, 'efficient': 22720, 'andto': 22721, 'rejoice': 22722, 'glyfada': 22723, 'pierced': 22724, 'yearning': 22725, 'gcses': 22726, 'gcse': 22727, 'hustling': 22728, 'sentinel': 22729, 'paradorn': 22730, 'ferreira': 22731, 'publications': 22732, '1968': 22733, 'bourses': 22734, '987': 22735, 'surfs': 22736, 'washes': 22737, 'bowled': 22738, 'oppn': 22739, 'desh': 22740, 'asics': 22741, 'wiggling': 22742, 'fl': 22743, 'inklings': 22744, 'infanta': 22745, 'outrigger': 22746, 'fertiliser': 22747, 'teve': 22748, 'craftsman': 22749, 'chirping': 22750, 'blaring': 22751, 'verdant': 22752, 'billboards': 22753, 'boasted': 22754, 'ppx': 22755, 'jinks': 22756, 'regulating': 22757, 'remake': 22758, 'accomplishing': 22759, 'disbanded': 22760, '350': 22761, 'tsvangirai': 22762, 'cpod': 22763, 'afrobarometer': 22764, 'ghanas': 22765, 'consultations': 22766, 'nudges': 22767, 'jupiters': 22768, 'extracting': 22769, 'bailing': 22770, 'ecstasy': 22771, 'tulalip': 22772, 'yorkoil': 22773, 'undue': 22774, 'remediation': 22775, 'avr': 22776, 'microsofts': 22777, 'sp2s': 22778, 'shuffle': 22779, 'preoccupied': 22780, 'grocery': 22781, 'hockney': 22782, 'painters': 22783, 'cameralike': 22784, 'fostering': 22785, 'gender': 22786, 'orb': 22787, 'spins': 22788, 'cubas': 22789, 'inequality': 22790, 'tabloid': 22791, 'startlingly': 22792, 'gorkha': 22793, 'trekking': 22794, 'schoolteacher': 22795, 'lumnath': 22796, 'lamichanne': 22797, 'pounced': 22798, 'caddie': 22799, '7e7s': 22800, 'expedia': 22801, 'mcgowan': 22802, 'explores': 22803, 'parcel': 22804, 'hindered': 22805, 'sweetened': 22806, 'mec': 22807, 'sweeten': 22808, '286': 22809, 'racetrack': 22810, 'veryone': 22811, 'covets': 22812, 'seamless': 22813, 'injects': 22814, 'windsurfing': 22815, 'resounding': 22816, 'littleton': 22817, 'uniteds': 22818, 'udy': 22819, 'bully': 22820, 'marlene': 22821, 'presser': 22822, 'conscientious': 22823, 'decks': 22824, 'charismatic': 22825, 'convened': 22826, 'pter': 22827, 'reclaimed': 22828, 'sanaa': 22829, 'uss': 22830, 'mangled': 22831, 'birch': 22832, 'groves': 22833, 'amama': 22834, 'mbabazi': 22835, 'murigande': 22836, 'ramazani': 22837, 'baya': 22838, 'piped': 22839, 'pendleton': 22840, 'overweight': 22841, 'handcuffed': 22842, 'hooded': 22843, 'omits': 22844, 'maiuro': 22845, 'cerino': 22846, 'announcer': 22847, 'laments': 22848, 'nationstoo': 22849, 'remembrance': 22850, 'smiled': 22851, 'bent': 22852, 'olde': 22853, 'towne': 22854, 'doffed': 22855, 'murski': 22856, 'randal': 22857, 'grichuk': 22858, 'aglow': 22859, 'belting': 22860, 'antiseptic': 22861, 'ominous': 22862, 'utilityman': 22863, 'damian': 22864, 'lurks': 22865, 'appreciative': 22866, 'collegiate': 22867, 'bartelstein': 22868, 'fills': 22869, 'tpc': 22870, '622': 22871, '449': 22872, 'romney': 22873, 'advisors': 22874, 'harbert': 22875, '575': 22876, 'underwriting': 22877, 'sip': 22878, 'yogurt': 22879, 'hoteliers': 22880, 'brasilia': 22881, 'henrique': 22882, 'behaved': 22883, 'unethically': 22884, 'whiz': 22885, 'maeda': 22886, 'cheetos': 22887, 'lexington': 22888, 'lu': 22889, 'tijuana': 22890, 'maquiladoras': 22891, 'thriving': 22892, 'overview': 22893, 'uzlovaya': 22894, 'combing': 22895, 'bettors': 22896, 'ladbrokes': 22897, 'gazette': 22898, 'taller': 22899, 'blythish': 22900, 'relents': 22901, 'growthand': 22902, 'innuendoes': 22903, 'flattering': 22904, 'courant': 22905, 'patronizing': 22906, 'luring': 22907, 'stature': 22908, 'leominster': 22909, 'reared': 22910, 'fiore': 22911, 'chronicles': 22912, 'nwa': 22913, 'soured': 22914, 'reaped': 22915, 'gds': 22916, 'align': 22917, 'enigma': 22918, 'sanitation': 22919, 'colonel': 22920, 'outlay': 22921, 'b777': 22922, 'euro32': 22923, 'bedeviled': 22924, 'tolerance': 22925, 'rollers': 22926, 'tah': 22927, 'lunix': 22928, 'tracked': 22929, 'cfi': 22930, 'foresee': 22931, 'dimension': 22932, 'saddened': 22933, 'giggling': 22934, 'iranians': 22935, 'outcasts': 22936, 'rusted': 22937, 'rickety': 22938, 'carriage': 22939, 'unpaved': 22940, 'berjasiya': 22941, 'extracted': 22942, 'willie': 22943, 'screams': 22944, 'dailies': 22945, '397': 22946, 'darkening': 22947, 'collectors': 22948, 'owning': 22949, 'pronk': 22950, 'diets': 22951, 'decorating': 22952, 'sainsbury': 22953, 'gangbusters': 22954, 'pronged': 22955, 'depechemodem': 22956, 'sponsorship': 22957, 'voa': 22958, 'ukrainians': 22959, 'unlocked': 22960, 'equally': 22961, 'aspirations': 22962, 'tat': 22963, 'lapping': 22964, 'barker': 22965, 'narathiwat': 22966, 'thailands': 22967, 'shinawatras': 22968, 'hawking': 22969, 'swankier': 22970, 'syndication': 22971, 'junkies': 22972, 'technorati': 22973, 'metaverse': 22974, 'freight': 22975, 'disposals': 22976, 'jalpaiguri': 22977, 'plying': 22978, 'kokrajhar': 22979, 'cooch': 22980, 'bengal': 22981, 'miraculously': 22982, 'eileen': 22983, 'neumayer': 22984, 'enzyme': 22985, 'arterial': 22986, 'smoky': 22987, 'lund': 22988, 'mcconnaughey': 22989, 'antifungal': 22990, 'deliberates': 22991, 'revisit': 22992, 'jubilant': 22993, 'commercially': 22994, 'compressed': 22995, 'gardens': 22996, 'vuln': 22997, 'vitro': 22998, 'fertilization': 22999, 'pregnant': 23000, 'discrepancy': 23001, 'extras': 23002, 'incineration': 23003, 'renewable': 23004, 'restless': 23005, 'mobilization': 23006, 'reinvented': 23007, 'activism': 23008, 'identities': 23009, 'enacted': 23010, 'regs': 23011, 'mythical': 23012, 'strongmen': 23013, 'waistlines': 23014, 'inhibits': 23015, 'carcinogen': 23016, 'allison': 23017, 'linn': 23018, 'seesaws': 23019, 'mazda': 23020, 'ifo': 23021, 'harass': 23022, 'severing': 23023, 'ethamivan': 23024, 'clips': 23025, 'mflix': 23026, 'arrowheads': 23027, 'firewood': 23028, 'unnoticed': 23029, '940': 23030, 'dietrich': 23031, 'mateschitz': 23032, 'squats': 23033, 'voyages': 23034, 'volunteers': 23035, 'mimic': 23036, 'underage': 23037, 'chevy': 23038, 'schoolboy': 23039, 'digitimes': 23040, 'traumas': 23041, 'reckons': 23042, 'codenamed': 23043, 'napa': 23044, 'comparatively': 23045, 'lite': 23046, 'evertonians': 23047, 'defendant': 23048, 'policewoman': 23049, 'atoned': 23050, 'impeach': 23051, 'impeachment': 23052, 'ots': 23053, 'shandon': 23054, 'maggette': 23055, 'ousting': 23056, \"canada's\": 23057, 'blk': 23058, 'pfe': 23059, 'simplification': 23060, 'workgroup': 23061, 'signify': 23062, 'triathletes': 23063, 'implements': 23064, '3293': 23065, 'runway': 23066, 'guinean': 23067, 'lalibati': 23068, \"farmer's\": 23069, 'healer': 23070, 'rapist': 23071, 'milgaard': 23072, 'lobbying': 23073, 'inflict': 23074, 'fourteen': 23075, 'harps': 23076, 'spectrograph': 23077, 'silla': 23078, 'radial': 23079, 'velocities': 23080, 'scottsdale': 23081, 's100': 23082, 'p700': 23083, '4x': 23084, 'zoom': 23085, 'outkicking': 23086, 'zealander': 23087, 'dissonant': 23088, 'ukranian': 23089, 'konstantinos': 23090, 'mitilini': 23091, 'pint': 23092, 'hugging': 23093, 'sundown': 23094, 'stepmother': 23095, 'seated': 23096, 'shatters': 23097, 'constable': 23098, 'sugston': 23099, 'experimenting': 23100, 'factoring': 23101, 'exact': 23102, 'encana': 23103, 'liking': 23104, 'sisters': 23105, 'songbirds': 23106, 'xserves': 23107, 'lobby': 23108, 'harrisburg': 23109, 'generals': 23110, 'dg': 23111, 'schooling': 23112, 'retooled': 23113, '683': 23114, 'juggernaut': 23115, 'revolutionise': 23116, 'groundbreaking': 23117, 'mahatma': 23118, 'tripoli': 23119, 'shadowy': 23120, 'unconcerned': 23121, 'helpful': 23122, 'misfits': 23123, 'rowhouse': 23124, 'learns': 23125, 'accustomed': 23126, 'bother': 23127, 'brushing': 23128, 'bragging': 23129, 'janeiro': 23130, 'gottschalks': 23131, 'tippling': 23132, 'elixir': 23133, 'sips': 23134, 'fermented': 23135, 'splurge': 23136, 'rebut': 23137, 'pbl': 23138, 'arae': 23139, 'constellation': 23140, 'altar': 23141, 'enduring': 23142, 'indignity': 23143, 'rip': 23144, 'conducive': 23145, 'ds': 23146, 'compares': 23147, 'riederer': 23148, 'decider': 23149, 'alain': 23150, 'pollsters': 23151, 'bipartisan': 23152, 'disagreed': 23153, 'borrower': 23154, 'curse': 23155, 'cyberspace': 23156, 'anelka': 23157, 'silvestre': 23158, 'faroe': 23159, 'augment': 23160, 'dpbgn': 23161, 'hoopsters': 23162, 'defiantly': 23163, 'ceco': 23164, 'newhall': 23165, 'verstatile': 23166, 'libor': 23167, 'capalini': 23168, 'disappearance': 23169, 'infringers': 23170, 'usb': 23171, 'controversey': 23172, 'grasso': 23173, '187': 23174, 'panache': 23175, 'feline': 23176, 'lacie': 23177, 'mandrakesoft': 23178, 'biancone': 23179, 'shelled': 23180, 'hussien': 23181, 'simplifying': 23182, 'remind': 23183, 'crackers': 23184, 'embed': 23185, 'bodily': 23186, 'arraignment': 23187, 'renate': 23188, 'lingors': 23189, 'silke': 23190, 'rottenberg': 23191, 'off': 23192, 'shaath': 23193, 'adriatic': 23194, 'rimini': 23195, 'dynamite': 23196, 'conjunction': 23197, 'dreamers': 23198, 'cinderellas': 23199, 'swedes': 23200, 'eq': 23201, 'bankrolling': 23202, 'fundamentals': 23203, 'infesting': 23204, 'mauritania': 23205, 'briefcases': 23206, 'carting': 23207, 'domodedovo': 23208, 'departed': 23209, 'carolyn': 23210, 'parrish': 23211, 'retract': 23212, 'slur': 23213, 'guiliani': 23214, 'australiafollowing': 23215, 'cabot': 23216, 'managment': 23217, 'beatings': 23218, 'lurk': 23219, 'withered': 23220, 'disconnection': 23221, 'shagged': 23222, 'fingered': 23223, 'sychronized': 23224, 'duet': 23225, 'comparable': 23226, 'methodist': 23227, 'snack': 23228, 'insects': 23229, 'grading': 23230, 'carla': 23231, 'boutte': 23232, 'excursion': 23233, 'aboriginal': 23234, 'smoked': 23235, 'armload': 23236, 'concentrations': 23237, 'silicone': 23238, 'dieting': 23239, 'donated': 23240, 'privileges': 23241, 'withstanding': 23242, 'payable': 23243, 'intelintroduced': 23244, 'seasoned': 23245, 'instigation': 23246, 'rutland': 23247, 'vermontdemocrats': 23248, 'a330': 23249, 'holdouts': 23250, 'doubling': 23251, 'restrained': 23252, 'cx65': 23253, 'persists': 23254, 'emigres': 23255, 'perfume': 23256, \"j'adore\": 23257, 'fragrance': 23258, 'jumpers': 23259, 'she1': 23260, 'skinning': 23261, 'specialises': 23262, 'depleting': 23263, 'coastlines': 23264, 'awoke': 23265, 'daze': 23266, 'windsailing': 23267, 'foremost': 23268, 'phished': 23269, 'fleeced': 23270, 'acceleration': 23271, 'cn400': 23272, 'cle266': 23273, 'bricks': 23274, 'morshed': 23275, 'sceptical': 23276, 'substantive': 23277, 'less': 23278, 'integrator': 23279, 'retief': 23280, 'springborad': 23281, 'jaws': 23282, 'bellyaching': 23283, 'viread': 23284, 'emtriva': 23285, 'combivir': 23286, 'soothing': 23287, 'feldman': 23288, 'endure': 23289, 'agrawal': 23290, '9bln': 23291, 'seafood': 23292, 'bocacciospecies': 23293, '10bln': 23294, 'refiner': 23295, 'liquefied': 23296, 'justified': 23297, 'fancied': 23298, 'tonights': 23299, '400metres': 23300, 'clause': 23301, 'abortions': 23302, 'surfcontrol': 23303, 'spells': 23304, 'sarb': 23305, 'darfuris': 23306, 'tormented': 23307, 'olli': 23308, 'ville': 23309, 'distracted': 23310, 'prizewinners': 23311, 'peacekeeper': 23312, 'unstable': 23313, 'hampered': 23314, 'buttocks': 23315, 'lil': 23316, 'sequined': 23317, 'pasty': 23318, 'britney': 23319, 'firestorm': 23320, 'timberlake': 23321, 'vmas': 23322, 'toffler': 23323, 'baring': 23324, 'surpasses': 23325, 'budge': 23326, 'stardom': 23327, 'livestock': 23328, 'detonating': 23329, 'sweetness': 23330, 'neurological': 23331, 'theresa': 23332, 'smudger': 23333, 'todays': 23334, 'schumi': 23335, 'cared': 23336, 'cautions': 23337, 'misapplied': 23338, 'agitation': 23339, 'norms': 23340, 'arose': 23341, 'nimblest': 23342, 'ameobi': 23343, 'insight': 23344, 'bosnewslife': 23345, 'adjoining': 23346, 'enrolls': 23347, 'smear': 23348, 'budgetary': 23349, 'exerciseand': 23350, 'heath': 23351, 'platt': 23352, 'angst': 23353, 'spotts': 23354, 'meld': 23355, 'roars': 23356, 'taunts': 23357, 'cascaded': 23358, 'grandstands': 23359, 'flattened': 23360, 'cleaned': 23361, 'primed': 23362, 'emeryville': 23363, 'nigh': 23364, 'estates': 23365, 'mooting': 23366, 'us2b': 23367, 'us2': 23368, 'nz3': 23369, 'archos': 23370, 'gmini400': 23371, 'adieu': 23372, 'karaiskaki': 23373, 'feelgood': 23374, 'worsening': 23375, 'undp': 23376, 'foss': 23377, 'frown': 23378, 'seemed': 23379, '384': 23380, 'lino': 23381, 'deaf': 23382, 'theatre': 23383, 'commentators': 23384, 'seroxat': 23385, 'rap': 23386, 'savour': 23387, 'dwayne': 23388, 'malnourished': 23389, 'ytd': 23390, 'outperformed': 23391, 'kirsten': 23392, 'flipkens': 23393, 'polluted': 23394, 'pollute': 23395, 'quartered': 23396, 'kenwright': 23397, 'chipped': 23398, 'guwahati': 23399, '1a': 23400, 'leapfrog': 23401, 'tressel': 23402, 'chiles': 23403, 'ant': 23404, 'harmful': 23405, 'reprimand': 23406, 'go': 23407, 'schu': 23408, 'quinn': 23409, 'goalie': 23410, 'leafs': 23411, 'sistanis': 23412, 'pistons': 23413, 'sather': 23414, 'recovers': 23415, 'cheeses': 23416, 'regrows': 23417, 'pinpointed': 23418, 'mcdougall': 23419, 'whiting': 23420, 'rightly': 23421, 'pathetically': 23422, 'attackon': 23423, 'chastises': 23424, 'aai': 23425, 'milks': 23426, 'staffing': 23427, 'pertaining': 23428, 'peaked': 23429, 'lew': 23430, 'pty': 23431, 'reeves': 23432, 'credits': 23433, 'fter': 23434, 'konstandinos': 23435, 'relinquished': 23436, 'poser': 23437, 'roscoe': 23438, 'actat': 23439, 'dempsey': 23440, 'countrywide': 23441, 'stetson': 23442, 'fourfold': 23443, 'brigades': 23444, 'shejaya': 23445, 'gridlocked': 23446, 'consulate': 23447, 'incompatibilities': 23448, 'sensing': 23449, 'commack': 23450, 'ruggedness': 23451, '7510s': 23452, 'dakar': 23453, 'hitches': 23454, 'pcaob': 23455, 'smartpros': 23456, '585': 23457, 'intifada': 23458, 'wrest': 23459, 'underwent': 23460, 'canizares': 23461, 'birdied': 23462, 'summerhays': 23463, 'restriction': 23464, 'sph': 23465, 'adolescents': 23466, '104bn': 23467, 'insulting': 23468, 'demoralised': 23469, 'mattos': 23470, 'armonk': 23471, '48pm': 23472, '10084803': 23473, 'wrangling': 23474, 'bean': 23475, 'commences': 23476, 'mistaking': 23477, 'lavar': 23478, 'arrington': 23479, 'endeared': 23480, 'linebacking': 23481, 'marquis': 23482, 'confidently': 23483, 'terps': 23484, 'joel': 23485, 'leaguer': 23486, 'espionage': 23487, 'budges': 23488, 'downgrading': 23489, 'futuristic': 23490, 'wheeled': 23491, 'transporter': 23492, 'stylish': 23493, 'vans': 23494, 'juggle': 23495, 'petr': 23496, 'nedved': 23497, 'daymond': 23498, 'langkow': 23499, 'overkill': 23500, 'vima': 23501, 'optimistically': 23502, 'between': 23503, 'bulldozers': 23504, 'scraped': 23505, 'above': 23506, \"japan's\": 23507, 'mauled': 23508, 'gro': 23509, 'glaze': 23510, 'livengood': 23511, 'helpings': 23512, 'queensland': 23513, 'negligible': 23514, 'ardennes': 23515, 'propagandist': 23516, 'reinstates': 23517, 'arnie': 23518, 'attic': 23519, 'maximise': 23520, 'demoralized': 23521, 'terzian': 23522, 'cabal': 23523, 'stairmaster': 23524, 'conspired': 23525, 'artificially': 23526, 'chu': 23527, 'shih': 23528, 'hsin': 23529, 'hoe': 23530, 'chan': 23531, 'equals': 23532, 'ought': 23533, '527s': 23534, 'sprouted': 23535, 'feingold': 23536, 'shortened': 23537, 'implied': 23538, 'oficially': 23539, 'rf': 23540, '1994': 23541, 'democratically': 23542, 'salvadore': 23543, 'allende': 23544, 'parsons': 23545, 'seidenberg': 23546, 'guru': 23547, 'khalil': 23548, '0630': 23549, 'bst': 23550, 'aitwa': 23551, 'pura': 23552, 'flavored': 23553, 'provocation': 23554, 'pml': 23555, 'lauded': 23556, 'acumen': 23557, 'tenure': 23558, 'nyglaxosmithkline': 23559, 'misrepresenting': 23560, 'prescribing': 23561, 'navigation': 23562, 'scathing': 23563, 'thoroughfares': 23564, 'knutson': 23565, 'chirped': 23566, 'elitist': 23567, 'achieving': 23568, 'pst': 23569, 'ascertain': 23570, 'formalized': 23571, 'paddington': 23572, 'ddos': 23573, 'lam': 23574, 'rub': 23575, '200th': 23576, 'gritty': 23577, 'bellicose': 23578, 'incensed': 23579, 'jfe': 23580, 'counterproposal': 23581, 'plunder': 23582, 'waterfront': 23583, 'andrei': 23584, 'resentment': 23585, 'greased': 23586, 'hannah': 23587, 'allam': 23588, 'resemble': 23589, 'eirik': 23590, 'usd100': 23591, 'revulsion': 23592, 'reintroduce': 23593, 'corresponding': 23594, 'uptick': 23595, 'checkbooks': 23596, 'romeo': 23597, 'thou': 23598, 'charmingly': 23599, 'autumn': 23600, 'favoured': 23601, 'brainwave': 23602, 'thronged': 23603, 'cavalcade': 23604, 'projectors': 23605, 'dv1000': 23606, 'wholesome': 23607, 'mocking': 23608, 'glamorous': 23609, 'overseers': 23610, 'altogether': 23611, 'inefficient': 23612, 'reformed': 23613, 'ernst': 23614, 'oils': 23615, 'creditworthiness': 23616, 'tweak': 23617, 'portability': 23618, 'dreaded': 23619, 'beebetter': 23620, 'northward': 23621, 'entomologists': 23622, 'tipton': 23623, 'kournikova': 23624, 'henrik': 23625, 'stomping': 23626, 'disparage': 23627, 'piers': 23628, 'strident': 23629, 'ruffle': 23630, 'smartphones': 23631, 'mohandas': 23632, 'nonviolent': 23633, 'riddled': 23634, 'kgb': 23635, 'ignatchenko': 23636, 'hexogen': 23637, 'franc': 23638, 'symmetry': 23639, 'bagwell': 23640, 'homing': 23641, 'soldout': 23642, 'punctuated': 23643, 'frasor': 23644, 'hitless': 23645, '197': 23646, 'hellos': 23647, 'handshakes': 23648, 'hugs': 23649, 'waist': 23650, 'haverhill': 23651, 'alma': 23652, 'mater': 23653, 'pale': 23654, 'abundance': 23655, 'nu': 23656, 'homework': 23657, 'cornerstones': 23658, 'dakota': 23659, '1985': 23660, 'outvoted': 23661, 'regionals': 23662, 'boasts': 23663, 'clifton': 23664, 'umass': 23665, 'amherst': 23666, 'nathanael': 23667, 'hasselbeck': 23668, 'patted': 23669, 'torben': 23670, 'grael': 23671, 'stagnated': 23672, 'policing': 23673, 'menino': 23674, 'enrollments': 23675, 'fugedaboutit': 23676, 'havens': 23677, 'downtime': 23678, 'hideaway': 23679, 'tucks': 23680, 'zucchini': 23681, 'brahmin': 23682, 'armstong': 23683, 'aspire': 23684, 'trifecta': 23685, 'personable': 23686, 'conditioner': 23687, 'olds': 23688, 'belmont': 23689, 'birdstone': 23690, 'appetizer': 23691, 'apologises': 23692, 'arajah': 23693, 'crumbled': 23694, 'plates': 23695, 'absorbs': 23696, 'bellamy': 23697, 'baklava': 23698, 'answering': 23699, 'esumed': 23700, 'bullied': 23701, 'rochelle': 23702, 'hanks': 23703, 'harang': 23704, 'provost': 23705, 'neuroscientist': 23706, 'consequences': 23707, '43rd': 23708, 'neutrons': 23709, 'jeremijenko': 23710, 'wreaking': 23711, 'charms': 23712, 'laughs': 23713, 'hilarious': 23714, 'samantha': 23715, 'shapiro': 23716, 'dragnet': 23717, 'capps': 23718, 'organising': 23719, 'encompassed': 23720, 'creams': 23721, 'kilbride': 23722, 'sealing': 23723, 'demergers': 23724, 'groove': 23725, 'opine': 23726, 'ottawathe': 23727, 'solitudes': 23728, 'xited': 23729, 'inertia': 23730, 'quentin': 23731, 'wizard': 23732, 'oz': 23733, 'inviting': 23734, 'jocks': 23735, 'handicapping': 23736, 'goo': 23737, 'plunk': 23738, 'awake': 23739, 'combust': 23740, 'warranty': 23741, 'zagreb': 23742, 'encrypted': 23743, 'delisted': 23744, 'ceased': 23745, 'gregory': 23746, 'earls': 23747, 'defrauding': 23748, 'munchies': 23749, 'eats': 23750, 'chow': 23751, 'llu': 23752, 'australiam': 23753, 'howards': 23754, 'compact': 23755, 'hwd': 23756, 'pictbridge': 23757, 'wendland': 23758, 'imers': 23759, 'aarrett': 23760, 'reiterate': 23761, 'reception': 23762, 'xabier': 23763, 'yestrday': 23764, 'pattani': 23765, 'dissident': 23766, 'allocations': 23767, 'entailed': 23768, 'dangle': 23769, 'esilient': 23770, 'khadijah': 23771, 'shawl': 23772, 'noury': 23773, 'morphou': 23774, 'fervor': 23775, 'translated': 23776, 'sculpture': 23777, 'ephemera': 23778, 'sordid': 23779, 'unanswered': 23780, 'movers': 23781, 'fifths': 23782, 'appreciated': 23783, 'expels': 23784, 'tripling': 23785, 'sage': 23786, 'indecisive': 23787, 'crunchtime': 23788, 'rumor': 23789, 'mill': 23790, 'worshippers': 23791, 'maharashtra': 23792, 'circulated': 23793, 'scars': 23794, 'ached': 23795, 'perpetual': 23796, 'pains': 23797, 'reignited': 23798, 'anheuser': 23799, 'sobering': 23800, 'deepwater': 23801, 'windmills': 23802, 'matz': 23803, 'ooohs': 23804, '555': 23805, 'seater': 23806, 'a340': 23807, 'ratifies': 23808, 'steelworkers': 23809, 'alabama': 23810, 'boutique': 23811, 'martins': 23812, 'waterways': 23813, 'koreas': 23814, 'renounces': 23815, 'renounced': 23816, 'barbarism': 23817, 'indie': 23818, 'oberst': 23819, 'krenkel': 23820, 'livejournal': 23821, 'airbags': 23822, 'cushioned': 23823, 'landers': 23824, 'geller': 23825, 'mercer': 23826, 'elias': 23827, 'unveilings': 23828, 'quite': 23829, 'dissolving': 23830, 'antinausea': 23831, 'hpshopping': 23832, '399': 23833, 'inbev': 23834, 'stella': 23835, 'artois': 23836, 'bebidas': 23837, 'das': 23838, 'hsic': 23839, 'cop': 23840, 'critiques': 23841, 'calexico': 23842, '2915': 23843, 'abg': 23844, 'mesh': 23845, 'cage': 23846, 'distrusted': 23847, 'electromagnetic': 23848, 'reacting': 23849, 'rooneys': 23850, 'ghosts': 23851, 'tattoos': 23852, 'javed': 23853, 'hashmi': 23854, 'gennadiy': 23855, 'golovkin': 23856, 'sheryl': 23857, 'swoopes': 23858, 'spikelee': 23859, 'burdens': 23860, 'troubleshoots': 23861, 'automate': 23862, 'absolves': 23863, 'absolved': 23864, 'headless': 23865, 'vanuatu': 23866, 'polynesia': 23867, 'archeologists': 23868, 'offline': 23869, 'unavailable': 23870, 'abated': 23871, 'uzbek': 23872, 'scoff': 23873, 'cokes': 23874, 'rotting': 23875, 'dodge': 23876, 'planemaker': 23877, 'deb': 23878, 'kollars': 23879, 'edie': 23880, 'lau': 23881, 'enquiry': 23882, 'phisher': 23883, 'fraudster': 23884, 'divulging': 23885, 'macho': 23886, 'motivate': 23887, 'diversions': 23888, 'deteriorate': 23889, 'dsseldorf': 23890, 'bureaus': 23891, 'toshihiko': 23892, 'oizumi': 23893}\n"
          ]
        }
      ]
    },
    {
      "cell_type": "code",
      "source": [
        "# Previously, we saved all fasttext embeddings to a NumPy array for quick access\n",
        "# Now, we save the fasttext embeddings for the words that we only need, based on the tokenizer\n",
        "\n",
        "embedding_matrix = np.zeros((MAX_WORDS+2, EMBEDDING_DIM))  # +2 (pad, unkown)\n",
        "\n",
        "for word, i in word_index.items():\n",
        "    if i > MAX_WORDS:\n",
        "            continue\n",
        "    try:\n",
        "        embedding_vector = fasttext_embed[fasttext_word_to_index[word],:]\n",
        "        embedding_matrix[i] = embedding_vector\n",
        "    except:\n",
        "        pass\n",
        "\n",
        "print(embedding_matrix)"
      ],
      "metadata": {
        "id": "cno5yF-WlknF",
        "colab": {
          "base_uri": "https://localhost:8080/"
        },
        "outputId": "29b260a7-8090-4fe5-d64a-b863e6899825"
      },
      "execution_count": null,
      "outputs": [
        {
          "output_type": "stream",
          "name": "stdout",
          "text": [
            "[[ 0.      0.      0.     ...  0.      0.      0.    ]\n",
            " [ 0.      0.      0.     ...  0.      0.      0.    ]\n",
            " [-0.0207 -0.2381 -0.3434 ... -0.2142  0.1497  0.1369]\n",
            " ...\n",
            " [ 0.0892  0.0332 -0.0179 ...  0.0742  0.0238 -0.1663]\n",
            " [ 0.0114 -0.0006  0.0089 ... -0.0431 -0.0491 -0.0707]\n",
            " [ 0.      0.      0.     ...  0.      0.      0.    ]]\n"
          ]
        }
      ]
    },
    {
      "cell_type": "code",
      "source": [
        "#Return the indices of the elements that are non-zero.\n",
        "np.nonzero(embedding_matrix)"
      ],
      "metadata": {
        "id": "9aiKURVkmDGT",
        "colab": {
          "base_uri": "https://localhost:8080/"
        },
        "outputId": "be5a24f3-0595-4c78-e851-309b2fc991be"
      },
      "execution_count": null,
      "outputs": [
        {
          "output_type": "execute_result",
          "data": {
            "text/plain": [
              "(array([    2,     2,     2, ..., 10000, 10000, 10000]),\n",
              " array([  0,   1,   2, ..., 297, 298, 299]))"
            ]
          },
          "metadata": {},
          "execution_count": 29
        }
      ]
    },
    {
      "cell_type": "markdown",
      "source": [
        "Create and train a BiLSTM + MLP model"
      ],
      "metadata": {
        "id": "6uxEiryimI0j"
      }
    },
    {
      "cell_type": "code",
      "source": [
        "!pip3 install keras-self-attention"
      ],
      "metadata": {
        "id": "-IL_-eEcvHLL",
        "colab": {
          "base_uri": "https://localhost:8080/"
        },
        "outputId": "3b0c2bb5-ff24-4a19-d5f7-29087a99ff4e"
      },
      "execution_count": null,
      "outputs": [
        {
          "output_type": "stream",
          "name": "stdout",
          "text": [
            "Looking in indexes: https://pypi.org/simple, https://us-python.pkg.dev/colab-wheels/public/simple/\n",
            "Collecting keras-self-attention\n",
            "  Downloading keras-self-attention-0.51.0.tar.gz (11 kB)\n",
            "Requirement already satisfied: numpy in /usr/local/lib/python3.8/dist-packages (from keras-self-attention) (1.21.6)\n",
            "Building wheels for collected packages: keras-self-attention\n",
            "  Building wheel for keras-self-attention (setup.py) ... \u001b[?25l\u001b[?25hdone\n",
            "  Created wheel for keras-self-attention: filename=keras_self_attention-0.51.0-py3-none-any.whl size=18913 sha256=3ba110e8d9363b57b070802179276556b908614e97b314b1a56c0f2585642d2a\n",
            "  Stored in directory: /root/.cache/pip/wheels/ac/13/2d/3de7c76f618a8d162884ac5b726a8c2242ad88afa370f1e62f\n",
            "Successfully built keras-self-attention\n",
            "Installing collected packages: keras-self-attention\n",
            "Successfully installed keras-self-attention-0.51.0\n"
          ]
        }
      ]
    },
    {
      "cell_type": "code",
      "source": [
        "import keras\n",
        "from keras_self_attention import SeqSelfAttention"
      ],
      "metadata": {
        "id": "iwO9MCq1uG8E"
      },
      "execution_count": null,
      "outputs": []
    },
    {
      "cell_type": "code",
      "source": [
        "import os\n",
        "os.environ['TF_CPP_MIN_LOG_LEVEL'] = '3'\n",
        "import tensorflow as tf\n",
        "import tensorflow.keras.backend as K\n",
        "from tensorflow.keras import initializers, regularizers, constraints\n",
        "from tensorflow.keras.layers import Layer\n",
        "import numpy as np\n",
        "\n",
        "def dot_product(x, kernel):\n",
        "    \"\"\"\n",
        "    Wrapper for dot product operation, in order to be compatible with both\n",
        "    Theano and Tensorflow\n",
        "    Args:\n",
        "        x (): input\n",
        "        kernel (): weights\n",
        "    Returns:\n",
        "    \"\"\"\n",
        "    if K.backend() == 'tensorflow':\n",
        "      return K.squeeze(K.dot(x, K.expand_dims(kernel)), axis=-1)\n",
        "    else:\n",
        "      return K.dot(x, kernel)\n",
        "\n",
        "class DeepAttention(Layer):\n",
        "    def __init__(self,\n",
        "                 kernel_regularizer=None, u_regularizer=None, bias_regularizer=None,\n",
        "                 W_constraint=None, u_constraint=None, b_constraint=None,\n",
        "                 bias=True,\n",
        "                 return_attention=False,\n",
        "                 **kwargs):\n",
        "\n",
        "        self.supports_masking = True\n",
        "        self.init = initializers.get('glorot_uniform')\n",
        "\n",
        "        self.W_regularizer = regularizers.get(kernel_regularizer)\n",
        "        self.u_regularizer = regularizers.get(u_regularizer)\n",
        "        self.b1_regularizer = regularizers.get(bias_regularizer)\n",
        "        self.b2_regularizer = regularizers.get(bias_regularizer)\n",
        "\n",
        "        self.W_constraint = constraints.get(W_constraint)\n",
        "        self.u_constraint = constraints.get(u_constraint)\n",
        "        self.b1_constraint = constraints.get(b_constraint)\n",
        "        self.b2_constraint = constraints.get(b_constraint)\n",
        "\n",
        "        self.bias = bias\n",
        "        self.return_attention = return_attention\n",
        "        super(DeepAttention, self).__init__(**kwargs)\n",
        "\n",
        "    def build(self, input_shape):\n",
        "        assert len(input_shape) == 3\n",
        "\n",
        "        self.W = self.add_weight(shape=(input_shape[-1], input_shape[-1],),\n",
        "                                 initializer=self.init,\n",
        "                                 name='{}_W'.format(self.name),\n",
        "                                 regularizer=self.W_regularizer,\n",
        "                                 constraint=self.W_constraint)\n",
        "        if self.bias:\n",
        "            self.b1 = self.add_weight(shape=(input_shape[-1],),\n",
        "                                     initializer='zero',\n",
        "                                     name='{}_b1'.format(self.name),\n",
        "                                     regularizer=self.b1_regularizer,\n",
        "                                     constraint=self.b1_constraint)\n",
        "            self.b2 = self.add_weight(shape=(1,),\n",
        "                                     initializer='zero',\n",
        "                                     name='{}_b2'.format(self.name),\n",
        "                                     regularizer=self.b2_regularizer,\n",
        "                                     constraint=self.b2_constraint)\n",
        "        else:\n",
        "            self.b1 = None\n",
        "            self.b2 = None\n",
        "\n",
        "        self.u = self.add_weight(shape=(input_shape[-1],),\n",
        "                                 initializer=self.init,\n",
        "                                 name='{}_u'.format(self.name),\n",
        "                                 regularizer=self.u_regularizer,\n",
        "                                 constraint=self.u_constraint)\n",
        "\n",
        "        self.built = True\n",
        "\n",
        "\n",
        "    def compute_mask(self, inputs, mask=None):\n",
        "        # do not pass the mask to the next layers\n",
        "        if self.return_attention:\n",
        "            return [None, None]\n",
        "        return None\n",
        "\n",
        "    def call(self, x, mask=None):\n",
        "        # uit = tanh(Wx + b)\n",
        "        uit = dot_product(x, self.W)\n",
        "\n",
        "        if self.bias:\n",
        "            uit += self.b1\n",
        "\n",
        "        uit = K.tanh(uit)\n",
        "\n",
        "        # ait = softmax(Ueij)\n",
        "        eij = dot_product(uit, self.u)\n",
        "        if self.bias:\n",
        "            eij += self.b2\n",
        "\n",
        "        # Apply mask\n",
        "        if mask is not None:\n",
        "            eij *= K.cast(mask, K.floatx())\n",
        "\n",
        "        a = K.expand_dims(K.softmax(eij, axis=-1))\n",
        "        \n",
        "        weighted_input = x * a\n",
        "        result = K.sum(weighted_input, axis=1)\n",
        "\n",
        "        if self.return_attention:\n",
        "            return [result, a]\n",
        "        return result\n",
        "\n",
        "    def compute_output_shape(self, input_shape):\n",
        "        if self.return_attention:\n",
        "            return [(input_shape[0], input_shape[-1]),\n",
        "                    (input_shape[0], input_shape[1])]\n",
        "        else:\n",
        "            return input_shape[0], input_shape[-1]"
      ],
      "metadata": {
        "id": "ZFsJAYInxaSa"
      },
      "execution_count": null,
      "outputs": []
    },
    {
      "cell_type": "code",
      "source": [
        "import os\n",
        "os.environ['TF_CPP_MIN_LOG_LEVEL'] = '3'\n",
        "import tensorflow as tf\n",
        "from tensorflow.keras.callbacks import ModelCheckpoint\n",
        "from tensorflow.keras.layers import Dense, Dropout, Bidirectional, LSTM, Embedding, Input, LayerNormalization\n",
        "from tensorflow.keras.optimizers import Adam\n",
        "import tensorflow.keras.backend as K\n",
        "from tensorflow.keras import Model\n",
        "\n",
        "from keras_self_attention import SeqSelfAttention\n",
        "\n",
        "stop_early = tf.keras.callbacks.EarlyStopping(monitor='val_categorical_crossentropy', patience=3)\n",
        "\n",
        "LSTM_SIZE = 50\n",
        "DENSE = 256\n",
        "\n",
        "target_list = [\"World\", \"Sports\", \"Business\", \"Sci/Tech\"]\n",
        "\n",
        "with tf.device('/device:GPU:0'):\n",
        "\n",
        "  norm_layer = tf.keras.layers.LayerNormalization(axis=1)\n",
        "  norm_layer_2 = tf.keras.layers.LayerNormalization(axis=1)\n",
        "  norm_layer_3 = tf.keras.layers.LayerNormalization(axis=1)\n",
        "\n",
        "  #norm_layer_alt = tf.keras.layers.LayerNormalization(axis=0)\n",
        "  inputs = Input((MAX_SEQUENCE_LENGTH,))\n",
        "  \n",
        "  # Define the Embedding Layer with fastext weights\n",
        "  embeddings = Embedding(input_dim=MAX_WORDS+2, output_dim=EMBEDDING_DIM, weights=[embedding_matrix], \n",
        "                         input_length=MAX_SEQUENCE_LENGTH, mask_zero=True, trainable=False)(inputs)\n",
        "  #norm_layer1 = LayerNormalization(axis=1, embeddings)\n",
        "  norm_layer1 = norm_layer(embeddings)\n",
        "  drop_emb = Dropout(0.33)(norm_layer1)\n",
        "  \n",
        "  # LSTM Layer 1 - Define a (Biderectional) RNN with LSTM cells\n",
        "  bilstm1 = Bidirectional(LSTM(units=LSTM_SIZE, return_sequences=True, recurrent_dropout=0.33))(drop_emb)\n",
        "  norm_layer2 = norm_layer_2(bilstm1)\n",
        "  drop_encodings1 = Dropout(0.33)(norm_layer2)\n",
        "\n",
        "  # LSTM Layer 2 - Define a (Biderectional) RNN with LSTM cells\n",
        "  bilstm2 = Bidirectional(LSTM(units=LSTM_SIZE, return_sequences=True, recurrent_dropout=0.33))(drop_encodings1)\n",
        "  norm_layer3 = norm_layer_3(bilstm2)\n",
        "  drop_encodings2 = Dropout(0.33)(norm_layer3)\n",
        "  \n",
        "\n",
        "\n",
        "  # LSTM Layer 3 - Define a (Biderectional) RNN with LSTM cells\n",
        "  #bilstm3 = Bidirectional(LSTM(units=LSTM_SIZE, return_sequences=True, recurrent_dropout=0.33))(drop_encodings2)\n",
        "  #drop_encodings3 = Dropout(0.33)(bilstm3)\n",
        "\n",
        "  # Pass the encoding through an Attension Layer\n",
        "  x, attn = DeepAttention(return_attention=True)(drop_encodings2)\n",
        "  # x, attn = LinearAttention(return_attention=True)(drop_encodings)\n",
        "  #norm_layer3 = norm_layer_alt(x)\n",
        "    \n",
        "  # Alternatively use keras package for self-attention \n",
        "  #x, attn = SeqSelfAttention(return_attention=True)(drop_encodings)\n",
        "\n",
        "  # Apply Droupout to the encoding produced by the attension mechanism\n",
        "  drop_x = Dropout(0.33)(x)\n",
        "\n",
        "  # Pass thruogh a Dense Layer\n",
        "  hidden = Dense(units=DENSE, activation=\"relu\")(drop_x)\n",
        "\n",
        "  #norm_layer4 = norm_layer_alt(hidden)\n",
        "\n",
        "  # Apply Dropout to the output of the Dense Layer\n",
        "  drop_out = Dropout(0.33)(hidden)\n",
        "\n",
        "  # Last pass through a Dense Layer with softmax activation to produce a probability distribution\n",
        "  out = Dense(units=len(target_list), activation=\"softmax\")(drop_out)\n",
        "  \n",
        "  # Wrap model --> Remember Functional API\n",
        "  model2 = Model(inputs=inputs, outputs=out)\n",
        "  print(model2.summary())\n",
        "\n",
        "  model2.compile(loss='categorical_crossentropy',\n",
        "                 optimizer=Adam(lr=0.001),\n",
        "                 metrics=[\"accuracy\"])\n",
        "\n",
        "  if not os.path.exists('/content/gdrive/My Drive/checkpoints'):\n",
        "    os.makedirs('/content/gdrive/My Drive/checkpoints')\n",
        "\n",
        "  checkpoint = ModelCheckpoint('/content/gdrive/My Drive/checkpoints/BiLSTM_attn.hdf5',\n",
        "                               monitor='val_accuracy', \n",
        "                               mode='max', verbose=2,\n",
        "                               save_best_only=True,\n",
        "                               save_weights_only=True)\n",
        "\n",
        "  history2 = model2.fit(train_data, y_train_1_hot,\n",
        "                        validation_data=(val_data, y_val_1_hot),\n",
        "                        batch_size=64,\n",
        "                        epochs=13,\n",
        "                        shuffle=True,\n",
        "                        callbacks=[Metrics(valid_data=(val_data, y_val_1_hot)),\n",
        "                        checkpoint])"
      ],
      "metadata": {
        "id": "WbVtp2zrmH5W",
        "colab": {
          "base_uri": "https://localhost:8080/"
        },
        "outputId": "cbf83220-0322-4135-9728-86c50b88066d"
      },
      "execution_count": null,
      "outputs": [
        {
          "output_type": "stream",
          "name": "stderr",
          "text": [
            "WARNING:tensorflow:Layer lstm will not use cuDNN kernels since it doesn't meet the criteria. It will use a generic GPU kernel as fallback when running on GPU.\n",
            "WARNING:tensorflow:Layer lstm will not use cuDNN kernels since it doesn't meet the criteria. It will use a generic GPU kernel as fallback when running on GPU.\n",
            "WARNING:tensorflow:Layer lstm will not use cuDNN kernels since it doesn't meet the criteria. It will use a generic GPU kernel as fallback when running on GPU.\n",
            "WARNING:tensorflow:Layer lstm_1 will not use cuDNN kernels since it doesn't meet the criteria. It will use a generic GPU kernel as fallback when running on GPU.\n",
            "WARNING:tensorflow:Layer lstm_1 will not use cuDNN kernels since it doesn't meet the criteria. It will use a generic GPU kernel as fallback when running on GPU.\n",
            "WARNING:tensorflow:Layer lstm_1 will not use cuDNN kernels since it doesn't meet the criteria. It will use a generic GPU kernel as fallback when running on GPU.\n",
            "/usr/local/lib/python3.8/dist-packages/keras/initializers/initializers_v2.py:120: UserWarning: The initializer GlorotUniform is unseeded and being called multiple times, which will return identical values  each time (even if the initializer is unseeded). Please update your code to provide a seed to the initializer, or avoid using the same initalizer instance more than once.\n",
            "  warnings.warn(\n"
          ]
        },
        {
          "output_type": "stream",
          "name": "stdout",
          "text": [
            "Model: \"model\"\n",
            "_________________________________________________________________\n",
            " Layer (type)                Output Shape              Param #   \n",
            "=================================================================\n",
            " input_1 (InputLayer)        [(None, 60)]              0         \n",
            "                                                                 \n",
            " embedding (Embedding)       (None, 60, 300)           3000600   \n",
            "                                                                 \n",
            " layer_normalization (LayerN  (None, 60, 300)          120       \n",
            " ormalization)                                                   \n",
            "                                                                 \n",
            " dropout (Dropout)           (None, 60, 300)           0         \n",
            "                                                                 \n",
            " bidirectional (Bidirectiona  (None, 60, 100)          140400    \n",
            " l)                                                              \n",
            "                                                                 \n",
            " layer_normalization_1 (Laye  (None, 60, 100)          120       \n",
            " rNormalization)                                                 \n",
            "                                                                 \n",
            " dropout_1 (Dropout)         (None, 60, 100)           0         \n",
            "                                                                 \n",
            " bidirectional_1 (Bidirectio  (None, 60, 100)          60400     \n",
            " nal)                                                            \n",
            "                                                                 \n",
            " layer_normalization_2 (Laye  (None, 60, 100)          120       \n",
            " rNormalization)                                                 \n",
            "                                                                 \n",
            " dropout_2 (Dropout)         (None, 60, 100)           0         \n",
            "                                                                 \n",
            " deep_attention (DeepAttenti  [(None, 100),            10201     \n",
            " on)                          (None, 60, 1)]                     \n",
            "                                                                 \n",
            " dropout_3 (Dropout)         (None, 100)               0         \n",
            "                                                                 \n",
            " dense (Dense)               (None, 256)               25856     \n",
            "                                                                 \n",
            " dropout_4 (Dropout)         (None, 256)               0         \n",
            "                                                                 \n",
            " dense_1 (Dense)             (None, 4)                 1028      \n",
            "                                                                 \n",
            "=================================================================\n",
            "Total params: 3,238,845\n",
            "Trainable params: 238,245\n",
            "Non-trainable params: 3,000,600\n",
            "_________________________________________________________________\n"
          ]
        },
        {
          "output_type": "stream",
          "name": "stderr",
          "text": [
            "WARNING:absl:`lr` is deprecated, please use `learning_rate` instead, or use the legacy optimizer, e.g.,tf.keras.optimizers.legacy.Adam.\n"
          ]
        },
        {
          "output_type": "stream",
          "name": "stdout",
          "text": [
            "None\n",
            "Epoch 1/13\n",
            "125/125 [==============================] - 11s 84ms/step\n",
            " — val_f1: 0.698587 — val_precision: 0.703981 — val_recall: 0.710250\n",
            "\n",
            "Epoch 1: val_accuracy improved from -inf to 0.71025, saving model to /content/gdrive/My Drive/checkpoints/BiLSTM_attn.hdf5\n",
            "188/188 [==============================] - 218s 1s/step - loss: 1.2729 - accuracy: 0.3795 - val_loss: 0.7747 - val_accuracy: 0.7103 - val_f1: 0.6986 - val_recall: 0.7103 - val_precision: 0.7040\n",
            "Epoch 2/13\n",
            "125/125 [==============================] - 10s 82ms/step\n",
            " — val_f1: 0.836343 — val_precision: 0.837412 — val_recall: 0.838250\n",
            "\n",
            "Epoch 2: val_accuracy improved from 0.71025 to 0.83825, saving model to /content/gdrive/My Drive/checkpoints/BiLSTM_attn.hdf5\n",
            "188/188 [==============================] - 201s 1s/step - loss: 0.7293 - accuracy: 0.7230 - val_loss: 0.5076 - val_accuracy: 0.8382 - val_f1: 0.8363 - val_recall: 0.8383 - val_precision: 0.8374\n",
            "Epoch 3/13\n",
            "125/125 [==============================] - 10s 82ms/step\n",
            " — val_f1: 0.857822 — val_precision: 0.858444 — val_recall: 0.859000\n",
            "\n",
            "Epoch 3: val_accuracy improved from 0.83825 to 0.85900, saving model to /content/gdrive/My Drive/checkpoints/BiLSTM_attn.hdf5\n",
            "188/188 [==============================] - 202s 1s/step - loss: 0.5202 - accuracy: 0.8168 - val_loss: 0.4617 - val_accuracy: 0.8590 - val_f1: 0.8578 - val_recall: 0.8590 - val_precision: 0.8584\n",
            "Epoch 4/13\n",
            "125/125 [==============================] - 10s 81ms/step\n",
            " — val_f1: 0.871344 — val_precision: 0.872436 — val_recall: 0.872000\n",
            "\n",
            "Epoch 4: val_accuracy improved from 0.85900 to 0.87200, saving model to /content/gdrive/My Drive/checkpoints/BiLSTM_attn.hdf5\n",
            "188/188 [==============================] - 190s 1s/step - loss: 0.4453 - accuracy: 0.8459 - val_loss: 0.4645 - val_accuracy: 0.8720 - val_f1: 0.8713 - val_recall: 0.8720 - val_precision: 0.8724\n",
            "Epoch 5/13\n",
            "125/125 [==============================] - 11s 86ms/step\n",
            " — val_f1: 0.881734 — val_precision: 0.882114 — val_recall: 0.882250\n",
            "\n",
            "Epoch 5: val_accuracy improved from 0.87200 to 0.88225, saving model to /content/gdrive/My Drive/checkpoints/BiLSTM_attn.hdf5\n",
            "188/188 [==============================] - 199s 1s/step - loss: 0.4006 - accuracy: 0.8613 - val_loss: 0.4053 - val_accuracy: 0.8823 - val_f1: 0.8817 - val_recall: 0.8822 - val_precision: 0.8821\n",
            "Epoch 6/13\n",
            "125/125 [==============================] - 10s 82ms/step\n",
            " — val_f1: 0.886030 — val_precision: 0.887004 — val_recall: 0.886750\n",
            "\n",
            "Epoch 6: val_accuracy improved from 0.88225 to 0.88675, saving model to /content/gdrive/My Drive/checkpoints/BiLSTM_attn.hdf5\n",
            "188/188 [==============================] - 197s 1s/step - loss: 0.3757 - accuracy: 0.8695 - val_loss: 0.3951 - val_accuracy: 0.8867 - val_f1: 0.8860 - val_recall: 0.8868 - val_precision: 0.8870\n",
            "Epoch 7/13\n",
            "125/125 [==============================] - 10s 82ms/step\n",
            " — val_f1: 0.881040 — val_precision: 0.882275 — val_recall: 0.881000\n",
            "\n",
            "Epoch 7: val_accuracy did not improve from 0.88675\n",
            "188/188 [==============================] - 185s 985ms/step - loss: 0.3449 - accuracy: 0.8793 - val_loss: 0.4213 - val_accuracy: 0.8810 - val_f1: 0.8810 - val_recall: 0.8810 - val_precision: 0.8823\n",
            "Epoch 8/13\n",
            "125/125 [==============================] - 10s 81ms/step\n",
            " — val_f1: 0.888312 — val_precision: 0.888362 — val_recall: 0.888750\n",
            "\n",
            "Epoch 8: val_accuracy improved from 0.88675 to 0.88875, saving model to /content/gdrive/My Drive/checkpoints/BiLSTM_attn.hdf5\n",
            "188/188 [==============================] - 199s 1s/step - loss: 0.3185 - accuracy: 0.8907 - val_loss: 0.4229 - val_accuracy: 0.8888 - val_f1: 0.8883 - val_recall: 0.8888 - val_precision: 0.8884\n",
            "Epoch 9/13\n",
            "125/125 [==============================] - 10s 81ms/step\n",
            " — val_f1: 0.883097 — val_precision: 0.883140 — val_recall: 0.883500\n",
            "\n",
            "Epoch 9: val_accuracy did not improve from 0.88875\n",
            "188/188 [==============================] - 188s 1s/step - loss: 0.3008 - accuracy: 0.8965 - val_loss: 0.4151 - val_accuracy: 0.8835 - val_f1: 0.8831 - val_recall: 0.8835 - val_precision: 0.8831\n",
            "Epoch 10/13\n",
            "125/125 [==============================] - 10s 82ms/step\n",
            " — val_f1: 0.885090 — val_precision: 0.885038 — val_recall: 0.885750\n",
            "\n",
            "Epoch 10: val_accuracy did not improve from 0.88875\n",
            "188/188 [==============================] - 198s 1s/step - loss: 0.2846 - accuracy: 0.8991 - val_loss: 0.4117 - val_accuracy: 0.8857 - val_f1: 0.8851 - val_recall: 0.8858 - val_precision: 0.8850\n",
            "Epoch 11/13\n",
            "125/125 [==============================] - 12s 96ms/step\n",
            " — val_f1: 0.881461 — val_precision: 0.882139 — val_recall: 0.883000\n",
            "\n",
            "Epoch 11: val_accuracy did not improve from 0.88875\n",
            "188/188 [==============================] - 195s 1s/step - loss: 0.2647 - accuracy: 0.9077 - val_loss: 0.4749 - val_accuracy: 0.8830 - val_f1: 0.8815 - val_recall: 0.8830 - val_precision: 0.8821\n",
            "Epoch 12/13\n",
            "125/125 [==============================] - 11s 91ms/step\n",
            " — val_f1: 0.887492 — val_precision: 0.888481 — val_recall: 0.888750\n",
            "\n",
            "Epoch 12: val_accuracy did not improve from 0.88875\n",
            "188/188 [==============================] - 184s 981ms/step - loss: 0.2580 - accuracy: 0.9077 - val_loss: 0.4458 - val_accuracy: 0.8888 - val_f1: 0.8875 - val_recall: 0.8888 - val_precision: 0.8885\n",
            "Epoch 13/13\n",
            "125/125 [==============================] - 10s 83ms/step\n",
            " — val_f1: 0.885222 — val_precision: 0.885322 — val_recall: 0.886500\n",
            "\n",
            "Epoch 13: val_accuracy did not improve from 0.88875\n",
            "188/188 [==============================] - 196s 1s/step - loss: 0.2441 - accuracy: 0.9165 - val_loss: 0.4261 - val_accuracy: 0.8865 - val_f1: 0.8852 - val_recall: 0.8865 - val_precision: 0.8853\n"
          ]
        }
      ]
    },
    {
      "cell_type": "code",
      "source": [
        "import matplotlib.pyplot as plt\n",
        "\n",
        "# summarize history for accuracy\n",
        "plt.rcParams[\"figure.figsize\"] = (15,8)\n",
        "# plt.rcParams['axes.facecolor'] = 'white'\n",
        "plt.style.use('seaborn-whitegrid')\n",
        "\n",
        "plt.plot(history2.history['accuracy'])\n",
        "plt.plot(history2.history['val_accuracy'])\n",
        "plt.title(\"Model's accuracy\")\n",
        "plt.ylabel('Accuracy')\n",
        "plt.xlabel('Epoch')\n",
        "plt.legend(['train', 'dev'], loc='upper left')\n",
        "plt.show();\n",
        "\n",
        "# summarize history for loss\n",
        "plt.plot(history2.history['loss'])\n",
        "plt.plot(history2.history['val_loss'])\n",
        "plt.title(\"Model's loss\")\n",
        "plt.ylabel('Loss')\n",
        "plt.xlabel('Epoch')\n",
        "plt.legend(['train', 'dev'], loc='upper right')\n",
        "plt.show();"
      ],
      "metadata": {
        "id": "KeTjJv3EoHyC",
        "colab": {
          "base_uri": "https://localhost:8080/",
          "height": 999
        },
        "outputId": "68bf4135-0421-4d2c-c55d-9b70fb4250d5"
      },
      "execution_count": null,
      "outputs": [
        {
          "output_type": "display_data",
          "data": {
            "text/plain": [
              "<Figure size 1080x576 with 1 Axes>"
            ],
            "image/png": "[encoded data removed]"
          },
          "metadata": {}
        },
        {
          "output_type": "display_data",
          "data": {
            "text/plain": [
              "<Figure size 1080x576 with 1 Axes>"
            ],
            "image/png": "[encoded data removed]"
          },
          "metadata": {}
        }
      ]
    },
    {
      "cell_type": "markdown",
      "source": [
        "**Evaluate performance of BiLSTM + deep self-attention + MLP model on dev data**"
      ],
      "metadata": {
        "id": "yRZFhChPA761"
      }
    },
    {
      "cell_type": "code",
      "source": [
        "import os\n",
        "os.environ['TF_CPP_MIN_LOG_LEVEL'] = '3'\n",
        "import tensorflow as tf\n",
        "from tensorflow.keras.callbacks import ModelCheckpoint\n",
        "from tensorflow.keras.layers import Dense, Dropout, Bidirectional, LSTM, Embedding, Input\n",
        "from tensorflow.keras.optimizers import Adam\n",
        "import tensorflow.keras.backend as K\n",
        "from tensorflow.keras import Model\n",
        "from sklearn.metrics import f1_score, recall_score, precision_score, classification_report, precision_recall_curve, auc, plot_confusion_matrix, average_precision_score, auc, roc_auc_score\n",
        "\n",
        "LSTM_SIZE = 50\n",
        "DENSE = 256\n",
        "\n",
        "with tf.device('/device:GPU:0'):\n",
        "\n",
        "  norm_layer = tf.keras.layers.LayerNormalization(axis=1)\n",
        "  norm_layer_2 = tf.keras.layers.LayerNormalization(axis=1)\n",
        "  norm_layer_3 = tf.keras.layers.LayerNormalization(axis=1)\n",
        "  inputs = Input((MAX_SEQUENCE_LENGTH,))\n",
        "  embeddings = Embedding(MAX_WORDS+2,EMBEDDING_DIM, weights=[embedding_matrix], \n",
        "                      input_length=MAX_SEQUENCE_LENGTH, mask_zero=True, trainable=False)(inputs)\n",
        "\n",
        "  norm_layer1 = norm_layer(embeddings)\n",
        "  bilstm = Bidirectional(LSTM(units=LSTM_SIZE, return_sequences=True,recurrent_dropout = 0.33))(norm_layer1)\n",
        "  norm_layer2 = norm_layer_2(bilstm)\n",
        "\n",
        "  bilstm2 = Bidirectional(LSTM(units=LSTM_SIZE, return_sequences=True, recurrent_dropout=0.33))(norm_layer2)\n",
        "  norm_layer3 = norm_layer_3(bilstm2)\n",
        "\n",
        "  #bilstm2 = Bidirectional(LSTM(units=LSTM_SIZE, return_sequences=True, recurrent_dropout=0.33))(bilstm)\n",
        "  #bilstm3 = Bidirectional(LSTM(units=LSTM_SIZE, return_sequences=True, recurrent_dropout=0.33))(bilstm2)\n",
        "  x, attn = DeepAttention(return_attention=True)(norm_layer3)\n",
        "  #norm_layer3 = LayerNormalization(x)\n",
        "  hidden = Dense(units=DENSE, activation=\"relu\")(x)\n",
        "  #norm_layer4 = LayerNormalization(hidden)\n",
        "  out = Dense(units=len(target_list), activation=\"softmax\")(hidden)\n",
        "  model2 = Model(inputs, out)\n",
        "  print(model2.summary())\n",
        "  \n",
        "  # Load weights from the pre-trained model\n",
        "  model2.load_weights(\"/content/gdrive/My Drive/checkpoints/BiLSTM_attn.hdf5\")\n",
        "  \n",
        "  print(\"Dev set performance\")\n",
        "  predictions_val = np.argmax(model2.predict(val_data), -1)\n",
        "  print(classification_report(dev_y, predictions_val, target_names=target_list))\n",
        "\n",
        "  print()\n",
        "  print(\"Training set performance\") # Overfitting on training set\n",
        "  predictions_train = np.argmax(model2.predict(train_data), -1)\n",
        "  print(classification_report(train_y, predictions_train, target_names=target_list))\n",
        "\n",
        "# calculating more metrics\n",
        "  pred = model2.predict(val_data)\n",
        "  # For each class\n",
        "  precision = dict()\n",
        "  recall = dict()\n",
        "  average_precision = dict()\n",
        "  area = dict()\n",
        "  for i in range(4):\n",
        "      precision[i], recall[i], _ = precision_recall_curve(y_val_1_hot[:, i], pred[:, i])\n",
        "      average_precision[i] = average_precision_score(y_val_1_hot[:, i], pred[:, i])\n",
        "      # A \"micro-average\": quantifying score on each class\n",
        "      category = \"micro-\" + target_list[i]\n",
        "      precision[category], recall[category], _ = precision_recall_curve(\n",
        "      y_val_1_hot[:, i], pred[:, i])\n",
        "      area[category] = auc(recall[category], precision[category])\n",
        "\n",
        "  # A \"micro-average\": quantifying score on all classes jointly\n",
        "  precision[\"micro\"], recall[\"micro\"], _ = precision_recall_curve(\n",
        "      y_val_1_hot.ravel(), pred.ravel()\n",
        "  )\n",
        "  area_all = auc(recall['micro'], precision['micro'])"
      ],
      "metadata": {
        "id": "t8eXK_fiA6ZW",
        "colab": {
          "base_uri": "https://localhost:8080/"
        },
        "outputId": "b20c54bd-3e5e-4fd6-cde3-6f44611b2435"
      },
      "execution_count": null,
      "outputs": [
        {
          "output_type": "stream",
          "name": "stderr",
          "text": [
            "WARNING:tensorflow:Layer lstm_2 will not use cuDNN kernels since it doesn't meet the criteria. It will use a generic GPU kernel as fallback when running on GPU.\n",
            "WARNING:tensorflow:Layer lstm_2 will not use cuDNN kernels since it doesn't meet the criteria. It will use a generic GPU kernel as fallback when running on GPU.\n",
            "WARNING:tensorflow:Layer lstm_2 will not use cuDNN kernels since it doesn't meet the criteria. It will use a generic GPU kernel as fallback when running on GPU.\n",
            "WARNING:tensorflow:Layer lstm_3 will not use cuDNN kernels since it doesn't meet the criteria. It will use a generic GPU kernel as fallback when running on GPU.\n",
            "WARNING:tensorflow:Layer lstm_3 will not use cuDNN kernels since it doesn't meet the criteria. It will use a generic GPU kernel as fallback when running on GPU.\n",
            "WARNING:tensorflow:Layer lstm_3 will not use cuDNN kernels since it doesn't meet the criteria. It will use a generic GPU kernel as fallback when running on GPU.\n"
          ]
        },
        {
          "output_type": "stream",
          "name": "stdout",
          "text": [
            "Model: \"model_1\"\n",
            "_________________________________________________________________\n",
            " Layer (type)                Output Shape              Param #   \n",
            "=================================================================\n",
            " input_2 (InputLayer)        [(None, 60)]              0         \n",
            "                                                                 \n",
            " embedding_1 (Embedding)     (None, 60, 300)           3000600   \n",
            "                                                                 \n",
            " layer_normalization_3 (Laye  (None, 60, 300)          120       \n",
            " rNormalization)                                                 \n",
            "                                                                 \n",
            " bidirectional_2 (Bidirectio  (None, 60, 100)          140400    \n",
            " nal)                                                            \n",
            "                                                                 \n",
            " layer_normalization_4 (Laye  (None, 60, 100)          120       \n",
            " rNormalization)                                                 \n",
            "                                                                 \n",
            " bidirectional_3 (Bidirectio  (None, 60, 100)          60400     \n",
            " nal)                                                            \n",
            "                                                                 \n",
            " layer_normalization_5 (Laye  (None, 60, 100)          120       \n",
            " rNormalization)                                                 \n",
            "                                                                 \n",
            " deep_attention_1 (DeepAtten  [(None, 100),            10201     \n",
            " tion)                        (None, 60, 1)]                     \n",
            "                                                                 \n",
            " dense_2 (Dense)             (None, 256)               25856     \n",
            "                                                                 \n",
            " dense_3 (Dense)             (None, 4)                 1028      \n",
            "                                                                 \n",
            "=================================================================\n",
            "Total params: 3,238,845\n",
            "Trainable params: 238,245\n",
            "Non-trainable params: 3,000,600\n",
            "_________________________________________________________________\n"
          ]
        },
        {
          "output_type": "stream",
          "name": "stderr",
          "text": [
            "/usr/local/lib/python3.8/dist-packages/keras/initializers/initializers_v2.py:120: UserWarning: The initializer GlorotUniform is unseeded and being called multiple times, which will return identical values  each time (even if the initializer is unseeded). Please update your code to provide a seed to the initializer, or avoid using the same initalizer instance more than once.\n",
            "  warnings.warn(\n"
          ]
        },
        {
          "output_type": "stream",
          "name": "stdout",
          "text": [
            "None\n",
            "Dev set performance\n",
            "125/125 [==============================] - 12s 82ms/step\n",
            "              precision    recall  f1-score   support\n",
            "\n",
            "       World       0.89      0.86      0.88      1133\n",
            "      Sports       0.94      0.96      0.95      1128\n",
            "    Business       0.84      0.81      0.83       805\n",
            "    Sci/Tech       0.86      0.90      0.88       934\n",
            "\n",
            "    accuracy                           0.89      4000\n",
            "   macro avg       0.88      0.88      0.88      4000\n",
            "weighted avg       0.89      0.89      0.89      4000\n",
            "\n",
            "\n",
            "Training set performance\n",
            "375/375 [==============================] - 31s 84ms/step\n",
            "              precision    recall  f1-score   support\n",
            "\n",
            "       World       0.96      0.89      0.92      2976\n",
            "      Sports       0.94      1.00      0.97      2789\n",
            "    Business       0.91      0.91      0.91      3039\n",
            "    Sci/Tech       0.92      0.94      0.93      3196\n",
            "\n",
            "    accuracy                           0.93     12000\n",
            "   macro avg       0.93      0.93      0.93     12000\n",
            "weighted avg       0.93      0.93      0.93     12000\n",
            "\n",
            "125/125 [==============================] - 10s 81ms/step\n"
          ]
        }
      ]
    },
    {
      "cell_type": "markdown",
      "source": [
        "# ***Fine Tuning using Keras Tuner***"
      ],
      "metadata": {
        "id": "RkP4le8Z3Ns3"
      }
    },
    {
      "cell_type": "code",
      "source": [
        "\"\"\"if i==0:\n",
        "      locals()[\"bilstm\"+str(i)] = Bidirectional(LSTM(units=LSTM_SIZE, return_sequences=True,recurrent_dropout = hp_recurrent_dropout))(embeddings)\n",
        "    elif i==1:\n",
        "      locals()[\"bilstm\"+str(i)] = Bidirectional(LSTM(units=LSTM_SIZE, return_sequences=True,recurrent_dropout = hp_recurrent_dropout))(locals()[\"bilstm\"+str(i-1)])\n",
        "    else:\n",
        "      locals()[\"bilstm\"+str(i)] = Bidirectional(LSTM(units=LSTM_SIZE, return_sequences=True,recurrent_dropout = hp_recurrent_dropout))(locals()[\"bilstm\"+str(i-1)])\"\"\""
      ],
      "metadata": {
        "id": "LZzNqqYkBXPc",
        "colab": {
          "base_uri": "https://localhost:8080/",
          "height": 70
        },
        "outputId": "7ec4eb3b-98c4-420a-bd5e-19a9989cc011"
      },
      "execution_count": null,
      "outputs": [
        {
          "output_type": "execute_result",
          "data": {
            "text/plain": [
              "'if i==0:\\n      locals()[\"bilstm\"+str(i)] = Bidirectional(LSTM(units=LSTM_SIZE, return_sequences=True,recurrent_dropout = hp_recurrent_dropout))(embeddings)\\n    elif i==1:\\n      locals()[\"bilstm\"+str(i)] = Bidirectional(LSTM(units=LSTM_SIZE, return_sequences=True,recurrent_dropout = hp_recurrent_dropout))(locals()[\"bilstm\"+str(i-1)])\\n    else:\\n      locals()[\"bilstm\"+str(i)] = Bidirectional(LSTM(units=LSTM_SIZE, return_sequences=True,recurrent_dropout = hp_recurrent_dropout))(locals()[\"bilstm\"+str(i-1)])'"
            ],
            "application/vnd.google.colaboratory.intrinsic+json": {
              "type": "string"
            }
          },
          "metadata": {},
          "execution_count": 37
        }
      ]
    },
    {
      "cell_type": "code",
      "source": [
        "def model_builder(hp):\n",
        "  model = tf.keras.Sequential()\n",
        "\n",
        "  # Tune the number of units in the first Dense layer\n",
        "  # Choose an optimal value between 32-512\n",
        "  LSTM_SIZE = hp.Int('lstm_size', min_value = 40, max_value = 60, step = 10)\n",
        "  MAX_WORDS = 10000\n",
        "  MAX_SEQUENCE_LENGTH = 60\n",
        "  EMBEDDING_DIM = fasttext_embed.shape[1]\n",
        "  norm_layer = tf.keras.layers.LayerNormalization(axis=1)\n",
        "  norm_layer_0 = tf.keras.layers.LayerNormalization(axis=1)\n",
        "  norm_layer_1 = tf.keras.layers.LayerNormalization(axis=1)\n",
        "  norm_layer_2 = tf.keras.layers.LayerNormalization(axis=1)\n",
        "  norm_layer_3 = tf.keras.layers.LayerNormalization(axis=1)\n",
        "\n",
        "  target_list = [\"World\", \"Sports\", \"Business\", \"Sci/Tech\"]\n",
        "\n",
        "  inputs = Input((MAX_SEQUENCE_LENGTH,))\n",
        "  embeddings = Embedding(MAX_WORDS+2,EMBEDDING_DIM, weights=[embedding_matrix], \n",
        "                      input_length=MAX_SEQUENCE_LENGTH, mask_zero=True, trainable=False)(inputs)\n",
        "  norm_layer_emb = norm_layer(embeddings)\n",
        "\n",
        "\n",
        "  activation_ = hp.Choice(\"activation\", [\"relu\", \"tanh\", \"sigmoid\"])\n",
        "  hp_recurrent_dropout = hp.Float('dropout_rate', min_value=0.2, max_value=0.6,step=0.1)\n",
        "  units_ = hp.Int('hidden_layer_units', min_value = 256, max_value = 768, step = 256)\n",
        "\n",
        "  for i in range(hp.Int('num_layers', 1, 3)):\n",
        "\n",
        "    hp_dropout = hp.Float('dropout_rate', min_value=0.1, max_value=0.7,step=0.1)\n",
        "\n",
        "    if i==0:\n",
        "     bilstm0 = Bidirectional(LSTM(units=LSTM_SIZE, return_sequences=True,recurrent_dropout = hp_recurrent_dropout))(norm_layer_emb)\n",
        "     norm_layer0 = norm_layer_0(bilstm0)\n",
        "     drop_encodings0 = Dropout(hp_dropout)(norm_layer0)\n",
        "     last = drop_encodings0\n",
        "    elif i==1:\n",
        "      bilstm1 = Bidirectional(LSTM(units=LSTM_SIZE, return_sequences=True,recurrent_dropout = hp_recurrent_dropout))(drop_encodings0)\n",
        "      norm_layer1 = norm_layer_1(bilstm1)\n",
        "      drop_encodings1 = Dropout(hp_dropout)(norm_layer1)\n",
        "      last = drop_encodings1\n",
        "    elif i==2:\n",
        "      bilstm2 = Bidirectional(LSTM(units=LSTM_SIZE, return_sequences=True,recurrent_dropout = hp_recurrent_dropout))(drop_encodings1)\n",
        "      norm_layer2 = norm_layer_2(bilstm2)\n",
        "      drop_encodings2 = Dropout(hp_dropout)(norm_layer2)\n",
        "      last = drop_encodings2\n",
        "    else:\n",
        "      bilstm3 = Bidirectional(LSTM(units=LSTM_SIZE, return_sequences=True,recurrent_dropout = hp_recurrent_dropout))(drop_encodings2)\n",
        "      norm_layer3 = norm_layer_3(bilstm3)\n",
        "      drop_encodings3 = Dropout(hp_dropout)(norm_layer3)\n",
        "      last = drop_encodings3\n",
        "    #else:\n",
        "     # bilstm4 = Bidirectional(LSTM(units=LSTM_SIZE, return_sequences=True,recurrent_dropout = hp_recurrent_dropout))(drop_encodings3)\n",
        "     # norm_layer4 = norm_layer(bilstm4)\n",
        "     # drop_encodings4 = Dropout(hp_dropout)(norm_layer4)\n",
        "     # last = drop_encodings4\n",
        "\n",
        "  x_, attn = DeepAttention(return_attention=True)(last)\n",
        "  drop_x = Dropout(hp_dropout)(x_)\n",
        "  hidden = Dense(units=units_, activation=activation_)(drop_x)\n",
        "  drop_out = Dropout(hp_dropout)(hidden)\n",
        "  out = Dense(units=len(target_list), activation=\"softmax\")(drop_out) # no fine tuning here, we need 4 neurons and softmax as the activation function\n",
        "\n",
        "  model_ft = Model(inputs, outputs=out)\n",
        "  print(model_ft.summary())\n",
        "  # Tune the learning rate for the optimizer\n",
        "  # Choose an optimal value from 0.01, 0.001, or 0.0001\n",
        "  #hp_learning_rate = hp.Choice('learning_rate', values=[5e-3, 1e-3, 5e-4, 1e-4])\n",
        "  hp_learning_rate = hp.Choice('learning_rate', values=[1e-3, 5e-4, 1e-4, 5e-5, 1e-5])\n",
        "  #hp_optimizer = hp.Choice('optimizer', ['Adam', 'sgd'])\n",
        "  model_ft.compile(optimizer=tf.keras.optimizers.Adam(learning_rate=hp_learning_rate),\n",
        "                loss='categorical_crossentropy',\n",
        "                metrics=['accuracy', 'categorical_crossentropy'])\n",
        "\n",
        "  return model_ft"
      ],
      "metadata": {
        "id": "TGDqZrfGDbEv"
      },
      "execution_count": null,
      "outputs": []
    },
    {
      "cell_type": "code",
      "source": [
        "!pip3 install -q -U keras-tuner"
      ],
      "metadata": {
        "id": "BA6YRVEyE9H0",
        "colab": {
          "base_uri": "https://localhost:8080/"
        },
        "outputId": "700759fc-0d22-46c7-8324-a9e5398dd460"
      },
      "execution_count": null,
      "outputs": [
        {
          "output_type": "stream",
          "name": "stdout",
          "text": [
            "\u001b[K     |████████████████████████████████| 135 kB 40.6 MB/s \n",
            "\u001b[K     |████████████████████████████████| 1.6 MB 52.0 MB/s \n",
            "\u001b[?25h"
          ]
        }
      ]
    },
    {
      "cell_type": "code",
      "source": [
        "import keras_tuner as kt\n",
        "\n",
        "with tf.device('/device:GPU:0'):\n",
        "  tuner_= kt.RandomSearch(model_builder,\n",
        "                      objective=kt.Objective(\"val_categorical_crossentropy\", direction=\"min\"),\n",
        "                      max_trials=4,\n",
        "                      directory=\"nlp4\",\n",
        "                      project_name=\"RNNfinetuning7\")"
      ],
      "metadata": {
        "id": "VDjAyP6SFBtk",
        "colab": {
          "base_uri": "https://localhost:8080/"
        },
        "outputId": "0079a782-cd35-475e-a660-53a0d9d5993c"
      },
      "execution_count": null,
      "outputs": [
        {
          "output_type": "stream",
          "name": "stderr",
          "text": [
            "WARNING:tensorflow:Layer lstm_4 will not use cuDNN kernels since it doesn't meet the criteria. It will use a generic GPU kernel as fallback when running on GPU.\n",
            "WARNING:tensorflow:Layer lstm_4 will not use cuDNN kernels since it doesn't meet the criteria. It will use a generic GPU kernel as fallback when running on GPU.\n",
            "WARNING:tensorflow:Layer lstm_4 will not use cuDNN kernels since it doesn't meet the criteria. It will use a generic GPU kernel as fallback when running on GPU.\n"
          ]
        },
        {
          "output_type": "stream",
          "name": "stdout",
          "text": [
            "Model: \"model_2\"\n",
            "_________________________________________________________________\n",
            " Layer (type)                Output Shape              Param #   \n",
            "=================================================================\n",
            " input_4 (InputLayer)        [(None, 60)]              0         \n",
            "                                                                 \n",
            " embedding_3 (Embedding)     (None, 60, 300)           3000600   \n",
            "                                                                 \n",
            " layer_normalization_11 (Lay  (None, 60, 300)          120       \n",
            " erNormalization)                                                \n",
            "                                                                 \n",
            " bidirectional_4 (Bidirectio  (None, 60, 80)           109120    \n",
            " nal)                                                            \n",
            "                                                                 \n",
            " layer_normalization_12 (Lay  (None, 60, 80)           120       \n",
            " erNormalization)                                                \n",
            "                                                                 \n",
            " dropout_5 (Dropout)         (None, 60, 80)            0         \n",
            "                                                                 \n",
            " deep_attention_2 (DeepAtten  [(None, 80),             6561      \n",
            " tion)                        (None, 60, 1)]                     \n",
            "                                                                 \n",
            " dropout_6 (Dropout)         (None, 80)                0         \n",
            "                                                                 \n",
            " dense_4 (Dense)             (None, 256)               20736     \n",
            "                                                                 \n",
            " dropout_7 (Dropout)         (None, 256)               0         \n",
            "                                                                 \n",
            " dense_5 (Dense)             (None, 4)                 1028      \n",
            "                                                                 \n",
            "=================================================================\n",
            "Total params: 3,138,285\n",
            "Trainable params: 137,685\n",
            "Non-trainable params: 3,000,600\n",
            "_________________________________________________________________\n",
            "None\n"
          ]
        },
        {
          "output_type": "stream",
          "name": "stderr",
          "text": [
            "/usr/local/lib/python3.8/dist-packages/keras/initializers/initializers_v2.py:120: UserWarning: The initializer GlorotUniform is unseeded and being called multiple times, which will return identical values  each time (even if the initializer is unseeded). Please update your code to provide a seed to the initializer, or avoid using the same initalizer instance more than once.\n",
            "  warnings.warn(\n"
          ]
        }
      ]
    },
    {
      "cell_type": "code",
      "source": [
        "stop_early = tf.keras.callbacks.EarlyStopping(monitor='val_categorical_crossentropy', patience=3)"
      ],
      "metadata": {
        "id": "fN4yLAn50Z99"
      },
      "execution_count": null,
      "outputs": []
    },
    {
      "cell_type": "code",
      "source": [
        "tuner_.search(train_data, y_train_1_hot, epochs=10, batch_size=64, callbacks=[stop_early], validation_data=(val_data, y_val_1_hot))"
      ],
      "metadata": {
        "id": "ZUrWUmYk0dSS",
        "colab": {
          "base_uri": "https://localhost:8080/"
        },
        "outputId": "33f45708-91f4-4f21-b312-72ef26283d61"
      },
      "execution_count": null,
      "outputs": [
        {
          "output_type": "stream",
          "name": "stdout",
          "text": [
            "Trial 4 Complete [00h 18m 33s]\n",
            "val_categorical_crossentropy: 1.387786626815796\n",
            "\n",
            "Best val_categorical_crossentropy So Far: 0.3697253465652466\n",
            "Total elapsed time: 01h 40m 29s\n"
          ]
        }
      ]
    },
    {
      "cell_type": "code",
      "source": [
        "# Get the optimal hyperparameters\n",
        "best_hps=tuner_.get_best_hyperparameters(num_trials=1)[0]\n",
        "\n",
        "print(f\"\"\"\n",
        "The hyperparameter search is complete. The optimal number of RNN layers is {best_hps.get('num_layers')}. The optimal number of units in the hidden dense\n",
        "layer is {best_hps.get('hidden_layer_units')} , the optimal activation function is {best_hps.get('activation')}, the optimal learning rate for the optimizer\n",
        "is {best_hps.get('learning_rate')}. The optimal dropout rate is {best_hps.get('dropout_rate')}.\n",
        "\"\"\")"
      ],
      "metadata": {
        "id": "G_tG4-1n_n1G",
        "colab": {
          "base_uri": "https://localhost:8080/"
        },
        "outputId": "84d52626-8462-46f2-898d-e92132ce3f02"
      },
      "execution_count": null,
      "outputs": [
        {
          "output_type": "stream",
          "name": "stdout",
          "text": [
            "\n",
            "The hyperparameter search is complete. The optimal number of RNN layers is 1. The optimal number of units in the hidden dense\n",
            "layer is 256 , the optimal activation function is sigmoid, the optimal learning rate for the optimizer\n",
            "is 0.0005. The optimal dropout rate is 0.4000000000000001.\n",
            "\n"
          ]
        }
      ]
    },
    {
      "cell_type": "code",
      "source": [
        "fine_model = tuner_.hypermodel.build(best_hps)"
      ],
      "metadata": {
        "id": "umzClzSf_1ws",
        "colab": {
          "base_uri": "https://localhost:8080/"
        },
        "outputId": "b0eb7ef5-4fa6-40a9-9b38-8404a99255ca"
      },
      "execution_count": null,
      "outputs": [
        {
          "output_type": "stream",
          "name": "stderr",
          "text": [
            "WARNING:tensorflow:Layer lstm_3 will not use cuDNN kernels since it doesn't meet the criteria. It will use a generic GPU kernel as fallback when running on GPU.\n",
            "WARNING:tensorflow:Layer lstm_3 will not use cuDNN kernels since it doesn't meet the criteria. It will use a generic GPU kernel as fallback when running on GPU.\n",
            "WARNING:tensorflow:Layer lstm_3 will not use cuDNN kernels since it doesn't meet the criteria. It will use a generic GPU kernel as fallback when running on GPU.\n"
          ]
        },
        {
          "output_type": "stream",
          "name": "stdout",
          "text": [
            "Model: \"model_1\"\n",
            "_________________________________________________________________\n",
            " Layer (type)                Output Shape              Param #   \n",
            "=================================================================\n",
            " input_2 (InputLayer)        [(None, 60)]              0         \n",
            "                                                                 \n",
            " embedding_1 (Embedding)     (None, 60, 300)           3000600   \n",
            "                                                                 \n",
            " layer_normalization_5 (Laye  (None, 60, 300)          120       \n",
            " rNormalization)                                                 \n",
            "                                                                 \n",
            " bidirectional_3 (Bidirectio  (None, 60, 120)          173280    \n",
            " nal)                                                            \n",
            "                                                                 \n",
            " layer_normalization_6 (Laye  (None, 60, 120)          120       \n",
            " rNormalization)                                                 \n",
            "                                                                 \n",
            " dropout_5 (Dropout)         (None, 60, 120)           0         \n",
            "                                                                 \n",
            " deep_attention_1 (DeepAtten  [(None, 120),            14641     \n",
            " tion)                        (None, 60, 1)]                     \n",
            "                                                                 \n",
            " dropout_6 (Dropout)         (None, 120)               0         \n",
            "                                                                 \n",
            " dense_2 (Dense)             (None, 256)               30976     \n",
            "                                                                 \n",
            " dropout_7 (Dropout)         (None, 256)               0         \n",
            "                                                                 \n",
            " dense_3 (Dense)             (None, 4)                 1028      \n",
            "                                                                 \n",
            "=================================================================\n",
            "Total params: 3,220,765\n",
            "Trainable params: 220,165\n",
            "Non-trainable params: 3,000,600\n",
            "_________________________________________________________________\n",
            "None\n"
          ]
        }
      ]
    },
    {
      "cell_type": "code",
      "source": [
        "print(fine_model.summary())\n",
        "\n",
        "history = fine_model.fit(\n",
        "    train_data, \n",
        "    y_train_1_hot,\n",
        "    validation_data=(val_data, y_val_1_hot),\n",
        "    batch_size=256,\n",
        "    epochs=10,\n",
        "    shuffle=True,\n",
        "    callbacks=[Metrics(valid_data=(val_data, y_val_1_hot)), checkpoint]\n",
        "    )"
      ],
      "metadata": {
        "id": "Ul470LIL_9Oc",
        "colab": {
          "base_uri": "https://localhost:8080/"
        },
        "outputId": "31a69822-c606-4da4-d6f5-7f20d09bdeb5"
      },
      "execution_count": null,
      "outputs": [
        {
          "output_type": "stream",
          "name": "stdout",
          "text": [
            "Model: \"model_1\"\n",
            "_________________________________________________________________\n",
            " Layer (type)                Output Shape              Param #   \n",
            "=================================================================\n",
            " input_2 (InputLayer)        [(None, 60)]              0         \n",
            "                                                                 \n",
            " embedding_1 (Embedding)     (None, 60, 300)           3000600   \n",
            "                                                                 \n",
            " layer_normalization_5 (Laye  (None, 60, 300)          120       \n",
            " rNormalization)                                                 \n",
            "                                                                 \n",
            " bidirectional_3 (Bidirectio  (None, 60, 120)          173280    \n",
            " nal)                                                            \n",
            "                                                                 \n",
            " layer_normalization_6 (Laye  (None, 60, 120)          120       \n",
            " rNormalization)                                                 \n",
            "                                                                 \n",
            " dropout_5 (Dropout)         (None, 60, 120)           0         \n",
            "                                                                 \n",
            " deep_attention_1 (DeepAtten  [(None, 120),            14641     \n",
            " tion)                        (None, 60, 1)]                     \n",
            "                                                                 \n",
            " dropout_6 (Dropout)         (None, 120)               0         \n",
            "                                                                 \n",
            " dense_2 (Dense)             (None, 256)               30976     \n",
            "                                                                 \n",
            " dropout_7 (Dropout)         (None, 256)               0         \n",
            "                                                                 \n",
            " dense_3 (Dense)             (None, 4)                 1028      \n",
            "                                                                 \n",
            "=================================================================\n",
            "Total params: 3,220,765\n",
            "Trainable params: 220,165\n",
            "Non-trainable params: 3,000,600\n",
            "_________________________________________________________________\n",
            "None\n",
            "Epoch 1/10\n",
            "125/125 [==============================] - 7s 48ms/step\n",
            " — val_f1: 0.629094 — val_precision: 0.686004 — val_recall: 0.639250\n",
            "\n",
            "Epoch 1: val_accuracy did not improve from 0.88875\n",
            "47/47 [==============================] - 45s 766ms/step - loss: 1.3957 - accuracy: 0.3358 - categorical_crossentropy: 1.3957 - val_loss: 0.9880 - val_accuracy: 0.6392 - val_categorical_crossentropy: 0.9880 - val_f1: 0.6291 - val_recall: 0.6392 - val_precision: 0.6860\n",
            "Epoch 2/10\n",
            "125/125 [==============================] - 5s 41ms/step\n",
            " — val_f1: 0.812612 — val_precision: 0.814605 — val_recall: 0.812250\n",
            "\n",
            "Epoch 2: val_accuracy did not improve from 0.88875\n",
            "47/47 [==============================] - 38s 814ms/step - loss: 0.8885 - accuracy: 0.6453 - categorical_crossentropy: 0.8885 - val_loss: 0.5779 - val_accuracy: 0.8123 - val_categorical_crossentropy: 0.5779 - val_f1: 0.8126 - val_recall: 0.8123 - val_precision: 0.8146\n",
            "Epoch 3/10\n",
            "125/125 [==============================] - 5s 43ms/step\n",
            " — val_f1: 0.848590 — val_precision: 0.849978 — val_recall: 0.848250\n",
            "\n",
            "Epoch 3: val_accuracy did not improve from 0.88875\n",
            "47/47 [==============================] - 38s 807ms/step - loss: 0.6227 - accuracy: 0.7756 - categorical_crossentropy: 0.6227 - val_loss: 0.4860 - val_accuracy: 0.8482 - val_categorical_crossentropy: 0.4860 - val_f1: 0.8486 - val_recall: 0.8482 - val_precision: 0.8500\n",
            "Epoch 4/10\n",
            "125/125 [==============================] - 5s 42ms/step\n",
            " — val_f1: 0.866762 — val_precision: 0.866708 — val_recall: 0.867000\n",
            "\n",
            "Epoch 4: val_accuracy did not improve from 0.88875\n",
            "47/47 [==============================] - 36s 776ms/step - loss: 0.5049 - accuracy: 0.8277 - categorical_crossentropy: 0.5049 - val_loss: 0.4296 - val_accuracy: 0.8670 - val_categorical_crossentropy: 0.4296 - val_f1: 0.8668 - val_recall: 0.8670 - val_precision: 0.8667\n",
            "Epoch 5/10\n",
            "125/125 [==============================] - 5s 42ms/step\n",
            " — val_f1: 0.871152 — val_precision: 0.871616 — val_recall: 0.871250\n",
            "\n",
            "Epoch 5: val_accuracy did not improve from 0.88875\n",
            "47/47 [==============================] - 32s 687ms/step - loss: 0.4502 - accuracy: 0.8458 - categorical_crossentropy: 0.4502 - val_loss: 0.4129 - val_accuracy: 0.8712 - val_categorical_crossentropy: 0.4129 - val_f1: 0.8712 - val_recall: 0.8712 - val_precision: 0.8716\n",
            "Epoch 6/10\n",
            "125/125 [==============================] - 5s 41ms/step\n",
            " — val_f1: 0.876150 — val_precision: 0.876717 — val_recall: 0.876250\n",
            "\n",
            "Epoch 6: val_accuracy did not improve from 0.88875\n",
            "47/47 [==============================] - 32s 676ms/step - loss: 0.3978 - accuracy: 0.8658 - categorical_crossentropy: 0.3978 - val_loss: 0.4013 - val_accuracy: 0.8763 - val_categorical_crossentropy: 0.4013 - val_f1: 0.8762 - val_recall: 0.8762 - val_precision: 0.8767\n",
            "Epoch 7/10\n",
            "125/125 [==============================] - 5s 41ms/step\n",
            " — val_f1: 0.879623 — val_precision: 0.879993 — val_recall: 0.879750\n",
            "\n",
            "Epoch 7: val_accuracy did not improve from 0.88875\n",
            "47/47 [==============================] - 37s 786ms/step - loss: 0.3627 - accuracy: 0.8788 - categorical_crossentropy: 0.3627 - val_loss: 0.3945 - val_accuracy: 0.8798 - val_categorical_crossentropy: 0.3945 - val_f1: 0.8796 - val_recall: 0.8798 - val_precision: 0.8800\n",
            "Epoch 8/10\n",
            "125/125 [==============================] - 5s 41ms/step\n",
            " — val_f1: 0.881122 — val_precision: 0.881173 — val_recall: 0.881250\n",
            "\n",
            "Epoch 8: val_accuracy did not improve from 0.88875\n",
            "47/47 [==============================] - 36s 780ms/step - loss: 0.3386 - accuracy: 0.8858 - categorical_crossentropy: 0.3386 - val_loss: 0.3944 - val_accuracy: 0.8813 - val_categorical_crossentropy: 0.3944 - val_f1: 0.8811 - val_recall: 0.8812 - val_precision: 0.8812\n",
            "Epoch 9/10\n",
            "125/125 [==============================] - 5s 43ms/step\n",
            " — val_f1: 0.884549 — val_precision: 0.884836 — val_recall: 0.884750\n",
            "\n",
            "Epoch 9: val_accuracy did not improve from 0.88875\n",
            "47/47 [==============================] - 32s 675ms/step - loss: 0.3052 - accuracy: 0.8973 - categorical_crossentropy: 0.3052 - val_loss: 0.3912 - val_accuracy: 0.8848 - val_categorical_crossentropy: 0.3912 - val_f1: 0.8845 - val_recall: 0.8848 - val_precision: 0.8848\n",
            "Epoch 10/10\n",
            "125/125 [==============================] - 5s 42ms/step\n",
            " — val_f1: 0.883921 — val_precision: 0.883915 — val_recall: 0.884000\n",
            "\n",
            "Epoch 10: val_accuracy did not improve from 0.88875\n",
            "47/47 [==============================] - 31s 664ms/step - loss: 0.2840 - accuracy: 0.9050 - categorical_crossentropy: 0.2840 - val_loss: 0.3962 - val_accuracy: 0.8840 - val_categorical_crossentropy: 0.3962 - val_f1: 0.8839 - val_recall: 0.8840 - val_precision: 0.8839\n"
          ]
        }
      ]
    },
    {
      "cell_type": "code",
      "source": [
        "val_acc_per_epoch = history.history['val_accuracy']\n",
        "best_epoch = val_acc_per_epoch.index(max(val_acc_per_epoch)) + 1\n",
        "print('Best epoch: %d' % (best_epoch,))"
      ],
      "metadata": {
        "id": "wfMHQKHRASba",
        "colab": {
          "base_uri": "https://localhost:8080/"
        },
        "outputId": "45fa658f-4e11-4acf-9e63-29465a179151"
      },
      "execution_count": null,
      "outputs": [
        {
          "output_type": "stream",
          "name": "stdout",
          "text": [
            "Best epoch: 9\n"
          ]
        }
      ]
    },
    {
      "cell_type": "code",
      "source": [
        "# summarize history for accuracy\n",
        "plt.rcParams[\"figure.figsize\"] = (15,8)\n",
        "# plt.rcParams['axes.facecolor'] = 'white'\n",
        "plt.style.use('seaborn-whitegrid')\n",
        "\n",
        "plt.plot(history.history['accuracy'])\n",
        "plt.plot(history.history['val_accuracy'])\n",
        "plt.title(\"Model's accuracy\")\n",
        "plt.ylabel('Accuracy')\n",
        "plt.xlabel('Epoch')\n",
        "plt.legend(['train', 'dev'], loc='upper left')\n",
        "plt.show();\n",
        "\n",
        "# summarize history for loss\n",
        "plt.plot(history.history['loss'])\n",
        "plt.plot(history.history['val_loss'])\n",
        "plt.title(\"Model's loss\")\n",
        "plt.ylabel('Loss')\n",
        "plt.xlabel('Epoch')\n",
        "plt.legend(['train', 'dev'], loc='upper right')\n",
        "plt.show();"
      ],
      "metadata": {
        "id": "XMtPrlp5AXBC",
        "colab": {
          "base_uri": "https://localhost:8080/",
          "height": 999
        },
        "outputId": "c21ebd27-9a6b-49d5-b3a6-2208e7f2e44f"
      },
      "execution_count": null,
      "outputs": [
        {
          "output_type": "display_data",
          "data": {
            "text/plain": [
              "<Figure size 1080x576 with 1 Axes>"
            ],
            "image/png": "[encoded data removed]"
          },
          "metadata": {}
        },
        {
          "output_type": "display_data",
          "data": {
            "text/plain": [
              "<Figure size 1080x576 with 1 Axes>"
            ],
            "image/png": "[encoded data removed]"
          },
          "metadata": {}
        }
      ]
    },
    {
      "cell_type": "code",
      "source": [
        "predictions_val = fine_model.predict(val_data)\n",
        "\n",
        "#report_lr_dev = classification_report(dev_y, predictions_val, target_names=target_list, output_dict=True)"
      ],
      "metadata": {
        "id": "oS9I2TWGAgq8",
        "colab": {
          "base_uri": "https://localhost:8080/"
        },
        "outputId": "dfe59235-abd6-4fef-c342-39350ec4a3c4"
      },
      "execution_count": null,
      "outputs": [
        {
          "output_type": "stream",
          "name": "stdout",
          "text": [
            "125/125 [==============================] - 7s 58ms/step\n"
          ]
        }
      ]
    }
  ]
}